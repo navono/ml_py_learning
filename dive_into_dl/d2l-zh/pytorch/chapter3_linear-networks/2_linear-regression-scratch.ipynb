{
 "cells": [
  {
   "cell_type": "markdown",
   "id": "d90261b4",
   "metadata": {
    "origin_pos": 0
   },
   "source": [
    "# 线性回归的从零开始实现\n",
    ":label:`sec_linear_scratch`\n",
    "\n",
    "在了解线性回归的关键思想之后，我们可以开始通过代码来动手实现线性回归了。\n",
    "在这一节中，(**我们将从零开始实现整个方法，\n",
    "包括数据流水线、模型、损失函数和小批量随机梯度下降优化器**)。\n",
    "虽然现代的深度学习框架几乎可以自动化地进行所有这些工作，但从零开始实现可以确保我们真正知道自己在做什么。\n",
    "同时，了解更细致的工作原理将方便我们自定义模型、自定义层或自定义损失函数。\n",
    "在这一节中，我们将只使用张量和自动求导。\n",
    "在之后的章节中，我们会充分利用深度学习框架的优势，介绍更简洁的实现方式。\n"
   ]
  },
  {
   "cell_type": "code",
   "execution_count": 2,
   "id": "5afac710",
   "metadata": {
    "execution": {
     "iopub.execute_input": "2022-12-07T16:43:03.768491Z",
     "iopub.status.busy": "2022-12-07T16:43:03.768163Z",
     "iopub.status.idle": "2022-12-07T16:43:06.309758Z",
     "shell.execute_reply": "2022-12-07T16:43:06.308920Z"
    },
    "origin_pos": 2,
    "tab": [
     "pytorch"
    ],
    "ExecuteTime": {
     "end_time": "2023-11-28T00:54:19.730462800Z",
     "start_time": "2023-11-28T00:54:19.724994800Z"
    }
   },
   "outputs": [],
   "source": [
    "%matplotlib inline\n",
    "import random\n",
    "import torch\n",
    "from d2l import torch as d2l"
   ]
  },
  {
   "cell_type": "markdown",
   "id": "9737c61d",
   "metadata": {
    "origin_pos": 5
   },
   "source": [
    "## 生成数据集\n",
    "\n",
    "为了简单起见，我们将[**根据带有噪声的线性模型构造一个人造数据集。**]\n",
    "我们的任务是使用这个有限样本的数据集来恢复这个模型的参数。\n",
    "我们将使用低维数据，这样可以很容易地将其可视化。\n",
    "在下面的代码中，我们生成一个包含1000个样本的数据集，\n",
    "每个样本包含从标准正态分布中采样的2个特征。\n",
    "我们的合成数据集是一个矩阵$\\mathbf{X}\\in \\mathbb{R}^{1000 \\times 2}$。\n",
    "\n",
    "(**我们使用线性模型参数$\\mathbf{w} = [2, -3.4]^\\top$、$b = 4.2$\n",
    "和噪声项$\\epsilon$生成数据集及其标签：\n",
    "\n",
    "$$\\mathbf{y}= \\mathbf{X} \\mathbf{w} + b + \\mathbf\\epsilon.$$\n",
    "**)\n",
    "\n",
    "$\\epsilon$可以视为模型预测和标签时的潜在观测误差。\n",
    "在这里我们认为标准假设成立，即$\\epsilon$服从均值为0的正态分布。\n",
    "为了简化问题，我们将标准差设为0.01。\n",
    "下面的代码生成合成数据集。\n"
   ]
  },
  {
   "cell_type": "code",
   "execution_count": 11,
   "outputs": [
    {
     "data": {
      "text/plain": "(tensor([[ 0.5702,  0.4769, -0.2049, -0.2872]]), torch.Size([1, 4]))"
     },
     "execution_count": 11,
     "metadata": {},
     "output_type": "execute_result"
    }
   ],
   "source": [
    "A = torch.normal(0, 1, (2, 4))\n",
    "A, A.shape"
   ],
   "metadata": {
    "collapsed": false,
    "ExecuteTime": {
     "end_time": "2023-11-28T00:58:29.831381600Z",
     "start_time": "2023-11-28T00:58:29.809766900Z"
    }
   },
   "id": "730425110d0c85a3"
  },
  {
   "cell_type": "code",
   "execution_count": 24,
   "id": "a12aa0dc",
   "metadata": {
    "execution": {
     "iopub.execute_input": "2022-12-07T16:43:06.314470Z",
     "iopub.status.busy": "2022-12-07T16:43:06.313919Z",
     "iopub.status.idle": "2022-12-07T16:43:06.319119Z",
     "shell.execute_reply": "2022-12-07T16:43:06.318364Z"
    },
    "origin_pos": 6,
    "tab": [
     "pytorch"
    ],
    "ExecuteTime": {
     "end_time": "2023-11-28T01:05:33.358603100Z",
     "start_time": "2023-11-28T01:05:33.351765200Z"
    }
   },
   "outputs": [],
   "source": [
    "def synthetic_data(w, b, num_examples):  #@save\n",
    "    \"\"\"生成y=Xw+b+噪声\"\"\"\n",
    "\n",
    "    # 生成 num_examples 个数据，每个数据包含 len(w) 个特征。\n",
    "    # num_examples 行，len(w) 列\n",
    "    X = torch.normal(0, 1, (num_examples, len(w)))\n",
    "\n",
    "    # y 的行数为 X 的行数，列数为 w 的列数\n",
    "    y = torch.matmul(X, w) + b\n",
    "    # print(f'y: {y}')\n",
    "\n",
    "    # torch.normal(0, 0.01, y.shape) 为观测误差\n",
    "    y += torch.normal(0, 0.01, y.shape)\n",
    "    # print(f'y normal: {y}')\n",
    "\n",
    "    return X, y.reshape((-1, 1))"
   ]
  },
  {
   "cell_type": "code",
   "execution_count": 35,
   "id": "c825e9f2",
   "metadata": {
    "execution": {
     "iopub.execute_input": "2022-12-07T16:43:06.322894Z",
     "iopub.status.busy": "2022-12-07T16:43:06.322362Z",
     "iopub.status.idle": "2022-12-07T16:43:06.346342Z",
     "shell.execute_reply": "2022-12-07T16:43:06.345545Z"
    },
    "origin_pos": 8,
    "tab": [
     "pytorch"
    ],
    "ExecuteTime": {
     "end_time": "2023-11-28T01:15:28.141861200Z",
     "start_time": "2023-11-28T01:15:28.125671100Z"
    }
   },
   "outputs": [],
   "source": [
    "true_w = torch.tensor([2, -3.4])\n",
    "true_b = 4.2\n",
    "features, labels = synthetic_data(true_w, true_b, 1000)"
   ]
  },
  {
   "cell_type": "markdown",
   "id": "8f793e73",
   "metadata": {
    "origin_pos": 9
   },
   "source": [
    "注意，[**`features`中的每一行都包含一个二维数据样本，\n",
    "`labels`中的每一行都包含一维标签值（一个标量）**]。\n"
   ]
  },
  {
   "cell_type": "code",
   "execution_count": 32,
   "id": "ff9bf839",
   "metadata": {
    "execution": {
     "iopub.execute_input": "2022-12-07T16:43:06.350058Z",
     "iopub.status.busy": "2022-12-07T16:43:06.349622Z",
     "iopub.status.idle": "2022-12-07T16:43:06.356271Z",
     "shell.execute_reply": "2022-12-07T16:43:06.355499Z"
    },
    "origin_pos": 10,
    "tab": [
     "pytorch"
    ],
    "ExecuteTime": {
     "end_time": "2023-11-28T01:09:31.298166500Z",
     "start_time": "2023-11-28T01:09:31.292255800Z"
    }
   },
   "outputs": [
    {
     "name": "stdout",
     "output_type": "stream",
     "text": [
      "features: tensor([ 0.0843, -1.1399]) \n",
      "label: tensor([8.2248])\n"
     ]
    },
    {
     "data": {
      "text/plain": "(tensor([[ 0.0843, -1.1399],\n         [ 0.1784,  1.3146],\n         [-0.7416, -0.7313],\n         [ 0.4313,  0.7570]]),\n tensor([-1.1399,  1.3146, -0.7313,  0.7570]))"
     },
     "execution_count": 32,
     "metadata": {},
     "output_type": "execute_result"
    }
   ],
   "source": [
    "print('features:', features[0], '\\nlabel:', labels[0])\n",
    "features, features[:, 1]"
   ]
  },
  {
   "cell_type": "markdown",
   "id": "fceaa9b1",
   "metadata": {
    "origin_pos": 11
   },
   "source": [
    "通过生成第二个特征`features[:, 1]`和`labels`的散点图，\n",
    "可以直观观察到两者之间的线性关系。\n"
   ]
  },
  {
   "cell_type": "code",
   "execution_count": 40,
   "id": "ec27cda9",
   "metadata": {
    "execution": {
     "iopub.execute_input": "2022-12-07T16:43:06.360566Z",
     "iopub.status.busy": "2022-12-07T16:43:06.360291Z",
     "iopub.status.idle": "2022-12-07T16:43:06.547379Z",
     "shell.execute_reply": "2022-12-07T16:43:06.546494Z"
    },
    "origin_pos": 12,
    "tab": [
     "pytorch"
    ],
    "ExecuteTime": {
     "end_time": "2023-11-28T01:15:49.303268600Z",
     "start_time": "2023-11-28T01:15:49.213169400Z"
    }
   },
   "outputs": [
    {
     "data": {
      "text/plain": "<Figure size 350x250 with 1 Axes>",
      "image/svg+xml": "<?xml version=\"1.0\" encoding=\"utf-8\" standalone=\"no\"?>\n<!DOCTYPE svg PUBLIC \"-//W3C//DTD SVG 1.1//EN\"\n  \"http://www.w3.org/Graphics/SVG/1.1/DTD/svg11.dtd\">\n<svg xmlns:xlink=\"http://www.w3.org/1999/xlink\" width=\"237.804688pt\" height=\"169.678125pt\" viewBox=\"0 0 237.804688 169.678125\" xmlns=\"http://www.w3.org/2000/svg\" version=\"1.1\">\n <metadata>\n  <rdf:RDF xmlns:dc=\"http://purl.org/dc/elements/1.1/\" xmlns:cc=\"http://creativecommons.org/ns#\" xmlns:rdf=\"http://www.w3.org/1999/02/22-rdf-syntax-ns#\">\n   <cc:Work>\n    <dc:type rdf:resource=\"http://purl.org/dc/dcmitype/StillImage\"/>\n    <dc:date>2023-11-28T09:15:49.257358</dc:date>\n    <dc:format>image/svg+xml</dc:format>\n    <dc:creator>\n     <cc:Agent>\n      <dc:title>Matplotlib v3.7.2, https://matplotlib.org/</dc:title>\n     </cc:Agent>\n    </dc:creator>\n   </cc:Work>\n  </rdf:RDF>\n </metadata>\n <defs>\n  <style type=\"text/css\">*{stroke-linejoin: round; stroke-linecap: butt}</style>\n </defs>\n <g id=\"figure_1\">\n  <g id=\"patch_1\">\n   <path d=\"M 0 169.678125 \nL 237.804688 169.678125 \nL 237.804688 0 \nL 0 0 \nz\n\" style=\"fill: #ffffff\"/>\n  </g>\n  <g id=\"axes_1\">\n   <g id=\"patch_2\">\n    <path d=\"M 35.304688 145.8 \nL 230.604688 145.8 \nL 230.604688 7.2 \nL 35.304688 7.2 \nz\n\" style=\"fill: #ffffff\"/>\n   </g>\n   <g id=\"PathCollection_1\">\n    <defs>\n     <path id=\"md67f5c16d9\" d=\"M 0 0.5 \nC 0.132602 0.5 0.25979 0.447317 0.353553 0.353553 \nC 0.447317 0.25979 0.5 0.132602 0.5 0 \nC 0.5 -0.132602 0.447317 -0.25979 0.353553 -0.353553 \nC 0.25979 -0.447317 0.132602 -0.5 0 -0.5 \nC -0.132602 -0.5 -0.25979 -0.447317 -0.353553 -0.353553 \nC -0.447317 -0.25979 -0.5 -0.132602 -0.5 0 \nC -0.5 0.132602 -0.447317 0.25979 -0.353553 0.353553 \nC -0.25979 0.447317 -0.132602 0.5 0 0.5 \nz\n\" style=\"stroke: #1f77b4\"/>\n    </defs>\n    <g clip-path=\"url(#pb40ff3b656)\">\n     <use xlink:href=\"#md67f5c16d9\" x=\"177.067176\" y=\"98.944366\" style=\"fill: #1f77b4; stroke: #1f77b4\"/>\n     <use xlink:href=\"#md67f5c16d9\" x=\"136.947482\" y=\"85.873605\" style=\"fill: #1f77b4; stroke: #1f77b4\"/>\n     <use xlink:href=\"#md67f5c16d9\" x=\"65.473137\" y=\"39.528634\" style=\"fill: #1f77b4; stroke: #1f77b4\"/>\n     <use xlink:href=\"#md67f5c16d9\" x=\"162.519096\" y=\"101.193977\" style=\"fill: #1f77b4; stroke: #1f77b4\"/>\n     <use xlink:href=\"#md67f5c16d9\" x=\"93.729477\" y=\"38.793958\" style=\"fill: #1f77b4; stroke: #1f77b4\"/>\n     <use xlink:href=\"#md67f5c16d9\" x=\"180.284476\" y=\"95.132839\" style=\"fill: #1f77b4; stroke: #1f77b4\"/>\n     <use xlink:href=\"#md67f5c16d9\" x=\"148.77522\" y=\"77.604383\" style=\"fill: #1f77b4; stroke: #1f77b4\"/>\n     <use xlink:href=\"#md67f5c16d9\" x=\"175.328136\" y=\"93.004966\" style=\"fill: #1f77b4; stroke: #1f77b4\"/>\n     <use xlink:href=\"#md67f5c16d9\" x=\"80.348186\" y=\"42.640313\" style=\"fill: #1f77b4; stroke: #1f77b4\"/>\n     <use xlink:href=\"#md67f5c16d9\" x=\"198.262347\" y=\"117.41594\" style=\"fill: #1f77b4; stroke: #1f77b4\"/>\n     <use xlink:href=\"#md67f5c16d9\" x=\"152.952816\" y=\"85.743949\" style=\"fill: #1f77b4; stroke: #1f77b4\"/>\n     <use xlink:href=\"#md67f5c16d9\" x=\"178.335583\" y=\"84.010339\" style=\"fill: #1f77b4; stroke: #1f77b4\"/>\n     <use xlink:href=\"#md67f5c16d9\" x=\"92.440303\" y=\"62.713283\" style=\"fill: #1f77b4; stroke: #1f77b4\"/>\n     <use xlink:href=\"#md67f5c16d9\" x=\"103.067419\" y=\"64.634433\" style=\"fill: #1f77b4; stroke: #1f77b4\"/>\n     <use xlink:href=\"#md67f5c16d9\" x=\"129.513241\" y=\"63.254659\" style=\"fill: #1f77b4; stroke: #1f77b4\"/>\n     <use xlink:href=\"#md67f5c16d9\" x=\"88.25429\" y=\"62.13601\" style=\"fill: #1f77b4; stroke: #1f77b4\"/>\n     <use xlink:href=\"#md67f5c16d9\" x=\"116.828685\" y=\"67.84736\" style=\"fill: #1f77b4; stroke: #1f77b4\"/>\n     <use xlink:href=\"#md67f5c16d9\" x=\"119.712554\" y=\"59.569101\" style=\"fill: #1f77b4; stroke: #1f77b4\"/>\n     <use xlink:href=\"#md67f5c16d9\" x=\"95.367192\" y=\"56.803927\" style=\"fill: #1f77b4; stroke: #1f77b4\"/>\n     <use xlink:href=\"#md67f5c16d9\" x=\"79.547429\" y=\"53.530117\" style=\"fill: #1f77b4; stroke: #1f77b4\"/>\n     <use xlink:href=\"#md67f5c16d9\" x=\"146.260265\" y=\"89.082107\" style=\"fill: #1f77b4; stroke: #1f77b4\"/>\n     <use xlink:href=\"#md67f5c16d9\" x=\"128.011258\" y=\"76.370113\" style=\"fill: #1f77b4; stroke: #1f77b4\"/>\n     <use xlink:href=\"#md67f5c16d9\" x=\"123.227028\" y=\"69.621831\" style=\"fill: #1f77b4; stroke: #1f77b4\"/>\n     <use xlink:href=\"#md67f5c16d9\" x=\"151.699931\" y=\"78.619204\" style=\"fill: #1f77b4; stroke: #1f77b4\"/>\n     <use xlink:href=\"#md67f5c16d9\" x=\"155.450523\" y=\"79.191268\" style=\"fill: #1f77b4; stroke: #1f77b4\"/>\n     <use xlink:href=\"#md67f5c16d9\" x=\"127.995997\" y=\"79.183716\" style=\"fill: #1f77b4; stroke: #1f77b4\"/>\n     <use xlink:href=\"#md67f5c16d9\" x=\"96.523864\" y=\"59.807354\" style=\"fill: #1f77b4; stroke: #1f77b4\"/>\n     <use xlink:href=\"#md67f5c16d9\" x=\"105.273955\" y=\"55.953673\" style=\"fill: #1f77b4; stroke: #1f77b4\"/>\n     <use xlink:href=\"#md67f5c16d9\" x=\"156.440761\" y=\"95.444609\" style=\"fill: #1f77b4; stroke: #1f77b4\"/>\n     <use xlink:href=\"#md67f5c16d9\" x=\"111.165807\" y=\"67.420291\" style=\"fill: #1f77b4; stroke: #1f77b4\"/>\n     <use xlink:href=\"#md67f5c16d9\" x=\"136.951278\" y=\"90.485976\" style=\"fill: #1f77b4; stroke: #1f77b4\"/>\n     <use xlink:href=\"#md67f5c16d9\" x=\"102.613481\" y=\"63.950493\" style=\"fill: #1f77b4; stroke: #1f77b4\"/>\n     <use xlink:href=\"#md67f5c16d9\" x=\"187.231935\" y=\"89.756876\" style=\"fill: #1f77b4; stroke: #1f77b4\"/>\n     <use xlink:href=\"#md67f5c16d9\" x=\"133.055675\" y=\"85.423427\" style=\"fill: #1f77b4; stroke: #1f77b4\"/>\n     <use xlink:href=\"#md67f5c16d9\" x=\"115.283939\" y=\"64.230808\" style=\"fill: #1f77b4; stroke: #1f77b4\"/>\n     <use xlink:href=\"#md67f5c16d9\" x=\"99.117621\" y=\"59.814557\" style=\"fill: #1f77b4; stroke: #1f77b4\"/>\n     <use xlink:href=\"#md67f5c16d9\" x=\"78.282937\" y=\"36.794703\" style=\"fill: #1f77b4; stroke: #1f77b4\"/>\n     <use xlink:href=\"#md67f5c16d9\" x=\"89.486489\" y=\"55.791494\" style=\"fill: #1f77b4; stroke: #1f77b4\"/>\n     <use xlink:href=\"#md67f5c16d9\" x=\"132.632867\" y=\"78.473804\" style=\"fill: #1f77b4; stroke: #1f77b4\"/>\n     <use xlink:href=\"#md67f5c16d9\" x=\"76.503335\" y=\"43.261812\" style=\"fill: #1f77b4; stroke: #1f77b4\"/>\n     <use xlink:href=\"#md67f5c16d9\" x=\"151.209798\" y=\"71.521676\" style=\"fill: #1f77b4; stroke: #1f77b4\"/>\n     <use xlink:href=\"#md67f5c16d9\" x=\"158.392799\" y=\"88.398866\" style=\"fill: #1f77b4; stroke: #1f77b4\"/>\n     <use xlink:href=\"#md67f5c16d9\" x=\"147.521682\" y=\"88.774594\" style=\"fill: #1f77b4; stroke: #1f77b4\"/>\n     <use xlink:href=\"#md67f5c16d9\" x=\"168.261451\" y=\"96.017499\" style=\"fill: #1f77b4; stroke: #1f77b4\"/>\n     <use xlink:href=\"#md67f5c16d9\" x=\"136.768083\" y=\"84.503002\" style=\"fill: #1f77b4; stroke: #1f77b4\"/>\n     <use xlink:href=\"#md67f5c16d9\" x=\"165.352274\" y=\"112.981505\" style=\"fill: #1f77b4; stroke: #1f77b4\"/>\n     <use xlink:href=\"#md67f5c16d9\" x=\"204.292892\" y=\"102.482615\" style=\"fill: #1f77b4; stroke: #1f77b4\"/>\n     <use xlink:href=\"#md67f5c16d9\" x=\"112.040285\" y=\"68.558213\" style=\"fill: #1f77b4; stroke: #1f77b4\"/>\n     <use xlink:href=\"#md67f5c16d9\" x=\"119.362776\" y=\"59.783887\" style=\"fill: #1f77b4; stroke: #1f77b4\"/>\n     <use xlink:href=\"#md67f5c16d9\" x=\"121.289042\" y=\"61.410105\" style=\"fill: #1f77b4; stroke: #1f77b4\"/>\n     <use xlink:href=\"#md67f5c16d9\" x=\"54.968208\" y=\"32.027683\" style=\"fill: #1f77b4; stroke: #1f77b4\"/>\n     <use xlink:href=\"#md67f5c16d9\" x=\"127.213641\" y=\"81.972821\" style=\"fill: #1f77b4; stroke: #1f77b4\"/>\n     <use xlink:href=\"#md67f5c16d9\" x=\"100.410599\" y=\"57.228407\" style=\"fill: #1f77b4; stroke: #1f77b4\"/>\n     <use xlink:href=\"#md67f5c16d9\" x=\"62.837356\" y=\"42.182988\" style=\"fill: #1f77b4; stroke: #1f77b4\"/>\n     <use xlink:href=\"#md67f5c16d9\" x=\"129.037496\" y=\"62.669898\" style=\"fill: #1f77b4; stroke: #1f77b4\"/>\n     <use xlink:href=\"#md67f5c16d9\" x=\"150.929524\" y=\"74.649699\" style=\"fill: #1f77b4; stroke: #1f77b4\"/>\n     <use xlink:href=\"#md67f5c16d9\" x=\"121.276258\" y=\"57.681736\" style=\"fill: #1f77b4; stroke: #1f77b4\"/>\n     <use xlink:href=\"#md67f5c16d9\" x=\"112.975331\" y=\"58.767898\" style=\"fill: #1f77b4; stroke: #1f77b4\"/>\n     <use xlink:href=\"#md67f5c16d9\" x=\"98.762424\" y=\"48.541377\" style=\"fill: #1f77b4; stroke: #1f77b4\"/>\n     <use xlink:href=\"#md67f5c16d9\" x=\"119.899659\" y=\"70.697521\" style=\"fill: #1f77b4; stroke: #1f77b4\"/>\n     <use xlink:href=\"#md67f5c16d9\" x=\"129.556854\" y=\"74.751083\" style=\"fill: #1f77b4; stroke: #1f77b4\"/>\n     <use xlink:href=\"#md67f5c16d9\" x=\"98.447846\" y=\"46.053839\" style=\"fill: #1f77b4; stroke: #1f77b4\"/>\n     <use xlink:href=\"#md67f5c16d9\" x=\"140.43448\" y=\"102.868102\" style=\"fill: #1f77b4; stroke: #1f77b4\"/>\n     <use xlink:href=\"#md67f5c16d9\" x=\"80.10732\" y=\"53.574631\" style=\"fill: #1f77b4; stroke: #1f77b4\"/>\n     <use xlink:href=\"#md67f5c16d9\" x=\"140.399848\" y=\"70.371054\" style=\"fill: #1f77b4; stroke: #1f77b4\"/>\n     <use xlink:href=\"#md67f5c16d9\" x=\"181.110432\" y=\"97.119446\" style=\"fill: #1f77b4; stroke: #1f77b4\"/>\n     <use xlink:href=\"#md67f5c16d9\" x=\"106.513728\" y=\"77.42508\" style=\"fill: #1f77b4; stroke: #1f77b4\"/>\n     <use xlink:href=\"#md67f5c16d9\" x=\"134.487703\" y=\"69.152037\" style=\"fill: #1f77b4; stroke: #1f77b4\"/>\n     <use xlink:href=\"#md67f5c16d9\" x=\"146.884101\" y=\"85.369515\" style=\"fill: #1f77b4; stroke: #1f77b4\"/>\n     <use xlink:href=\"#md67f5c16d9\" x=\"105.157916\" y=\"62.919907\" style=\"fill: #1f77b4; stroke: #1f77b4\"/>\n     <use xlink:href=\"#md67f5c16d9\" x=\"119.409326\" y=\"67.280268\" style=\"fill: #1f77b4; stroke: #1f77b4\"/>\n     <use xlink:href=\"#md67f5c16d9\" x=\"177.460757\" y=\"86.275068\" style=\"fill: #1f77b4; stroke: #1f77b4\"/>\n     <use xlink:href=\"#md67f5c16d9\" x=\"130.939836\" y=\"69.589753\" style=\"fill: #1f77b4; stroke: #1f77b4\"/>\n     <use xlink:href=\"#md67f5c16d9\" x=\"106.731238\" y=\"56.526125\" style=\"fill: #1f77b4; stroke: #1f77b4\"/>\n     <use xlink:href=\"#md67f5c16d9\" x=\"100.239141\" y=\"49.30931\" style=\"fill: #1f77b4; stroke: #1f77b4\"/>\n     <use xlink:href=\"#md67f5c16d9\" x=\"131.736453\" y=\"71.71168\" style=\"fill: #1f77b4; stroke: #1f77b4\"/>\n     <use xlink:href=\"#md67f5c16d9\" x=\"91.310507\" y=\"45.696108\" style=\"fill: #1f77b4; stroke: #1f77b4\"/>\n     <use xlink:href=\"#md67f5c16d9\" x=\"133.373655\" y=\"71.218985\" style=\"fill: #1f77b4; stroke: #1f77b4\"/>\n     <use xlink:href=\"#md67f5c16d9\" x=\"132.826821\" y=\"58.700335\" style=\"fill: #1f77b4; stroke: #1f77b4\"/>\n     <use xlink:href=\"#md67f5c16d9\" x=\"144.277337\" y=\"70.55076\" style=\"fill: #1f77b4; stroke: #1f77b4\"/>\n     <use xlink:href=\"#md67f5c16d9\" x=\"103.663793\" y=\"48.808356\" style=\"fill: #1f77b4; stroke: #1f77b4\"/>\n     <use xlink:href=\"#md67f5c16d9\" x=\"196.59024\" y=\"104.696484\" style=\"fill: #1f77b4; stroke: #1f77b4\"/>\n     <use xlink:href=\"#md67f5c16d9\" x=\"114.83871\" y=\"58.817774\" style=\"fill: #1f77b4; stroke: #1f77b4\"/>\n     <use xlink:href=\"#md67f5c16d9\" x=\"134.231818\" y=\"56.472156\" style=\"fill: #1f77b4; stroke: #1f77b4\"/>\n     <use xlink:href=\"#md67f5c16d9\" x=\"165.07965\" y=\"98.60307\" style=\"fill: #1f77b4; stroke: #1f77b4\"/>\n     <use xlink:href=\"#md67f5c16d9\" x=\"94.381463\" y=\"38.627191\" style=\"fill: #1f77b4; stroke: #1f77b4\"/>\n     <use xlink:href=\"#md67f5c16d9\" x=\"87.498956\" y=\"41.071435\" style=\"fill: #1f77b4; stroke: #1f77b4\"/>\n     <use xlink:href=\"#md67f5c16d9\" x=\"106.836589\" y=\"63.936953\" style=\"fill: #1f77b4; stroke: #1f77b4\"/>\n     <use xlink:href=\"#md67f5c16d9\" x=\"154.329451\" y=\"95.408842\" style=\"fill: #1f77b4; stroke: #1f77b4\"/>\n     <use xlink:href=\"#md67f5c16d9\" x=\"121.304924\" y=\"66.422646\" style=\"fill: #1f77b4; stroke: #1f77b4\"/>\n     <use xlink:href=\"#md67f5c16d9\" x=\"96.633975\" y=\"47.224351\" style=\"fill: #1f77b4; stroke: #1f77b4\"/>\n     <use xlink:href=\"#md67f5c16d9\" x=\"125.56884\" y=\"74.735722\" style=\"fill: #1f77b4; stroke: #1f77b4\"/>\n     <use xlink:href=\"#md67f5c16d9\" x=\"93.852113\" y=\"33.083312\" style=\"fill: #1f77b4; stroke: #1f77b4\"/>\n     <use xlink:href=\"#md67f5c16d9\" x=\"136.869706\" y=\"91.415313\" style=\"fill: #1f77b4; stroke: #1f77b4\"/>\n     <use xlink:href=\"#md67f5c16d9\" x=\"172.931627\" y=\"95.629828\" style=\"fill: #1f77b4; stroke: #1f77b4\"/>\n     <use xlink:href=\"#md67f5c16d9\" x=\"134.79845\" y=\"62.050211\" style=\"fill: #1f77b4; stroke: #1f77b4\"/>\n     <use xlink:href=\"#md67f5c16d9\" x=\"165.406527\" y=\"103.626527\" style=\"fill: #1f77b4; stroke: #1f77b4\"/>\n     <use xlink:href=\"#md67f5c16d9\" x=\"144.289765\" y=\"82.665262\" style=\"fill: #1f77b4; stroke: #1f77b4\"/>\n     <use xlink:href=\"#md67f5c16d9\" x=\"143.450143\" y=\"79.064094\" style=\"fill: #1f77b4; stroke: #1f77b4\"/>\n     <use xlink:href=\"#md67f5c16d9\" x=\"137.579006\" y=\"81.444138\" style=\"fill: #1f77b4; stroke: #1f77b4\"/>\n     <use xlink:href=\"#md67f5c16d9\" x=\"49.921441\" y=\"13.5\" style=\"fill: #1f77b4; stroke: #1f77b4\"/>\n     <use xlink:href=\"#md67f5c16d9\" x=\"176.088752\" y=\"90.350995\" style=\"fill: #1f77b4; stroke: #1f77b4\"/>\n     <use xlink:href=\"#md67f5c16d9\" x=\"178.357383\" y=\"114.076281\" style=\"fill: #1f77b4; stroke: #1f77b4\"/>\n     <use xlink:href=\"#md67f5c16d9\" x=\"122.582703\" y=\"67.445468\" style=\"fill: #1f77b4; stroke: #1f77b4\"/>\n     <use xlink:href=\"#md67f5c16d9\" x=\"142.078162\" y=\"75.075402\" style=\"fill: #1f77b4; stroke: #1f77b4\"/>\n     <use xlink:href=\"#md67f5c16d9\" x=\"150.843624\" y=\"87.843647\" style=\"fill: #1f77b4; stroke: #1f77b4\"/>\n     <use xlink:href=\"#md67f5c16d9\" x=\"120.227391\" y=\"63.761828\" style=\"fill: #1f77b4; stroke: #1f77b4\"/>\n     <use xlink:href=\"#md67f5c16d9\" x=\"97.348611\" y=\"54.886929\" style=\"fill: #1f77b4; stroke: #1f77b4\"/>\n     <use xlink:href=\"#md67f5c16d9\" x=\"162.14429\" y=\"82.811548\" style=\"fill: #1f77b4; stroke: #1f77b4\"/>\n     <use xlink:href=\"#md67f5c16d9\" x=\"122.41361\" y=\"62.906514\" style=\"fill: #1f77b4; stroke: #1f77b4\"/>\n     <use xlink:href=\"#md67f5c16d9\" x=\"170.080588\" y=\"93.096923\" style=\"fill: #1f77b4; stroke: #1f77b4\"/>\n     <use xlink:href=\"#md67f5c16d9\" x=\"108.1995\" y=\"55.03341\" style=\"fill: #1f77b4; stroke: #1f77b4\"/>\n     <use xlink:href=\"#md67f5c16d9\" x=\"82.58293\" y=\"40.141391\" style=\"fill: #1f77b4; stroke: #1f77b4\"/>\n     <use xlink:href=\"#md67f5c16d9\" x=\"135.349473\" y=\"64.075674\" style=\"fill: #1f77b4; stroke: #1f77b4\"/>\n     <use xlink:href=\"#md67f5c16d9\" x=\"117.720332\" y=\"81.277771\" style=\"fill: #1f77b4; stroke: #1f77b4\"/>\n     <use xlink:href=\"#md67f5c16d9\" x=\"116.381855\" y=\"75.389617\" style=\"fill: #1f77b4; stroke: #1f77b4\"/>\n     <use xlink:href=\"#md67f5c16d9\" x=\"139.088136\" y=\"78.689112\" style=\"fill: #1f77b4; stroke: #1f77b4\"/>\n     <use xlink:href=\"#md67f5c16d9\" x=\"141.40258\" y=\"85.597507\" style=\"fill: #1f77b4; stroke: #1f77b4\"/>\n     <use xlink:href=\"#md67f5c16d9\" x=\"135.751493\" y=\"63.42604\" style=\"fill: #1f77b4; stroke: #1f77b4\"/>\n     <use xlink:href=\"#md67f5c16d9\" x=\"148.293131\" y=\"95.823672\" style=\"fill: #1f77b4; stroke: #1f77b4\"/>\n     <use xlink:href=\"#md67f5c16d9\" x=\"90.948814\" y=\"36.682809\" style=\"fill: #1f77b4; stroke: #1f77b4\"/>\n     <use xlink:href=\"#md67f5c16d9\" x=\"141.426783\" y=\"74.376062\" style=\"fill: #1f77b4; stroke: #1f77b4\"/>\n     <use xlink:href=\"#md67f5c16d9\" x=\"144.416956\" y=\"75.023518\" style=\"fill: #1f77b4; stroke: #1f77b4\"/>\n     <use xlink:href=\"#md67f5c16d9\" x=\"121.994327\" y=\"77.589866\" style=\"fill: #1f77b4; stroke: #1f77b4\"/>\n     <use xlink:href=\"#md67f5c16d9\" x=\"128.19017\" y=\"76.811344\" style=\"fill: #1f77b4; stroke: #1f77b4\"/>\n     <use xlink:href=\"#md67f5c16d9\" x=\"189.147063\" y=\"100.552242\" style=\"fill: #1f77b4; stroke: #1f77b4\"/>\n     <use xlink:href=\"#md67f5c16d9\" x=\"116.479466\" y=\"76.334782\" style=\"fill: #1f77b4; stroke: #1f77b4\"/>\n     <use xlink:href=\"#md67f5c16d9\" x=\"109.060217\" y=\"56.995324\" style=\"fill: #1f77b4; stroke: #1f77b4\"/>\n     <use xlink:href=\"#md67f5c16d9\" x=\"144.4735\" y=\"79.484668\" style=\"fill: #1f77b4; stroke: #1f77b4\"/>\n     <use xlink:href=\"#md67f5c16d9\" x=\"117.084011\" y=\"85.050105\" style=\"fill: #1f77b4; stroke: #1f77b4\"/>\n     <use xlink:href=\"#md67f5c16d9\" x=\"188.879058\" y=\"103.889401\" style=\"fill: #1f77b4; stroke: #1f77b4\"/>\n     <use xlink:href=\"#md67f5c16d9\" x=\"148.957891\" y=\"75.177846\" style=\"fill: #1f77b4; stroke: #1f77b4\"/>\n     <use xlink:href=\"#md67f5c16d9\" x=\"158.3762\" y=\"96.872836\" style=\"fill: #1f77b4; stroke: #1f77b4\"/>\n     <use xlink:href=\"#md67f5c16d9\" x=\"136.911109\" y=\"64.443955\" style=\"fill: #1f77b4; stroke: #1f77b4\"/>\n     <use xlink:href=\"#md67f5c16d9\" x=\"156.041251\" y=\"97.001154\" style=\"fill: #1f77b4; stroke: #1f77b4\"/>\n     <use xlink:href=\"#md67f5c16d9\" x=\"131.7818\" y=\"85.223825\" style=\"fill: #1f77b4; stroke: #1f77b4\"/>\n     <use xlink:href=\"#md67f5c16d9\" x=\"196.810261\" y=\"96.690105\" style=\"fill: #1f77b4; stroke: #1f77b4\"/>\n     <use xlink:href=\"#md67f5c16d9\" x=\"128.337781\" y=\"64.915001\" style=\"fill: #1f77b4; stroke: #1f77b4\"/>\n     <use xlink:href=\"#md67f5c16d9\" x=\"141.392576\" y=\"68.967676\" style=\"fill: #1f77b4; stroke: #1f77b4\"/>\n     <use xlink:href=\"#md67f5c16d9\" x=\"110.07777\" y=\"61.856778\" style=\"fill: #1f77b4; stroke: #1f77b4\"/>\n     <use xlink:href=\"#md67f5c16d9\" x=\"134.497105\" y=\"76.490755\" style=\"fill: #1f77b4; stroke: #1f77b4\"/>\n     <use xlink:href=\"#md67f5c16d9\" x=\"127.604796\" y=\"64.413516\" style=\"fill: #1f77b4; stroke: #1f77b4\"/>\n     <use xlink:href=\"#md67f5c16d9\" x=\"119.445501\" y=\"65.72859\" style=\"fill: #1f77b4; stroke: #1f77b4\"/>\n     <use xlink:href=\"#md67f5c16d9\" x=\"103.324023\" y=\"62.34587\" style=\"fill: #1f77b4; stroke: #1f77b4\"/>\n     <use xlink:href=\"#md67f5c16d9\" x=\"116.378049\" y=\"73.791187\" style=\"fill: #1f77b4; stroke: #1f77b4\"/>\n     <use xlink:href=\"#md67f5c16d9\" x=\"145.888621\" y=\"79.323017\" style=\"fill: #1f77b4; stroke: #1f77b4\"/>\n     <use xlink:href=\"#md67f5c16d9\" x=\"88.593615\" y=\"44.574589\" style=\"fill: #1f77b4; stroke: #1f77b4\"/>\n     <use xlink:href=\"#md67f5c16d9\" x=\"130.563676\" y=\"71.195225\" style=\"fill: #1f77b4; stroke: #1f77b4\"/>\n     <use xlink:href=\"#md67f5c16d9\" x=\"97.194658\" y=\"43.612599\" style=\"fill: #1f77b4; stroke: #1f77b4\"/>\n     <use xlink:href=\"#md67f5c16d9\" x=\"147.846813\" y=\"75.229073\" style=\"fill: #1f77b4; stroke: #1f77b4\"/>\n     <use xlink:href=\"#md67f5c16d9\" x=\"116.8119\" y=\"77.232819\" style=\"fill: #1f77b4; stroke: #1f77b4\"/>\n     <use xlink:href=\"#md67f5c16d9\" x=\"141.558715\" y=\"84.681515\" style=\"fill: #1f77b4; stroke: #1f77b4\"/>\n     <use xlink:href=\"#md67f5c16d9\" x=\"128.947475\" y=\"63.333741\" style=\"fill: #1f77b4; stroke: #1f77b4\"/>\n     <use xlink:href=\"#md67f5c16d9\" x=\"153.36822\" y=\"79.282742\" style=\"fill: #1f77b4; stroke: #1f77b4\"/>\n     <use xlink:href=\"#md67f5c16d9\" x=\"94.523789\" y=\"51.912533\" style=\"fill: #1f77b4; stroke: #1f77b4\"/>\n     <use xlink:href=\"#md67f5c16d9\" x=\"133.998786\" y=\"67.437462\" style=\"fill: #1f77b4; stroke: #1f77b4\"/>\n     <use xlink:href=\"#md67f5c16d9\" x=\"98.306943\" y=\"50.00303\" style=\"fill: #1f77b4; stroke: #1f77b4\"/>\n     <use xlink:href=\"#md67f5c16d9\" x=\"138.978066\" y=\"76.783364\" style=\"fill: #1f77b4; stroke: #1f77b4\"/>\n     <use xlink:href=\"#md67f5c16d9\" x=\"117.619733\" y=\"79.373903\" style=\"fill: #1f77b4; stroke: #1f77b4\"/>\n     <use xlink:href=\"#md67f5c16d9\" x=\"121.735757\" y=\"72.591489\" style=\"fill: #1f77b4; stroke: #1f77b4\"/>\n     <use xlink:href=\"#md67f5c16d9\" x=\"149.076924\" y=\"80.690159\" style=\"fill: #1f77b4; stroke: #1f77b4\"/>\n     <use xlink:href=\"#md67f5c16d9\" x=\"66.97537\" y=\"35.118388\" style=\"fill: #1f77b4; stroke: #1f77b4\"/>\n     <use xlink:href=\"#md67f5c16d9\" x=\"186.86992\" y=\"89.927244\" style=\"fill: #1f77b4; stroke: #1f77b4\"/>\n     <use xlink:href=\"#md67f5c16d9\" x=\"137.894877\" y=\"80.70418\" style=\"fill: #1f77b4; stroke: #1f77b4\"/>\n     <use xlink:href=\"#md67f5c16d9\" x=\"221.727415\" y=\"139.5\" style=\"fill: #1f77b4; stroke: #1f77b4\"/>\n     <use xlink:href=\"#md67f5c16d9\" x=\"79.455592\" y=\"45.09733\" style=\"fill: #1f77b4; stroke: #1f77b4\"/>\n     <use xlink:href=\"#md67f5c16d9\" x=\"100.250134\" y=\"56.675466\" style=\"fill: #1f77b4; stroke: #1f77b4\"/>\n     <use xlink:href=\"#md67f5c16d9\" x=\"99.820192\" y=\"62.294971\" style=\"fill: #1f77b4; stroke: #1f77b4\"/>\n     <use xlink:href=\"#md67f5c16d9\" x=\"139.502856\" y=\"92.139989\" style=\"fill: #1f77b4; stroke: #1f77b4\"/>\n     <use xlink:href=\"#md67f5c16d9\" x=\"142.913502\" y=\"62.481163\" style=\"fill: #1f77b4; stroke: #1f77b4\"/>\n     <use xlink:href=\"#md67f5c16d9\" x=\"153.066348\" y=\"93.90109\" style=\"fill: #1f77b4; stroke: #1f77b4\"/>\n     <use xlink:href=\"#md67f5c16d9\" x=\"113.191219\" y=\"61.936466\" style=\"fill: #1f77b4; stroke: #1f77b4\"/>\n     <use xlink:href=\"#md67f5c16d9\" x=\"157.915834\" y=\"71.845916\" style=\"fill: #1f77b4; stroke: #1f77b4\"/>\n     <use xlink:href=\"#md67f5c16d9\" x=\"61.580475\" y=\"40.033475\" style=\"fill: #1f77b4; stroke: #1f77b4\"/>\n     <use xlink:href=\"#md67f5c16d9\" x=\"113.790367\" y=\"44.198927\" style=\"fill: #1f77b4; stroke: #1f77b4\"/>\n     <use xlink:href=\"#md67f5c16d9\" x=\"114.380089\" y=\"49.981546\" style=\"fill: #1f77b4; stroke: #1f77b4\"/>\n     <use xlink:href=\"#md67f5c16d9\" x=\"180.906025\" y=\"94.956956\" style=\"fill: #1f77b4; stroke: #1f77b4\"/>\n     <use xlink:href=\"#md67f5c16d9\" x=\"62.53864\" y=\"28.097412\" style=\"fill: #1f77b4; stroke: #1f77b4\"/>\n     <use xlink:href=\"#md67f5c16d9\" x=\"102.807936\" y=\"72.138067\" style=\"fill: #1f77b4; stroke: #1f77b4\"/>\n     <use xlink:href=\"#md67f5c16d9\" x=\"118.302052\" y=\"81.451849\" style=\"fill: #1f77b4; stroke: #1f77b4\"/>\n     <use xlink:href=\"#md67f5c16d9\" x=\"133.183923\" y=\"76.36056\" style=\"fill: #1f77b4; stroke: #1f77b4\"/>\n     <use xlink:href=\"#md67f5c16d9\" x=\"110.458007\" y=\"43.769368\" style=\"fill: #1f77b4; stroke: #1f77b4\"/>\n     <use xlink:href=\"#md67f5c16d9\" x=\"123.928106\" y=\"70.777771\" style=\"fill: #1f77b4; stroke: #1f77b4\"/>\n     <use xlink:href=\"#md67f5c16d9\" x=\"102.82323\" y=\"67.585942\" style=\"fill: #1f77b4; stroke: #1f77b4\"/>\n     <use xlink:href=\"#md67f5c16d9\" x=\"221.376022\" y=\"133.494731\" style=\"fill: #1f77b4; stroke: #1f77b4\"/>\n     <use xlink:href=\"#md67f5c16d9\" x=\"99.35864\" y=\"61.10304\" style=\"fill: #1f77b4; stroke: #1f77b4\"/>\n     <use xlink:href=\"#md67f5c16d9\" x=\"133.349782\" y=\"83.631438\" style=\"fill: #1f77b4; stroke: #1f77b4\"/>\n     <use xlink:href=\"#md67f5c16d9\" x=\"135.843806\" y=\"66.805448\" style=\"fill: #1f77b4; stroke: #1f77b4\"/>\n     <use xlink:href=\"#md67f5c16d9\" x=\"125.39758\" y=\"71.619454\" style=\"fill: #1f77b4; stroke: #1f77b4\"/>\n     <use xlink:href=\"#md67f5c16d9\" x=\"133.523877\" y=\"73.873691\" style=\"fill: #1f77b4; stroke: #1f77b4\"/>\n     <use xlink:href=\"#md67f5c16d9\" x=\"108.370333\" y=\"76.895766\" style=\"fill: #1f77b4; stroke: #1f77b4\"/>\n     <use xlink:href=\"#md67f5c16d9\" x=\"157.155874\" y=\"83.000113\" style=\"fill: #1f77b4; stroke: #1f77b4\"/>\n     <use xlink:href=\"#md67f5c16d9\" x=\"107.214335\" y=\"53.616212\" style=\"fill: #1f77b4; stroke: #1f77b4\"/>\n     <use xlink:href=\"#md67f5c16d9\" x=\"97.374537\" y=\"65.12293\" style=\"fill: #1f77b4; stroke: #1f77b4\"/>\n     <use xlink:href=\"#md67f5c16d9\" x=\"116.854839\" y=\"60.522596\" style=\"fill: #1f77b4; stroke: #1f77b4\"/>\n     <use xlink:href=\"#md67f5c16d9\" x=\"88.589863\" y=\"67.669028\" style=\"fill: #1f77b4; stroke: #1f77b4\"/>\n     <use xlink:href=\"#md67f5c16d9\" x=\"142.402783\" y=\"88.713481\" style=\"fill: #1f77b4; stroke: #1f77b4\"/>\n     <use xlink:href=\"#md67f5c16d9\" x=\"124.644394\" y=\"64.570631\" style=\"fill: #1f77b4; stroke: #1f77b4\"/>\n     <use xlink:href=\"#md67f5c16d9\" x=\"105.317855\" y=\"61.302641\" style=\"fill: #1f77b4; stroke: #1f77b4\"/>\n     <use xlink:href=\"#md67f5c16d9\" x=\"135.133751\" y=\"59.860163\" style=\"fill: #1f77b4; stroke: #1f77b4\"/>\n     <use xlink:href=\"#md67f5c16d9\" x=\"137.007535\" y=\"86.764175\" style=\"fill: #1f77b4; stroke: #1f77b4\"/>\n     <use xlink:href=\"#md67f5c16d9\" x=\"47.100013\" y=\"22.635958\" style=\"fill: #1f77b4; stroke: #1f77b4\"/>\n     <use xlink:href=\"#md67f5c16d9\" x=\"128.763439\" y=\"76.547487\" style=\"fill: #1f77b4; stroke: #1f77b4\"/>\n     <use xlink:href=\"#md67f5c16d9\" x=\"167.314209\" y=\"76.177102\" style=\"fill: #1f77b4; stroke: #1f77b4\"/>\n     <use xlink:href=\"#md67f5c16d9\" x=\"154.230981\" y=\"84.145069\" style=\"fill: #1f77b4; stroke: #1f77b4\"/>\n     <use xlink:href=\"#md67f5c16d9\" x=\"153.896567\" y=\"102.366909\" style=\"fill: #1f77b4; stroke: #1f77b4\"/>\n     <use xlink:href=\"#md67f5c16d9\" x=\"157.51973\" y=\"96.556345\" style=\"fill: #1f77b4; stroke: #1f77b4\"/>\n     <use xlink:href=\"#md67f5c16d9\" x=\"132.329536\" y=\"63.153979\" style=\"fill: #1f77b4; stroke: #1f77b4\"/>\n     <use xlink:href=\"#md67f5c16d9\" x=\"193.445805\" y=\"103.704179\" style=\"fill: #1f77b4; stroke: #1f77b4\"/>\n     <use xlink:href=\"#md67f5c16d9\" x=\"143.309861\" y=\"79.470307\" style=\"fill: #1f77b4; stroke: #1f77b4\"/>\n     <use xlink:href=\"#md67f5c16d9\" x=\"97.517541\" y=\"59.128562\" style=\"fill: #1f77b4; stroke: #1f77b4\"/>\n     <use xlink:href=\"#md67f5c16d9\" x=\"127.032326\" y=\"56.519729\" style=\"fill: #1f77b4; stroke: #1f77b4\"/>\n     <use xlink:href=\"#md67f5c16d9\" x=\"79.470457\" y=\"45.740062\" style=\"fill: #1f77b4; stroke: #1f77b4\"/>\n     <use xlink:href=\"#md67f5c16d9\" x=\"115.877857\" y=\"86.137508\" style=\"fill: #1f77b4; stroke: #1f77b4\"/>\n     <use xlink:href=\"#md67f5c16d9\" x=\"181.216395\" y=\"108.962888\" style=\"fill: #1f77b4; stroke: #1f77b4\"/>\n     <use xlink:href=\"#md67f5c16d9\" x=\"100.599143\" y=\"64.276952\" style=\"fill: #1f77b4; stroke: #1f77b4\"/>\n     <use xlink:href=\"#md67f5c16d9\" x=\"146.03682\" y=\"91.342128\" style=\"fill: #1f77b4; stroke: #1f77b4\"/>\n     <use xlink:href=\"#md67f5c16d9\" x=\"89.726296\" y=\"50.731046\" style=\"fill: #1f77b4; stroke: #1f77b4\"/>\n     <use xlink:href=\"#md67f5c16d9\" x=\"173.483058\" y=\"93.46662\" style=\"fill: #1f77b4; stroke: #1f77b4\"/>\n     <use xlink:href=\"#md67f5c16d9\" x=\"111.030307\" y=\"48.606658\" style=\"fill: #1f77b4; stroke: #1f77b4\"/>\n     <use xlink:href=\"#md67f5c16d9\" x=\"62.828176\" y=\"39.644853\" style=\"fill: #1f77b4; stroke: #1f77b4\"/>\n     <use xlink:href=\"#md67f5c16d9\" x=\"100.913332\" y=\"61.85339\" style=\"fill: #1f77b4; stroke: #1f77b4\"/>\n     <use xlink:href=\"#md67f5c16d9\" x=\"145.677722\" y=\"78.052114\" style=\"fill: #1f77b4; stroke: #1f77b4\"/>\n     <use xlink:href=\"#md67f5c16d9\" x=\"140.759078\" y=\"77.566677\" style=\"fill: #1f77b4; stroke: #1f77b4\"/>\n     <use xlink:href=\"#md67f5c16d9\" x=\"76.374586\" y=\"47.979473\" style=\"fill: #1f77b4; stroke: #1f77b4\"/>\n     <use xlink:href=\"#md67f5c16d9\" x=\"116.717843\" y=\"35.297405\" style=\"fill: #1f77b4; stroke: #1f77b4\"/>\n     <use xlink:href=\"#md67f5c16d9\" x=\"109.445523\" y=\"63.464991\" style=\"fill: #1f77b4; stroke: #1f77b4\"/>\n     <use xlink:href=\"#md67f5c16d9\" x=\"199.539601\" y=\"112.509945\" style=\"fill: #1f77b4; stroke: #1f77b4\"/>\n     <use xlink:href=\"#md67f5c16d9\" x=\"113.448304\" y=\"66.984573\" style=\"fill: #1f77b4; stroke: #1f77b4\"/>\n     <use xlink:href=\"#md67f5c16d9\" x=\"144.825275\" y=\"90.276106\" style=\"fill: #1f77b4; stroke: #1f77b4\"/>\n     <use xlink:href=\"#md67f5c16d9\" x=\"142.071442\" y=\"77.769184\" style=\"fill: #1f77b4; stroke: #1f77b4\"/>\n     <use xlink:href=\"#md67f5c16d9\" x=\"116.078614\" y=\"76.48219\" style=\"fill: #1f77b4; stroke: #1f77b4\"/>\n     <use xlink:href=\"#md67f5c16d9\" x=\"59.263048\" y=\"34.69869\" style=\"fill: #1f77b4; stroke: #1f77b4\"/>\n     <use xlink:href=\"#md67f5c16d9\" x=\"180.613589\" y=\"97.37588\" style=\"fill: #1f77b4; stroke: #1f77b4\"/>\n     <use xlink:href=\"#md67f5c16d9\" x=\"107.936416\" y=\"80.380502\" style=\"fill: #1f77b4; stroke: #1f77b4\"/>\n     <use xlink:href=\"#md67f5c16d9\" x=\"82.793034\" y=\"44.308568\" style=\"fill: #1f77b4; stroke: #1f77b4\"/>\n     <use xlink:href=\"#md67f5c16d9\" x=\"143.147288\" y=\"91.793839\" style=\"fill: #1f77b4; stroke: #1f77b4\"/>\n     <use xlink:href=\"#md67f5c16d9\" x=\"156.712874\" y=\"95.040589\" style=\"fill: #1f77b4; stroke: #1f77b4\"/>\n     <use xlink:href=\"#md67f5c16d9\" x=\"133.71523\" y=\"73.141629\" style=\"fill: #1f77b4; stroke: #1f77b4\"/>\n     <use xlink:href=\"#md67f5c16d9\" x=\"74.238777\" y=\"31.403239\" style=\"fill: #1f77b4; stroke: #1f77b4\"/>\n     <use xlink:href=\"#md67f5c16d9\" x=\"142.454962\" y=\"77.871426\" style=\"fill: #1f77b4; stroke: #1f77b4\"/>\n     <use xlink:href=\"#md67f5c16d9\" x=\"119.88692\" y=\"65.239101\" style=\"fill: #1f77b4; stroke: #1f77b4\"/>\n     <use xlink:href=\"#md67f5c16d9\" x=\"112.545123\" y=\"71.76446\" style=\"fill: #1f77b4; stroke: #1f77b4\"/>\n     <use xlink:href=\"#md67f5c16d9\" x=\"116.713013\" y=\"70.80158\" style=\"fill: #1f77b4; stroke: #1f77b4\"/>\n     <use xlink:href=\"#md67f5c16d9\" x=\"177.547532\" y=\"94.415994\" style=\"fill: #1f77b4; stroke: #1f77b4\"/>\n     <use xlink:href=\"#md67f5c16d9\" x=\"133.918905\" y=\"65.712661\" style=\"fill: #1f77b4; stroke: #1f77b4\"/>\n     <use xlink:href=\"#md67f5c16d9\" x=\"99.44382\" y=\"52.786923\" style=\"fill: #1f77b4; stroke: #1f77b4\"/>\n     <use xlink:href=\"#md67f5c16d9\" x=\"76.784349\" y=\"28.733641\" style=\"fill: #1f77b4; stroke: #1f77b4\"/>\n     <use xlink:href=\"#md67f5c16d9\" x=\"102.535369\" y=\"68.983658\" style=\"fill: #1f77b4; stroke: #1f77b4\"/>\n     <use xlink:href=\"#md67f5c16d9\" x=\"126.091516\" y=\"69.803526\" style=\"fill: #1f77b4; stroke: #1f77b4\"/>\n     <use xlink:href=\"#md67f5c16d9\" x=\"180.207774\" y=\"120.737902\" style=\"fill: #1f77b4; stroke: #1f77b4\"/>\n     <use xlink:href=\"#md67f5c16d9\" x=\"131.129485\" y=\"62.984364\" style=\"fill: #1f77b4; stroke: #1f77b4\"/>\n     <use xlink:href=\"#md67f5c16d9\" x=\"171.207738\" y=\"90.142977\" style=\"fill: #1f77b4; stroke: #1f77b4\"/>\n     <use xlink:href=\"#md67f5c16d9\" x=\"105.902392\" y=\"41.105694\" style=\"fill: #1f77b4; stroke: #1f77b4\"/>\n     <use xlink:href=\"#md67f5c16d9\" x=\"146.437514\" y=\"95.203612\" style=\"fill: #1f77b4; stroke: #1f77b4\"/>\n     <use xlink:href=\"#md67f5c16d9\" x=\"72.819312\" y=\"31.94201\" style=\"fill: #1f77b4; stroke: #1f77b4\"/>\n     <use xlink:href=\"#md67f5c16d9\" x=\"121.341385\" y=\"63.086037\" style=\"fill: #1f77b4; stroke: #1f77b4\"/>\n     <use xlink:href=\"#md67f5c16d9\" x=\"117.893021\" y=\"62.716362\" style=\"fill: #1f77b4; stroke: #1f77b4\"/>\n     <use xlink:href=\"#md67f5c16d9\" x=\"171.607237\" y=\"109.795616\" style=\"fill: #1f77b4; stroke: #1f77b4\"/>\n     <use xlink:href=\"#md67f5c16d9\" x=\"114.174664\" y=\"68.660681\" style=\"fill: #1f77b4; stroke: #1f77b4\"/>\n     <use xlink:href=\"#md67f5c16d9\" x=\"97.360427\" y=\"48.342429\" style=\"fill: #1f77b4; stroke: #1f77b4\"/>\n     <use xlink:href=\"#md67f5c16d9\" x=\"132.48221\" y=\"67.905931\" style=\"fill: #1f77b4; stroke: #1f77b4\"/>\n     <use xlink:href=\"#md67f5c16d9\" x=\"137.516205\" y=\"70.397625\" style=\"fill: #1f77b4; stroke: #1f77b4\"/>\n     <use xlink:href=\"#md67f5c16d9\" x=\"169.708501\" y=\"85.92286\" style=\"fill: #1f77b4; stroke: #1f77b4\"/>\n     <use xlink:href=\"#md67f5c16d9\" x=\"159.912708\" y=\"89.270719\" style=\"fill: #1f77b4; stroke: #1f77b4\"/>\n     <use xlink:href=\"#md67f5c16d9\" x=\"130.496426\" y=\"63.555084\" style=\"fill: #1f77b4; stroke: #1f77b4\"/>\n     <use xlink:href=\"#md67f5c16d9\" x=\"108.68928\" y=\"69.053314\" style=\"fill: #1f77b4; stroke: #1f77b4\"/>\n     <use xlink:href=\"#md67f5c16d9\" x=\"99.16688\" y=\"64.804999\" style=\"fill: #1f77b4; stroke: #1f77b4\"/>\n     <use xlink:href=\"#md67f5c16d9\" x=\"148.161345\" y=\"76.272916\" style=\"fill: #1f77b4; stroke: #1f77b4\"/>\n     <use xlink:href=\"#md67f5c16d9\" x=\"155.856584\" y=\"76.98477\" style=\"fill: #1f77b4; stroke: #1f77b4\"/>\n     <use xlink:href=\"#md67f5c16d9\" x=\"151.255766\" y=\"91.898538\" style=\"fill: #1f77b4; stroke: #1f77b4\"/>\n     <use xlink:href=\"#md67f5c16d9\" x=\"112.544434\" y=\"68.618097\" style=\"fill: #1f77b4; stroke: #1f77b4\"/>\n     <use xlink:href=\"#md67f5c16d9\" x=\"102.408046\" y=\"49.799512\" style=\"fill: #1f77b4; stroke: #1f77b4\"/>\n     <use xlink:href=\"#md67f5c16d9\" x=\"170.473416\" y=\"90.983916\" style=\"fill: #1f77b4; stroke: #1f77b4\"/>\n     <use xlink:href=\"#md67f5c16d9\" x=\"71.186806\" y=\"48.753628\" style=\"fill: #1f77b4; stroke: #1f77b4\"/>\n     <use xlink:href=\"#md67f5c16d9\" x=\"125.66762\" y=\"76.065933\" style=\"fill: #1f77b4; stroke: #1f77b4\"/>\n     <use xlink:href=\"#md67f5c16d9\" x=\"164.424738\" y=\"83.198593\" style=\"fill: #1f77b4; stroke: #1f77b4\"/>\n     <use xlink:href=\"#md67f5c16d9\" x=\"121.503432\" y=\"68.535915\" style=\"fill: #1f77b4; stroke: #1f77b4\"/>\n     <use xlink:href=\"#md67f5c16d9\" x=\"175.278978\" y=\"91.921412\" style=\"fill: #1f77b4; stroke: #1f77b4\"/>\n     <use xlink:href=\"#md67f5c16d9\" x=\"167.013251\" y=\"87.522488\" style=\"fill: #1f77b4; stroke: #1f77b4\"/>\n     <use xlink:href=\"#md67f5c16d9\" x=\"109.300858\" y=\"63.174096\" style=\"fill: #1f77b4; stroke: #1f77b4\"/>\n     <use xlink:href=\"#md67f5c16d9\" x=\"154.922973\" y=\"82.291611\" style=\"fill: #1f77b4; stroke: #1f77b4\"/>\n     <use xlink:href=\"#md67f5c16d9\" x=\"107.365726\" y=\"43.604981\" style=\"fill: #1f77b4; stroke: #1f77b4\"/>\n     <use xlink:href=\"#md67f5c16d9\" x=\"130.341707\" y=\"75.136632\" style=\"fill: #1f77b4; stroke: #1f77b4\"/>\n     <use xlink:href=\"#md67f5c16d9\" x=\"132.962819\" y=\"81.280789\" style=\"fill: #1f77b4; stroke: #1f77b4\"/>\n     <use xlink:href=\"#md67f5c16d9\" x=\"124.125226\" y=\"52.359095\" style=\"fill: #1f77b4; stroke: #1f77b4\"/>\n     <use xlink:href=\"#md67f5c16d9\" x=\"90.950061\" y=\"48.071057\" style=\"fill: #1f77b4; stroke: #1f77b4\"/>\n     <use xlink:href=\"#md67f5c16d9\" x=\"112.177573\" y=\"67.543946\" style=\"fill: #1f77b4; stroke: #1f77b4\"/>\n     <use xlink:href=\"#md67f5c16d9\" x=\"114.429746\" y=\"72.292727\" style=\"fill: #1f77b4; stroke: #1f77b4\"/>\n     <use xlink:href=\"#md67f5c16d9\" x=\"164.2188\" y=\"88.593617\" style=\"fill: #1f77b4; stroke: #1f77b4\"/>\n     <use xlink:href=\"#md67f5c16d9\" x=\"119.254273\" y=\"59.376156\" style=\"fill: #1f77b4; stroke: #1f77b4\"/>\n     <use xlink:href=\"#md67f5c16d9\" x=\"101.488107\" y=\"36.552483\" style=\"fill: #1f77b4; stroke: #1f77b4\"/>\n     <use xlink:href=\"#md67f5c16d9\" x=\"106.997937\" y=\"70.398793\" style=\"fill: #1f77b4; stroke: #1f77b4\"/>\n     <use xlink:href=\"#md67f5c16d9\" x=\"110.101335\" y=\"69.392708\" style=\"fill: #1f77b4; stroke: #1f77b4\"/>\n     <use xlink:href=\"#md67f5c16d9\" x=\"83.736087\" y=\"33.447504\" style=\"fill: #1f77b4; stroke: #1f77b4\"/>\n     <use xlink:href=\"#md67f5c16d9\" x=\"176.969669\" y=\"103.40421\" style=\"fill: #1f77b4; stroke: #1f77b4\"/>\n     <use xlink:href=\"#md67f5c16d9\" x=\"134.24561\" y=\"80.212213\" style=\"fill: #1f77b4; stroke: #1f77b4\"/>\n     <use xlink:href=\"#md67f5c16d9\" x=\"102.331508\" y=\"60.374702\" style=\"fill: #1f77b4; stroke: #1f77b4\"/>\n     <use xlink:href=\"#md67f5c16d9\" x=\"147.724342\" y=\"73.559149\" style=\"fill: #1f77b4; stroke: #1f77b4\"/>\n     <use xlink:href=\"#md67f5c16d9\" x=\"159.658693\" y=\"102.829536\" style=\"fill: #1f77b4; stroke: #1f77b4\"/>\n     <use xlink:href=\"#md67f5c16d9\" x=\"130.830541\" y=\"67.379419\" style=\"fill: #1f77b4; stroke: #1f77b4\"/>\n     <use xlink:href=\"#md67f5c16d9\" x=\"132.100011\" y=\"63.39291\" style=\"fill: #1f77b4; stroke: #1f77b4\"/>\n     <use xlink:href=\"#md67f5c16d9\" x=\"124.744978\" y=\"61.101487\" style=\"fill: #1f77b4; stroke: #1f77b4\"/>\n     <use xlink:href=\"#md67f5c16d9\" x=\"138.361838\" y=\"76.185476\" style=\"fill: #1f77b4; stroke: #1f77b4\"/>\n     <use xlink:href=\"#md67f5c16d9\" x=\"126.881788\" y=\"85.373594\" style=\"fill: #1f77b4; stroke: #1f77b4\"/>\n     <use xlink:href=\"#md67f5c16d9\" x=\"154.986403\" y=\"82.853971\" style=\"fill: #1f77b4; stroke: #1f77b4\"/>\n     <use xlink:href=\"#md67f5c16d9\" x=\"126.270344\" y=\"99.263159\" style=\"fill: #1f77b4; stroke: #1f77b4\"/>\n     <use xlink:href=\"#md67f5c16d9\" x=\"153.549718\" y=\"76.458661\" style=\"fill: #1f77b4; stroke: #1f77b4\"/>\n     <use xlink:href=\"#md67f5c16d9\" x=\"84.074932\" y=\"49.562932\" style=\"fill: #1f77b4; stroke: #1f77b4\"/>\n     <use xlink:href=\"#md67f5c16d9\" x=\"130.717558\" y=\"86.382863\" style=\"fill: #1f77b4; stroke: #1f77b4\"/>\n     <use xlink:href=\"#md67f5c16d9\" x=\"104.05749\" y=\"59.91669\" style=\"fill: #1f77b4; stroke: #1f77b4\"/>\n     <use xlink:href=\"#md67f5c16d9\" x=\"130.745039\" y=\"69.117234\" style=\"fill: #1f77b4; stroke: #1f77b4\"/>\n     <use xlink:href=\"#md67f5c16d9\" x=\"175.441824\" y=\"97.204168\" style=\"fill: #1f77b4; stroke: #1f77b4\"/>\n     <use xlink:href=\"#md67f5c16d9\" x=\"172.676468\" y=\"104.26065\" style=\"fill: #1f77b4; stroke: #1f77b4\"/>\n     <use xlink:href=\"#md67f5c16d9\" x=\"127.067649\" y=\"64.932171\" style=\"fill: #1f77b4; stroke: #1f77b4\"/>\n     <use xlink:href=\"#md67f5c16d9\" x=\"131.901781\" y=\"78.642921\" style=\"fill: #1f77b4; stroke: #1f77b4\"/>\n     <use xlink:href=\"#md67f5c16d9\" x=\"105.073634\" y=\"57.65432\" style=\"fill: #1f77b4; stroke: #1f77b4\"/>\n     <use xlink:href=\"#md67f5c16d9\" x=\"172.231955\" y=\"75.739318\" style=\"fill: #1f77b4; stroke: #1f77b4\"/>\n     <use xlink:href=\"#md67f5c16d9\" x=\"135.155195\" y=\"64.678544\" style=\"fill: #1f77b4; stroke: #1f77b4\"/>\n     <use xlink:href=\"#md67f5c16d9\" x=\"173.638917\" y=\"81.409407\" style=\"fill: #1f77b4; stroke: #1f77b4\"/>\n     <use xlink:href=\"#md67f5c16d9\" x=\"142.319654\" y=\"70.560436\" style=\"fill: #1f77b4; stroke: #1f77b4\"/>\n     <use xlink:href=\"#md67f5c16d9\" x=\"104.701186\" y=\"40.430911\" style=\"fill: #1f77b4; stroke: #1f77b4\"/>\n     <use xlink:href=\"#md67f5c16d9\" x=\"101.573673\" y=\"73.220669\" style=\"fill: #1f77b4; stroke: #1f77b4\"/>\n     <use xlink:href=\"#md67f5c16d9\" x=\"120.754896\" y=\"62.027123\" style=\"fill: #1f77b4; stroke: #1f77b4\"/>\n     <use xlink:href=\"#md67f5c16d9\" x=\"153.971591\" y=\"101.179826\" style=\"fill: #1f77b4; stroke: #1f77b4\"/>\n     <use xlink:href=\"#md67f5c16d9\" x=\"129.203971\" y=\"79.493504\" style=\"fill: #1f77b4; stroke: #1f77b4\"/>\n     <use xlink:href=\"#md67f5c16d9\" x=\"113.119842\" y=\"63.562248\" style=\"fill: #1f77b4; stroke: #1f77b4\"/>\n     <use xlink:href=\"#md67f5c16d9\" x=\"151.303394\" y=\"91.851849\" style=\"fill: #1f77b4; stroke: #1f77b4\"/>\n     <use xlink:href=\"#md67f5c16d9\" x=\"108.491297\" y=\"54.158013\" style=\"fill: #1f77b4; stroke: #1f77b4\"/>\n     <use xlink:href=\"#md67f5c16d9\" x=\"45.796587\" y=\"30.732277\" style=\"fill: #1f77b4; stroke: #1f77b4\"/>\n     <use xlink:href=\"#md67f5c16d9\" x=\"118.412454\" y=\"82.235876\" style=\"fill: #1f77b4; stroke: #1f77b4\"/>\n     <use xlink:href=\"#md67f5c16d9\" x=\"101.215363\" y=\"40.924645\" style=\"fill: #1f77b4; stroke: #1f77b4\"/>\n     <use xlink:href=\"#md67f5c16d9\" x=\"180.766219\" y=\"73.03003\" style=\"fill: #1f77b4; stroke: #1f77b4\"/>\n     <use xlink:href=\"#md67f5c16d9\" x=\"120.685721\" y=\"88.376202\" style=\"fill: #1f77b4; stroke: #1f77b4\"/>\n     <use xlink:href=\"#md67f5c16d9\" x=\"185.987583\" y=\"102.484786\" style=\"fill: #1f77b4; stroke: #1f77b4\"/>\n     <use xlink:href=\"#md67f5c16d9\" x=\"195.963035\" y=\"117.267013\" style=\"fill: #1f77b4; stroke: #1f77b4\"/>\n     <use xlink:href=\"#md67f5c16d9\" x=\"124.298904\" y=\"69.920841\" style=\"fill: #1f77b4; stroke: #1f77b4\"/>\n     <use xlink:href=\"#md67f5c16d9\" x=\"137.539893\" y=\"70.944918\" style=\"fill: #1f77b4; stroke: #1f77b4\"/>\n     <use xlink:href=\"#md67f5c16d9\" x=\"85.453408\" y=\"40.417067\" style=\"fill: #1f77b4; stroke: #1f77b4\"/>\n     <use xlink:href=\"#md67f5c16d9\" x=\"141.362856\" y=\"78.871864\" style=\"fill: #1f77b4; stroke: #1f77b4\"/>\n     <use xlink:href=\"#md67f5c16d9\" x=\"157.530156\" y=\"97.463503\" style=\"fill: #1f77b4; stroke: #1f77b4\"/>\n     <use xlink:href=\"#md67f5c16d9\" x=\"131.249519\" y=\"59.670645\" style=\"fill: #1f77b4; stroke: #1f77b4\"/>\n     <use xlink:href=\"#md67f5c16d9\" x=\"71.052856\" y=\"38.019834\" style=\"fill: #1f77b4; stroke: #1f77b4\"/>\n     <use xlink:href=\"#md67f5c16d9\" x=\"108.861466\" y=\"58.36186\" style=\"fill: #1f77b4; stroke: #1f77b4\"/>\n     <use xlink:href=\"#md67f5c16d9\" x=\"132.216727\" y=\"77.122116\" style=\"fill: #1f77b4; stroke: #1f77b4\"/>\n     <use xlink:href=\"#md67f5c16d9\" x=\"97.517656\" y=\"56.869073\" style=\"fill: #1f77b4; stroke: #1f77b4\"/>\n     <use xlink:href=\"#md67f5c16d9\" x=\"134.084149\" y=\"63.742687\" style=\"fill: #1f77b4; stroke: #1f77b4\"/>\n     <use xlink:href=\"#md67f5c16d9\" x=\"117.605987\" y=\"62.37159\" style=\"fill: #1f77b4; stroke: #1f77b4\"/>\n     <use xlink:href=\"#md67f5c16d9\" x=\"111.422364\" y=\"34.270788\" style=\"fill: #1f77b4; stroke: #1f77b4\"/>\n     <use xlink:href=\"#md67f5c16d9\" x=\"129.38882\" y=\"77.78834\" style=\"fill: #1f77b4; stroke: #1f77b4\"/>\n     <use xlink:href=\"#md67f5c16d9\" x=\"137.544489\" y=\"70.081868\" style=\"fill: #1f77b4; stroke: #1f77b4\"/>\n     <use xlink:href=\"#md67f5c16d9\" x=\"165.566067\" y=\"70.115976\" style=\"fill: #1f77b4; stroke: #1f77b4\"/>\n     <use xlink:href=\"#md67f5c16d9\" x=\"93.270708\" y=\"49.016317\" style=\"fill: #1f77b4; stroke: #1f77b4\"/>\n     <use xlink:href=\"#md67f5c16d9\" x=\"158.275963\" y=\"81.605354\" style=\"fill: #1f77b4; stroke: #1f77b4\"/>\n     <use xlink:href=\"#md67f5c16d9\" x=\"167.117432\" y=\"80.701128\" style=\"fill: #1f77b4; stroke: #1f77b4\"/>\n     <use xlink:href=\"#md67f5c16d9\" x=\"178.479443\" y=\"107.090674\" style=\"fill: #1f77b4; stroke: #1f77b4\"/>\n     <use xlink:href=\"#md67f5c16d9\" x=\"78.169794\" y=\"37.849735\" style=\"fill: #1f77b4; stroke: #1f77b4\"/>\n     <use xlink:href=\"#md67f5c16d9\" x=\"78.670567\" y=\"46.637576\" style=\"fill: #1f77b4; stroke: #1f77b4\"/>\n     <use xlink:href=\"#md67f5c16d9\" x=\"90.124038\" y=\"42.157719\" style=\"fill: #1f77b4; stroke: #1f77b4\"/>\n     <use xlink:href=\"#md67f5c16d9\" x=\"105.460548\" y=\"56.037128\" style=\"fill: #1f77b4; stroke: #1f77b4\"/>\n     <use xlink:href=\"#md67f5c16d9\" x=\"153.342641\" y=\"104.425584\" style=\"fill: #1f77b4; stroke: #1f77b4\"/>\n     <use xlink:href=\"#md67f5c16d9\" x=\"163.989522\" y=\"95.02667\" style=\"fill: #1f77b4; stroke: #1f77b4\"/>\n     <use xlink:href=\"#md67f5c16d9\" x=\"87.032779\" y=\"72.914215\" style=\"fill: #1f77b4; stroke: #1f77b4\"/>\n     <use xlink:href=\"#md67f5c16d9\" x=\"123.696998\" y=\"70.24539\" style=\"fill: #1f77b4; stroke: #1f77b4\"/>\n     <use xlink:href=\"#md67f5c16d9\" x=\"88.696065\" y=\"53.860611\" style=\"fill: #1f77b4; stroke: #1f77b4\"/>\n     <use xlink:href=\"#md67f5c16d9\" x=\"159.340003\" y=\"88.96515\" style=\"fill: #1f77b4; stroke: #1f77b4\"/>\n     <use xlink:href=\"#md67f5c16d9\" x=\"154.310637\" y=\"96.039318\" style=\"fill: #1f77b4; stroke: #1f77b4\"/>\n     <use xlink:href=\"#md67f5c16d9\" x=\"159.102288\" y=\"61.001631\" style=\"fill: #1f77b4; stroke: #1f77b4\"/>\n     <use xlink:href=\"#md67f5c16d9\" x=\"109.521631\" y=\"51.181638\" style=\"fill: #1f77b4; stroke: #1f77b4\"/>\n     <use xlink:href=\"#md67f5c16d9\" x=\"90.358905\" y=\"55.838415\" style=\"fill: #1f77b4; stroke: #1f77b4\"/>\n     <use xlink:href=\"#md67f5c16d9\" x=\"109.502518\" y=\"60.437693\" style=\"fill: #1f77b4; stroke: #1f77b4\"/>\n     <use xlink:href=\"#md67f5c16d9\" x=\"121.609866\" y=\"69.297872\" style=\"fill: #1f77b4; stroke: #1f77b4\"/>\n     <use xlink:href=\"#md67f5c16d9\" x=\"195.594546\" y=\"105.196691\" style=\"fill: #1f77b4; stroke: #1f77b4\"/>\n     <use xlink:href=\"#md67f5c16d9\" x=\"108.633684\" y=\"56.423513\" style=\"fill: #1f77b4; stroke: #1f77b4\"/>\n     <use xlink:href=\"#md67f5c16d9\" x=\"116.114582\" y=\"68.731513\" style=\"fill: #1f77b4; stroke: #1f77b4\"/>\n     <use xlink:href=\"#md67f5c16d9\" x=\"130.752918\" y=\"81.696164\" style=\"fill: #1f77b4; stroke: #1f77b4\"/>\n     <use xlink:href=\"#md67f5c16d9\" x=\"144.341726\" y=\"82.850151\" style=\"fill: #1f77b4; stroke: #1f77b4\"/>\n     <use xlink:href=\"#md67f5c16d9\" x=\"136.608054\" y=\"76.962615\" style=\"fill: #1f77b4; stroke: #1f77b4\"/>\n     <use xlink:href=\"#md67f5c16d9\" x=\"132.65626\" y=\"70.69075\" style=\"fill: #1f77b4; stroke: #1f77b4\"/>\n     <use xlink:href=\"#md67f5c16d9\" x=\"119.724127\" y=\"57.181924\" style=\"fill: #1f77b4; stroke: #1f77b4\"/>\n     <use xlink:href=\"#md67f5c16d9\" x=\"108.32711\" y=\"52.253823\" style=\"fill: #1f77b4; stroke: #1f77b4\"/>\n     <use xlink:href=\"#md67f5c16d9\" x=\"107.906733\" y=\"64.243898\" style=\"fill: #1f77b4; stroke: #1f77b4\"/>\n     <use xlink:href=\"#md67f5c16d9\" x=\"128.822362\" y=\"63.548157\" style=\"fill: #1f77b4; stroke: #1f77b4\"/>\n     <use xlink:href=\"#md67f5c16d9\" x=\"123.924493\" y=\"73.823941\" style=\"fill: #1f77b4; stroke: #1f77b4\"/>\n     <use xlink:href=\"#md67f5c16d9\" x=\"173.908652\" y=\"101.359275\" style=\"fill: #1f77b4; stroke: #1f77b4\"/>\n     <use xlink:href=\"#md67f5c16d9\" x=\"144.290504\" y=\"86.595749\" style=\"fill: #1f77b4; stroke: #1f77b4\"/>\n     <use xlink:href=\"#md67f5c16d9\" x=\"122.902791\" y=\"73.401044\" style=\"fill: #1f77b4; stroke: #1f77b4\"/>\n     <use xlink:href=\"#md67f5c16d9\" x=\"117.526492\" y=\"61.545175\" style=\"fill: #1f77b4; stroke: #1f77b4\"/>\n     <use xlink:href=\"#md67f5c16d9\" x=\"172.294974\" y=\"101.632594\" style=\"fill: #1f77b4; stroke: #1f77b4\"/>\n     <use xlink:href=\"#md67f5c16d9\" x=\"116.616809\" y=\"49.542093\" style=\"fill: #1f77b4; stroke: #1f77b4\"/>\n     <use xlink:href=\"#md67f5c16d9\" x=\"107.227825\" y=\"50.392713\" style=\"fill: #1f77b4; stroke: #1f77b4\"/>\n     <use xlink:href=\"#md67f5c16d9\" x=\"142.537374\" y=\"85.548924\" style=\"fill: #1f77b4; stroke: #1f77b4\"/>\n     <use xlink:href=\"#md67f5c16d9\" x=\"130.164792\" y=\"65.42856\" style=\"fill: #1f77b4; stroke: #1f77b4\"/>\n     <use xlink:href=\"#md67f5c16d9\" x=\"135.368042\" y=\"83.378012\" style=\"fill: #1f77b4; stroke: #1f77b4\"/>\n     <use xlink:href=\"#md67f5c16d9\" x=\"95.44747\" y=\"56.484555\" style=\"fill: #1f77b4; stroke: #1f77b4\"/>\n     <use xlink:href=\"#md67f5c16d9\" x=\"130.77268\" y=\"52.73881\" style=\"fill: #1f77b4; stroke: #1f77b4\"/>\n     <use xlink:href=\"#md67f5c16d9\" x=\"85.586584\" y=\"57.092987\" style=\"fill: #1f77b4; stroke: #1f77b4\"/>\n     <use xlink:href=\"#md67f5c16d9\" x=\"155.410859\" y=\"78.392535\" style=\"fill: #1f77b4; stroke: #1f77b4\"/>\n     <use xlink:href=\"#md67f5c16d9\" x=\"81.753635\" y=\"57.218181\" style=\"fill: #1f77b4; stroke: #1f77b4\"/>\n     <use xlink:href=\"#md67f5c16d9\" x=\"187.457327\" y=\"109.779344\" style=\"fill: #1f77b4; stroke: #1f77b4\"/>\n     <use xlink:href=\"#md67f5c16d9\" x=\"84.316127\" y=\"49.341388\" style=\"fill: #1f77b4; stroke: #1f77b4\"/>\n     <use xlink:href=\"#md67f5c16d9\" x=\"158.988717\" y=\"90.12589\" style=\"fill: #1f77b4; stroke: #1f77b4\"/>\n     <use xlink:href=\"#md67f5c16d9\" x=\"151.318722\" y=\"75.312442\" style=\"fill: #1f77b4; stroke: #1f77b4\"/>\n     <use xlink:href=\"#md67f5c16d9\" x=\"131.349383\" y=\"70.041994\" style=\"fill: #1f77b4; stroke: #1f77b4\"/>\n     <use xlink:href=\"#md67f5c16d9\" x=\"102.385609\" y=\"54.643759\" style=\"fill: #1f77b4; stroke: #1f77b4\"/>\n     <use xlink:href=\"#md67f5c16d9\" x=\"133.902659\" y=\"73.58825\" style=\"fill: #1f77b4; stroke: #1f77b4\"/>\n     <use xlink:href=\"#md67f5c16d9\" x=\"114.907234\" y=\"66.875944\" style=\"fill: #1f77b4; stroke: #1f77b4\"/>\n     <use xlink:href=\"#md67f5c16d9\" x=\"103.852819\" y=\"57.358218\" style=\"fill: #1f77b4; stroke: #1f77b4\"/>\n     <use xlink:href=\"#md67f5c16d9\" x=\"73.474301\" y=\"58.229134\" style=\"fill: #1f77b4; stroke: #1f77b4\"/>\n     <use xlink:href=\"#md67f5c16d9\" x=\"60.010777\" y=\"39.739616\" style=\"fill: #1f77b4; stroke: #1f77b4\"/>\n     <use xlink:href=\"#md67f5c16d9\" x=\"123.026266\" y=\"58.985093\" style=\"fill: #1f77b4; stroke: #1f77b4\"/>\n     <use xlink:href=\"#md67f5c16d9\" x=\"154.121456\" y=\"96.784019\" style=\"fill: #1f77b4; stroke: #1f77b4\"/>\n     <use xlink:href=\"#md67f5c16d9\" x=\"112.81688\" y=\"60.503816\" style=\"fill: #1f77b4; stroke: #1f77b4\"/>\n     <use xlink:href=\"#md67f5c16d9\" x=\"83.478708\" y=\"40.429534\" style=\"fill: #1f77b4; stroke: #1f77b4\"/>\n     <use xlink:href=\"#md67f5c16d9\" x=\"106.861146\" y=\"59.000916\" style=\"fill: #1f77b4; stroke: #1f77b4\"/>\n     <use xlink:href=\"#md67f5c16d9\" x=\"122.86159\" y=\"53.068435\" style=\"fill: #1f77b4; stroke: #1f77b4\"/>\n     <use xlink:href=\"#md67f5c16d9\" x=\"154.536941\" y=\"94.312708\" style=\"fill: #1f77b4; stroke: #1f77b4\"/>\n     <use xlink:href=\"#md67f5c16d9\" x=\"126.986758\" y=\"65.242146\" style=\"fill: #1f77b4; stroke: #1f77b4\"/>\n     <use xlink:href=\"#md67f5c16d9\" x=\"147.323475\" y=\"90.260919\" style=\"fill: #1f77b4; stroke: #1f77b4\"/>\n     <use xlink:href=\"#md67f5c16d9\" x=\"120.91704\" y=\"68.828492\" style=\"fill: #1f77b4; stroke: #1f77b4\"/>\n     <use xlink:href=\"#md67f5c16d9\" x=\"65.0738\" y=\"43.25051\" style=\"fill: #1f77b4; stroke: #1f77b4\"/>\n     <use xlink:href=\"#md67f5c16d9\" x=\"161.050307\" y=\"88.575809\" style=\"fill: #1f77b4; stroke: #1f77b4\"/>\n     <use xlink:href=\"#md67f5c16d9\" x=\"144.913149\" y=\"83.810327\" style=\"fill: #1f77b4; stroke: #1f77b4\"/>\n     <use xlink:href=\"#md67f5c16d9\" x=\"129.670412\" y=\"82.028002\" style=\"fill: #1f77b4; stroke: #1f77b4\"/>\n     <use xlink:href=\"#md67f5c16d9\" x=\"118.366798\" y=\"61.725689\" style=\"fill: #1f77b4; stroke: #1f77b4\"/>\n     <use xlink:href=\"#md67f5c16d9\" x=\"70.720876\" y=\"25.133837\" style=\"fill: #1f77b4; stroke: #1f77b4\"/>\n     <use xlink:href=\"#md67f5c16d9\" x=\"155.215481\" y=\"83.458626\" style=\"fill: #1f77b4; stroke: #1f77b4\"/>\n     <use xlink:href=\"#md67f5c16d9\" x=\"113.759414\" y=\"63.196953\" style=\"fill: #1f77b4; stroke: #1f77b4\"/>\n     <use xlink:href=\"#md67f5c16d9\" x=\"133.724681\" y=\"88.001521\" style=\"fill: #1f77b4; stroke: #1f77b4\"/>\n     <use xlink:href=\"#md67f5c16d9\" x=\"162.350948\" y=\"81.705479\" style=\"fill: #1f77b4; stroke: #1f77b4\"/>\n     <use xlink:href=\"#md67f5c16d9\" x=\"122.74035\" y=\"66.393436\" style=\"fill: #1f77b4; stroke: #1f77b4\"/>\n     <use xlink:href=\"#md67f5c16d9\" x=\"150.376235\" y=\"76.265526\" style=\"fill: #1f77b4; stroke: #1f77b4\"/>\n     <use xlink:href=\"#md67f5c16d9\" x=\"129.56572\" y=\"61.029223\" style=\"fill: #1f77b4; stroke: #1f77b4\"/>\n     <use xlink:href=\"#md67f5c16d9\" x=\"126.979467\" y=\"45.810057\" style=\"fill: #1f77b4; stroke: #1f77b4\"/>\n     <use xlink:href=\"#md67f5c16d9\" x=\"112.772538\" y=\"60.004564\" style=\"fill: #1f77b4; stroke: #1f77b4\"/>\n     <use xlink:href=\"#md67f5c16d9\" x=\"66.200058\" y=\"26.413393\" style=\"fill: #1f77b4; stroke: #1f77b4\"/>\n     <use xlink:href=\"#md67f5c16d9\" x=\"179.080664\" y=\"109.656701\" style=\"fill: #1f77b4; stroke: #1f77b4\"/>\n     <use xlink:href=\"#md67f5c16d9\" x=\"159.042328\" y=\"96.430715\" style=\"fill: #1f77b4; stroke: #1f77b4\"/>\n     <use xlink:href=\"#md67f5c16d9\" x=\"61.521917\" y=\"34.186371\" style=\"fill: #1f77b4; stroke: #1f77b4\"/>\n     <use xlink:href=\"#md67f5c16d9\" x=\"168.414749\" y=\"83.288035\" style=\"fill: #1f77b4; stroke: #1f77b4\"/>\n     <use xlink:href=\"#md67f5c16d9\" x=\"113.284682\" y=\"64.441467\" style=\"fill: #1f77b4; stroke: #1f77b4\"/>\n     <use xlink:href=\"#md67f5c16d9\" x=\"125.475273\" y=\"48.152837\" style=\"fill: #1f77b4; stroke: #1f77b4\"/>\n     <use xlink:href=\"#md67f5c16d9\" x=\"134.32081\" y=\"85.485997\" style=\"fill: #1f77b4; stroke: #1f77b4\"/>\n     <use xlink:href=\"#md67f5c16d9\" x=\"133.255817\" y=\"72.261611\" style=\"fill: #1f77b4; stroke: #1f77b4\"/>\n     <use xlink:href=\"#md67f5c16d9\" x=\"130.755837\" y=\"62.471177\" style=\"fill: #1f77b4; stroke: #1f77b4\"/>\n     <use xlink:href=\"#md67f5c16d9\" x=\"120.903203\" y=\"61.145344\" style=\"fill: #1f77b4; stroke: #1f77b4\"/>\n     <use xlink:href=\"#md67f5c16d9\" x=\"133.253496\" y=\"77.088737\" style=\"fill: #1f77b4; stroke: #1f77b4\"/>\n     <use xlink:href=\"#md67f5c16d9\" x=\"188.316735\" y=\"105.451672\" style=\"fill: #1f77b4; stroke: #1f77b4\"/>\n     <use xlink:href=\"#md67f5c16d9\" x=\"118.530441\" y=\"81.303512\" style=\"fill: #1f77b4; stroke: #1f77b4\"/>\n     <use xlink:href=\"#md67f5c16d9\" x=\"200.560051\" y=\"121.314443\" style=\"fill: #1f77b4; stroke: #1f77b4\"/>\n     <use xlink:href=\"#md67f5c16d9\" x=\"120.317897\" y=\"56.603965\" style=\"fill: #1f77b4; stroke: #1f77b4\"/>\n     <use xlink:href=\"#md67f5c16d9\" x=\"145.189222\" y=\"72.320496\" style=\"fill: #1f77b4; stroke: #1f77b4\"/>\n     <use xlink:href=\"#md67f5c16d9\" x=\"164.758451\" y=\"92.58277\" style=\"fill: #1f77b4; stroke: #1f77b4\"/>\n     <use xlink:href=\"#md67f5c16d9\" x=\"157.425152\" y=\"84.122944\" style=\"fill: #1f77b4; stroke: #1f77b4\"/>\n     <use xlink:href=\"#md67f5c16d9\" x=\"173.029418\" y=\"91.421757\" style=\"fill: #1f77b4; stroke: #1f77b4\"/>\n     <use xlink:href=\"#md67f5c16d9\" x=\"166.119716\" y=\"83.882283\" style=\"fill: #1f77b4; stroke: #1f77b4\"/>\n     <use xlink:href=\"#md67f5c16d9\" x=\"122.145575\" y=\"68.962957\" style=\"fill: #1f77b4; stroke: #1f77b4\"/>\n     <use xlink:href=\"#md67f5c16d9\" x=\"117.187418\" y=\"68.70568\" style=\"fill: #1f77b4; stroke: #1f77b4\"/>\n     <use xlink:href=\"#md67f5c16d9\" x=\"139.274172\" y=\"63.955455\" style=\"fill: #1f77b4; stroke: #1f77b4\"/>\n     <use xlink:href=\"#md67f5c16d9\" x=\"100.911382\" y=\"58.918948\" style=\"fill: #1f77b4; stroke: #1f77b4\"/>\n     <use xlink:href=\"#md67f5c16d9\" x=\"140.586789\" y=\"72.452177\" style=\"fill: #1f77b4; stroke: #1f77b4\"/>\n     <use xlink:href=\"#md67f5c16d9\" x=\"154.50723\" y=\"92.940067\" style=\"fill: #1f77b4; stroke: #1f77b4\"/>\n     <use xlink:href=\"#md67f5c16d9\" x=\"144.288158\" y=\"64.136816\" style=\"fill: #1f77b4; stroke: #1f77b4\"/>\n     <use xlink:href=\"#md67f5c16d9\" x=\"137.280174\" y=\"71.525176\" style=\"fill: #1f77b4; stroke: #1f77b4\"/>\n     <use xlink:href=\"#md67f5c16d9\" x=\"78.716293\" y=\"31.941302\" style=\"fill: #1f77b4; stroke: #1f77b4\"/>\n     <use xlink:href=\"#md67f5c16d9\" x=\"63.831861\" y=\"27.209755\" style=\"fill: #1f77b4; stroke: #1f77b4\"/>\n     <use xlink:href=\"#md67f5c16d9\" x=\"123.045783\" y=\"80.862944\" style=\"fill: #1f77b4; stroke: #1f77b4\"/>\n     <use xlink:href=\"#md67f5c16d9\" x=\"127.207249\" y=\"67.47245\" style=\"fill: #1f77b4; stroke: #1f77b4\"/>\n     <use xlink:href=\"#md67f5c16d9\" x=\"127.680703\" y=\"49.715691\" style=\"fill: #1f77b4; stroke: #1f77b4\"/>\n     <use xlink:href=\"#md67f5c16d9\" x=\"129.021672\" y=\"61.396423\" style=\"fill: #1f77b4; stroke: #1f77b4\"/>\n     <use xlink:href=\"#md67f5c16d9\" x=\"155.89392\" y=\"95.708183\" style=\"fill: #1f77b4; stroke: #1f77b4\"/>\n     <use xlink:href=\"#md67f5c16d9\" x=\"115.061327\" y=\"57.83948\" style=\"fill: #1f77b4; stroke: #1f77b4\"/>\n     <use xlink:href=\"#md67f5c16d9\" x=\"152.007298\" y=\"78.402375\" style=\"fill: #1f77b4; stroke: #1f77b4\"/>\n     <use xlink:href=\"#md67f5c16d9\" x=\"152.226155\" y=\"92.589702\" style=\"fill: #1f77b4; stroke: #1f77b4\"/>\n     <use xlink:href=\"#md67f5c16d9\" x=\"120.078513\" y=\"76.372392\" style=\"fill: #1f77b4; stroke: #1f77b4\"/>\n     <use xlink:href=\"#md67f5c16d9\" x=\"146.369832\" y=\"70.379889\" style=\"fill: #1f77b4; stroke: #1f77b4\"/>\n     <use xlink:href=\"#md67f5c16d9\" x=\"93.173884\" y=\"54.04539\" style=\"fill: #1f77b4; stroke: #1f77b4\"/>\n     <use xlink:href=\"#md67f5c16d9\" x=\"160.080575\" y=\"89.02573\" style=\"fill: #1f77b4; stroke: #1f77b4\"/>\n     <use xlink:href=\"#md67f5c16d9\" x=\"147.7195\" y=\"73.281722\" style=\"fill: #1f77b4; stroke: #1f77b4\"/>\n     <use xlink:href=\"#md67f5c16d9\" x=\"75.344212\" y=\"36.181385\" style=\"fill: #1f77b4; stroke: #1f77b4\"/>\n     <use xlink:href=\"#md67f5c16d9\" x=\"108.869741\" y=\"48.83847\" style=\"fill: #1f77b4; stroke: #1f77b4\"/>\n     <use xlink:href=\"#md67f5c16d9\" x=\"161.407083\" y=\"77.862297\" style=\"fill: #1f77b4; stroke: #1f77b4\"/>\n     <use xlink:href=\"#md67f5c16d9\" x=\"133.342798\" y=\"68.718292\" style=\"fill: #1f77b4; stroke: #1f77b4\"/>\n     <use xlink:href=\"#md67f5c16d9\" x=\"49.498489\" y=\"36.96361\" style=\"fill: #1f77b4; stroke: #1f77b4\"/>\n     <use xlink:href=\"#md67f5c16d9\" x=\"87.84072\" y=\"53.212542\" style=\"fill: #1f77b4; stroke: #1f77b4\"/>\n     <use xlink:href=\"#md67f5c16d9\" x=\"177.061137\" y=\"94.563021\" style=\"fill: #1f77b4; stroke: #1f77b4\"/>\n     <use xlink:href=\"#md67f5c16d9\" x=\"80.916903\" y=\"55.013898\" style=\"fill: #1f77b4; stroke: #1f77b4\"/>\n     <use xlink:href=\"#md67f5c16d9\" x=\"119.789667\" y=\"54.250409\" style=\"fill: #1f77b4; stroke: #1f77b4\"/>\n     <use xlink:href=\"#md67f5c16d9\" x=\"154.250658\" y=\"81.514995\" style=\"fill: #1f77b4; stroke: #1f77b4\"/>\n     <use xlink:href=\"#md67f5c16d9\" x=\"153.520188\" y=\"78.982895\" style=\"fill: #1f77b4; stroke: #1f77b4\"/>\n     <use xlink:href=\"#md67f5c16d9\" x=\"111.165612\" y=\"55.46515\" style=\"fill: #1f77b4; stroke: #1f77b4\"/>\n     <use xlink:href=\"#md67f5c16d9\" x=\"142.58847\" y=\"89.133958\" style=\"fill: #1f77b4; stroke: #1f77b4\"/>\n     <use xlink:href=\"#md67f5c16d9\" x=\"84.441293\" y=\"54.232212\" style=\"fill: #1f77b4; stroke: #1f77b4\"/>\n     <use xlink:href=\"#md67f5c16d9\" x=\"167.123781\" y=\"107.803422\" style=\"fill: #1f77b4; stroke: #1f77b4\"/>\n     <use xlink:href=\"#md67f5c16d9\" x=\"91.720288\" y=\"48.973343\" style=\"fill: #1f77b4; stroke: #1f77b4\"/>\n     <use xlink:href=\"#md67f5c16d9\" x=\"87.617235\" y=\"47.556868\" style=\"fill: #1f77b4; stroke: #1f77b4\"/>\n     <use xlink:href=\"#md67f5c16d9\" x=\"112.230218\" y=\"54.762331\" style=\"fill: #1f77b4; stroke: #1f77b4\"/>\n     <use xlink:href=\"#md67f5c16d9\" x=\"113.009475\" y=\"65.447466\" style=\"fill: #1f77b4; stroke: #1f77b4\"/>\n     <use xlink:href=\"#md67f5c16d9\" x=\"142.655918\" y=\"74.448109\" style=\"fill: #1f77b4; stroke: #1f77b4\"/>\n     <use xlink:href=\"#md67f5c16d9\" x=\"87.986514\" y=\"56.483835\" style=\"fill: #1f77b4; stroke: #1f77b4\"/>\n     <use xlink:href=\"#md67f5c16d9\" x=\"107.403037\" y=\"52.413742\" style=\"fill: #1f77b4; stroke: #1f77b4\"/>\n     <use xlink:href=\"#md67f5c16d9\" x=\"151.683754\" y=\"77.746308\" style=\"fill: #1f77b4; stroke: #1f77b4\"/>\n     <use xlink:href=\"#md67f5c16d9\" x=\"186.598942\" y=\"110.588036\" style=\"fill: #1f77b4; stroke: #1f77b4\"/>\n     <use xlink:href=\"#md67f5c16d9\" x=\"140.853095\" y=\"85.880286\" style=\"fill: #1f77b4; stroke: #1f77b4\"/>\n     <use xlink:href=\"#md67f5c16d9\" x=\"139.455809\" y=\"70.576412\" style=\"fill: #1f77b4; stroke: #1f77b4\"/>\n     <use xlink:href=\"#md67f5c16d9\" x=\"161.881649\" y=\"101.607874\" style=\"fill: #1f77b4; stroke: #1f77b4\"/>\n     <use xlink:href=\"#md67f5c16d9\" x=\"119.257505\" y=\"63.832993\" style=\"fill: #1f77b4; stroke: #1f77b4\"/>\n     <use xlink:href=\"#md67f5c16d9\" x=\"168.514709\" y=\"88.237319\" style=\"fill: #1f77b4; stroke: #1f77b4\"/>\n     <use xlink:href=\"#md67f5c16d9\" x=\"169.704613\" y=\"89.004374\" style=\"fill: #1f77b4; stroke: #1f77b4\"/>\n     <use xlink:href=\"#md67f5c16d9\" x=\"108.700138\" y=\"78.478331\" style=\"fill: #1f77b4; stroke: #1f77b4\"/>\n     <use xlink:href=\"#md67f5c16d9\" x=\"113.651836\" y=\"56.69426\" style=\"fill: #1f77b4; stroke: #1f77b4\"/>\n     <use xlink:href=\"#md67f5c16d9\" x=\"97.715178\" y=\"54.805398\" style=\"fill: #1f77b4; stroke: #1f77b4\"/>\n     <use xlink:href=\"#md67f5c16d9\" x=\"134.620281\" y=\"68.231864\" style=\"fill: #1f77b4; stroke: #1f77b4\"/>\n     <use xlink:href=\"#md67f5c16d9\" x=\"83.060515\" y=\"46.929692\" style=\"fill: #1f77b4; stroke: #1f77b4\"/>\n     <use xlink:href=\"#md67f5c16d9\" x=\"116.207395\" y=\"58.227793\" style=\"fill: #1f77b4; stroke: #1f77b4\"/>\n     <use xlink:href=\"#md67f5c16d9\" x=\"119.228936\" y=\"68.709798\" style=\"fill: #1f77b4; stroke: #1f77b4\"/>\n     <use xlink:href=\"#md67f5c16d9\" x=\"114.593613\" y=\"74.590695\" style=\"fill: #1f77b4; stroke: #1f77b4\"/>\n     <use xlink:href=\"#md67f5c16d9\" x=\"125.647055\" y=\"48.752906\" style=\"fill: #1f77b4; stroke: #1f77b4\"/>\n     <use xlink:href=\"#md67f5c16d9\" x=\"100.349705\" y=\"39.908545\" style=\"fill: #1f77b4; stroke: #1f77b4\"/>\n     <use xlink:href=\"#md67f5c16d9\" x=\"132.767097\" y=\"69.392117\" style=\"fill: #1f77b4; stroke: #1f77b4\"/>\n     <use xlink:href=\"#md67f5c16d9\" x=\"135.819496\" y=\"74.849639\" style=\"fill: #1f77b4; stroke: #1f77b4\"/>\n     <use xlink:href=\"#md67f5c16d9\" x=\"150.311285\" y=\"82.958789\" style=\"fill: #1f77b4; stroke: #1f77b4\"/>\n     <use xlink:href=\"#md67f5c16d9\" x=\"99.133229\" y=\"54.144821\" style=\"fill: #1f77b4; stroke: #1f77b4\"/>\n     <use xlink:href=\"#md67f5c16d9\" x=\"153.491739\" y=\"74.965439\" style=\"fill: #1f77b4; stroke: #1f77b4\"/>\n     <use xlink:href=\"#md67f5c16d9\" x=\"127.749255\" y=\"57.078571\" style=\"fill: #1f77b4; stroke: #1f77b4\"/>\n     <use xlink:href=\"#md67f5c16d9\" x=\"104.192488\" y=\"62.670464\" style=\"fill: #1f77b4; stroke: #1f77b4\"/>\n     <use xlink:href=\"#md67f5c16d9\" x=\"135.275183\" y=\"66.615074\" style=\"fill: #1f77b4; stroke: #1f77b4\"/>\n     <use xlink:href=\"#md67f5c16d9\" x=\"145.763785\" y=\"67.166193\" style=\"fill: #1f77b4; stroke: #1f77b4\"/>\n     <use xlink:href=\"#md67f5c16d9\" x=\"171.04014\" y=\"91.440344\" style=\"fill: #1f77b4; stroke: #1f77b4\"/>\n     <use xlink:href=\"#md67f5c16d9\" x=\"86.821141\" y=\"45.294721\" style=\"fill: #1f77b4; stroke: #1f77b4\"/>\n     <use xlink:href=\"#md67f5c16d9\" x=\"159.119757\" y=\"82.090632\" style=\"fill: #1f77b4; stroke: #1f77b4\"/>\n     <use xlink:href=\"#md67f5c16d9\" x=\"120.340146\" y=\"77.663156\" style=\"fill: #1f77b4; stroke: #1f77b4\"/>\n     <use xlink:href=\"#md67f5c16d9\" x=\"151.46592\" y=\"66.511581\" style=\"fill: #1f77b4; stroke: #1f77b4\"/>\n     <use xlink:href=\"#md67f5c16d9\" x=\"158.872804\" y=\"75.512706\" style=\"fill: #1f77b4; stroke: #1f77b4\"/>\n     <use xlink:href=\"#md67f5c16d9\" x=\"153.468064\" y=\"67.69081\" style=\"fill: #1f77b4; stroke: #1f77b4\"/>\n     <use xlink:href=\"#md67f5c16d9\" x=\"89.734855\" y=\"37.456788\" style=\"fill: #1f77b4; stroke: #1f77b4\"/>\n     <use xlink:href=\"#md67f5c16d9\" x=\"135.557489\" y=\"62.64394\" style=\"fill: #1f77b4; stroke: #1f77b4\"/>\n     <use xlink:href=\"#md67f5c16d9\" x=\"174.123338\" y=\"91.718232\" style=\"fill: #1f77b4; stroke: #1f77b4\"/>\n     <use xlink:href=\"#md67f5c16d9\" x=\"107.739056\" y=\"47.426393\" style=\"fill: #1f77b4; stroke: #1f77b4\"/>\n     <use xlink:href=\"#md67f5c16d9\" x=\"125.910524\" y=\"85.751039\" style=\"fill: #1f77b4; stroke: #1f77b4\"/>\n     <use xlink:href=\"#md67f5c16d9\" x=\"93.123177\" y=\"49.568689\" style=\"fill: #1f77b4; stroke: #1f77b4\"/>\n     <use xlink:href=\"#md67f5c16d9\" x=\"82.29919\" y=\"46.050028\" style=\"fill: #1f77b4; stroke: #1f77b4\"/>\n     <use xlink:href=\"#md67f5c16d9\" x=\"137.962764\" y=\"95.42718\" style=\"fill: #1f77b4; stroke: #1f77b4\"/>\n     <use xlink:href=\"#md67f5c16d9\" x=\"118.843063\" y=\"66.027224\" style=\"fill: #1f77b4; stroke: #1f77b4\"/>\n     <use xlink:href=\"#md67f5c16d9\" x=\"196.711636\" y=\"96.34481\" style=\"fill: #1f77b4; stroke: #1f77b4\"/>\n     <use xlink:href=\"#md67f5c16d9\" x=\"52.938731\" y=\"31.42933\" style=\"fill: #1f77b4; stroke: #1f77b4\"/>\n     <use xlink:href=\"#md67f5c16d9\" x=\"84.241302\" y=\"39.127567\" style=\"fill: #1f77b4; stroke: #1f77b4\"/>\n     <use xlink:href=\"#md67f5c16d9\" x=\"96.610622\" y=\"51.668434\" style=\"fill: #1f77b4; stroke: #1f77b4\"/>\n     <use xlink:href=\"#md67f5c16d9\" x=\"125.009651\" y=\"63.272294\" style=\"fill: #1f77b4; stroke: #1f77b4\"/>\n     <use xlink:href=\"#md67f5c16d9\" x=\"73.395762\" y=\"31.452264\" style=\"fill: #1f77b4; stroke: #1f77b4\"/>\n     <use xlink:href=\"#md67f5c16d9\" x=\"114.299846\" y=\"85.465468\" style=\"fill: #1f77b4; stroke: #1f77b4\"/>\n     <use xlink:href=\"#md67f5c16d9\" x=\"153.534021\" y=\"68.968633\" style=\"fill: #1f77b4; stroke: #1f77b4\"/>\n     <use xlink:href=\"#md67f5c16d9\" x=\"129.368221\" y=\"57.568936\" style=\"fill: #1f77b4; stroke: #1f77b4\"/>\n     <use xlink:href=\"#md67f5c16d9\" x=\"87.502011\" y=\"32.349823\" style=\"fill: #1f77b4; stroke: #1f77b4\"/>\n     <use xlink:href=\"#md67f5c16d9\" x=\"87.81782\" y=\"41.497079\" style=\"fill: #1f77b4; stroke: #1f77b4\"/>\n     <use xlink:href=\"#md67f5c16d9\" x=\"84.547577\" y=\"45.457663\" style=\"fill: #1f77b4; stroke: #1f77b4\"/>\n     <use xlink:href=\"#md67f5c16d9\" x=\"101.502493\" y=\"48.739644\" style=\"fill: #1f77b4; stroke: #1f77b4\"/>\n     <use xlink:href=\"#md67f5c16d9\" x=\"122.910911\" y=\"49.667131\" style=\"fill: #1f77b4; stroke: #1f77b4\"/>\n     <use xlink:href=\"#md67f5c16d9\" x=\"114.668691\" y=\"60.793778\" style=\"fill: #1f77b4; stroke: #1f77b4\"/>\n     <use xlink:href=\"#md67f5c16d9\" x=\"144.261626\" y=\"98.686871\" style=\"fill: #1f77b4; stroke: #1f77b4\"/>\n     <use xlink:href=\"#md67f5c16d9\" x=\"159.360022\" y=\"72.04876\" style=\"fill: #1f77b4; stroke: #1f77b4\"/>\n     <use xlink:href=\"#md67f5c16d9\" x=\"89.152385\" y=\"59.860985\" style=\"fill: #1f77b4; stroke: #1f77b4\"/>\n     <use xlink:href=\"#md67f5c16d9\" x=\"162.595038\" y=\"85.138851\" style=\"fill: #1f77b4; stroke: #1f77b4\"/>\n     <use xlink:href=\"#md67f5c16d9\" x=\"164.741115\" y=\"93.015913\" style=\"fill: #1f77b4; stroke: #1f77b4\"/>\n     <use xlink:href=\"#md67f5c16d9\" x=\"159.570981\" y=\"101.614917\" style=\"fill: #1f77b4; stroke: #1f77b4\"/>\n     <use xlink:href=\"#md67f5c16d9\" x=\"181.995496\" y=\"92.659067\" style=\"fill: #1f77b4; stroke: #1f77b4\"/>\n     <use xlink:href=\"#md67f5c16d9\" x=\"112.256187\" y=\"60.907336\" style=\"fill: #1f77b4; stroke: #1f77b4\"/>\n     <use xlink:href=\"#md67f5c16d9\" x=\"152.06609\" y=\"73.8101\" style=\"fill: #1f77b4; stroke: #1f77b4\"/>\n     <use xlink:href=\"#md67f5c16d9\" x=\"100.341332\" y=\"62.610672\" style=\"fill: #1f77b4; stroke: #1f77b4\"/>\n     <use xlink:href=\"#md67f5c16d9\" x=\"160.745939\" y=\"91.966175\" style=\"fill: #1f77b4; stroke: #1f77b4\"/>\n     <use xlink:href=\"#md67f5c16d9\" x=\"149.990134\" y=\"84.819127\" style=\"fill: #1f77b4; stroke: #1f77b4\"/>\n     <use xlink:href=\"#md67f5c16d9\" x=\"162.522232\" y=\"101.217235\" style=\"fill: #1f77b4; stroke: #1f77b4\"/>\n     <use xlink:href=\"#md67f5c16d9\" x=\"100.242301\" y=\"51.428726\" style=\"fill: #1f77b4; stroke: #1f77b4\"/>\n     <use xlink:href=\"#md67f5c16d9\" x=\"149.462047\" y=\"82.720872\" style=\"fill: #1f77b4; stroke: #1f77b4\"/>\n     <use xlink:href=\"#md67f5c16d9\" x=\"157.999391\" y=\"82.327247\" style=\"fill: #1f77b4; stroke: #1f77b4\"/>\n     <use xlink:href=\"#md67f5c16d9\" x=\"178.68118\" y=\"97.183821\" style=\"fill: #1f77b4; stroke: #1f77b4\"/>\n     <use xlink:href=\"#md67f5c16d9\" x=\"145.25558\" y=\"90.594327\" style=\"fill: #1f77b4; stroke: #1f77b4\"/>\n     <use xlink:href=\"#md67f5c16d9\" x=\"194.545275\" y=\"89.028409\" style=\"fill: #1f77b4; stroke: #1f77b4\"/>\n     <use xlink:href=\"#md67f5c16d9\" x=\"107.18339\" y=\"47.899797\" style=\"fill: #1f77b4; stroke: #1f77b4\"/>\n     <use xlink:href=\"#md67f5c16d9\" x=\"105.80387\" y=\"59.692211\" style=\"fill: #1f77b4; stroke: #1f77b4\"/>\n     <use xlink:href=\"#md67f5c16d9\" x=\"151.346488\" y=\"96.949776\" style=\"fill: #1f77b4; stroke: #1f77b4\"/>\n     <use xlink:href=\"#md67f5c16d9\" x=\"187.367111\" y=\"101.869644\" style=\"fill: #1f77b4; stroke: #1f77b4\"/>\n     <use xlink:href=\"#md67f5c16d9\" x=\"110.095907\" y=\"65.918974\" style=\"fill: #1f77b4; stroke: #1f77b4\"/>\n     <use xlink:href=\"#md67f5c16d9\" x=\"147.800622\" y=\"101.874808\" style=\"fill: #1f77b4; stroke: #1f77b4\"/>\n     <use xlink:href=\"#md67f5c16d9\" x=\"101.201507\" y=\"62.836623\" style=\"fill: #1f77b4; stroke: #1f77b4\"/>\n     <use xlink:href=\"#md67f5c16d9\" x=\"105.673522\" y=\"59.634815\" style=\"fill: #1f77b4; stroke: #1f77b4\"/>\n     <use xlink:href=\"#md67f5c16d9\" x=\"117.980035\" y=\"49.085617\" style=\"fill: #1f77b4; stroke: #1f77b4\"/>\n     <use xlink:href=\"#md67f5c16d9\" x=\"135.799164\" y=\"88.396575\" style=\"fill: #1f77b4; stroke: #1f77b4\"/>\n     <use xlink:href=\"#md67f5c16d9\" x=\"105.692294\" y=\"61.243357\" style=\"fill: #1f77b4; stroke: #1f77b4\"/>\n     <use xlink:href=\"#md67f5c16d9\" x=\"123.530618\" y=\"74.188586\" style=\"fill: #1f77b4; stroke: #1f77b4\"/>\n     <use xlink:href=\"#md67f5c16d9\" x=\"131.086458\" y=\"79.331167\" style=\"fill: #1f77b4; stroke: #1f77b4\"/>\n     <use xlink:href=\"#md67f5c16d9\" x=\"105.471677\" y=\"63.767848\" style=\"fill: #1f77b4; stroke: #1f77b4\"/>\n     <use xlink:href=\"#md67f5c16d9\" x=\"144.257445\" y=\"90.327667\" style=\"fill: #1f77b4; stroke: #1f77b4\"/>\n     <use xlink:href=\"#md67f5c16d9\" x=\"183.79675\" y=\"103.544864\" style=\"fill: #1f77b4; stroke: #1f77b4\"/>\n     <use xlink:href=\"#md67f5c16d9\" x=\"107.313687\" y=\"43.998412\" style=\"fill: #1f77b4; stroke: #1f77b4\"/>\n     <use xlink:href=\"#md67f5c16d9\" x=\"114.595919\" y=\"70.681551\" style=\"fill: #1f77b4; stroke: #1f77b4\"/>\n     <use xlink:href=\"#md67f5c16d9\" x=\"154.744897\" y=\"75.307149\" style=\"fill: #1f77b4; stroke: #1f77b4\"/>\n     <use xlink:href=\"#md67f5c16d9\" x=\"158.534616\" y=\"92.653126\" style=\"fill: #1f77b4; stroke: #1f77b4\"/>\n     <use xlink:href=\"#md67f5c16d9\" x=\"140.115052\" y=\"86.738805\" style=\"fill: #1f77b4; stroke: #1f77b4\"/>\n     <use xlink:href=\"#md67f5c16d9\" x=\"94.293361\" y=\"50.568321\" style=\"fill: #1f77b4; stroke: #1f77b4\"/>\n     <use xlink:href=\"#md67f5c16d9\" x=\"120.856019\" y=\"77.556612\" style=\"fill: #1f77b4; stroke: #1f77b4\"/>\n     <use xlink:href=\"#md67f5c16d9\" x=\"145.030403\" y=\"85.624356\" style=\"fill: #1f77b4; stroke: #1f77b4\"/>\n     <use xlink:href=\"#md67f5c16d9\" x=\"155.507148\" y=\"82.378031\" style=\"fill: #1f77b4; stroke: #1f77b4\"/>\n     <use xlink:href=\"#md67f5c16d9\" x=\"165.195733\" y=\"88.322711\" style=\"fill: #1f77b4; stroke: #1f77b4\"/>\n     <use xlink:href=\"#md67f5c16d9\" x=\"99.052708\" y=\"50.127807\" style=\"fill: #1f77b4; stroke: #1f77b4\"/>\n     <use xlink:href=\"#md67f5c16d9\" x=\"105.3389\" y=\"43.639172\" style=\"fill: #1f77b4; stroke: #1f77b4\"/>\n     <use xlink:href=\"#md67f5c16d9\" x=\"113.381974\" y=\"65.646069\" style=\"fill: #1f77b4; stroke: #1f77b4\"/>\n     <use xlink:href=\"#md67f5c16d9\" x=\"132.780981\" y=\"59.2746\" style=\"fill: #1f77b4; stroke: #1f77b4\"/>\n     <use xlink:href=\"#md67f5c16d9\" x=\"151.102363\" y=\"70.65558\" style=\"fill: #1f77b4; stroke: #1f77b4\"/>\n     <use xlink:href=\"#md67f5c16d9\" x=\"100.971874\" y=\"71.417602\" style=\"fill: #1f77b4; stroke: #1f77b4\"/>\n     <use xlink:href=\"#md67f5c16d9\" x=\"153.127714\" y=\"92.656681\" style=\"fill: #1f77b4; stroke: #1f77b4\"/>\n     <use xlink:href=\"#md67f5c16d9\" x=\"134.255852\" y=\"84.37303\" style=\"fill: #1f77b4; stroke: #1f77b4\"/>\n     <use xlink:href=\"#md67f5c16d9\" x=\"124.907496\" y=\"73.859906\" style=\"fill: #1f77b4; stroke: #1f77b4\"/>\n     <use xlink:href=\"#md67f5c16d9\" x=\"148.07988\" y=\"98.106345\" style=\"fill: #1f77b4; stroke: #1f77b4\"/>\n     <use xlink:href=\"#md67f5c16d9\" x=\"131.171346\" y=\"87.20523\" style=\"fill: #1f77b4; stroke: #1f77b4\"/>\n     <use xlink:href=\"#md67f5c16d9\" x=\"126.66191\" y=\"49.890202\" style=\"fill: #1f77b4; stroke: #1f77b4\"/>\n     <use xlink:href=\"#md67f5c16d9\" x=\"109.398034\" y=\"52.922776\" style=\"fill: #1f77b4; stroke: #1f77b4\"/>\n     <use xlink:href=\"#md67f5c16d9\" x=\"153.519158\" y=\"81.72075\" style=\"fill: #1f77b4; stroke: #1f77b4\"/>\n     <use xlink:href=\"#md67f5c16d9\" x=\"115.691341\" y=\"58.069782\" style=\"fill: #1f77b4; stroke: #1f77b4\"/>\n     <use xlink:href=\"#md67f5c16d9\" x=\"146.324617\" y=\"84.664504\" style=\"fill: #1f77b4; stroke: #1f77b4\"/>\n     <use xlink:href=\"#md67f5c16d9\" x=\"130.320936\" y=\"61.627714\" style=\"fill: #1f77b4; stroke: #1f77b4\"/>\n     <use xlink:href=\"#md67f5c16d9\" x=\"142.150976\" y=\"89.17503\" style=\"fill: #1f77b4; stroke: #1f77b4\"/>\n     <use xlink:href=\"#md67f5c16d9\" x=\"120.03782\" y=\"59.914261\" style=\"fill: #1f77b4; stroke: #1f77b4\"/>\n     <use xlink:href=\"#md67f5c16d9\" x=\"114.04163\" y=\"78.733204\" style=\"fill: #1f77b4; stroke: #1f77b4\"/>\n     <use xlink:href=\"#md67f5c16d9\" x=\"130.168505\" y=\"72.864014\" style=\"fill: #1f77b4; stroke: #1f77b4\"/>\n     <use xlink:href=\"#md67f5c16d9\" x=\"97.31831\" y=\"58.676498\" style=\"fill: #1f77b4; stroke: #1f77b4\"/>\n     <use xlink:href=\"#md67f5c16d9\" x=\"182.599571\" y=\"97.216273\" style=\"fill: #1f77b4; stroke: #1f77b4\"/>\n     <use xlink:href=\"#md67f5c16d9\" x=\"104.806195\" y=\"48.530748\" style=\"fill: #1f77b4; stroke: #1f77b4\"/>\n     <use xlink:href=\"#md67f5c16d9\" x=\"155.769667\" y=\"88.783286\" style=\"fill: #1f77b4; stroke: #1f77b4\"/>\n     <use xlink:href=\"#md67f5c16d9\" x=\"169.569533\" y=\"90.834277\" style=\"fill: #1f77b4; stroke: #1f77b4\"/>\n     <use xlink:href=\"#md67f5c16d9\" x=\"91.759923\" y=\"41.62648\" style=\"fill: #1f77b4; stroke: #1f77b4\"/>\n     <use xlink:href=\"#md67f5c16d9\" x=\"160.610018\" y=\"80.958548\" style=\"fill: #1f77b4; stroke: #1f77b4\"/>\n     <use xlink:href=\"#md67f5c16d9\" x=\"118.254032\" y=\"54.144636\" style=\"fill: #1f77b4; stroke: #1f77b4\"/>\n     <use xlink:href=\"#md67f5c16d9\" x=\"66.83763\" y=\"28.434236\" style=\"fill: #1f77b4; stroke: #1f77b4\"/>\n     <use xlink:href=\"#md67f5c16d9\" x=\"92.24685\" y=\"47.885524\" style=\"fill: #1f77b4; stroke: #1f77b4\"/>\n     <use xlink:href=\"#md67f5c16d9\" x=\"96.424307\" y=\"48.231135\" style=\"fill: #1f77b4; stroke: #1f77b4\"/>\n     <use xlink:href=\"#md67f5c16d9\" x=\"69.4161\" y=\"42.238524\" style=\"fill: #1f77b4; stroke: #1f77b4\"/>\n     <use xlink:href=\"#md67f5c16d9\" x=\"102.863777\" y=\"75.580609\" style=\"fill: #1f77b4; stroke: #1f77b4\"/>\n     <use xlink:href=\"#md67f5c16d9\" x=\"87.696774\" y=\"54.68042\" style=\"fill: #1f77b4; stroke: #1f77b4\"/>\n     <use xlink:href=\"#md67f5c16d9\" x=\"123.234885\" y=\"69.666584\" style=\"fill: #1f77b4; stroke: #1f77b4\"/>\n     <use xlink:href=\"#md67f5c16d9\" x=\"123.645466\" y=\"55.094514\" style=\"fill: #1f77b4; stroke: #1f77b4\"/>\n     <use xlink:href=\"#md67f5c16d9\" x=\"109.716962\" y=\"50.857742\" style=\"fill: #1f77b4; stroke: #1f77b4\"/>\n     <use xlink:href=\"#md67f5c16d9\" x=\"175.860021\" y=\"88.629683\" style=\"fill: #1f77b4; stroke: #1f77b4\"/>\n     <use xlink:href=\"#md67f5c16d9\" x=\"120.320531\" y=\"60.165235\" style=\"fill: #1f77b4; stroke: #1f77b4\"/>\n     <use xlink:href=\"#md67f5c16d9\" x=\"129.860958\" y=\"66.198685\" style=\"fill: #1f77b4; stroke: #1f77b4\"/>\n     <use xlink:href=\"#md67f5c16d9\" x=\"135.512004\" y=\"76.36069\" style=\"fill: #1f77b4; stroke: #1f77b4\"/>\n     <use xlink:href=\"#md67f5c16d9\" x=\"113.247313\" y=\"66.84869\" style=\"fill: #1f77b4; stroke: #1f77b4\"/>\n     <use xlink:href=\"#md67f5c16d9\" x=\"133.933421\" y=\"73.569547\" style=\"fill: #1f77b4; stroke: #1f77b4\"/>\n     <use xlink:href=\"#md67f5c16d9\" x=\"144.160472\" y=\"92.286534\" style=\"fill: #1f77b4; stroke: #1f77b4\"/>\n     <use xlink:href=\"#md67f5c16d9\" x=\"58.117867\" y=\"36.452171\" style=\"fill: #1f77b4; stroke: #1f77b4\"/>\n     <use xlink:href=\"#md67f5c16d9\" x=\"180.089315\" y=\"85.708758\" style=\"fill: #1f77b4; stroke: #1f77b4\"/>\n     <use xlink:href=\"#md67f5c16d9\" x=\"101.919897\" y=\"60.573375\" style=\"fill: #1f77b4; stroke: #1f77b4\"/>\n     <use xlink:href=\"#md67f5c16d9\" x=\"122.292571\" y=\"69.378062\" style=\"fill: #1f77b4; stroke: #1f77b4\"/>\n     <use xlink:href=\"#md67f5c16d9\" x=\"149.516194\" y=\"89.584348\" style=\"fill: #1f77b4; stroke: #1f77b4\"/>\n     <use xlink:href=\"#md67f5c16d9\" x=\"127.018983\" y=\"53.897006\" style=\"fill: #1f77b4; stroke: #1f77b4\"/>\n     <use xlink:href=\"#md67f5c16d9\" x=\"102.796464\" y=\"64.906568\" style=\"fill: #1f77b4; stroke: #1f77b4\"/>\n     <use xlink:href=\"#md67f5c16d9\" x=\"127.379988\" y=\"68.895703\" style=\"fill: #1f77b4; stroke: #1f77b4\"/>\n     <use xlink:href=\"#md67f5c16d9\" x=\"119.506804\" y=\"62.688912\" style=\"fill: #1f77b4; stroke: #1f77b4\"/>\n     <use xlink:href=\"#md67f5c16d9\" x=\"161.999035\" y=\"90.732106\" style=\"fill: #1f77b4; stroke: #1f77b4\"/>\n     <use xlink:href=\"#md67f5c16d9\" x=\"143.94091\" y=\"62.900545\" style=\"fill: #1f77b4; stroke: #1f77b4\"/>\n     <use xlink:href=\"#md67f5c16d9\" x=\"111.810328\" y=\"49.908602\" style=\"fill: #1f77b4; stroke: #1f77b4\"/>\n     <use xlink:href=\"#md67f5c16d9\" x=\"111.100093\" y=\"68.082279\" style=\"fill: #1f77b4; stroke: #1f77b4\"/>\n     <use xlink:href=\"#md67f5c16d9\" x=\"151.219606\" y=\"80.389471\" style=\"fill: #1f77b4; stroke: #1f77b4\"/>\n     <use xlink:href=\"#md67f5c16d9\" x=\"128.382077\" y=\"61.665938\" style=\"fill: #1f77b4; stroke: #1f77b4\"/>\n     <use xlink:href=\"#md67f5c16d9\" x=\"144.34002\" y=\"60.048574\" style=\"fill: #1f77b4; stroke: #1f77b4\"/>\n     <use xlink:href=\"#md67f5c16d9\" x=\"88.567568\" y=\"56.274831\" style=\"fill: #1f77b4; stroke: #1f77b4\"/>\n     <use xlink:href=\"#md67f5c16d9\" x=\"109.986308\" y=\"52.545188\" style=\"fill: #1f77b4; stroke: #1f77b4\"/>\n     <use xlink:href=\"#md67f5c16d9\" x=\"150.936884\" y=\"88.028022\" style=\"fill: #1f77b4; stroke: #1f77b4\"/>\n     <use xlink:href=\"#md67f5c16d9\" x=\"170.637631\" y=\"93.553614\" style=\"fill: #1f77b4; stroke: #1f77b4\"/>\n     <use xlink:href=\"#md67f5c16d9\" x=\"68.301615\" y=\"19.049203\" style=\"fill: #1f77b4; stroke: #1f77b4\"/>\n     <use xlink:href=\"#md67f5c16d9\" x=\"146.583825\" y=\"83.697101\" style=\"fill: #1f77b4; stroke: #1f77b4\"/>\n     <use xlink:href=\"#md67f5c16d9\" x=\"128.282548\" y=\"49.609663\" style=\"fill: #1f77b4; stroke: #1f77b4\"/>\n     <use xlink:href=\"#md67f5c16d9\" x=\"107.542369\" y=\"56.696556\" style=\"fill: #1f77b4; stroke: #1f77b4\"/>\n     <use xlink:href=\"#md67f5c16d9\" x=\"109.340681\" y=\"41.640451\" style=\"fill: #1f77b4; stroke: #1f77b4\"/>\n     <use xlink:href=\"#md67f5c16d9\" x=\"112.23379\" y=\"76.361446\" style=\"fill: #1f77b4; stroke: #1f77b4\"/>\n     <use xlink:href=\"#md67f5c16d9\" x=\"132.940861\" y=\"73.406565\" style=\"fill: #1f77b4; stroke: #1f77b4\"/>\n     <use xlink:href=\"#md67f5c16d9\" x=\"92.49318\" y=\"57.471144\" style=\"fill: #1f77b4; stroke: #1f77b4\"/>\n     <use xlink:href=\"#md67f5c16d9\" x=\"172.299379\" y=\"82.251303\" style=\"fill: #1f77b4; stroke: #1f77b4\"/>\n     <use xlink:href=\"#md67f5c16d9\" x=\"138.33634\" y=\"63.220793\" style=\"fill: #1f77b4; stroke: #1f77b4\"/>\n     <use xlink:href=\"#md67f5c16d9\" x=\"59.584114\" y=\"39.543657\" style=\"fill: #1f77b4; stroke: #1f77b4\"/>\n     <use xlink:href=\"#md67f5c16d9\" x=\"69.541521\" y=\"32.372568\" style=\"fill: #1f77b4; stroke: #1f77b4\"/>\n     <use xlink:href=\"#md67f5c16d9\" x=\"139.892975\" y=\"74.965547\" style=\"fill: #1f77b4; stroke: #1f77b4\"/>\n     <use xlink:href=\"#md67f5c16d9\" x=\"118.307497\" y=\"73.728535\" style=\"fill: #1f77b4; stroke: #1f77b4\"/>\n     <use xlink:href=\"#md67f5c16d9\" x=\"106.0779\" y=\"60.506897\" style=\"fill: #1f77b4; stroke: #1f77b4\"/>\n     <use xlink:href=\"#md67f5c16d9\" x=\"179.264004\" y=\"86.556101\" style=\"fill: #1f77b4; stroke: #1f77b4\"/>\n     <use xlink:href=\"#md67f5c16d9\" x=\"155.396503\" y=\"83.552432\" style=\"fill: #1f77b4; stroke: #1f77b4\"/>\n     <use xlink:href=\"#md67f5c16d9\" x=\"131.574243\" y=\"60.227454\" style=\"fill: #1f77b4; stroke: #1f77b4\"/>\n     <use xlink:href=\"#md67f5c16d9\" x=\"147.455802\" y=\"92.861788\" style=\"fill: #1f77b4; stroke: #1f77b4\"/>\n     <use xlink:href=\"#md67f5c16d9\" x=\"128.7853\" y=\"65.446333\" style=\"fill: #1f77b4; stroke: #1f77b4\"/>\n     <use xlink:href=\"#md67f5c16d9\" x=\"153.497147\" y=\"72.087663\" style=\"fill: #1f77b4; stroke: #1f77b4\"/>\n     <use xlink:href=\"#md67f5c16d9\" x=\"177.172213\" y=\"88.455683\" style=\"fill: #1f77b4; stroke: #1f77b4\"/>\n     <use xlink:href=\"#md67f5c16d9\" x=\"101.565125\" y=\"58.707124\" style=\"fill: #1f77b4; stroke: #1f77b4\"/>\n     <use xlink:href=\"#md67f5c16d9\" x=\"81.851142\" y=\"47.96585\" style=\"fill: #1f77b4; stroke: #1f77b4\"/>\n     <use xlink:href=\"#md67f5c16d9\" x=\"132.010986\" y=\"76.4739\" style=\"fill: #1f77b4; stroke: #1f77b4\"/>\n     <use xlink:href=\"#md67f5c16d9\" x=\"126.376151\" y=\"69.347179\" style=\"fill: #1f77b4; stroke: #1f77b4\"/>\n     <use xlink:href=\"#md67f5c16d9\" x=\"140.895079\" y=\"81.911905\" style=\"fill: #1f77b4; stroke: #1f77b4\"/>\n     <use xlink:href=\"#md67f5c16d9\" x=\"134.979133\" y=\"85.108074\" style=\"fill: #1f77b4; stroke: #1f77b4\"/>\n     <use xlink:href=\"#md67f5c16d9\" x=\"112.458255\" y=\"70.084656\" style=\"fill: #1f77b4; stroke: #1f77b4\"/>\n     <use xlink:href=\"#md67f5c16d9\" x=\"159.689798\" y=\"96.005907\" style=\"fill: #1f77b4; stroke: #1f77b4\"/>\n     <use xlink:href=\"#md67f5c16d9\" x=\"106.8138\" y=\"69.252694\" style=\"fill: #1f77b4; stroke: #1f77b4\"/>\n     <use xlink:href=\"#md67f5c16d9\" x=\"174.745654\" y=\"94.649735\" style=\"fill: #1f77b4; stroke: #1f77b4\"/>\n     <use xlink:href=\"#md67f5c16d9\" x=\"109.236651\" y=\"45.055535\" style=\"fill: #1f77b4; stroke: #1f77b4\"/>\n     <use xlink:href=\"#md67f5c16d9\" x=\"111.290966\" y=\"64.239521\" style=\"fill: #1f77b4; stroke: #1f77b4\"/>\n     <use xlink:href=\"#md67f5c16d9\" x=\"106.927129\" y=\"71.890498\" style=\"fill: #1f77b4; stroke: #1f77b4\"/>\n     <use xlink:href=\"#md67f5c16d9\" x=\"157.74835\" y=\"105.306608\" style=\"fill: #1f77b4; stroke: #1f77b4\"/>\n     <use xlink:href=\"#md67f5c16d9\" x=\"143.88071\" y=\"66.480783\" style=\"fill: #1f77b4; stroke: #1f77b4\"/>\n     <use xlink:href=\"#md67f5c16d9\" x=\"162.563468\" y=\"84.582674\" style=\"fill: #1f77b4; stroke: #1f77b4\"/>\n     <use xlink:href=\"#md67f5c16d9\" x=\"147.739351\" y=\"65.522143\" style=\"fill: #1f77b4; stroke: #1f77b4\"/>\n     <use xlink:href=\"#md67f5c16d9\" x=\"110.663021\" y=\"51.915138\" style=\"fill: #1f77b4; stroke: #1f77b4\"/>\n     <use xlink:href=\"#md67f5c16d9\" x=\"119.260582\" y=\"64.343734\" style=\"fill: #1f77b4; stroke: #1f77b4\"/>\n     <use xlink:href=\"#md67f5c16d9\" x=\"139.089033\" y=\"90.05619\" style=\"fill: #1f77b4; stroke: #1f77b4\"/>\n     <use xlink:href=\"#md67f5c16d9\" x=\"86.095706\" y=\"53.414349\" style=\"fill: #1f77b4; stroke: #1f77b4\"/>\n     <use xlink:href=\"#md67f5c16d9\" x=\"175.650401\" y=\"93.632468\" style=\"fill: #1f77b4; stroke: #1f77b4\"/>\n     <use xlink:href=\"#md67f5c16d9\" x=\"135.898055\" y=\"85.69005\" style=\"fill: #1f77b4; stroke: #1f77b4\"/>\n     <use xlink:href=\"#md67f5c16d9\" x=\"135.842128\" y=\"67.363155\" style=\"fill: #1f77b4; stroke: #1f77b4\"/>\n     <use xlink:href=\"#md67f5c16d9\" x=\"87.319139\" y=\"53.979314\" style=\"fill: #1f77b4; stroke: #1f77b4\"/>\n     <use xlink:href=\"#md67f5c16d9\" x=\"129.690634\" y=\"68.371752\" style=\"fill: #1f77b4; stroke: #1f77b4\"/>\n     <use xlink:href=\"#md67f5c16d9\" x=\"124.995859\" y=\"74.233672\" style=\"fill: #1f77b4; stroke: #1f77b4\"/>\n     <use xlink:href=\"#md67f5c16d9\" x=\"97.416767\" y=\"58.116966\" style=\"fill: #1f77b4; stroke: #1f77b4\"/>\n     <use xlink:href=\"#md67f5c16d9\" x=\"142.945497\" y=\"65.042975\" style=\"fill: #1f77b4; stroke: #1f77b4\"/>\n     <use xlink:href=\"#md67f5c16d9\" x=\"136.628738\" y=\"63.195899\" style=\"fill: #1f77b4; stroke: #1f77b4\"/>\n     <use xlink:href=\"#md67f5c16d9\" x=\"155.650452\" y=\"99.139846\" style=\"fill: #1f77b4; stroke: #1f77b4\"/>\n     <use xlink:href=\"#md67f5c16d9\" x=\"112.13532\" y=\"66.205505\" style=\"fill: #1f77b4; stroke: #1f77b4\"/>\n     <use xlink:href=\"#md67f5c16d9\" x=\"117.034984\" y=\"79.885517\" style=\"fill: #1f77b4; stroke: #1f77b4\"/>\n     <use xlink:href=\"#md67f5c16d9\" x=\"125.794074\" y=\"74.738431\" style=\"fill: #1f77b4; stroke: #1f77b4\"/>\n     <use xlink:href=\"#md67f5c16d9\" x=\"104.670376\" y=\"61.822014\" style=\"fill: #1f77b4; stroke: #1f77b4\"/>\n     <use xlink:href=\"#md67f5c16d9\" x=\"151.417168\" y=\"84.905491\" style=\"fill: #1f77b4; stroke: #1f77b4\"/>\n     <use xlink:href=\"#md67f5c16d9\" x=\"112.269353\" y=\"63.565743\" style=\"fill: #1f77b4; stroke: #1f77b4\"/>\n     <use xlink:href=\"#md67f5c16d9\" x=\"181.478822\" y=\"108.292873\" style=\"fill: #1f77b4; stroke: #1f77b4\"/>\n     <use xlink:href=\"#md67f5c16d9\" x=\"87.100299\" y=\"56.633587\" style=\"fill: #1f77b4; stroke: #1f77b4\"/>\n     <use xlink:href=\"#md67f5c16d9\" x=\"64.744016\" y=\"15.471376\" style=\"fill: #1f77b4; stroke: #1f77b4\"/>\n     <use xlink:href=\"#md67f5c16d9\" x=\"176.650625\" y=\"94.24828\" style=\"fill: #1f77b4; stroke: #1f77b4\"/>\n     <use xlink:href=\"#md67f5c16d9\" x=\"138.143326\" y=\"69.606811\" style=\"fill: #1f77b4; stroke: #1f77b4\"/>\n     <use xlink:href=\"#md67f5c16d9\" x=\"49.861274\" y=\"26.639168\" style=\"fill: #1f77b4; stroke: #1f77b4\"/>\n     <use xlink:href=\"#md67f5c16d9\" x=\"148.136763\" y=\"81.979119\" style=\"fill: #1f77b4; stroke: #1f77b4\"/>\n     <use xlink:href=\"#md67f5c16d9\" x=\"185.186317\" y=\"113.566165\" style=\"fill: #1f77b4; stroke: #1f77b4\"/>\n     <use xlink:href=\"#md67f5c16d9\" x=\"132.447047\" y=\"89.152556\" style=\"fill: #1f77b4; stroke: #1f77b4\"/>\n     <use xlink:href=\"#md67f5c16d9\" x=\"151.804459\" y=\"80.080201\" style=\"fill: #1f77b4; stroke: #1f77b4\"/>\n     <use xlink:href=\"#md67f5c16d9\" x=\"172.64012\" y=\"100.426519\" style=\"fill: #1f77b4; stroke: #1f77b4\"/>\n     <use xlink:href=\"#md67f5c16d9\" x=\"180.421194\" y=\"85.839798\" style=\"fill: #1f77b4; stroke: #1f77b4\"/>\n     <use xlink:href=\"#md67f5c16d9\" x=\"169.747288\" y=\"102.061295\" style=\"fill: #1f77b4; stroke: #1f77b4\"/>\n     <use xlink:href=\"#md67f5c16d9\" x=\"112.575719\" y=\"53.529747\" style=\"fill: #1f77b4; stroke: #1f77b4\"/>\n     <use xlink:href=\"#md67f5c16d9\" x=\"110.689225\" y=\"59.055081\" style=\"fill: #1f77b4; stroke: #1f77b4\"/>\n     <use xlink:href=\"#md67f5c16d9\" x=\"170.081163\" y=\"93.258199\" style=\"fill: #1f77b4; stroke: #1f77b4\"/>\n     <use xlink:href=\"#md67f5c16d9\" x=\"143.27776\" y=\"83.069083\" style=\"fill: #1f77b4; stroke: #1f77b4\"/>\n     <use xlink:href=\"#md67f5c16d9\" x=\"102.935711\" y=\"52.220043\" style=\"fill: #1f77b4; stroke: #1f77b4\"/>\n     <use xlink:href=\"#md67f5c16d9\" x=\"146.259549\" y=\"98.168726\" style=\"fill: #1f77b4; stroke: #1f77b4\"/>\n     <use xlink:href=\"#md67f5c16d9\" x=\"112.376752\" y=\"66.696326\" style=\"fill: #1f77b4; stroke: #1f77b4\"/>\n     <use xlink:href=\"#md67f5c16d9\" x=\"129.004113\" y=\"71.930662\" style=\"fill: #1f77b4; stroke: #1f77b4\"/>\n     <use xlink:href=\"#md67f5c16d9\" x=\"126.180144\" y=\"78.030926\" style=\"fill: #1f77b4; stroke: #1f77b4\"/>\n     <use xlink:href=\"#md67f5c16d9\" x=\"113.265697\" y=\"57.659007\" style=\"fill: #1f77b4; stroke: #1f77b4\"/>\n     <use xlink:href=\"#md67f5c16d9\" x=\"148.920416\" y=\"96.826697\" style=\"fill: #1f77b4; stroke: #1f77b4\"/>\n     <use xlink:href=\"#md67f5c16d9\" x=\"121.726148\" y=\"75.688627\" style=\"fill: #1f77b4; stroke: #1f77b4\"/>\n     <use xlink:href=\"#md67f5c16d9\" x=\"112.564068\" y=\"77.140079\" style=\"fill: #1f77b4; stroke: #1f77b4\"/>\n     <use xlink:href=\"#md67f5c16d9\" x=\"128.69582\" y=\"77.094998\" style=\"fill: #1f77b4; stroke: #1f77b4\"/>\n     <use xlink:href=\"#md67f5c16d9\" x=\"135.80203\" y=\"63.388424\" style=\"fill: #1f77b4; stroke: #1f77b4\"/>\n     <use xlink:href=\"#md67f5c16d9\" x=\"152.255015\" y=\"75.447279\" style=\"fill: #1f77b4; stroke: #1f77b4\"/>\n     <use xlink:href=\"#md67f5c16d9\" x=\"111.477241\" y=\"61.083906\" style=\"fill: #1f77b4; stroke: #1f77b4\"/>\n     <use xlink:href=\"#md67f5c16d9\" x=\"129.176083\" y=\"81.155754\" style=\"fill: #1f77b4; stroke: #1f77b4\"/>\n     <use xlink:href=\"#md67f5c16d9\" x=\"150.004425\" y=\"70.455783\" style=\"fill: #1f77b4; stroke: #1f77b4\"/>\n     <use xlink:href=\"#md67f5c16d9\" x=\"173.962835\" y=\"88.219764\" style=\"fill: #1f77b4; stroke: #1f77b4\"/>\n     <use xlink:href=\"#md67f5c16d9\" x=\"118.675628\" y=\"56.414197\" style=\"fill: #1f77b4; stroke: #1f77b4\"/>\n     <use xlink:href=\"#md67f5c16d9\" x=\"109.529587\" y=\"63.028938\" style=\"fill: #1f77b4; stroke: #1f77b4\"/>\n     <use xlink:href=\"#md67f5c16d9\" x=\"103.799813\" y=\"59.440881\" style=\"fill: #1f77b4; stroke: #1f77b4\"/>\n     <use xlink:href=\"#md67f5c16d9\" x=\"117.069318\" y=\"61.450774\" style=\"fill: #1f77b4; stroke: #1f77b4\"/>\n     <use xlink:href=\"#md67f5c16d9\" x=\"145.874243\" y=\"82.087621\" style=\"fill: #1f77b4; stroke: #1f77b4\"/>\n     <use xlink:href=\"#md67f5c16d9\" x=\"85.721218\" y=\"40.977571\" style=\"fill: #1f77b4; stroke: #1f77b4\"/>\n     <use xlink:href=\"#md67f5c16d9\" x=\"90.656702\" y=\"47.353923\" style=\"fill: #1f77b4; stroke: #1f77b4\"/>\n     <use xlink:href=\"#md67f5c16d9\" x=\"74.436186\" y=\"45.415551\" style=\"fill: #1f77b4; stroke: #1f77b4\"/>\n     <use xlink:href=\"#md67f5c16d9\" x=\"179.469659\" y=\"101.50688\" style=\"fill: #1f77b4; stroke: #1f77b4\"/>\n     <use xlink:href=\"#md67f5c16d9\" x=\"111.196861\" y=\"76.02511\" style=\"fill: #1f77b4; stroke: #1f77b4\"/>\n     <use xlink:href=\"#md67f5c16d9\" x=\"136.728267\" y=\"79.958555\" style=\"fill: #1f77b4; stroke: #1f77b4\"/>\n     <use xlink:href=\"#md67f5c16d9\" x=\"129.00545\" y=\"72.114632\" style=\"fill: #1f77b4; stroke: #1f77b4\"/>\n     <use xlink:href=\"#md67f5c16d9\" x=\"152.677528\" y=\"69.028766\" style=\"fill: #1f77b4; stroke: #1f77b4\"/>\n     <use xlink:href=\"#md67f5c16d9\" x=\"160.524576\" y=\"82.221414\" style=\"fill: #1f77b4; stroke: #1f77b4\"/>\n     <use xlink:href=\"#md67f5c16d9\" x=\"116.281196\" y=\"73.501931\" style=\"fill: #1f77b4; stroke: #1f77b4\"/>\n     <use xlink:href=\"#md67f5c16d9\" x=\"105.069448\" y=\"64.90511\" style=\"fill: #1f77b4; stroke: #1f77b4\"/>\n     <use xlink:href=\"#md67f5c16d9\" x=\"117.872446\" y=\"59.850606\" style=\"fill: #1f77b4; stroke: #1f77b4\"/>\n     <use xlink:href=\"#md67f5c16d9\" x=\"162.828171\" y=\"77.770994\" style=\"fill: #1f77b4; stroke: #1f77b4\"/>\n     <use xlink:href=\"#md67f5c16d9\" x=\"99.869038\" y=\"50.817753\" style=\"fill: #1f77b4; stroke: #1f77b4\"/>\n     <use xlink:href=\"#md67f5c16d9\" x=\"119.84198\" y=\"64.715725\" style=\"fill: #1f77b4; stroke: #1f77b4\"/>\n     <use xlink:href=\"#md67f5c16d9\" x=\"142.95733\" y=\"70.699119\" style=\"fill: #1f77b4; stroke: #1f77b4\"/>\n     <use xlink:href=\"#md67f5c16d9\" x=\"110.651612\" y=\"56.372528\" style=\"fill: #1f77b4; stroke: #1f77b4\"/>\n     <use xlink:href=\"#md67f5c16d9\" x=\"172.517426\" y=\"103.35613\" style=\"fill: #1f77b4; stroke: #1f77b4\"/>\n     <use xlink:href=\"#md67f5c16d9\" x=\"102.871585\" y=\"63.277381\" style=\"fill: #1f77b4; stroke: #1f77b4\"/>\n     <use xlink:href=\"#md67f5c16d9\" x=\"112.821756\" y=\"73.541893\" style=\"fill: #1f77b4; stroke: #1f77b4\"/>\n     <use xlink:href=\"#md67f5c16d9\" x=\"166.642216\" y=\"91.789494\" style=\"fill: #1f77b4; stroke: #1f77b4\"/>\n     <use xlink:href=\"#md67f5c16d9\" x=\"135.616112\" y=\"74.55687\" style=\"fill: #1f77b4; stroke: #1f77b4\"/>\n     <use xlink:href=\"#md67f5c16d9\" x=\"120.329216\" y=\"68.406849\" style=\"fill: #1f77b4; stroke: #1f77b4\"/>\n     <use xlink:href=\"#md67f5c16d9\" x=\"113.005693\" y=\"65.613338\" style=\"fill: #1f77b4; stroke: #1f77b4\"/>\n     <use xlink:href=\"#md67f5c16d9\" x=\"133.675461\" y=\"78.111481\" style=\"fill: #1f77b4; stroke: #1f77b4\"/>\n     <use xlink:href=\"#md67f5c16d9\" x=\"139.201581\" y=\"104.279881\" style=\"fill: #1f77b4; stroke: #1f77b4\"/>\n     <use xlink:href=\"#md67f5c16d9\" x=\"131.597119\" y=\"54.852081\" style=\"fill: #1f77b4; stroke: #1f77b4\"/>\n     <use xlink:href=\"#md67f5c16d9\" x=\"158.175265\" y=\"88.68888\" style=\"fill: #1f77b4; stroke: #1f77b4\"/>\n     <use xlink:href=\"#md67f5c16d9\" x=\"122.369208\" y=\"81.245906\" style=\"fill: #1f77b4; stroke: #1f77b4\"/>\n     <use xlink:href=\"#md67f5c16d9\" x=\"159.036071\" y=\"80.083575\" style=\"fill: #1f77b4; stroke: #1f77b4\"/>\n     <use xlink:href=\"#md67f5c16d9\" x=\"112.100799\" y=\"46.017377\" style=\"fill: #1f77b4; stroke: #1f77b4\"/>\n     <use xlink:href=\"#md67f5c16d9\" x=\"139.569126\" y=\"70.005924\" style=\"fill: #1f77b4; stroke: #1f77b4\"/>\n     <use xlink:href=\"#md67f5c16d9\" x=\"121.773153\" y=\"68.918213\" style=\"fill: #1f77b4; stroke: #1f77b4\"/>\n     <use xlink:href=\"#md67f5c16d9\" x=\"130.821382\" y=\"65.236172\" style=\"fill: #1f77b4; stroke: #1f77b4\"/>\n     <use xlink:href=\"#md67f5c16d9\" x=\"111.91915\" y=\"73.060824\" style=\"fill: #1f77b4; stroke: #1f77b4\"/>\n     <use xlink:href=\"#md67f5c16d9\" x=\"145.399367\" y=\"79.171354\" style=\"fill: #1f77b4; stroke: #1f77b4\"/>\n     <use xlink:href=\"#md67f5c16d9\" x=\"61.362446\" y=\"44.681232\" style=\"fill: #1f77b4; stroke: #1f77b4\"/>\n     <use xlink:href=\"#md67f5c16d9\" x=\"78.036939\" y=\"56.515647\" style=\"fill: #1f77b4; stroke: #1f77b4\"/>\n     <use xlink:href=\"#md67f5c16d9\" x=\"99.395262\" y=\"53.53447\" style=\"fill: #1f77b4; stroke: #1f77b4\"/>\n     <use xlink:href=\"#md67f5c16d9\" x=\"98.126599\" y=\"55.943204\" style=\"fill: #1f77b4; stroke: #1f77b4\"/>\n     <use xlink:href=\"#md67f5c16d9\" x=\"130.87647\" y=\"62.925962\" style=\"fill: #1f77b4; stroke: #1f77b4\"/>\n     <use xlink:href=\"#md67f5c16d9\" x=\"102.143303\" y=\"54.008326\" style=\"fill: #1f77b4; stroke: #1f77b4\"/>\n     <use xlink:href=\"#md67f5c16d9\" x=\"156.372527\" y=\"76.298253\" style=\"fill: #1f77b4; stroke: #1f77b4\"/>\n     <use xlink:href=\"#md67f5c16d9\" x=\"178.704961\" y=\"117.781824\" style=\"fill: #1f77b4; stroke: #1f77b4\"/>\n     <use xlink:href=\"#md67f5c16d9\" x=\"102.083416\" y=\"48.707859\" style=\"fill: #1f77b4; stroke: #1f77b4\"/>\n     <use xlink:href=\"#md67f5c16d9\" x=\"206.788716\" y=\"114.982247\" style=\"fill: #1f77b4; stroke: #1f77b4\"/>\n     <use xlink:href=\"#md67f5c16d9\" x=\"116.23722\" y=\"63.905555\" style=\"fill: #1f77b4; stroke: #1f77b4\"/>\n     <use xlink:href=\"#md67f5c16d9\" x=\"110.197355\" y=\"56.951828\" style=\"fill: #1f77b4; stroke: #1f77b4\"/>\n     <use xlink:href=\"#md67f5c16d9\" x=\"163.770594\" y=\"113.027726\" style=\"fill: #1f77b4; stroke: #1f77b4\"/>\n     <use xlink:href=\"#md67f5c16d9\" x=\"193.527717\" y=\"106.534255\" style=\"fill: #1f77b4; stroke: #1f77b4\"/>\n     <use xlink:href=\"#md67f5c16d9\" x=\"138.430229\" y=\"72.000447\" style=\"fill: #1f77b4; stroke: #1f77b4\"/>\n     <use xlink:href=\"#md67f5c16d9\" x=\"115.560728\" y=\"49.020485\" style=\"fill: #1f77b4; stroke: #1f77b4\"/>\n     <use xlink:href=\"#md67f5c16d9\" x=\"148.679366\" y=\"78.707323\" style=\"fill: #1f77b4; stroke: #1f77b4\"/>\n     <use xlink:href=\"#md67f5c16d9\" x=\"113.630381\" y=\"53.154602\" style=\"fill: #1f77b4; stroke: #1f77b4\"/>\n     <use xlink:href=\"#md67f5c16d9\" x=\"137.358683\" y=\"75.171772\" style=\"fill: #1f77b4; stroke: #1f77b4\"/>\n     <use xlink:href=\"#md67f5c16d9\" x=\"141.766829\" y=\"77.784116\" style=\"fill: #1f77b4; stroke: #1f77b4\"/>\n     <use xlink:href=\"#md67f5c16d9\" x=\"107.194597\" y=\"70.30541\" style=\"fill: #1f77b4; stroke: #1f77b4\"/>\n     <use xlink:href=\"#md67f5c16d9\" x=\"170.962302\" y=\"89.309169\" style=\"fill: #1f77b4; stroke: #1f77b4\"/>\n     <use xlink:href=\"#md67f5c16d9\" x=\"65.482685\" y=\"48.009686\" style=\"fill: #1f77b4; stroke: #1f77b4\"/>\n     <use xlink:href=\"#md67f5c16d9\" x=\"132.077712\" y=\"64.089963\" style=\"fill: #1f77b4; stroke: #1f77b4\"/>\n     <use xlink:href=\"#md67f5c16d9\" x=\"149.018276\" y=\"81.273462\" style=\"fill: #1f77b4; stroke: #1f77b4\"/>\n     <use xlink:href=\"#md67f5c16d9\" x=\"137.670708\" y=\"81.587959\" style=\"fill: #1f77b4; stroke: #1f77b4\"/>\n     <use xlink:href=\"#md67f5c16d9\" x=\"88.801202\" y=\"54.239933\" style=\"fill: #1f77b4; stroke: #1f77b4\"/>\n     <use xlink:href=\"#md67f5c16d9\" x=\"126.316884\" y=\"79.558001\" style=\"fill: #1f77b4; stroke: #1f77b4\"/>\n     <use xlink:href=\"#md67f5c16d9\" x=\"116.58273\" y=\"62.953566\" style=\"fill: #1f77b4; stroke: #1f77b4\"/>\n     <use xlink:href=\"#md67f5c16d9\" x=\"101.517526\" y=\"61.51223\" style=\"fill: #1f77b4; stroke: #1f77b4\"/>\n     <use xlink:href=\"#md67f5c16d9\" x=\"93.77223\" y=\"51.045546\" style=\"fill: #1f77b4; stroke: #1f77b4\"/>\n     <use xlink:href=\"#md67f5c16d9\" x=\"115.765389\" y=\"59.976356\" style=\"fill: #1f77b4; stroke: #1f77b4\"/>\n     <use xlink:href=\"#md67f5c16d9\" x=\"123.466181\" y=\"60.289248\" style=\"fill: #1f77b4; stroke: #1f77b4\"/>\n     <use xlink:href=\"#md67f5c16d9\" x=\"142.13566\" y=\"78.016712\" style=\"fill: #1f77b4; stroke: #1f77b4\"/>\n     <use xlink:href=\"#md67f5c16d9\" x=\"193.125736\" y=\"103.763182\" style=\"fill: #1f77b4; stroke: #1f77b4\"/>\n     <use xlink:href=\"#md67f5c16d9\" x=\"92.540869\" y=\"66.539598\" style=\"fill: #1f77b4; stroke: #1f77b4\"/>\n     <use xlink:href=\"#md67f5c16d9\" x=\"112.483858\" y=\"53.930213\" style=\"fill: #1f77b4; stroke: #1f77b4\"/>\n     <use xlink:href=\"#md67f5c16d9\" x=\"103.673682\" y=\"51.456172\" style=\"fill: #1f77b4; stroke: #1f77b4\"/>\n     <use xlink:href=\"#md67f5c16d9\" x=\"112.176443\" y=\"65.55132\" style=\"fill: #1f77b4; stroke: #1f77b4\"/>\n     <use xlink:href=\"#md67f5c16d9\" x=\"176.451372\" y=\"93.130102\" style=\"fill: #1f77b4; stroke: #1f77b4\"/>\n     <use xlink:href=\"#md67f5c16d9\" x=\"119.777662\" y=\"69.579961\" style=\"fill: #1f77b4; stroke: #1f77b4\"/>\n     <use xlink:href=\"#md67f5c16d9\" x=\"152.323647\" y=\"67.427132\" style=\"fill: #1f77b4; stroke: #1f77b4\"/>\n     <use xlink:href=\"#md67f5c16d9\" x=\"92.246223\" y=\"41.886884\" style=\"fill: #1f77b4; stroke: #1f77b4\"/>\n     <use xlink:href=\"#md67f5c16d9\" x=\"124.41288\" y=\"74.410388\" style=\"fill: #1f77b4; stroke: #1f77b4\"/>\n     <use xlink:href=\"#md67f5c16d9\" x=\"125.775378\" y=\"76.786838\" style=\"fill: #1f77b4; stroke: #1f77b4\"/>\n     <use xlink:href=\"#md67f5c16d9\" x=\"138.637065\" y=\"62.956018\" style=\"fill: #1f77b4; stroke: #1f77b4\"/>\n     <use xlink:href=\"#md67f5c16d9\" x=\"87.695524\" y=\"37.211876\" style=\"fill: #1f77b4; stroke: #1f77b4\"/>\n     <use xlink:href=\"#md67f5c16d9\" x=\"61.892701\" y=\"46.672133\" style=\"fill: #1f77b4; stroke: #1f77b4\"/>\n     <use xlink:href=\"#md67f5c16d9\" x=\"100.246393\" y=\"55.651981\" style=\"fill: #1f77b4; stroke: #1f77b4\"/>\n     <use xlink:href=\"#md67f5c16d9\" x=\"166.078532\" y=\"84.71832\" style=\"fill: #1f77b4; stroke: #1f77b4\"/>\n     <use xlink:href=\"#md67f5c16d9\" x=\"93.367312\" y=\"48.445554\" style=\"fill: #1f77b4; stroke: #1f77b4\"/>\n     <use xlink:href=\"#md67f5c16d9\" x=\"132.201496\" y=\"74.74042\" style=\"fill: #1f77b4; stroke: #1f77b4\"/>\n     <use xlink:href=\"#md67f5c16d9\" x=\"179.362024\" y=\"111.222696\" style=\"fill: #1f77b4; stroke: #1f77b4\"/>\n     <use xlink:href=\"#md67f5c16d9\" x=\"156.825223\" y=\"78.081943\" style=\"fill: #1f77b4; stroke: #1f77b4\"/>\n     <use xlink:href=\"#md67f5c16d9\" x=\"151.233078\" y=\"82.310574\" style=\"fill: #1f77b4; stroke: #1f77b4\"/>\n     <use xlink:href=\"#md67f5c16d9\" x=\"107.553062\" y=\"61.558275\" style=\"fill: #1f77b4; stroke: #1f77b4\"/>\n     <use xlink:href=\"#md67f5c16d9\" x=\"135.183126\" y=\"70.457305\" style=\"fill: #1f77b4; stroke: #1f77b4\"/>\n     <use xlink:href=\"#md67f5c16d9\" x=\"125.716864\" y=\"68.547843\" style=\"fill: #1f77b4; stroke: #1f77b4\"/>\n     <use xlink:href=\"#md67f5c16d9\" x=\"152.949064\" y=\"95.936707\" style=\"fill: #1f77b4; stroke: #1f77b4\"/>\n     <use xlink:href=\"#md67f5c16d9\" x=\"178.238386\" y=\"82.330817\" style=\"fill: #1f77b4; stroke: #1f77b4\"/>\n     <use xlink:href=\"#md67f5c16d9\" x=\"106.835403\" y=\"26.823893\" style=\"fill: #1f77b4; stroke: #1f77b4\"/>\n     <use xlink:href=\"#md67f5c16d9\" x=\"157.637761\" y=\"79.853607\" style=\"fill: #1f77b4; stroke: #1f77b4\"/>\n     <use xlink:href=\"#md67f5c16d9\" x=\"138.275444\" y=\"89.395234\" style=\"fill: #1f77b4; stroke: #1f77b4\"/>\n     <use xlink:href=\"#md67f5c16d9\" x=\"133.113651\" y=\"84.834257\" style=\"fill: #1f77b4; stroke: #1f77b4\"/>\n     <use xlink:href=\"#md67f5c16d9\" x=\"154.472221\" y=\"71.780327\" style=\"fill: #1f77b4; stroke: #1f77b4\"/>\n     <use xlink:href=\"#md67f5c16d9\" x=\"109.98494\" y=\"67.812973\" style=\"fill: #1f77b4; stroke: #1f77b4\"/>\n     <use xlink:href=\"#md67f5c16d9\" x=\"110.501957\" y=\"62.369762\" style=\"fill: #1f77b4; stroke: #1f77b4\"/>\n     <use xlink:href=\"#md67f5c16d9\" x=\"144.042579\" y=\"94.928687\" style=\"fill: #1f77b4; stroke: #1f77b4\"/>\n     <use xlink:href=\"#md67f5c16d9\" x=\"96.137899\" y=\"48.887052\" style=\"fill: #1f77b4; stroke: #1f77b4\"/>\n     <use xlink:href=\"#md67f5c16d9\" x=\"204.796583\" y=\"109.992074\" style=\"fill: #1f77b4; stroke: #1f77b4\"/>\n     <use xlink:href=\"#md67f5c16d9\" x=\"117.864399\" y=\"58.099961\" style=\"fill: #1f77b4; stroke: #1f77b4\"/>\n     <use xlink:href=\"#md67f5c16d9\" x=\"150.504622\" y=\"76.322365\" style=\"fill: #1f77b4; stroke: #1f77b4\"/>\n     <use xlink:href=\"#md67f5c16d9\" x=\"139.50967\" y=\"82.793709\" style=\"fill: #1f77b4; stroke: #1f77b4\"/>\n     <use xlink:href=\"#md67f5c16d9\" x=\"174.219842\" y=\"93.560667\" style=\"fill: #1f77b4; stroke: #1f77b4\"/>\n     <use xlink:href=\"#md67f5c16d9\" x=\"158.685829\" y=\"80.949254\" style=\"fill: #1f77b4; stroke: #1f77b4\"/>\n     <use xlink:href=\"#md67f5c16d9\" x=\"126.375726\" y=\"74.980359\" style=\"fill: #1f77b4; stroke: #1f77b4\"/>\n     <use xlink:href=\"#md67f5c16d9\" x=\"124.813307\" y=\"71.415374\" style=\"fill: #1f77b4; stroke: #1f77b4\"/>\n     <use xlink:href=\"#md67f5c16d9\" x=\"130.636628\" y=\"80.829067\" style=\"fill: #1f77b4; stroke: #1f77b4\"/>\n     <use xlink:href=\"#md67f5c16d9\" x=\"144.3121\" y=\"94.513205\" style=\"fill: #1f77b4; stroke: #1f77b4\"/>\n     <use xlink:href=\"#md67f5c16d9\" x=\"154.397332\" y=\"74.775975\" style=\"fill: #1f77b4; stroke: #1f77b4\"/>\n     <use xlink:href=\"#md67f5c16d9\" x=\"185.533943\" y=\"88.801319\" style=\"fill: #1f77b4; stroke: #1f77b4\"/>\n     <use xlink:href=\"#md67f5c16d9\" x=\"145.177534\" y=\"77.006608\" style=\"fill: #1f77b4; stroke: #1f77b4\"/>\n     <use xlink:href=\"#md67f5c16d9\" x=\"88.113694\" y=\"58.966754\" style=\"fill: #1f77b4; stroke: #1f77b4\"/>\n     <use xlink:href=\"#md67f5c16d9\" x=\"77.244981\" y=\"42.393645\" style=\"fill: #1f77b4; stroke: #1f77b4\"/>\n     <use xlink:href=\"#md67f5c16d9\" x=\"147.088086\" y=\"83.421672\" style=\"fill: #1f77b4; stroke: #1f77b4\"/>\n     <use xlink:href=\"#md67f5c16d9\" x=\"133.574378\" y=\"78.257485\" style=\"fill: #1f77b4; stroke: #1f77b4\"/>\n     <use xlink:href=\"#md67f5c16d9\" x=\"145.276375\" y=\"78.136809\" style=\"fill: #1f77b4; stroke: #1f77b4\"/>\n     <use xlink:href=\"#md67f5c16d9\" x=\"106.672123\" y=\"55.434892\" style=\"fill: #1f77b4; stroke: #1f77b4\"/>\n     <use xlink:href=\"#md67f5c16d9\" x=\"108.380813\" y=\"58.821991\" style=\"fill: #1f77b4; stroke: #1f77b4\"/>\n     <use xlink:href=\"#md67f5c16d9\" x=\"112.916632\" y=\"70.726195\" style=\"fill: #1f77b4; stroke: #1f77b4\"/>\n     <use xlink:href=\"#md67f5c16d9\" x=\"180.541822\" y=\"96.292047\" style=\"fill: #1f77b4; stroke: #1f77b4\"/>\n     <use xlink:href=\"#md67f5c16d9\" x=\"96.549022\" y=\"59.249264\" style=\"fill: #1f77b4; stroke: #1f77b4\"/>\n     <use xlink:href=\"#md67f5c16d9\" x=\"164.719525\" y=\"82.368048\" style=\"fill: #1f77b4; stroke: #1f77b4\"/>\n     <use xlink:href=\"#md67f5c16d9\" x=\"158.198261\" y=\"91.357808\" style=\"fill: #1f77b4; stroke: #1f77b4\"/>\n     <use xlink:href=\"#md67f5c16d9\" x=\"142.369877\" y=\"65.136642\" style=\"fill: #1f77b4; stroke: #1f77b4\"/>\n     <use xlink:href=\"#md67f5c16d9\" x=\"107.987959\" y=\"65.726871\" style=\"fill: #1f77b4; stroke: #1f77b4\"/>\n     <use xlink:href=\"#md67f5c16d9\" x=\"113.303428\" y=\"48.125256\" style=\"fill: #1f77b4; stroke: #1f77b4\"/>\n     <use xlink:href=\"#md67f5c16d9\" x=\"114.285557\" y=\"39.803993\" style=\"fill: #1f77b4; stroke: #1f77b4\"/>\n     <use xlink:href=\"#md67f5c16d9\" x=\"84.890071\" y=\"60.311851\" style=\"fill: #1f77b4; stroke: #1f77b4\"/>\n     <use xlink:href=\"#md67f5c16d9\" x=\"134.207482\" y=\"68.11874\" style=\"fill: #1f77b4; stroke: #1f77b4\"/>\n     <use xlink:href=\"#md67f5c16d9\" x=\"156.176646\" y=\"68.002113\" style=\"fill: #1f77b4; stroke: #1f77b4\"/>\n     <use xlink:href=\"#md67f5c16d9\" x=\"149.298804\" y=\"59.514583\" style=\"fill: #1f77b4; stroke: #1f77b4\"/>\n     <use xlink:href=\"#md67f5c16d9\" x=\"182.775467\" y=\"95.489299\" style=\"fill: #1f77b4; stroke: #1f77b4\"/>\n     <use xlink:href=\"#md67f5c16d9\" x=\"90.085857\" y=\"42.009254\" style=\"fill: #1f77b4; stroke: #1f77b4\"/>\n     <use xlink:href=\"#md67f5c16d9\" x=\"122.500989\" y=\"60.436415\" style=\"fill: #1f77b4; stroke: #1f77b4\"/>\n     <use xlink:href=\"#md67f5c16d9\" x=\"137.703391\" y=\"80.031494\" style=\"fill: #1f77b4; stroke: #1f77b4\"/>\n     <use xlink:href=\"#md67f5c16d9\" x=\"124.692085\" y=\"74.581491\" style=\"fill: #1f77b4; stroke: #1f77b4\"/>\n     <use xlink:href=\"#md67f5c16d9\" x=\"122.527244\" y=\"57.721366\" style=\"fill: #1f77b4; stroke: #1f77b4\"/>\n     <use xlink:href=\"#md67f5c16d9\" x=\"151.99675\" y=\"74.938052\" style=\"fill: #1f77b4; stroke: #1f77b4\"/>\n     <use xlink:href=\"#md67f5c16d9\" x=\"102.957381\" y=\"56.891449\" style=\"fill: #1f77b4; stroke: #1f77b4\"/>\n     <use xlink:href=\"#md67f5c16d9\" x=\"94.386304\" y=\"49.404831\" style=\"fill: #1f77b4; stroke: #1f77b4\"/>\n     <use xlink:href=\"#md67f5c16d9\" x=\"104.320224\" y=\"42.474422\" style=\"fill: #1f77b4; stroke: #1f77b4\"/>\n     <use xlink:href=\"#md67f5c16d9\" x=\"116.208964\" y=\"72.711455\" style=\"fill: #1f77b4; stroke: #1f77b4\"/>\n     <use xlink:href=\"#md67f5c16d9\" x=\"95.839601\" y=\"51.413861\" style=\"fill: #1f77b4; stroke: #1f77b4\"/>\n     <use xlink:href=\"#md67f5c16d9\" x=\"122.913876\" y=\"65.336039\" style=\"fill: #1f77b4; stroke: #1f77b4\"/>\n     <use xlink:href=\"#md67f5c16d9\" x=\"108.451718\" y=\"53.932927\" style=\"fill: #1f77b4; stroke: #1f77b4\"/>\n     <use xlink:href=\"#md67f5c16d9\" x=\"147.539915\" y=\"73.940155\" style=\"fill: #1f77b4; stroke: #1f77b4\"/>\n     <use xlink:href=\"#md67f5c16d9\" x=\"107.624026\" y=\"50.744723\" style=\"fill: #1f77b4; stroke: #1f77b4\"/>\n     <use xlink:href=\"#md67f5c16d9\" x=\"164.832697\" y=\"94.35585\" style=\"fill: #1f77b4; stroke: #1f77b4\"/>\n     <use xlink:href=\"#md67f5c16d9\" x=\"142.518318\" y=\"72.399792\" style=\"fill: #1f77b4; stroke: #1f77b4\"/>\n     <use xlink:href=\"#md67f5c16d9\" x=\"131.821576\" y=\"68.762099\" style=\"fill: #1f77b4; stroke: #1f77b4\"/>\n     <use xlink:href=\"#md67f5c16d9\" x=\"117.471752\" y=\"86.717372\" style=\"fill: #1f77b4; stroke: #1f77b4\"/>\n     <use xlink:href=\"#md67f5c16d9\" x=\"125.33384\" y=\"57.11668\" style=\"fill: #1f77b4; stroke: #1f77b4\"/>\n     <use xlink:href=\"#md67f5c16d9\" x=\"116.332669\" y=\"62.048328\" style=\"fill: #1f77b4; stroke: #1f77b4\"/>\n     <use xlink:href=\"#md67f5c16d9\" x=\"119.267486\" y=\"70.380862\" style=\"fill: #1f77b4; stroke: #1f77b4\"/>\n     <use xlink:href=\"#md67f5c16d9\" x=\"119.268267\" y=\"64.450115\" style=\"fill: #1f77b4; stroke: #1f77b4\"/>\n     <use xlink:href=\"#md67f5c16d9\" x=\"132.604313\" y=\"71.002345\" style=\"fill: #1f77b4; stroke: #1f77b4\"/>\n     <use xlink:href=\"#md67f5c16d9\" x=\"147.948713\" y=\"84.976049\" style=\"fill: #1f77b4; stroke: #1f77b4\"/>\n     <use xlink:href=\"#md67f5c16d9\" x=\"93.829109\" y=\"56.26967\" style=\"fill: #1f77b4; stroke: #1f77b4\"/>\n     <use xlink:href=\"#md67f5c16d9\" x=\"141.703735\" y=\"80.122349\" style=\"fill: #1f77b4; stroke: #1f77b4\"/>\n     <use xlink:href=\"#md67f5c16d9\" x=\"102.398919\" y=\"56.64411\" style=\"fill: #1f77b4; stroke: #1f77b4\"/>\n     <use xlink:href=\"#md67f5c16d9\" x=\"106.906162\" y=\"50.979633\" style=\"fill: #1f77b4; stroke: #1f77b4\"/>\n     <use xlink:href=\"#md67f5c16d9\" x=\"107.870284\" y=\"50.017182\" style=\"fill: #1f77b4; stroke: #1f77b4\"/>\n     <use xlink:href=\"#md67f5c16d9\" x=\"130.57986\" y=\"90.496952\" style=\"fill: #1f77b4; stroke: #1f77b4\"/>\n     <use xlink:href=\"#md67f5c16d9\" x=\"119.212328\" y=\"53.584994\" style=\"fill: #1f77b4; stroke: #1f77b4\"/>\n     <use xlink:href=\"#md67f5c16d9\" x=\"139.830531\" y=\"85.109784\" style=\"fill: #1f77b4; stroke: #1f77b4\"/>\n     <use xlink:href=\"#md67f5c16d9\" x=\"138.092622\" y=\"66.62574\" style=\"fill: #1f77b4; stroke: #1f77b4\"/>\n     <use xlink:href=\"#md67f5c16d9\" x=\"161.139974\" y=\"76.202772\" style=\"fill: #1f77b4; stroke: #1f77b4\"/>\n     <use xlink:href=\"#md67f5c16d9\" x=\"148.187324\" y=\"86.642927\" style=\"fill: #1f77b4; stroke: #1f77b4\"/>\n     <use xlink:href=\"#md67f5c16d9\" x=\"118.295678\" y=\"68.851747\" style=\"fill: #1f77b4; stroke: #1f77b4\"/>\n     <use xlink:href=\"#md67f5c16d9\" x=\"141.366027\" y=\"88.946827\" style=\"fill: #1f77b4; stroke: #1f77b4\"/>\n     <use xlink:href=\"#md67f5c16d9\" x=\"110.455319\" y=\"44.852292\" style=\"fill: #1f77b4; stroke: #1f77b4\"/>\n     <use xlink:href=\"#md67f5c16d9\" x=\"129.628182\" y=\"76.002044\" style=\"fill: #1f77b4; stroke: #1f77b4\"/>\n     <use xlink:href=\"#md67f5c16d9\" x=\"109.006813\" y=\"42.871931\" style=\"fill: #1f77b4; stroke: #1f77b4\"/>\n     <use xlink:href=\"#md67f5c16d9\" x=\"145.13316\" y=\"92.0381\" style=\"fill: #1f77b4; stroke: #1f77b4\"/>\n     <use xlink:href=\"#md67f5c16d9\" x=\"142.049778\" y=\"68.954849\" style=\"fill: #1f77b4; stroke: #1f77b4\"/>\n     <use xlink:href=\"#md67f5c16d9\" x=\"105.352399\" y=\"59.66618\" style=\"fill: #1f77b4; stroke: #1f77b4\"/>\n     <use xlink:href=\"#md67f5c16d9\" x=\"119.71666\" y=\"65.794766\" style=\"fill: #1f77b4; stroke: #1f77b4\"/>\n     <use xlink:href=\"#md67f5c16d9\" x=\"189.738834\" y=\"104.604067\" style=\"fill: #1f77b4; stroke: #1f77b4\"/>\n     <use xlink:href=\"#md67f5c16d9\" x=\"100.826626\" y=\"57.845944\" style=\"fill: #1f77b4; stroke: #1f77b4\"/>\n     <use xlink:href=\"#md67f5c16d9\" x=\"136.441446\" y=\"95.908072\" style=\"fill: #1f77b4; stroke: #1f77b4\"/>\n     <use xlink:href=\"#md67f5c16d9\" x=\"108.877511\" y=\"62.32457\" style=\"fill: #1f77b4; stroke: #1f77b4\"/>\n     <use xlink:href=\"#md67f5c16d9\" x=\"163.50547\" y=\"78.735949\" style=\"fill: #1f77b4; stroke: #1f77b4\"/>\n     <use xlink:href=\"#md67f5c16d9\" x=\"97.909816\" y=\"61.240718\" style=\"fill: #1f77b4; stroke: #1f77b4\"/>\n     <use xlink:href=\"#md67f5c16d9\" x=\"95.593793\" y=\"53.44898\" style=\"fill: #1f77b4; stroke: #1f77b4\"/>\n     <use xlink:href=\"#md67f5c16d9\" x=\"158.546518\" y=\"86.824533\" style=\"fill: #1f77b4; stroke: #1f77b4\"/>\n     <use xlink:href=\"#md67f5c16d9\" x=\"188.584305\" y=\"88.085735\" style=\"fill: #1f77b4; stroke: #1f77b4\"/>\n     <use xlink:href=\"#md67f5c16d9\" x=\"112.005877\" y=\"57.285783\" style=\"fill: #1f77b4; stroke: #1f77b4\"/>\n     <use xlink:href=\"#md67f5c16d9\" x=\"88.056963\" y=\"51.574446\" style=\"fill: #1f77b4; stroke: #1f77b4\"/>\n     <use xlink:href=\"#md67f5c16d9\" x=\"149.232532\" y=\"72.38753\" style=\"fill: #1f77b4; stroke: #1f77b4\"/>\n     <use xlink:href=\"#md67f5c16d9\" x=\"124.998439\" y=\"69.660166\" style=\"fill: #1f77b4; stroke: #1f77b4\"/>\n     <use xlink:href=\"#md67f5c16d9\" x=\"130.668688\" y=\"64.559186\" style=\"fill: #1f77b4; stroke: #1f77b4\"/>\n     <use xlink:href=\"#md67f5c16d9\" x=\"131.34826\" y=\"80.36067\" style=\"fill: #1f77b4; stroke: #1f77b4\"/>\n     <use xlink:href=\"#md67f5c16d9\" x=\"95.975634\" y=\"37.291331\" style=\"fill: #1f77b4; stroke: #1f77b4\"/>\n     <use xlink:href=\"#md67f5c16d9\" x=\"98.018281\" y=\"65.887291\" style=\"fill: #1f77b4; stroke: #1f77b4\"/>\n     <use xlink:href=\"#md67f5c16d9\" x=\"136.363191\" y=\"67.150161\" style=\"fill: #1f77b4; stroke: #1f77b4\"/>\n     <use xlink:href=\"#md67f5c16d9\" x=\"66.133313\" y=\"42.491039\" style=\"fill: #1f77b4; stroke: #1f77b4\"/>\n     <use xlink:href=\"#md67f5c16d9\" x=\"138.173729\" y=\"57.001465\" style=\"fill: #1f77b4; stroke: #1f77b4\"/>\n     <use xlink:href=\"#md67f5c16d9\" x=\"150.343204\" y=\"74.085583\" style=\"fill: #1f77b4; stroke: #1f77b4\"/>\n     <use xlink:href=\"#md67f5c16d9\" x=\"110.579895\" y=\"62.010116\" style=\"fill: #1f77b4; stroke: #1f77b4\"/>\n     <use xlink:href=\"#md67f5c16d9\" x=\"136.181407\" y=\"92.036638\" style=\"fill: #1f77b4; stroke: #1f77b4\"/>\n     <use xlink:href=\"#md67f5c16d9\" x=\"148.107661\" y=\"88.871581\" style=\"fill: #1f77b4; stroke: #1f77b4\"/>\n     <use xlink:href=\"#md67f5c16d9\" x=\"127.250165\" y=\"68.772292\" style=\"fill: #1f77b4; stroke: #1f77b4\"/>\n     <use xlink:href=\"#md67f5c16d9\" x=\"128.167509\" y=\"66.596026\" style=\"fill: #1f77b4; stroke: #1f77b4\"/>\n     <use xlink:href=\"#md67f5c16d9\" x=\"122.053125\" y=\"52.994459\" style=\"fill: #1f77b4; stroke: #1f77b4\"/>\n     <use xlink:href=\"#md67f5c16d9\" x=\"149.619555\" y=\"80.944902\" style=\"fill: #1f77b4; stroke: #1f77b4\"/>\n     <use xlink:href=\"#md67f5c16d9\" x=\"148.240357\" y=\"101.659129\" style=\"fill: #1f77b4; stroke: #1f77b4\"/>\n     <use xlink:href=\"#md67f5c16d9\" x=\"112.46706\" y=\"48.158463\" style=\"fill: #1f77b4; stroke: #1f77b4\"/>\n     <use xlink:href=\"#md67f5c16d9\" x=\"120.873835\" y=\"92.835025\" style=\"fill: #1f77b4; stroke: #1f77b4\"/>\n     <use xlink:href=\"#md67f5c16d9\" x=\"63.377365\" y=\"32.436963\" style=\"fill: #1f77b4; stroke: #1f77b4\"/>\n     <use xlink:href=\"#md67f5c16d9\" x=\"81.22766\" y=\"27.077993\" style=\"fill: #1f77b4; stroke: #1f77b4\"/>\n     <use xlink:href=\"#md67f5c16d9\" x=\"169.709774\" y=\"94.419264\" style=\"fill: #1f77b4; stroke: #1f77b4\"/>\n     <use xlink:href=\"#md67f5c16d9\" x=\"135.604739\" y=\"86.069817\" style=\"fill: #1f77b4; stroke: #1f77b4\"/>\n     <use xlink:href=\"#md67f5c16d9\" x=\"117.039387\" y=\"54.884561\" style=\"fill: #1f77b4; stroke: #1f77b4\"/>\n     <use xlink:href=\"#md67f5c16d9\" x=\"168.148253\" y=\"79.649545\" style=\"fill: #1f77b4; stroke: #1f77b4\"/>\n     <use xlink:href=\"#md67f5c16d9\" x=\"149.212762\" y=\"86.233151\" style=\"fill: #1f77b4; stroke: #1f77b4\"/>\n     <use xlink:href=\"#md67f5c16d9\" x=\"106.109293\" y=\"65.048639\" style=\"fill: #1f77b4; stroke: #1f77b4\"/>\n     <use xlink:href=\"#md67f5c16d9\" x=\"127.535997\" y=\"85.814041\" style=\"fill: #1f77b4; stroke: #1f77b4\"/>\n     <use xlink:href=\"#md67f5c16d9\" x=\"171.314768\" y=\"105.48754\" style=\"fill: #1f77b4; stroke: #1f77b4\"/>\n     <use xlink:href=\"#md67f5c16d9\" x=\"120.205581\" y=\"61.116722\" style=\"fill: #1f77b4; stroke: #1f77b4\"/>\n     <use xlink:href=\"#md67f5c16d9\" x=\"165.226809\" y=\"79.087853\" style=\"fill: #1f77b4; stroke: #1f77b4\"/>\n     <use xlink:href=\"#md67f5c16d9\" x=\"44.18196\" y=\"22.213687\" style=\"fill: #1f77b4; stroke: #1f77b4\"/>\n     <use xlink:href=\"#md67f5c16d9\" x=\"111.097482\" y=\"47.043889\" style=\"fill: #1f77b4; stroke: #1f77b4\"/>\n     <use xlink:href=\"#md67f5c16d9\" x=\"133.305485\" y=\"80.141492\" style=\"fill: #1f77b4; stroke: #1f77b4\"/>\n     <use xlink:href=\"#md67f5c16d9\" x=\"102.518547\" y=\"55.694542\" style=\"fill: #1f77b4; stroke: #1f77b4\"/>\n     <use xlink:href=\"#md67f5c16d9\" x=\"118.547003\" y=\"75.725389\" style=\"fill: #1f77b4; stroke: #1f77b4\"/>\n     <use xlink:href=\"#md67f5c16d9\" x=\"142.729673\" y=\"84.123715\" style=\"fill: #1f77b4; stroke: #1f77b4\"/>\n     <use xlink:href=\"#md67f5c16d9\" x=\"127.439391\" y=\"56.02954\" style=\"fill: #1f77b4; stroke: #1f77b4\"/>\n    </g>\n   </g>\n   <g id=\"matplotlib.axis_1\">\n    <g id=\"xtick_1\">\n     <g id=\"line2d_1\">\n      <defs>\n       <path id=\"ma0e7ff3781\" d=\"M 0 0 \nL 0 3.5 \n\" style=\"stroke: #000000; stroke-width: 0.8\"/>\n      </defs>\n      <g>\n       <use xlink:href=\"#ma0e7ff3781\" x=\"64.30741\" y=\"145.8\" style=\"stroke: #000000; stroke-width: 0.8\"/>\n      </g>\n     </g>\n     <g id=\"text_1\">\n      <!-- −2 -->\n      <g transform=\"translate(56.936316 160.398438) scale(0.1 -0.1)\">\n       <defs>\n        <path id=\"DejaVuSans-2212\" d=\"M 678 2272 \nL 4684 2272 \nL 4684 1741 \nL 678 1741 \nL 678 2272 \nz\n\" transform=\"scale(0.015625)\"/>\n        <path id=\"DejaVuSans-32\" d=\"M 1228 531 \nL 3431 531 \nL 3431 0 \nL 469 0 \nL 469 531 \nQ 828 903 1448 1529 \nQ 2069 2156 2228 2338 \nQ 2531 2678 2651 2914 \nQ 2772 3150 2772 3378 \nQ 2772 3750 2511 3984 \nQ 2250 4219 1831 4219 \nQ 1534 4219 1204 4116 \nQ 875 4013 500 3803 \nL 500 4441 \nQ 881 4594 1212 4672 \nQ 1544 4750 1819 4750 \nQ 2544 4750 2975 4387 \nQ 3406 4025 3406 3419 \nQ 3406 3131 3298 2873 \nQ 3191 2616 2906 2266 \nQ 2828 2175 2409 1742 \nQ 1991 1309 1228 531 \nz\n\" transform=\"scale(0.015625)\"/>\n       </defs>\n       <use xlink:href=\"#DejaVuSans-2212\"/>\n       <use xlink:href=\"#DejaVuSans-32\" x=\"83.789062\"/>\n      </g>\n     </g>\n    </g>\n    <g id=\"xtick_2\">\n     <g id=\"line2d_2\">\n      <g>\n       <use xlink:href=\"#ma0e7ff3781\" x=\"126.205183\" y=\"145.8\" style=\"stroke: #000000; stroke-width: 0.8\"/>\n      </g>\n     </g>\n     <g id=\"text_2\">\n      <!-- 0 -->\n      <g transform=\"translate(123.023933 160.398438) scale(0.1 -0.1)\">\n       <defs>\n        <path id=\"DejaVuSans-30\" d=\"M 2034 4250 \nQ 1547 4250 1301 3770 \nQ 1056 3291 1056 2328 \nQ 1056 1369 1301 889 \nQ 1547 409 2034 409 \nQ 2525 409 2770 889 \nQ 3016 1369 3016 2328 \nQ 3016 3291 2770 3770 \nQ 2525 4250 2034 4250 \nz\nM 2034 4750 \nQ 2819 4750 3233 4129 \nQ 3647 3509 3647 2328 \nQ 3647 1150 3233 529 \nQ 2819 -91 2034 -91 \nQ 1250 -91 836 529 \nQ 422 1150 422 2328 \nQ 422 3509 836 4129 \nQ 1250 4750 2034 4750 \nz\n\" transform=\"scale(0.015625)\"/>\n       </defs>\n       <use xlink:href=\"#DejaVuSans-30\"/>\n      </g>\n     </g>\n    </g>\n    <g id=\"xtick_3\">\n     <g id=\"line2d_3\">\n      <g>\n       <use xlink:href=\"#ma0e7ff3781\" x=\"188.102957\" y=\"145.8\" style=\"stroke: #000000; stroke-width: 0.8\"/>\n      </g>\n     </g>\n     <g id=\"text_3\">\n      <!-- 2 -->\n      <g transform=\"translate(184.921707 160.398438) scale(0.1 -0.1)\">\n       <use xlink:href=\"#DejaVuSans-32\"/>\n      </g>\n     </g>\n    </g>\n   </g>\n   <g id=\"matplotlib.axis_2\">\n    <g id=\"ytick_1\">\n     <g id=\"line2d_4\">\n      <defs>\n       <path id=\"mde31c70240\" d=\"M 0 0 \nL -3.5 0 \n\" style=\"stroke: #000000; stroke-width: 0.8\"/>\n      </defs>\n      <g>\n       <use xlink:href=\"#mde31c70240\" x=\"35.304688\" y=\"136.894282\" style=\"stroke: #000000; stroke-width: 0.8\"/>\n      </g>\n     </g>\n     <g id=\"text_4\">\n      <!-- −10 -->\n      <g transform=\"translate(7.2 140.693501) scale(0.1 -0.1)\">\n       <defs>\n        <path id=\"DejaVuSans-31\" d=\"M 794 531 \nL 1825 531 \nL 1825 4091 \nL 703 3866 \nL 703 4441 \nL 1819 4666 \nL 2450 4666 \nL 2450 531 \nL 3481 531 \nL 3481 0 \nL 794 0 \nL 794 531 \nz\n\" transform=\"scale(0.015625)\"/>\n       </defs>\n       <use xlink:href=\"#DejaVuSans-2212\"/>\n       <use xlink:href=\"#DejaVuSans-31\" x=\"83.789062\"/>\n       <use xlink:href=\"#DejaVuSans-30\" x=\"147.412109\"/>\n      </g>\n     </g>\n    </g>\n    <g id=\"ytick_2\">\n     <g id=\"line2d_5\">\n      <g>\n       <use xlink:href=\"#mde31c70240\" x=\"35.304688\" y=\"113.22007\" style=\"stroke: #000000; stroke-width: 0.8\"/>\n      </g>\n     </g>\n     <g id=\"text_5\">\n      <!-- −5 -->\n      <g transform=\"translate(13.5625 117.019289) scale(0.1 -0.1)\">\n       <defs>\n        <path id=\"DejaVuSans-35\" d=\"M 691 4666 \nL 3169 4666 \nL 3169 4134 \nL 1269 4134 \nL 1269 2991 \nQ 1406 3038 1543 3061 \nQ 1681 3084 1819 3084 \nQ 2600 3084 3056 2656 \nQ 3513 2228 3513 1497 \nQ 3513 744 3044 326 \nQ 2575 -91 1722 -91 \nQ 1428 -91 1123 -41 \nQ 819 9 494 109 \nL 494 744 \nQ 775 591 1075 516 \nQ 1375 441 1709 441 \nQ 2250 441 2565 725 \nQ 2881 1009 2881 1497 \nQ 2881 1984 2565 2268 \nQ 2250 2553 1709 2553 \nQ 1456 2553 1204 2497 \nQ 953 2441 691 2322 \nL 691 4666 \nz\n\" transform=\"scale(0.015625)\"/>\n       </defs>\n       <use xlink:href=\"#DejaVuSans-2212\"/>\n       <use xlink:href=\"#DejaVuSans-35\" x=\"83.789062\"/>\n      </g>\n     </g>\n    </g>\n    <g id=\"ytick_3\">\n     <g id=\"line2d_6\">\n      <g>\n       <use xlink:href=\"#mde31c70240\" x=\"35.304688\" y=\"89.545858\" style=\"stroke: #000000; stroke-width: 0.8\"/>\n      </g>\n     </g>\n     <g id=\"text_6\">\n      <!-- 0 -->\n      <g transform=\"translate(21.942187 93.345076) scale(0.1 -0.1)\">\n       <use xlink:href=\"#DejaVuSans-30\"/>\n      </g>\n     </g>\n    </g>\n    <g id=\"ytick_4\">\n     <g id=\"line2d_7\">\n      <g>\n       <use xlink:href=\"#mde31c70240\" x=\"35.304688\" y=\"65.871645\" style=\"stroke: #000000; stroke-width: 0.8\"/>\n      </g>\n     </g>\n     <g id=\"text_7\">\n      <!-- 5 -->\n      <g transform=\"translate(21.942187 69.670864) scale(0.1 -0.1)\">\n       <use xlink:href=\"#DejaVuSans-35\"/>\n      </g>\n     </g>\n    </g>\n    <g id=\"ytick_5\">\n     <g id=\"line2d_8\">\n      <g>\n       <use xlink:href=\"#mde31c70240\" x=\"35.304688\" y=\"42.197433\" style=\"stroke: #000000; stroke-width: 0.8\"/>\n      </g>\n     </g>\n     <g id=\"text_8\">\n      <!-- 10 -->\n      <g transform=\"translate(15.579687 45.996651) scale(0.1 -0.1)\">\n       <use xlink:href=\"#DejaVuSans-31\"/>\n       <use xlink:href=\"#DejaVuSans-30\" x=\"63.623047\"/>\n      </g>\n     </g>\n    </g>\n    <g id=\"ytick_6\">\n     <g id=\"line2d_9\">\n      <g>\n       <use xlink:href=\"#mde31c70240\" x=\"35.304688\" y=\"18.52322\" style=\"stroke: #000000; stroke-width: 0.8\"/>\n      </g>\n     </g>\n     <g id=\"text_9\">\n      <!-- 15 -->\n      <g transform=\"translate(15.579687 22.322439) scale(0.1 -0.1)\">\n       <use xlink:href=\"#DejaVuSans-31\"/>\n       <use xlink:href=\"#DejaVuSans-35\" x=\"63.623047\"/>\n      </g>\n     </g>\n    </g>\n   </g>\n   <g id=\"patch_3\">\n    <path d=\"M 35.304688 145.8 \nL 35.304688 7.2 \n\" style=\"fill: none; stroke: #000000; stroke-width: 0.8; stroke-linejoin: miter; stroke-linecap: square\"/>\n   </g>\n   <g id=\"patch_4\">\n    <path d=\"M 230.604688 145.8 \nL 230.604688 7.2 \n\" style=\"fill: none; stroke: #000000; stroke-width: 0.8; stroke-linejoin: miter; stroke-linecap: square\"/>\n   </g>\n   <g id=\"patch_5\">\n    <path d=\"M 35.304688 145.8 \nL 230.604688 145.8 \n\" style=\"fill: none; stroke: #000000; stroke-width: 0.8; stroke-linejoin: miter; stroke-linecap: square\"/>\n   </g>\n   <g id=\"patch_6\">\n    <path d=\"M 35.304688 7.2 \nL 230.604688 7.2 \n\" style=\"fill: none; stroke: #000000; stroke-width: 0.8; stroke-linejoin: miter; stroke-linecap: square\"/>\n   </g>\n  </g>\n </g>\n <defs>\n  <clipPath id=\"pb40ff3b656\">\n   <rect x=\"35.304688\" y=\"7.2\" width=\"195.3\" height=\"138.6\"/>\n  </clipPath>\n </defs>\n</svg>\n"
     },
     "metadata": {},
     "output_type": "display_data"
    }
   ],
   "source": [
    "d2l.set_figsize()\n",
    "d2l.plt.scatter(features[:, 1].detach().numpy(), labels.detach().numpy(), 1);"
   ]
  },
  {
   "cell_type": "markdown",
   "id": "d28e67d3",
   "metadata": {
    "origin_pos": 13
   },
   "source": [
    "## 读取数据集\n",
    "\n",
    "回想一下，训练模型时要对数据集进行遍历，每次抽取一小批量样本，并使用它们来更新我们的模型。\n",
    "由于这个过程是训练机器学习算法的基础，所以有必要定义一个函数，\n",
    "该函数能打乱数据集中的样本并以小批量方式获取数据。\n",
    "\n",
    "在下面的代码中，我们[**定义一个`data_iter`函数，\n",
    "该函数接收批量大小、特征矩阵和标签向量作为输入，生成大小为`batch_size`的小批量**]。\n",
    "每个小批量包含一组特征和标签。\n"
   ]
  },
  {
   "cell_type": "code",
   "execution_count": 51,
   "id": "9505ff1c",
   "metadata": {
    "execution": {
     "iopub.execute_input": "2022-12-07T16:43:06.555825Z",
     "iopub.status.busy": "2022-12-07T16:43:06.555541Z",
     "iopub.status.idle": "2022-12-07T16:43:06.561066Z",
     "shell.execute_reply": "2022-12-07T16:43:06.560334Z"
    },
    "origin_pos": 14,
    "tab": [
     "pytorch"
    ],
    "ExecuteTime": {
     "end_time": "2023-11-29T00:17:46.815496Z",
     "start_time": "2023-11-29T00:17:46.811590100Z"
    }
   },
   "outputs": [],
   "source": [
    "def data_iter(batch_size, features, labels):\n",
    "    num_examples = len(features)\n",
    "    indices = list(range(num_examples))\n",
    "    # 这些样本是随机读取的，没有特定的顺序\n",
    "    random.shuffle(indices)\n",
    "    for i in range(0, num_examples, batch_size):\n",
    "        batch_indices = torch.tensor(\n",
    "            indices[i: min(i + batch_size, num_examples)])\n",
    "        # print(f'batch_indices: {batch_indices.shape}')\n",
    "        # print(f'features[batch_indices]: {features[batch_indices]}')\n",
    "        yield features[batch_indices], labels[batch_indices]"
   ]
  },
  {
   "cell_type": "markdown",
   "id": "edc07979",
   "metadata": {
    "origin_pos": 16
   },
   "source": [
    "通常，我们利用GPU并行运算的优势，处理合理大小的“小批量”。\n",
    "每个样本都可以并行地进行模型计算，且每个样本损失函数的梯度也可以被并行计算。\n",
    "GPU可以在处理几百个样本时，所花费的时间不比处理一个样本时多太多。\n",
    "\n",
    "我们直观感受一下小批量运算：读取第一个小批量数据样本并打印。\n",
    "每个批量的特征维度显示批量大小和输入特征数。\n",
    "同样的，批量的标签形状与`batch_size`相等。\n"
   ]
  },
  {
   "cell_type": "code",
   "execution_count": 52,
   "id": "3934d3c4",
   "metadata": {
    "execution": {
     "iopub.execute_input": "2022-12-07T16:43:06.565191Z",
     "iopub.status.busy": "2022-12-07T16:43:06.564923Z",
     "iopub.status.idle": "2022-12-07T16:43:06.571970Z",
     "shell.execute_reply": "2022-12-07T16:43:06.571038Z"
    },
    "origin_pos": 17,
    "tab": [
     "pytorch"
    ],
    "ExecuteTime": {
     "end_time": "2023-11-29T00:17:49.180981400Z",
     "start_time": "2023-11-29T00:17:49.177521800Z"
    }
   },
   "outputs": [
    {
     "name": "stdout",
     "output_type": "stream",
     "text": [
      "tensor([[ 0.1010, -0.4205],\n",
      "        [-1.2046,  2.2540],\n",
      "        [-1.1381, -0.3174],\n",
      "        [ 1.9268, -0.1064],\n",
      "        [ 0.7030,  1.0608],\n",
      "        [-1.1610, -0.3752],\n",
      "        [-0.4863,  1.2481],\n",
      "        [-0.3538,  1.0593],\n",
      "        [ 0.2658,  0.6130],\n",
      "        [-0.5580, -1.0893]]) \n",
      " tensor([[ 5.8311],\n",
      "        [-5.8547],\n",
      "        [ 2.9898],\n",
      "        [ 8.4224],\n",
      "        [ 1.9984],\n",
      "        [ 3.1585],\n",
      "        [-1.0159],\n",
      "        [-0.1225],\n",
      "        [ 2.6483],\n",
      "        [ 6.7742]])\n"
     ]
    }
   ],
   "source": [
    "batch_size = 10\n",
    "\n",
    "for X, y in data_iter(batch_size, features, labels):\n",
    "    print(X, '\\n', y)\n",
    "    break"
   ]
  },
  {
   "cell_type": "markdown",
   "id": "f959e76b",
   "metadata": {
    "origin_pos": 18
   },
   "source": [
    "当我们运行迭代时，我们会连续地获得不同的小批量，直至遍历完整个数据集。\n",
    "上面实现的迭代对教学来说很好，但它的执行效率很低，可能会在实际问题上陷入麻烦。\n",
    "例如，它要求我们将所有数据加载到内存中，并执行大量的随机内存访问。\n",
    "在深度学习框架中实现的内置迭代器效率要高得多，\n",
    "它可以处理存储在文件中的数据和数据流提供的数据。\n",
    "\n",
    "## 初始化模型参数\n",
    "\n",
    "[**在我们开始用小批量随机梯度下降优化我们的模型参数之前**]，\n",
    "(**我们需要先有一些参数**)。\n",
    "在下面的代码中，我们通过从均值为0、标准差为0.01的正态分布中采样随机数来初始化权重，\n",
    "并将偏置初始化为0。\n"
   ]
  },
  {
   "cell_type": "code",
   "execution_count": 53,
   "id": "23a1437e",
   "metadata": {
    "execution": {
     "iopub.execute_input": "2022-12-07T16:43:06.575915Z",
     "iopub.status.busy": "2022-12-07T16:43:06.575647Z",
     "iopub.status.idle": "2022-12-07T16:43:06.580295Z",
     "shell.execute_reply": "2022-12-07T16:43:06.579544Z"
    },
    "origin_pos": 20,
    "tab": [
     "pytorch"
    ],
    "ExecuteTime": {
     "end_time": "2023-11-29T00:29:14.743126400Z",
     "start_time": "2023-11-29T00:29:14.732830900Z"
    }
   },
   "outputs": [],
   "source": [
    "w = torch.normal(0, 0.01, size=(2, 1), requires_grad=True)\n",
    "b = torch.zeros(1, requires_grad=True)"
   ]
  },
  {
   "cell_type": "markdown",
   "id": "f6ad34a9",
   "metadata": {
    "origin_pos": 23
   },
   "source": [
    "在初始化参数之后，我们的任务是更新这些参数，直到这些参数足够拟合我们的数据。\n",
    "每次更新都需要计算损失函数关于模型参数的梯度。\n",
    "有了这个梯度，我们就可以向减小损失的方向更新每个参数。\n",
    "因为手动计算梯度很枯燥而且容易出错，所以没有人会手动计算梯度。\n",
    "我们使用 :numref:`sec_autograd`中引入的自动微分来计算梯度。\n",
    "\n",
    "## 定义模型\n",
    "\n",
    "接下来，我们必须[**定义模型，将模型的输入和参数同模型的输出关联起来。**]\n",
    "回想一下，要计算线性模型的输出，\n",
    "我们只需计算输入特征$\\mathbf{X}$和模型权重$\\mathbf{w}$的矩阵-向量乘法后加上偏置$b$。\n",
    "注意，上面的$\\mathbf{Xw}$是一个向量，而$b$是一个标量。\n",
    "回想一下 :numref:`subsec_broadcasting`中描述的广播机制：\n",
    "当我们用一个向量加一个标量时，标量会被加到向量的每个分量上。\n"
   ]
  },
  {
   "cell_type": "code",
   "execution_count": 54,
   "id": "67386d14",
   "metadata": {
    "execution": {
     "iopub.execute_input": "2022-12-07T16:43:06.583374Z",
     "iopub.status.busy": "2022-12-07T16:43:06.583103Z",
     "iopub.status.idle": "2022-12-07T16:43:06.587197Z",
     "shell.execute_reply": "2022-12-07T16:43:06.586376Z"
    },
    "origin_pos": 24,
    "tab": [
     "pytorch"
    ],
    "ExecuteTime": {
     "end_time": "2023-11-29T00:29:17.123654700Z",
     "start_time": "2023-11-29T00:29:17.119222100Z"
    }
   },
   "outputs": [],
   "source": [
    "def linreg(X, w, b):  #@save\n",
    "    \"\"\"线性回归模型\"\"\"\n",
    "    return torch.matmul(X, w) + b"
   ]
  },
  {
   "cell_type": "markdown",
   "id": "7a087a5b",
   "metadata": {
    "origin_pos": 25
   },
   "source": [
    "## [**定义损失函数**]\n",
    "\n",
    "因为需要计算损失函数的梯度，所以我们应该先定义损失函数。\n",
    "这里我们使用 :numref:`sec_linear_regression`中描述的平方损失函数。\n",
    "在实现中，我们需要将真实值`y`的形状转换为和预测值`y_hat`的形状相同。\n"
   ]
  },
  {
   "cell_type": "code",
   "execution_count": 55,
   "id": "b95eb605",
   "metadata": {
    "execution": {
     "iopub.execute_input": "2022-12-07T16:43:06.590200Z",
     "iopub.status.busy": "2022-12-07T16:43:06.589934Z",
     "iopub.status.idle": "2022-12-07T16:43:06.594002Z",
     "shell.execute_reply": "2022-12-07T16:43:06.593170Z"
    },
    "origin_pos": 26,
    "tab": [
     "pytorch"
    ],
    "ExecuteTime": {
     "end_time": "2023-11-29T00:29:19.188432100Z",
     "start_time": "2023-11-29T00:29:19.184976900Z"
    }
   },
   "outputs": [],
   "source": [
    "def squared_loss(y_hat, y):  #@save\n",
    "    \"\"\"均方损失\"\"\"\n",
    "    return (y_hat - y.reshape(y_hat.shape)) ** 2 / 2"
   ]
  },
  {
   "cell_type": "markdown",
   "id": "1919becd",
   "metadata": {
    "origin_pos": 27
   },
   "source": [
    "## (**定义优化算法**)\n",
    "\n",
    "正如我们在 :numref:`sec_linear_regression`中讨论的，线性回归有解析解。\n",
    "尽管线性回归有解析解，但本书中的其他模型却没有。\n",
    "这里我们介绍小批量随机梯度下降。\n",
    "\n",
    "在每一步中，使用从数据集中随机抽取的一个小批量，然后根据参数计算损失的梯度。\n",
    "接下来，朝着减少损失的方向更新我们的参数。\n",
    "下面的函数实现小批量随机梯度下降更新。\n",
    "该函数接受模型参数集合、学习速率和批量大小作为输入。每\n",
    "一步更新的大小由学习速率`lr`决定。\n",
    "因为我们计算的损失是一个批量样本的总和，所以我们用批量大小（`batch_size`）\n",
    "来规范化步长，这样步长大小就不会取决于我们对批量大小的选择。\n"
   ]
  },
  {
   "cell_type": "code",
   "execution_count": 56,
   "id": "a6360e87",
   "metadata": {
    "execution": {
     "iopub.execute_input": "2022-12-07T16:43:06.597167Z",
     "iopub.status.busy": "2022-12-07T16:43:06.596900Z",
     "iopub.status.idle": "2022-12-07T16:43:06.601385Z",
     "shell.execute_reply": "2022-12-07T16:43:06.600532Z"
    },
    "origin_pos": 29,
    "tab": [
     "pytorch"
    ],
    "ExecuteTime": {
     "end_time": "2023-11-29T00:29:21.812866700Z",
     "start_time": "2023-11-29T00:29:21.809937300Z"
    }
   },
   "outputs": [],
   "source": [
    "def sgd(params, lr, batch_size):  #@save\n",
    "    \"\"\"小批量随机梯度下降\"\"\"\n",
    "    with torch.no_grad():\n",
    "        for param in params:\n",
    "            param -= lr * param.grad / batch_size\n",
    "            param.grad.zero_()"
   ]
  },
  {
   "cell_type": "markdown",
   "id": "9e466d4d",
   "metadata": {
    "origin_pos": 32
   },
   "source": [
    "## 训练\n",
    "\n",
    "现在我们已经准备好了模型训练所有需要的要素，可以实现主要的[**训练过程**]部分了。\n",
    "理解这段代码至关重要，因为从事深度学习后，\n",
    "相同的训练过程几乎一遍又一遍地出现。\n",
    "在每次迭代中，我们读取一小批量训练样本，并通过我们的模型来获得一组预测。\n",
    "计算完损失后，我们开始反向传播，存储每个参数的梯度。\n",
    "最后，我们调用优化算法`sgd`来更新模型参数。\n",
    "\n",
    "概括一下，我们将执行以下循环：\n",
    "\n",
    "* 初始化参数\n",
    "* 重复以下训练，直到完成\n",
    "    * 计算梯度$\\mathbf{g} \\leftarrow \\partial_{(\\mathbf{w},b)} \\frac{1}{|\\mathcal{B}|} \\sum_{i \\in \\mathcal{B}} l(\\mathbf{x}^{(i)}, y^{(i)}, \\mathbf{w}, b)$\n",
    "    * 更新参数$(\\mathbf{w}, b) \\leftarrow (\\mathbf{w}, b) - \\eta \\mathbf{g}$\n",
    "\n",
    "在每个*迭代周期*（epoch）中，我们使用`data_iter`函数遍历整个数据集，\n",
    "并将训练数据集中所有样本都使用一次（假设样本数能够被批量大小整除）。\n",
    "这里的迭代周期个数`num_epochs`和学习率`lr`都是超参数，分别设为3和0.03。\n",
    "设置超参数很棘手，需要通过反复试验进行调整。\n",
    "我们现在忽略这些细节，以后会在 :numref:`chap_optimization`中详细介绍。\n"
   ]
  },
  {
   "cell_type": "code",
   "execution_count": 57,
   "id": "102331db",
   "metadata": {
    "execution": {
     "iopub.execute_input": "2022-12-07T16:43:06.604403Z",
     "iopub.status.busy": "2022-12-07T16:43:06.604136Z",
     "iopub.status.idle": "2022-12-07T16:43:06.608339Z",
     "shell.execute_reply": "2022-12-07T16:43:06.607465Z"
    },
    "origin_pos": 33,
    "tab": [
     "pytorch"
    ],
    "ExecuteTime": {
     "end_time": "2023-11-29T00:29:25.140514200Z",
     "start_time": "2023-11-29T00:29:25.137585Z"
    }
   },
   "outputs": [],
   "source": [
    "lr = 0.03\n",
    "num_epochs = 3\n",
    "net = linreg\n",
    "loss = squared_loss"
   ]
  },
  {
   "cell_type": "code",
   "execution_count": 58,
   "id": "97d6ac25",
   "metadata": {
    "execution": {
     "iopub.execute_input": "2022-12-07T16:43:06.611713Z",
     "iopub.status.busy": "2022-12-07T16:43:06.611103Z",
     "iopub.status.idle": "2022-12-07T16:43:06.718470Z",
     "shell.execute_reply": "2022-12-07T16:43:06.717660Z"
    },
    "origin_pos": 35,
    "tab": [
     "pytorch"
    ],
    "ExecuteTime": {
     "end_time": "2023-11-29T00:30:21.413470600Z",
     "start_time": "2023-11-29T00:30:21.351754800Z"
    }
   },
   "outputs": [
    {
     "name": "stdout",
     "output_type": "stream",
     "text": [
      "epoch 1, loss 0.048478\n",
      "epoch 2, loss 0.000237\n",
      "epoch 3, loss 0.000050\n"
     ]
    }
   ],
   "source": [
    "for epoch in range(num_epochs):\n",
    "    for X, y in data_iter(batch_size, features, labels):\n",
    "        l = loss(net(X, w, b), y)  # X和y的小批量损失\n",
    "        # 因为l形状是(batch_size,1)，而不是一个标量。l中的所有元素被加到一起，\n",
    "        # 并以此计算关于[w,b]的梯度\n",
    "        l.sum().backward()\n",
    "        sgd([w, b], lr, batch_size)  # 使用参数的梯度更新参数\n",
    "    with torch.no_grad():\n",
    "        train_l = loss(net(features, w, b), labels)\n",
    "        print(f'epoch {epoch + 1}, loss {float(train_l.mean()):f}')"
   ]
  },
  {
   "cell_type": "markdown",
   "id": "c49ff328",
   "metadata": {
    "origin_pos": 38
   },
   "source": [
    "因为我们使用的是自己合成的数据集，所以我们知道真正的参数是什么。\n",
    "因此，我们可以通过[**比较真实参数和通过训练学到的参数来评估训练的成功程度**]。\n",
    "事实上，真实参数和通过训练学到的参数确实非常接近。\n"
   ]
  },
  {
   "cell_type": "code",
   "execution_count": 61,
   "id": "20cfe26e",
   "metadata": {
    "execution": {
     "iopub.execute_input": "2022-12-07T16:43:06.722173Z",
     "iopub.status.busy": "2022-12-07T16:43:06.721608Z",
     "iopub.status.idle": "2022-12-07T16:43:06.727216Z",
     "shell.execute_reply": "2022-12-07T16:43:06.726417Z"
    },
    "origin_pos": 39,
    "tab": [
     "pytorch"
    ],
    "ExecuteTime": {
     "end_time": "2023-11-29T00:32:38.444919200Z",
     "start_time": "2023-11-29T00:32:38.438470600Z"
    }
   },
   "outputs": [
    {
     "name": "stdout",
     "output_type": "stream",
     "text": [
      "tensor([[ 2.0003],\n",
      "        [-3.3985]], requires_grad=True) \n",
      " tensor([ 2.0000, -3.4000])\n",
      "w的估计误差: tensor([-0.0003, -0.0015], grad_fn=<SubBackward0>)\n",
      "b的估计误差: tensor([0.0013], grad_fn=<RsubBackward1>)\n"
     ]
    }
   ],
   "source": [
    "print(w, '\\n', true_w)\n",
    "print(f'w的估计误差: {true_w - w.reshape(true_w.shape)}')\n",
    "print(f'b的估计误差: {true_b - b}')"
   ]
  },
  {
   "cell_type": "markdown",
   "id": "256e4aea",
   "metadata": {
    "origin_pos": 40
   },
   "source": [
    "注意，我们不应该想当然地认为我们能够完美地求解参数。\n",
    "在机器学习中，我们通常不太关心恢复真正的参数，而更关心如何高度准确预测参数。\n",
    "幸运的是，即使是在复杂的优化问题上，随机梯度下降通常也能找到非常好的解。\n",
    "其中一个原因是，在深度网络中存在许多参数组合能够实现高度精确的预测。\n",
    "\n",
    "## 小结\n",
    "\n",
    "* 我们学习了深度网络是如何实现和优化的。在这一过程中只使用张量和自动微分，不需要定义层或复杂的优化器。\n",
    "* 这一节只触及到了表面知识。在下面的部分中，我们将基于刚刚介绍的概念描述其他模型，并学习如何更简洁地实现其他模型。\n",
    "\n",
    "## 练习\n",
    "\n",
    "1. 如果我们将权重初始化为零，会发生什么。算法仍然有效吗？\n",
    "1. 假设试图为电压和电流的关系建立一个模型。自动微分可以用来学习模型的参数吗?\n",
    "1. 能基于[普朗克定律](https://en.wikipedia.org/wiki/Planck%27s_law)使用光谱能量密度来确定物体的温度吗？\n",
    "1. 计算二阶导数时可能会遇到什么问题？这些问题可以如何解决？\n",
    "1. 为什么在`squared_loss`函数中需要使用`reshape`函数？\n",
    "1. 尝试使用不同的学习率，观察损失函数值下降的快慢。\n",
    "1. 如果样本个数不能被批量大小整除，`data_iter`函数的行为会有什么变化？\n"
   ]
  },
  {
   "cell_type": "markdown",
   "id": "084dd552",
   "metadata": {
    "origin_pos": 42,
    "tab": [
     "pytorch"
    ]
   },
   "source": [
    "[Discussions](https://discuss.d2l.ai/t/1778)\n"
   ]
  }
 ],
 "metadata": {
  "language_info": {
   "name": "python"
  },
  "kernelspec": {
   "name": "python3",
   "language": "python",
   "display_name": "Python 3 (ipykernel)"
  }
 },
 "nbformat": 4,
 "nbformat_minor": 5
}
