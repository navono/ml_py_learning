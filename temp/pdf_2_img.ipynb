{
 "cells": [
  {
   "cell_type": "code",
   "execution_count": 5,
   "id": "initial_id",
   "metadata": {
    "collapsed": true,
    "ExecuteTime": {
     "end_time": "2023-12-21T07:43:16.894792600Z",
     "start_time": "2023-12-21T07:43:16.891859300Z"
    }
   },
   "outputs": [],
   "source": [
    "import fitz\n",
    "import datetime\n",
    "import os\n",
    "\n",
    "\n",
    "def pyMuPDF_fitz(pdfPath, imagePath):\n",
    "    startTime_pdf2img = datetime.datetime.now()  # 开始时间\n",
    "\n",
    "    print(\"imagePath=\" + imagePath)\n",
    "    pdfDoc = fitz.open(pdfPath)\n",
    "    print(pdfDoc)\n",
    "    for pg in range(pdfDoc.page_count):\n",
    "        # if pg <= 18:\n",
    "        #     continue\n",
    "        page = pdfDoc[pg]\n",
    "        rotate = 0\n",
    "        zoom = 2\n",
    "        mat = fitz.Matrix(zoom, zoom).prerotate(rotate)\n",
    "        rect = page.rect\n",
    "        clip = fitz.Rect(rect.tl.x + 80, rect.tl.y + 25, rect.br.x - 25, rect.br.y - 25)\n",
    "        pix = page.get_pixmap(matrix=mat, alpha=False, clip=clip)\n",
    "\n",
    "        if not os.path.exists(imagePath):  # 判断存放图片的文件夹是否存在\n",
    "            os.makedirs(imagePath)  # 若图片文件夹不存在就创建\n",
    "\n",
    "        pix.pil_save(imagePath + '/' + 'image_%s.jpg' % (pg - 19))  # 将图片写入指定的文件夹内\n",
    "\n",
    "    endTime_pdf2img = datetime.datetime.now()  # 结束时间\n",
    "    print('pdf2img时间=', (endTime_pdf2img - startTime_pdf2img).seconds)\n"
   ]
  },
  {
   "cell_type": "code",
   "execution_count": 6,
   "outputs": [
    {
     "name": "stdout",
     "output_type": "stream",
     "text": [
      "imagePath=../output/pdf_img/塔里木\n",
      "Document('e:\\塔里木乙烯_22372-C02_PID.pdf')\n",
      "pdf2img时间= 64\n"
     ]
    }
   ],
   "source": [
    "dfPath = \"e:\\\\塔里木乙烯_22372-C02_PID.pdf\"\n",
    "imagePath = \"../output/pdf_img/塔里木\"\n",
    "pyMuPDF_fitz(dfPath, imagePath)"
   ],
   "metadata": {
    "collapsed": false,
    "ExecuteTime": {
     "end_time": "2023-12-21T07:44:23.460588Z",
     "start_time": "2023-12-21T07:43:19.251351Z"
    }
   },
   "id": "95e11c80afa5e772"
  }
 ],
 "metadata": {
  "kernelspec": {
   "display_name": "Python 3",
   "language": "python",
   "name": "python3"
  },
  "language_info": {
   "codemirror_mode": {
    "name": "ipython",
    "version": 2
   },
   "file_extension": ".py",
   "mimetype": "text/x-python",
   "name": "python",
   "nbconvert_exporter": "python",
   "pygments_lexer": "ipython2",
   "version": "2.7.6"
  }
 },
 "nbformat": 4,
 "nbformat_minor": 5
}
