{
 "cells": [
  {
   "cell_type": "code",
   "execution_count": 67,
   "id": "initial_id",
   "metadata": {
    "collapsed": true,
    "ExecuteTime": {
     "end_time": "2023-12-15T05:38:09.873529300Z",
     "start_time": "2023-12-15T05:25:37.580578Z"
    }
   },
   "outputs": [
    {
     "ename": "KeyboardInterrupt",
     "evalue": "",
     "output_type": "error",
     "traceback": [
      "\u001B[1;31m---------------------------------------------------------------------------\u001B[0m",
      "\u001B[1;31mKeyboardInterrupt\u001B[0m                         Traceback (most recent call last)",
      "Cell \u001B[1;32mIn[67], line 49\u001B[0m\n\u001B[0;32m     47\u001B[0m current_fig \u001B[38;5;241m=\u001B[39m plt\u001B[38;5;241m.\u001B[39mgcf()\n\u001B[0;32m     48\u001B[0m path_collections \u001B[38;5;241m=\u001B[39m plt\u001B[38;5;241m.\u001B[39mgcf()\u001B[38;5;241m.\u001B[39mfindobj(match\u001B[38;5;241m=\u001B[39m\u001B[38;5;28;01mlambda\u001B[39;00m x: \u001B[38;5;28misinstance\u001B[39m(x, PathCollection))\n\u001B[1;32m---> 49\u001B[0m \u001B[38;5;28;01mfor\u001B[39;00m path_collection \u001B[38;5;129;01min\u001B[39;00m \u001B[43mpath_collections\u001B[49m:\n\u001B[0;32m     50\u001B[0m     \u001B[38;5;66;03m# 从 PathCollection 中获取数据\u001B[39;00m\n\u001B[0;32m     51\u001B[0m     \u001B[38;5;66;03m# print(\"path_collection: \", path_collection)\u001B[39;00m\n\u001B[0;32m     53\u001B[0m     paths \u001B[38;5;241m=\u001B[39m path_collection\u001B[38;5;241m.\u001B[39mget_paths()\n\u001B[0;32m     54\u001B[0m     offsets \u001B[38;5;241m=\u001B[39m path_collection\u001B[38;5;241m.\u001B[39mget_offsets()\n",
      "Cell \u001B[1;32mIn[67], line 49\u001B[0m\n\u001B[0;32m     47\u001B[0m current_fig \u001B[38;5;241m=\u001B[39m plt\u001B[38;5;241m.\u001B[39mgcf()\n\u001B[0;32m     48\u001B[0m path_collections \u001B[38;5;241m=\u001B[39m plt\u001B[38;5;241m.\u001B[39mgcf()\u001B[38;5;241m.\u001B[39mfindobj(match\u001B[38;5;241m=\u001B[39m\u001B[38;5;28;01mlambda\u001B[39;00m x: \u001B[38;5;28misinstance\u001B[39m(x, PathCollection))\n\u001B[1;32m---> 49\u001B[0m \u001B[38;5;28;01mfor\u001B[39;00m path_collection \u001B[38;5;129;01min\u001B[39;00m \u001B[43mpath_collections\u001B[49m:\n\u001B[0;32m     50\u001B[0m     \u001B[38;5;66;03m# 从 PathCollection 中获取数据\u001B[39;00m\n\u001B[0;32m     51\u001B[0m     \u001B[38;5;66;03m# print(\"path_collection: \", path_collection)\u001B[39;00m\n\u001B[0;32m     53\u001B[0m     paths \u001B[38;5;241m=\u001B[39m path_collection\u001B[38;5;241m.\u001B[39mget_paths()\n\u001B[0;32m     54\u001B[0m     offsets \u001B[38;5;241m=\u001B[39m path_collection\u001B[38;5;241m.\u001B[39mget_offsets()\n",
      "File \u001B[1;32m_pydevd_bundle\\pydevd_cython_win32_39_64.pyx:1187\u001B[0m, in \u001B[0;36m_pydevd_bundle.pydevd_cython_win32_39_64.SafeCallWrapper.__call__\u001B[1;34m()\u001B[0m\n",
      "File \u001B[1;32m_pydevd_bundle\\pydevd_cython_win32_39_64.pyx:627\u001B[0m, in \u001B[0;36m_pydevd_bundle.pydevd_cython_win32_39_64.PyDBFrame.trace_dispatch\u001B[1;34m()\u001B[0m\n",
      "File \u001B[1;32m_pydevd_bundle\\pydevd_cython_win32_39_64.pyx:937\u001B[0m, in \u001B[0;36m_pydevd_bundle.pydevd_cython_win32_39_64.PyDBFrame.trace_dispatch\u001B[1;34m()\u001B[0m\n",
      "File \u001B[1;32m_pydevd_bundle\\pydevd_cython_win32_39_64.pyx:928\u001B[0m, in \u001B[0;36m_pydevd_bundle.pydevd_cython_win32_39_64.PyDBFrame.trace_dispatch\u001B[1;34m()\u001B[0m\n",
      "File \u001B[1;32m_pydevd_bundle\\pydevd_cython_win32_39_64.pyx:585\u001B[0m, in \u001B[0;36m_pydevd_bundle.pydevd_cython_win32_39_64.PyDBFrame.do_wait_suspend\u001B[1;34m()\u001B[0m\n",
      "File \u001B[1;32m~\\AppData\\Local\\Programs\\PyCharm Professional\\plugins\\python\\helpers\\pydev\\pydevd.py:1184\u001B[0m, in \u001B[0;36mPyDB.do_wait_suspend\u001B[1;34m(self, thread, frame, event, arg, send_suspend_message, is_unhandled_exception)\u001B[0m\n\u001B[0;32m   1181\u001B[0m         from_this_thread\u001B[38;5;241m.\u001B[39mappend(frame_id)\n\u001B[0;32m   1183\u001B[0m \u001B[38;5;28;01mwith\u001B[39;00m \u001B[38;5;28mself\u001B[39m\u001B[38;5;241m.\u001B[39m_threads_suspended_single_notification\u001B[38;5;241m.\u001B[39mnotify_thread_suspended(thread_id, stop_reason):\n\u001B[1;32m-> 1184\u001B[0m     \u001B[38;5;28;43mself\u001B[39;49m\u001B[38;5;241;43m.\u001B[39;49m\u001B[43m_do_wait_suspend\u001B[49m\u001B[43m(\u001B[49m\u001B[43mthread\u001B[49m\u001B[43m,\u001B[49m\u001B[43m \u001B[49m\u001B[43mframe\u001B[49m\u001B[43m,\u001B[49m\u001B[43m \u001B[49m\u001B[43mevent\u001B[49m\u001B[43m,\u001B[49m\u001B[43m \u001B[49m\u001B[43marg\u001B[49m\u001B[43m,\u001B[49m\u001B[43m \u001B[49m\u001B[43msuspend_type\u001B[49m\u001B[43m,\u001B[49m\u001B[43m \u001B[49m\u001B[43mfrom_this_thread\u001B[49m\u001B[43m)\u001B[49m\n",
      "File \u001B[1;32m~\\AppData\\Local\\Programs\\PyCharm Professional\\plugins\\python\\helpers\\pydev\\pydevd.py:1199\u001B[0m, in \u001B[0;36mPyDB._do_wait_suspend\u001B[1;34m(self, thread, frame, event, arg, suspend_type, from_this_thread)\u001B[0m\n\u001B[0;32m   1196\u001B[0m             \u001B[38;5;28mself\u001B[39m\u001B[38;5;241m.\u001B[39m_call_mpl_hook()\n\u001B[0;32m   1198\u001B[0m         \u001B[38;5;28mself\u001B[39m\u001B[38;5;241m.\u001B[39mprocess_internal_commands()\n\u001B[1;32m-> 1199\u001B[0m         \u001B[43mtime\u001B[49m\u001B[38;5;241;43m.\u001B[39;49m\u001B[43msleep\u001B[49m\u001B[43m(\u001B[49m\u001B[38;5;241;43m0.01\u001B[39;49m\u001B[43m)\u001B[49m\n\u001B[0;32m   1201\u001B[0m \u001B[38;5;28mself\u001B[39m\u001B[38;5;241m.\u001B[39mcancel_async_evaluation(get_current_thread_id(thread), \u001B[38;5;28mstr\u001B[39m(\u001B[38;5;28mid\u001B[39m(frame)))\n\u001B[0;32m   1203\u001B[0m \u001B[38;5;66;03m# process any stepping instructions\u001B[39;00m\n",
      "\u001B[1;31mKeyboardInterrupt\u001B[0m: "
     ]
    },
    {
     "data": {
      "text/plain": "<Figure size 1000x1000 with 1 Axes>",
      "image/png": "[encoded data removed]"
     },
     "metadata": {},
     "output_type": "display_data"
    }
   ],
   "source": [
    "import networkx as nx\n",
    "import matplotlib.pyplot as plt\n",
    "from matplotlib.collections import PathCollection\n",
    "import pickle\n",
    "\n",
    "# 创建一个空的图\n",
    "G = nx.MultiDiGraph()\n",
    "\n",
    "# 添加节点并指定位置和尺寸\n",
    "nodes = {\n",
    "    'input1': {'pos': (1, 5), 'size': 100, 'type': 'input'},\n",
    "    # 'input2': {'pos': (1, 3), 'size': 120, 'type': 'input'},\n",
    "    'device1': {'pos': (3, 4), 'size': 150, 'type': 'device'},\n",
    "    # 'device2': {'pos': (4, 5), 'size': 130, 'type': 'device'},\n",
    "    # 'output1': {'pos': (6, 2), 'size': 110, 'type': 'output'},\n",
    "    # 'output2': {'pos': (6, 7), 'size': 140, 'type': 'output'}\n",
    "}\n",
    "\n",
    "# 定义所需的像素尺寸\n",
    "pixel_width = 1200\n",
    "pixel_height = 1200\n",
    "\n",
    "# 计算所需的英寸尺寸\n",
    "dpi = 120  # 屏幕 DPI\n",
    "inch_width = pixel_width / dpi\n",
    "inch_height = pixel_height / dpi\n",
    "\n",
    "plt.figure(figsize=(inch_width, inch_height))\n",
    "\n",
    "ax = plt.gca()\n",
    "ax.xaxis.set_ticks_position('top')\n",
    "ax.invert_yaxis()\n",
    "\n",
    "for node, data in nodes.items():\n",
    "    G.add_node(node, pos=data['pos'], size=data['size'], type=data['type'])\n",
    "\n",
    "# edges = [('input1', 'device1'), ('input2', 'device2'), ('device1', 'output1'), ('device2', 'output2')]\n",
    "edges = [('input1', 'device1')]\n",
    "pos = {key: val['pos'] for key, val in nodes.items()}\n",
    "\n",
    "for edge in edges:\n",
    "    nx.draw_networkx_edges(G, pos, edgelist=[edge], connectionstyle='Angle', arrows=True)\n",
    "\n",
    "nx.draw(G, pos, with_labels=True, node_size=3000, font_weight='bold', font_size=12, arrowsize=20)\n",
    "\n",
    "# 从 plt.gcf 中获取类型为 PathCollection 的对象\n",
    "current_fig = plt.gcf()\n",
    "path_collections = plt.gcf().findobj(match=lambda x: isinstance(x, PathCollection))\n",
    "for path_collection in path_collections:\n",
    "    # 从 PathCollection 中获取数据\n",
    "    # print(\"path_collection: \", path_collection)\n",
    "\n",
    "    paths = path_collection.get_paths()\n",
    "    offsets = path_collection.get_offsets()\n",
    "    sizes = path_collection.get_sizes()\n",
    "\n",
    "    # print(\"path_collection.get_paths()[0].vertices: \", path_collection.get_paths()[0].vertices)\n",
    "    # print(\"path_collection.get_paths()[0].codes: \", path_collection.get_paths()[0].codes)\n",
    "    print(paths[0].vertices)\n",
    "    print(paths[0].codes)\n",
    "\n",
    "    # print(\"paths: \", paths)\n",
    "    # print(\"offsets: \", offsets)\n",
    "    # print(\"sizes: \", sizes)\n",
    "    # with open(\"path_collection.pkl\", \"wb\") as f:\n",
    "    #     pickle.dump({\"paths\": paths, \"offsets\": offsets, \"sizes\": sizes}, f)\n",
    "\n",
    "plt.draw()"
   ]
  },
  {
   "cell_type": "code",
   "execution_count": 46,
   "outputs": [
    {
     "name": "stdout",
     "output_type": "stream",
     "text": [
      "paths_data:  Path(array([[ 0.        , -0.5       ],\n",
      "       [ 0.13260155, -0.5       ],\n",
      "       [ 0.25978994, -0.44731685],\n",
      "       [ 0.35355339, -0.35355339],\n",
      "       [ 0.44731685, -0.25978994],\n",
      "       [ 0.5       , -0.13260155],\n",
      "       [ 0.5       ,  0.        ],\n",
      "       [ 0.5       ,  0.13260155],\n",
      "       [ 0.44731685,  0.25978994],\n",
      "       [ 0.35355339,  0.35355339],\n",
      "       [ 0.25978994,  0.44731685],\n",
      "       [ 0.13260155,  0.5       ],\n",
      "       [ 0.        ,  0.5       ],\n",
      "       [-0.13260155,  0.5       ],\n",
      "       [-0.25978994,  0.44731685],\n",
      "       [-0.35355339,  0.35355339],\n",
      "       [-0.44731685,  0.25978994],\n",
      "       [-0.5       ,  0.13260155],\n",
      "       [-0.5       ,  0.        ],\n",
      "       [-0.5       , -0.13260155],\n",
      "       [-0.44731685, -0.25978994],\n",
      "       [-0.35355339, -0.35355339],\n",
      "       [-0.25978994, -0.44731685],\n",
      "       [-0.13260155, -0.5       ],\n",
      "       [ 0.        , -0.5       ],\n",
      "       [ 0.        , -0.5       ]]), array([ 1,  4,  4,  4,  4,  4,  4,  4,  4,  4,  4,  4,  4,  4,  4,  4,  4,\n",
      "        4,  4,  4,  4,  4,  4,  4,  4, 79], dtype=uint8))\n",
      "offsets:  [[1.0 5.0]\n",
      " [3.0 4.0]]\n",
      "sizes:  [3000]\n"
     ]
    },
    {
     "ename": "TypeError",
     "evalue": "'Path' object is not subscriptable",
     "output_type": "error",
     "traceback": [
      "\u001B[1;31m---------------------------------------------------------------------------\u001B[0m",
      "\u001B[1;31mTypeError\u001B[0m                                 Traceback (most recent call last)",
      "Cell \u001B[1;32mIn[46], line 25\u001B[0m\n\u001B[0;32m     23\u001B[0m \u001B[38;5;66;03m# 添加边\u001B[39;00m\n\u001B[0;32m     24\u001B[0m \u001B[38;5;28;01mfor\u001B[39;00m i \u001B[38;5;129;01min\u001B[39;00m \u001B[38;5;28mrange\u001B[39m(\u001B[38;5;28mlen\u001B[39m(paths_data)):\n\u001B[1;32m---> 25\u001B[0m     nx\u001B[38;5;241m.\u001B[39mdraw_networkx_edges(G, \u001B[43mpaths_data\u001B[49m\u001B[43m[\u001B[49m\u001B[43mi\u001B[49m\u001B[43m]\u001B[49m[\u001B[38;5;241m0\u001B[39m], paths_data[i][\u001B[38;5;241m1\u001B[39m], weight\u001B[38;5;241m=\u001B[39m\u001B[38;5;241m1\u001B[39m)\n\u001B[0;32m     27\u001B[0m \u001B[38;5;66;03m# 绘制图\u001B[39;00m\n\u001B[0;32m     28\u001B[0m nx\u001B[38;5;241m.\u001B[39mdraw(G, pos, with_labels\u001B[38;5;241m=\u001B[39m\u001B[38;5;28;01mTrue\u001B[39;00m, node_size\u001B[38;5;241m=\u001B[39m\u001B[38;5;241m3000\u001B[39m, font_weight\u001B[38;5;241m=\u001B[39m\u001B[38;5;124m'\u001B[39m\u001B[38;5;124mbold\u001B[39m\u001B[38;5;124m'\u001B[39m, font_size\u001B[38;5;241m=\u001B[39m\u001B[38;5;241m12\u001B[39m, arrowsize\u001B[38;5;241m=\u001B[39m\u001B[38;5;241m20\u001B[39m)\n",
      "\u001B[1;31mTypeError\u001B[0m: 'Path' object is not subscriptable"
     ]
    }
   ],
   "source": [
    "import pickle\n",
    "\n",
    "# 从磁盘读取数据\n",
    "with open(\"path_collection.pkl\", \"rb\") as f:\n",
    "    data = pickle.load(f)\n",
    "\n",
    "# 获取数据\n",
    "paths = data[\"paths\"]\n",
    "offsets = data[\"offsets\"]\n",
    "sizes = data[\"sizes\"]\n",
    "paths_data = paths[0]\n",
    "print(\"paths_data: \", paths_data)\n",
    "print(\"offsets: \", offsets)\n",
    "print(\"sizes: \", sizes)\n",
    "\n",
    "# 构造新的 networkx 图\n",
    "G = nx.MultiDiGraph()\n",
    "\n",
    "# 添加节点\n",
    "for node in nodes.keys():\n",
    "    G.add_node(node, pos=nodes[node][\"pos\"], size=nodes[node][\"size\"], type=nodes[node][\"type\"])\n",
    "\n",
    "# 添加边\n",
    "for i in range(len(paths_data)):\n",
    "    nx.draw_networkx_edges(G, paths_data[i][0], paths_data[i][1], weight=1)\n",
    "\n",
    "# 绘制图\n",
    "nx.draw(G, pos, with_labels=True, node_size=3000, font_weight='bold', font_size=12, arrowsize=20)"
   ],
   "metadata": {
    "collapsed": false,
    "ExecuteTime": {
     "end_time": "2023-12-15T05:10:21.401558800Z",
     "start_time": "2023-12-15T05:10:21.366910400Z"
    }
   },
   "id": "de23e46593c4de0e"
  },
  {
   "cell_type": "code",
   "execution_count": 68,
   "outputs": [
    {
     "name": "stdout",
     "output_type": "stream",
     "text": [
      "((0.0, -0.5), (0.13260155, -0.5), (0.25978994, -0.44731685), (0.35355339, -0.35355339), (0.44731685, -0.25978994), (0.5, -0.13260155), (0.5, 0.0), (0.5, 0.13260155), (0.44731685, 0.25978994), (0.35355339, 0.35355339), (0.25978994, 0.44731685), (0.13260155, 0.5), (0.0, 0.5), (-0.13260155, 0.5), (-0.25978994, 0.44731685), (-0.35355339, 0.35355339), (-0.44731685, 0.25978994), (-0.5, 0.13260155), (-0.5, 0.0), (-0.5, -0.13260155), (-0.44731685, -0.25978994), (-0.35355339, -0.35355339), (-0.25978994, -0.44731685), (-0.13260155, -0.5), (0.0, -0.5), (0.0, -0.5))\n"
     ]
    },
    {
     "data": {
      "text/plain": "<Figure size 640x480 with 1 Axes>",
      "image/png": "[encoded data removed]"
     },
     "metadata": {},
     "output_type": "display_data"
    }
   ],
   "source": [
    "import matplotlib.pyplot as plt\n",
    "from matplotlib.path import Path\n",
    "import matplotlib.patches as patches\n",
    "\n",
    "origin_verts = [[0., -0.5],\n",
    "                [0.13260155, -0.5],\n",
    "                [0.25978994, -0.44731685],\n",
    "                [0.35355339, -0.35355339],\n",
    "                [0.44731685, -0.25978994],\n",
    "                [0.5, -0.13260155],\n",
    "                [0.5, 0.],\n",
    "                [0.5, 0.13260155],\n",
    "                [0.44731685, 0.25978994],\n",
    "                [0.35355339, 0.35355339],\n",
    "                [0.25978994, 0.44731685],\n",
    "                [0.13260155, 0.5],\n",
    "                [0., 0.5],\n",
    "                [-0.13260155, 0.5],\n",
    "                [-0.25978994, 0.44731685],\n",
    "                [-0.35355339, 0.35355339],\n",
    "                [-0.44731685, 0.25978994],\n",
    "                [-0.5, 0.13260155],\n",
    "                [-0.5, 0.],\n",
    "                [-0.5, -0.13260155],\n",
    "                [-0.44731685, -0.25978994],\n",
    "                [-0.35355339, -0.35355339],\n",
    "                [-0.25978994, -0.44731685],\n",
    "                [-0.13260155, -0.5],\n",
    "                [0., -0.5],\n",
    "                [0., -0.5]]\n",
    "origin_codes = [1, 4, 4, 4, 4, 4, 4, 4, 4, 4, 4, 4, 4, 4, 4, 4, 4,\n",
    "                4, 4, 4, 4, 4, 4, 4, 4, 79]\n",
    "\n",
    "# data = [[0., -0.5], [0.13260155, -0.5]]\n",
    "# data = tuple(map(lambda x: (float(x[0]), float(x[1])), data))\n",
    "# print(data)\n",
    "\n",
    "v = tuple(map(lambda x: (float(x[0]), float(x[1])), origin_verts))\n",
    "print(v)\n",
    "\n",
    "path = Path(v, origin_codes)\n",
    "\n",
    "# 图形顶点的坐标\n",
    "verts = [\n",
    "    (0., 0.),  # 左下角的点\n",
    "    (0., 1.),  # 左上角的点\n",
    "    (1., 1.),  # 右上角的点\n",
    "    (1., 0.),  # 右下角的点\n",
    "    (0., 0.),  # 忽略\n",
    "]\n",
    "\n",
    "# 坐标对应的路径代码\n",
    "codes = [\n",
    "    Path.MOVETO,\n",
    "    Path.LINETO,\n",
    "    Path.LINETO,\n",
    "    Path.LINETO,\n",
    "    Path.CLOSEPOLY,\n",
    "]\n",
    "\n",
    "# path2 = Path(verts, codes)\n",
    "\n",
    "fig, ax = plt.subplots()\n",
    "patch = patches.PathPatch(path, facecolor='orange', lw=2)\n",
    "ax.add_patch(patch)\n",
    "ax.set_xlim(-2, 2)\n",
    "ax.set_ylim(-2, 2)\n",
    "plt.show()"
   ],
   "metadata": {
    "collapsed": false,
    "ExecuteTime": {
     "end_time": "2023-12-15T05:47:35.917703100Z",
     "start_time": "2023-12-15T05:47:35.851374Z"
    }
   },
   "id": "344f529af63952d8"
  }
 ],
 "metadata": {
  "kernelspec": {
   "display_name": "Python 3",
   "language": "python",
   "name": "python3"
  },
  "language_info": {
   "codemirror_mode": {
    "name": "ipython",
    "version": 2
   },
   "file_extension": ".py",
   "mimetype": "text/x-python",
   "name": "python",
   "nbconvert_exporter": "python",
   "pygments_lexer": "ipython2",
   "version": "2.7.6"
  }
 },
 "nbformat": 4,
 "nbformat_minor": 5
}
