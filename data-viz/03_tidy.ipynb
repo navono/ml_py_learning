{
 "cells": [
  {
   "cell_type": "markdown",
   "source": [
    "# Tidy Data\n",
    "三个相关概念：\n",
    "- 每个变量（variable）都是一列（Column）；每一列都是一个变量\n",
    "- 每个 observation 都是行（row）；每一行都是 observation\n",
    "- 每个值都是一个 cell；每个 cell 都是一个值\n",
    "\n",
    "![concept](./pic/tidy-1.png)"
   ],
   "metadata": {
    "collapsed": false
   },
   "id": "840eb03e6e39a5b7"
  },
  {
   "cell_type": "code",
   "execution_count": 8,
   "outputs": [],
   "source": [
    "import pandas as pd\n",
    "import numpy as np"
   ],
   "metadata": {
    "collapsed": false,
    "ExecuteTime": {
     "end_time": "2023-09-24T06:49:57.596081300Z",
     "start_time": "2023-09-24T06:49:57.564820500Z"
    }
   },
   "id": "f9955faf2528d84e"
  },
  {
   "cell_type": "markdown",
   "source": [
    "# Melt\n",
    "\n",
    "![melt](./pic/reshaping_melt.png)"
   ],
   "metadata": {
    "collapsed": false
   },
   "id": "476e207ffdf2d649"
  },
  {
   "cell_type": "code",
   "execution_count": 5,
   "outputs": [
    {
     "name": "stdout",
     "output_type": "stream",
     "text": [
      "\n",
      " Unmelted: \n",
      "  first last        job  height  weight\n",
      "0  John  Doe      Nurse     5.5     130\n",
      "1  Mary   Bo  Economist     6.0     150\n",
      "\n",
      " Melted: \n"
     ]
    },
    {
     "data": {
      "text/plain": "  first last quantity  value\n0  John  Doe   height    5.5\n1  Mary   Bo   height    6.0\n2  John  Doe   weight  130.0\n3  Mary   Bo   weight  150.0",
      "text/html": "<div>\n<style scoped>\n    .dataframe tbody tr th:only-of-type {\n        vertical-align: middle;\n    }\n\n    .dataframe tbody tr th {\n        vertical-align: top;\n    }\n\n    .dataframe thead th {\n        text-align: right;\n    }\n</style>\n<table border=\"1\" class=\"dataframe\">\n  <thead>\n    <tr style=\"text-align: right;\">\n      <th></th>\n      <th>first</th>\n      <th>last</th>\n      <th>quantity</th>\n      <th>value</th>\n    </tr>\n  </thead>\n  <tbody>\n    <tr>\n      <th>0</th>\n      <td>John</td>\n      <td>Doe</td>\n      <td>height</td>\n      <td>5.5</td>\n    </tr>\n    <tr>\n      <th>1</th>\n      <td>Mary</td>\n      <td>Bo</td>\n      <td>height</td>\n      <td>6.0</td>\n    </tr>\n    <tr>\n      <th>2</th>\n      <td>John</td>\n      <td>Doe</td>\n      <td>weight</td>\n      <td>130.0</td>\n    </tr>\n    <tr>\n      <th>3</th>\n      <td>Mary</td>\n      <td>Bo</td>\n      <td>weight</td>\n      <td>150.0</td>\n    </tr>\n  </tbody>\n</table>\n</div>"
     },
     "execution_count": 5,
     "metadata": {},
     "output_type": "execute_result"
    }
   ],
   "source": [
    "df = pd.DataFrame(\n",
    "    {\n",
    "        \"first\": [\"John\", \"Mary\"],\n",
    "        \"last\": [\"Doe\", \"Bo\"],\n",
    "        \"job\": [\"Nurse\", \"Economist\"],\n",
    "        \"height\": [5.5, 6.0],\n",
    "        \"weight\": [130, 150],\n",
    "    }\n",
    ")\n",
    "print(\"\\n Unmelted: \")\n",
    "print(df)\n",
    "print(\"\\n Melted: \")\n",
    "df.melt(id_vars=[\"first\", \"last\"], var_name=\"quantity\", value_vars=[\"height\", \"weight\"])"
   ],
   "metadata": {
    "collapsed": false,
    "ExecuteTime": {
     "end_time": "2023-09-24T06:44:52.215811400Z",
     "start_time": "2023-09-24T06:44:52.134211200Z"
    }
   },
   "id": "d50ad827c1384bae"
  },
  {
   "cell_type": "markdown",
   "source": [
    "# Wide to long"
   ],
   "metadata": {
    "collapsed": false
   },
   "id": "5bbe47cb425d1556"
  },
  {
   "cell_type": "code",
   "execution_count": 11,
   "outputs": [
    {
     "data": {
      "text/plain": "  A1970 A1980  B1970  B1980         X  id\n0     a     d    2.5    3.2  0.171420   0\n1     b     e    1.2    1.3 -0.097990   1\n2     c     f    0.7    0.1 -1.343753   2",
      "text/html": "<div>\n<style scoped>\n    .dataframe tbody tr th:only-of-type {\n        vertical-align: middle;\n    }\n\n    .dataframe tbody tr th {\n        vertical-align: top;\n    }\n\n    .dataframe thead th {\n        text-align: right;\n    }\n</style>\n<table border=\"1\" class=\"dataframe\">\n  <thead>\n    <tr style=\"text-align: right;\">\n      <th></th>\n      <th>A1970</th>\n      <th>A1980</th>\n      <th>B1970</th>\n      <th>B1980</th>\n      <th>X</th>\n      <th>id</th>\n    </tr>\n  </thead>\n  <tbody>\n    <tr>\n      <th>0</th>\n      <td>a</td>\n      <td>d</td>\n      <td>2.5</td>\n      <td>3.2</td>\n      <td>0.171420</td>\n      <td>0</td>\n    </tr>\n    <tr>\n      <th>1</th>\n      <td>b</td>\n      <td>e</td>\n      <td>1.2</td>\n      <td>1.3</td>\n      <td>-0.097990</td>\n      <td>1</td>\n    </tr>\n    <tr>\n      <th>2</th>\n      <td>c</td>\n      <td>f</td>\n      <td>0.7</td>\n      <td>0.1</td>\n      <td>-1.343753</td>\n      <td>2</td>\n    </tr>\n  </tbody>\n</table>\n</div>"
     },
     "execution_count": 11,
     "metadata": {},
     "output_type": "execute_result"
    }
   ],
   "source": [
    "df = pd.DataFrame(\n",
    "    {\n",
    "        \"A1970\": {0: \"a\", 1: \"b\", 2: \"c\"},\n",
    "        \"A1980\": {0: \"d\", 1: \"e\", 2: \"f\"},\n",
    "        \"B1970\": {0: 2.5, 1: 1.2, 2: 0.7},\n",
    "        \"B1980\": {0: 3.2, 1: 1.3, 2: 0.1},\n",
    "        \"X\": dict(zip(range(3), np.random.randn(3))),\n",
    "        \"id\": dict(zip(range(3), range(3))),\n",
    "    }\n",
    ")\n",
    "df"
   ],
   "metadata": {
    "collapsed": false,
    "ExecuteTime": {
     "end_time": "2023-09-24T06:50:37.323466900Z",
     "start_time": "2023-09-24T06:50:37.295408400Z"
    }
   },
   "id": "350f57b293304dd"
  },
  {
   "cell_type": "code",
   "execution_count": 12,
   "outputs": [
    {
     "data": {
      "text/plain": "                X  A    B\nid year                  \n0  1970  0.171420  a  2.5\n1  1970 -0.097990  b  1.2\n2  1970 -1.343753  c  0.7\n0  1980  0.171420  d  3.2\n1  1980 -0.097990  e  1.3\n2  1980 -1.343753  f  0.1",
      "text/html": "<div>\n<style scoped>\n    .dataframe tbody tr th:only-of-type {\n        vertical-align: middle;\n    }\n\n    .dataframe tbody tr th {\n        vertical-align: top;\n    }\n\n    .dataframe thead th {\n        text-align: right;\n    }\n</style>\n<table border=\"1\" class=\"dataframe\">\n  <thead>\n    <tr style=\"text-align: right;\">\n      <th></th>\n      <th></th>\n      <th>X</th>\n      <th>A</th>\n      <th>B</th>\n    </tr>\n    <tr>\n      <th>id</th>\n      <th>year</th>\n      <th></th>\n      <th></th>\n      <th></th>\n    </tr>\n  </thead>\n  <tbody>\n    <tr>\n      <th>0</th>\n      <th>1970</th>\n      <td>0.171420</td>\n      <td>a</td>\n      <td>2.5</td>\n    </tr>\n    <tr>\n      <th>1</th>\n      <th>1970</th>\n      <td>-0.097990</td>\n      <td>b</td>\n      <td>1.2</td>\n    </tr>\n    <tr>\n      <th>2</th>\n      <th>1970</th>\n      <td>-1.343753</td>\n      <td>c</td>\n      <td>0.7</td>\n    </tr>\n    <tr>\n      <th>0</th>\n      <th>1980</th>\n      <td>0.171420</td>\n      <td>d</td>\n      <td>3.2</td>\n    </tr>\n    <tr>\n      <th>1</th>\n      <th>1980</th>\n      <td>-0.097990</td>\n      <td>e</td>\n      <td>1.3</td>\n    </tr>\n    <tr>\n      <th>2</th>\n      <th>1980</th>\n      <td>-1.343753</td>\n      <td>f</td>\n      <td>0.1</td>\n    </tr>\n  </tbody>\n</table>\n</div>"
     },
     "execution_count": 12,
     "metadata": {},
     "output_type": "execute_result"
    }
   ],
   "source": [
    "pd.wide_to_long(df, stubnames=[\"A\", \"B\"], i=\"id\", j=\"year\")"
   ],
   "metadata": {
    "collapsed": false,
    "ExecuteTime": {
     "end_time": "2023-09-24T06:50:41.604513Z",
     "start_time": "2023-09-24T06:50:41.509436600Z"
    }
   },
   "id": "f6c17b0bf18f0806"
  },
  {
   "cell_type": "markdown",
   "source": [
    "# Stack and Unstack\n",
    "\n",
    "![Stack](./pic/reshaping_stack.png)\n",
    "![Unstack](./pic/reshaping_unstack.png)"
   ],
   "metadata": {
    "collapsed": false
   },
   "id": "fe7613a6080f4031"
  },
  {
   "cell_type": "code",
   "execution_count": 13,
   "outputs": [
    {
     "data": {
      "text/plain": "                     A         B\nfirst second                    \nbar   one     1.858637  0.924552\n      two     2.701723 -1.541327\nbaz   one     0.333957 -0.685638\n      two    -0.763916  0.736411\nfoo   one    -1.631907 -1.074110\n      two    -0.129327  0.108215\nqux   one    -0.304164  0.516520\n      two    -0.635694  1.062862",
      "text/html": "<div>\n<style scoped>\n    .dataframe tbody tr th:only-of-type {\n        vertical-align: middle;\n    }\n\n    .dataframe tbody tr th {\n        vertical-align: top;\n    }\n\n    .dataframe thead th {\n        text-align: right;\n    }\n</style>\n<table border=\"1\" class=\"dataframe\">\n  <thead>\n    <tr style=\"text-align: right;\">\n      <th></th>\n      <th></th>\n      <th>A</th>\n      <th>B</th>\n    </tr>\n    <tr>\n      <th>first</th>\n      <th>second</th>\n      <th></th>\n      <th></th>\n    </tr>\n  </thead>\n  <tbody>\n    <tr>\n      <th rowspan=\"2\" valign=\"top\">bar</th>\n      <th>one</th>\n      <td>1.858637</td>\n      <td>0.924552</td>\n    </tr>\n    <tr>\n      <th>two</th>\n      <td>2.701723</td>\n      <td>-1.541327</td>\n    </tr>\n    <tr>\n      <th rowspan=\"2\" valign=\"top\">baz</th>\n      <th>one</th>\n      <td>0.333957</td>\n      <td>-0.685638</td>\n    </tr>\n    <tr>\n      <th>two</th>\n      <td>-0.763916</td>\n      <td>0.736411</td>\n    </tr>\n    <tr>\n      <th rowspan=\"2\" valign=\"top\">foo</th>\n      <th>one</th>\n      <td>-1.631907</td>\n      <td>-1.074110</td>\n    </tr>\n    <tr>\n      <th>two</th>\n      <td>-0.129327</td>\n      <td>0.108215</td>\n    </tr>\n    <tr>\n      <th rowspan=\"2\" valign=\"top\">qux</th>\n      <th>one</th>\n      <td>-0.304164</td>\n      <td>0.516520</td>\n    </tr>\n    <tr>\n      <th>two</th>\n      <td>-0.635694</td>\n      <td>1.062862</td>\n    </tr>\n  </tbody>\n</table>\n</div>"
     },
     "execution_count": 13,
     "metadata": {},
     "output_type": "execute_result"
    }
   ],
   "source": [
    "tuples = list(\n",
    "    zip(\n",
    "        *[\n",
    "            [\"bar\", \"bar\", \"baz\", \"baz\", \"foo\", \"foo\", \"qux\", \"qux\"],\n",
    "            [\"one\", \"two\", \"one\", \"two\", \"one\", \"two\", \"one\", \"two\"],\n",
    "        ]\n",
    "    )\n",
    ")\n",
    "index = pd.MultiIndex.from_tuples(tuples, names=[\"first\", \"second\"])\n",
    "df = pd.DataFrame(np.random.randn(8, 2), index=index, columns=[\"A\", \"B\"])\n",
    "df"
   ],
   "metadata": {
    "collapsed": false,
    "ExecuteTime": {
     "end_time": "2023-09-24T06:54:13.548256900Z",
     "start_time": "2023-09-24T06:54:13.523616600Z"
    }
   },
   "id": "45fd3fedf6c337b8"
  },
  {
   "cell_type": "code",
   "execution_count": 14,
   "outputs": [
    {
     "data": {
      "text/plain": "first  second   \nbar    one     A    1.858637\n               B    0.924552\n       two     A    2.701723\n               B   -1.541327\nbaz    one     A    0.333957\n               B   -0.685638\n       two     A   -0.763916\n               B    0.736411\nfoo    one     A   -1.631907\n               B   -1.074110\n       two     A   -0.129327\n               B    0.108215\nqux    one     A   -0.304164\n               B    0.516520\n       two     A   -0.635694\n               B    1.062862\ndtype: float64"
     },
     "execution_count": 14,
     "metadata": {},
     "output_type": "execute_result"
    }
   ],
   "source": [
    "df = df.stack()\n",
    "df"
   ],
   "metadata": {
    "collapsed": false,
    "ExecuteTime": {
     "end_time": "2023-09-24T06:54:24.222858900Z",
     "start_time": "2023-09-24T06:54:24.159960500Z"
    }
   },
   "id": "a3d4a0f4a707454a"
  },
  {
   "cell_type": "markdown",
   "source": [
    "![unstack](./pic/reshaping_unstack_0.png)"
   ],
   "metadata": {
    "collapsed": false
   },
   "id": "fcdac8006999da8c"
  },
  {
   "cell_type": "code",
   "execution_count": 15,
   "outputs": [
    {
     "data": {
      "text/plain": "first          bar       baz       foo       qux\nsecond                                          \none    A  1.858637  0.333957 -1.631907 -0.304164\n       B  0.924552 -0.685638 -1.074110  0.516520\ntwo    A  2.701723 -0.763916 -0.129327 -0.635694\n       B -1.541327  0.736411  0.108215  1.062862",
      "text/html": "<div>\n<style scoped>\n    .dataframe tbody tr th:only-of-type {\n        vertical-align: middle;\n    }\n\n    .dataframe tbody tr th {\n        vertical-align: top;\n    }\n\n    .dataframe thead th {\n        text-align: right;\n    }\n</style>\n<table border=\"1\" class=\"dataframe\">\n  <thead>\n    <tr style=\"text-align: right;\">\n      <th></th>\n      <th>first</th>\n      <th>bar</th>\n      <th>baz</th>\n      <th>foo</th>\n      <th>qux</th>\n    </tr>\n    <tr>\n      <th>second</th>\n      <th></th>\n      <th></th>\n      <th></th>\n      <th></th>\n      <th></th>\n    </tr>\n  </thead>\n  <tbody>\n    <tr>\n      <th rowspan=\"2\" valign=\"top\">one</th>\n      <th>A</th>\n      <td>1.858637</td>\n      <td>0.333957</td>\n      <td>-1.631907</td>\n      <td>-0.304164</td>\n    </tr>\n    <tr>\n      <th>B</th>\n      <td>0.924552</td>\n      <td>-0.685638</td>\n      <td>-1.074110</td>\n      <td>0.516520</td>\n    </tr>\n    <tr>\n      <th rowspan=\"2\" valign=\"top\">two</th>\n      <th>A</th>\n      <td>2.701723</td>\n      <td>-0.763916</td>\n      <td>-0.129327</td>\n      <td>-0.635694</td>\n    </tr>\n    <tr>\n      <th>B</th>\n      <td>-1.541327</td>\n      <td>0.736411</td>\n      <td>0.108215</td>\n      <td>1.062862</td>\n    </tr>\n  </tbody>\n</table>\n</div>"
     },
     "execution_count": 15,
     "metadata": {},
     "output_type": "execute_result"
    }
   ],
   "source": [
    "df.unstack(level=0)"
   ],
   "metadata": {
    "collapsed": false,
    "ExecuteTime": {
     "end_time": "2023-09-24T06:54:35.636969600Z",
     "start_time": "2023-09-24T06:54:35.573771Z"
    }
   },
   "id": "899acea492e6095e"
  },
  {
   "cell_type": "code",
   "execution_count": 17,
   "outputs": [
    {
     "data": {
      "text/plain": "second        one       two\nfirst                      \nbar   A  1.858637  2.701723\n      B  0.924552 -1.541327\nbaz   A  0.333957 -0.763916\n      B -0.685638  0.736411\nfoo   A -1.631907 -0.129327\n      B -1.074110  0.108215\nqux   A -0.304164 -0.635694\n      B  0.516520  1.062862",
      "text/html": "<div>\n<style scoped>\n    .dataframe tbody tr th:only-of-type {\n        vertical-align: middle;\n    }\n\n    .dataframe tbody tr th {\n        vertical-align: top;\n    }\n\n    .dataframe thead th {\n        text-align: right;\n    }\n</style>\n<table border=\"1\" class=\"dataframe\">\n  <thead>\n    <tr style=\"text-align: right;\">\n      <th></th>\n      <th>second</th>\n      <th>one</th>\n      <th>two</th>\n    </tr>\n    <tr>\n      <th>first</th>\n      <th></th>\n      <th></th>\n      <th></th>\n    </tr>\n  </thead>\n  <tbody>\n    <tr>\n      <th rowspan=\"2\" valign=\"top\">bar</th>\n      <th>A</th>\n      <td>1.858637</td>\n      <td>2.701723</td>\n    </tr>\n    <tr>\n      <th>B</th>\n      <td>0.924552</td>\n      <td>-1.541327</td>\n    </tr>\n    <tr>\n      <th rowspan=\"2\" valign=\"top\">baz</th>\n      <th>A</th>\n      <td>0.333957</td>\n      <td>-0.763916</td>\n    </tr>\n    <tr>\n      <th>B</th>\n      <td>-0.685638</td>\n      <td>0.736411</td>\n    </tr>\n    <tr>\n      <th rowspan=\"2\" valign=\"top\">foo</th>\n      <th>A</th>\n      <td>-1.631907</td>\n      <td>-0.129327</td>\n    </tr>\n    <tr>\n      <th>B</th>\n      <td>-1.074110</td>\n      <td>0.108215</td>\n    </tr>\n    <tr>\n      <th rowspan=\"2\" valign=\"top\">qux</th>\n      <th>A</th>\n      <td>-0.304164</td>\n      <td>-0.635694</td>\n    </tr>\n    <tr>\n      <th>B</th>\n      <td>0.516520</td>\n      <td>1.062862</td>\n    </tr>\n  </tbody>\n</table>\n</div>"
     },
     "execution_count": 17,
     "metadata": {},
     "output_type": "execute_result"
    }
   ],
   "source": [
    "df.unstack(level=1)"
   ],
   "metadata": {
    "collapsed": false,
    "ExecuteTime": {
     "end_time": "2023-09-24T06:58:00.896119100Z",
     "start_time": "2023-09-24T06:58:00.869098400Z"
    }
   },
   "id": "78f7beefaa3abdea"
  },
  {
   "cell_type": "markdown",
   "source": [
    "# Pivot\n",
    "![pivot](./pic/reshaping_pivot.png)"
   ],
   "metadata": {
    "collapsed": false
   },
   "id": "663366953d37a191"
  },
  {
   "cell_type": "code",
   "execution_count": 18,
   "outputs": [
    {
     "data": {
      "text/plain": "         date variable category     value\n13 2000-04-30        B    type3 -1.836811\n6  2000-07-31        A    type2  0.212516\n4  2000-05-31        A    type3  1.631146\n8  2000-09-30        A    type3  1.400936\n12 2000-03-31        B    type1 -0.190758",
      "text/html": "<div>\n<style scoped>\n    .dataframe tbody tr th:only-of-type {\n        vertical-align: middle;\n    }\n\n    .dataframe tbody tr th {\n        vertical-align: top;\n    }\n\n    .dataframe thead th {\n        text-align: right;\n    }\n</style>\n<table border=\"1\" class=\"dataframe\">\n  <thead>\n    <tr style=\"text-align: right;\">\n      <th></th>\n      <th>date</th>\n      <th>variable</th>\n      <th>category</th>\n      <th>value</th>\n    </tr>\n  </thead>\n  <tbody>\n    <tr>\n      <th>13</th>\n      <td>2000-04-30</td>\n      <td>B</td>\n      <td>type3</td>\n      <td>-1.836811</td>\n    </tr>\n    <tr>\n      <th>6</th>\n      <td>2000-07-31</td>\n      <td>A</td>\n      <td>type2</td>\n      <td>0.212516</td>\n    </tr>\n    <tr>\n      <th>4</th>\n      <td>2000-05-31</td>\n      <td>A</td>\n      <td>type3</td>\n      <td>1.631146</td>\n    </tr>\n    <tr>\n      <th>8</th>\n      <td>2000-09-30</td>\n      <td>A</td>\n      <td>type3</td>\n      <td>1.400936</td>\n    </tr>\n    <tr>\n      <th>12</th>\n      <td>2000-03-31</td>\n      <td>B</td>\n      <td>type1</td>\n      <td>-0.190758</td>\n    </tr>\n  </tbody>\n</table>\n</div>"
     },
     "execution_count": 18,
     "metadata": {},
     "output_type": "execute_result"
    }
   ],
   "source": [
    "data = {\n",
    "    \"value\": np.random.randn(20),\n",
    "    \"variable\": [\"A\"] * 10 + [\"B\"] * 10,\n",
    "    \"category\": np.random.choice([\"type1\", \"type2\", \"type3\", \"type4\"], 20),\n",
    "    \"date\": (\n",
    "            list(pd.date_range(\"1/1/2000\", periods=10, freq=\"M\"))\n",
    "            + list(pd.date_range(\"1/1/2000\", periods=10, freq=\"M\"))\n",
    "    ),\n",
    "}\n",
    "df = pd.DataFrame(data, columns=[\"date\", \"variable\", \"category\", \"value\"])\n",
    "df.sample(5)"
   ],
   "metadata": {
    "collapsed": false,
    "ExecuteTime": {
     "end_time": "2023-09-24T07:35:48.291142400Z",
     "start_time": "2023-09-24T07:35:48.244622700Z"
    }
   },
   "id": "4ea64d6bb6dae07b"
  },
  {
   "cell_type": "code",
   "execution_count": 23,
   "outputs": [
    {
     "data": {
      "text/plain": "variable           A         B\ndate                          \n2000-01-31       NaN       NaN\n2000-02-29 -0.988989  0.913258\n2000-03-31  0.645503  0.676891\n2000-04-30  0.688413 -0.190758\n2000-05-31  1.115083 -1.836811\n2000-06-30  1.631146 -0.299397\n2000-07-31 -0.170198 -1.130065\n2000-08-31  0.212516 -1.016637\n2000-09-30 -0.914829  1.280708\n2000-10-31  1.400936  0.252451",
      "text/html": "<div>\n<style scoped>\n    .dataframe tbody tr th:only-of-type {\n        vertical-align: middle;\n    }\n\n    .dataframe tbody tr th {\n        vertical-align: top;\n    }\n\n    .dataframe thead th {\n        text-align: right;\n    }\n</style>\n<table border=\"1\" class=\"dataframe\">\n  <thead>\n    <tr style=\"text-align: right;\">\n      <th>variable</th>\n      <th>A</th>\n      <th>B</th>\n    </tr>\n    <tr>\n      <th>date</th>\n      <th></th>\n      <th></th>\n    </tr>\n  </thead>\n  <tbody>\n    <tr>\n      <th>2000-01-31</th>\n      <td>NaN</td>\n      <td>NaN</td>\n    </tr>\n    <tr>\n      <th>2000-02-29</th>\n      <td>-0.988989</td>\n      <td>0.913258</td>\n    </tr>\n    <tr>\n      <th>2000-03-31</th>\n      <td>0.645503</td>\n      <td>0.676891</td>\n    </tr>\n    <tr>\n      <th>2000-04-30</th>\n      <td>0.688413</td>\n      <td>-0.190758</td>\n    </tr>\n    <tr>\n      <th>2000-05-31</th>\n      <td>1.115083</td>\n      <td>-1.836811</td>\n    </tr>\n    <tr>\n      <th>2000-06-30</th>\n      <td>1.631146</td>\n      <td>-0.299397</td>\n    </tr>\n    <tr>\n      <th>2000-07-31</th>\n      <td>-0.170198</td>\n      <td>-1.130065</td>\n    </tr>\n    <tr>\n      <th>2000-08-31</th>\n      <td>0.212516</td>\n      <td>-1.016637</td>\n    </tr>\n    <tr>\n      <th>2000-09-30</th>\n      <td>-0.914829</td>\n      <td>1.280708</td>\n    </tr>\n    <tr>\n      <th>2000-10-31</th>\n      <td>1.400936</td>\n      <td>0.252451</td>\n    </tr>\n  </tbody>\n</table>\n</div>"
     },
     "execution_count": 23,
     "metadata": {},
     "output_type": "execute_result"
    }
   ],
   "source": [
    "df2 = df.pivot(index=\"date\", columns=\"variable\", values=\"value\").shift(1)\n",
    "df2"
   ],
   "metadata": {
    "collapsed": false,
    "ExecuteTime": {
     "end_time": "2023-09-24T07:37:53.395595800Z",
     "start_time": "2023-09-24T07:37:53.369447500Z"
    }
   },
   "id": "bfd35479f4eabb"
  },
  {
   "cell_type": "code",
   "execution_count": 24,
   "outputs": [
    {
     "data": {
      "text/plain": "   variable       date         0\n0         A 2000-01-31       NaN\n1         A 2000-02-29 -0.988989\n2         A 2000-03-31  0.645503\n3         A 2000-04-30  0.688413\n4         A 2000-05-31  1.115083\n5         A 2000-06-30  1.631146\n6         A 2000-07-31 -0.170198\n7         A 2000-08-31  0.212516\n8         A 2000-09-30 -0.914829\n9         A 2000-10-31  1.400936\n10        B 2000-01-31       NaN\n11        B 2000-02-29  0.913258\n12        B 2000-03-31  0.676891\n13        B 2000-04-30 -0.190758\n14        B 2000-05-31 -1.836811\n15        B 2000-06-30 -0.299397\n16        B 2000-07-31 -1.130065\n17        B 2000-08-31 -1.016637\n18        B 2000-09-30  1.280708\n19        B 2000-10-31  0.252451",
      "text/html": "<div>\n<style scoped>\n    .dataframe tbody tr th:only-of-type {\n        vertical-align: middle;\n    }\n\n    .dataframe tbody tr th {\n        vertical-align: top;\n    }\n\n    .dataframe thead th {\n        text-align: right;\n    }\n</style>\n<table border=\"1\" class=\"dataframe\">\n  <thead>\n    <tr style=\"text-align: right;\">\n      <th></th>\n      <th>variable</th>\n      <th>date</th>\n      <th>0</th>\n    </tr>\n  </thead>\n  <tbody>\n    <tr>\n      <th>0</th>\n      <td>A</td>\n      <td>2000-01-31</td>\n      <td>NaN</td>\n    </tr>\n    <tr>\n      <th>1</th>\n      <td>A</td>\n      <td>2000-02-29</td>\n      <td>-0.988989</td>\n    </tr>\n    <tr>\n      <th>2</th>\n      <td>A</td>\n      <td>2000-03-31</td>\n      <td>0.645503</td>\n    </tr>\n    <tr>\n      <th>3</th>\n      <td>A</td>\n      <td>2000-04-30</td>\n      <td>0.688413</td>\n    </tr>\n    <tr>\n      <th>4</th>\n      <td>A</td>\n      <td>2000-05-31</td>\n      <td>1.115083</td>\n    </tr>\n    <tr>\n      <th>5</th>\n      <td>A</td>\n      <td>2000-06-30</td>\n      <td>1.631146</td>\n    </tr>\n    <tr>\n      <th>6</th>\n      <td>A</td>\n      <td>2000-07-31</td>\n      <td>-0.170198</td>\n    </tr>\n    <tr>\n      <th>7</th>\n      <td>A</td>\n      <td>2000-08-31</td>\n      <td>0.212516</td>\n    </tr>\n    <tr>\n      <th>8</th>\n      <td>A</td>\n      <td>2000-09-30</td>\n      <td>-0.914829</td>\n    </tr>\n    <tr>\n      <th>9</th>\n      <td>A</td>\n      <td>2000-10-31</td>\n      <td>1.400936</td>\n    </tr>\n    <tr>\n      <th>10</th>\n      <td>B</td>\n      <td>2000-01-31</td>\n      <td>NaN</td>\n    </tr>\n    <tr>\n      <th>11</th>\n      <td>B</td>\n      <td>2000-02-29</td>\n      <td>0.913258</td>\n    </tr>\n    <tr>\n      <th>12</th>\n      <td>B</td>\n      <td>2000-03-31</td>\n      <td>0.676891</td>\n    </tr>\n    <tr>\n      <th>13</th>\n      <td>B</td>\n      <td>2000-04-30</td>\n      <td>-0.190758</td>\n    </tr>\n    <tr>\n      <th>14</th>\n      <td>B</td>\n      <td>2000-05-31</td>\n      <td>-1.836811</td>\n    </tr>\n    <tr>\n      <th>15</th>\n      <td>B</td>\n      <td>2000-06-30</td>\n      <td>-0.299397</td>\n    </tr>\n    <tr>\n      <th>16</th>\n      <td>B</td>\n      <td>2000-07-31</td>\n      <td>-1.130065</td>\n    </tr>\n    <tr>\n      <th>17</th>\n      <td>B</td>\n      <td>2000-08-31</td>\n      <td>-1.016637</td>\n    </tr>\n    <tr>\n      <th>18</th>\n      <td>B</td>\n      <td>2000-09-30</td>\n      <td>1.280708</td>\n    </tr>\n    <tr>\n      <th>19</th>\n      <td>B</td>\n      <td>2000-10-31</td>\n      <td>0.252451</td>\n    </tr>\n  </tbody>\n</table>\n</div>"
     },
     "execution_count": 24,
     "metadata": {},
     "output_type": "execute_result"
    }
   ],
   "source": [
    "df2.unstack().reset_index()"
   ],
   "metadata": {
    "collapsed": false,
    "ExecuteTime": {
     "end_time": "2023-09-24T07:38:02.195354900Z",
     "start_time": "2023-09-24T07:38:02.156180100Z"
    }
   },
   "id": "eef45841331e1809"
  }
 ],
 "metadata": {
  "kernelspec": {
   "display_name": "Python 3",
   "language": "python",
   "name": "python3"
  },
  "language_info": {
   "codemirror_mode": {
    "name": "ipython",
    "version": 2
   },
   "file_extension": ".py",
   "mimetype": "text/x-python",
   "name": "python",
   "nbconvert_exporter": "python",
   "pygments_lexer": "ipython2",
   "version": "2.7.6"
  }
 },
 "nbformat": 4,
 "nbformat_minor": 5
}
