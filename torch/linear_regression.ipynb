{
 "cells": [
  {
   "cell_type": "code",
   "execution_count": 1,
   "metadata": {
    "collapsed": true,
    "ExecuteTime": {
     "start_time": "2023-04-27T16:56:45.905282Z",
     "end_time": "2023-04-27T16:56:47.676494Z"
    }
   },
   "outputs": [],
   "source": [
    "import torch\n",
    "import torch.nn as nn\n",
    "import numpy as np\n",
    "import matplotlib.pyplot as plt"
   ]
  },
  {
   "cell_type": "code",
   "execution_count": 5,
   "outputs": [
    {
     "name": "stdout",
     "output_type": "stream",
     "text": [
      "criterion  MSELoss()\n",
      "Epoch [5/60], Loss: 9.2796\n",
      "Epoch [10/60], Loss: 3.8986\n",
      "Epoch [15/60], Loss: 1.7186\n",
      "Epoch [20/60], Loss: 0.8353\n",
      "Epoch [25/60], Loss: 0.4774\n",
      "Epoch [30/60], Loss: 0.3323\n",
      "Epoch [35/60], Loss: 0.2734\n",
      "Epoch [40/60], Loss: 0.2495\n",
      "Epoch [45/60], Loss: 0.2397\n",
      "Epoch [50/60], Loss: 0.2356\n",
      "Epoch [55/60], Loss: 0.2338\n",
      "Epoch [60/60], Loss: 0.2330\n"
     ]
    },
    {
     "data": {
      "text/plain": "<Figure size 640x480 with 1 Axes>",
      "image/png": "[encoded data removed]"
     },
     "metadata": {},
     "output_type": "display_data"
    }
   ],
   "source": [
    "# Hyper-parameters\n",
    "input_size = 1\n",
    "output_size = 1\n",
    "num_epochs = 60\n",
    "learning_rate = 0.001\n",
    "\n",
    "# Toy dataset\n",
    "x_train = np.array([[3.3], [4.4], [5.5], [6.71], [6.93], [4.168],\n",
    "                    [9.779], [6.182], [7.59], [2.167], [7.042],\n",
    "                    [10.791], [5.313], [7.997], [3.1]], dtype=np.float32)\n",
    "\n",
    "y_train = np.array([[1.7], [2.76], [2.09], [3.19], [1.694], [1.573],\n",
    "                    [3.366], [2.596], [2.53], [1.221], [2.827],\n",
    "                    [3.465], [1.65], [2.904], [1.3]], dtype=np.float32)\n",
    "\n",
    "# Linear regression model\n",
    "model = nn.Linear(input_size, output_size)\n",
    "\n",
    "# Loss and optimizer\n",
    "criterion = nn.MSELoss()\n",
    "optimizer = torch.optim.SGD(model.parameters(), lr=learning_rate)\n",
    "\n",
    "# Train the model\n",
    "for epoch in range(num_epochs):\n",
    "    # Convert numpy arrays to torch tensors\n",
    "    inputs = torch.from_numpy(x_train)\n",
    "    targets = torch.from_numpy(y_train)\n",
    "\n",
    "    # Forward pass\n",
    "    outputs = model(inputs)\n",
    "    loss = criterion(outputs, targets)\n",
    "\n",
    "    # Backward and optimize\n",
    "    optimizer.zero_grad()\n",
    "    loss.backward()\n",
    "    optimizer.step()\n",
    "\n",
    "    if (epoch + 1) % 5 == 0:\n",
    "        print('Epoch [{}/{}], Loss: {:.4f}'.format(epoch + 1, num_epochs, loss.item()))\n",
    "\n",
    "# Plot the graph\n",
    "predicted = model(torch.from_numpy(x_train)).detach().numpy()\n",
    "plt.plot(x_train, y_train, 'ro', label='Original data')\n",
    "plt.plot(x_train, predicted, label='Fitted line')\n",
    "plt.legend()\n",
    "plt.show()\n",
    "\n",
    "# Save the model checkpoint\n",
    "torch.save(model.state_dict(), 'model.ckpt')"
   ],
   "metadata": {
    "collapsed": false,
    "ExecuteTime": {
     "start_time": "2023-04-27T17:04:24.270356Z",
     "end_time": "2023-04-27T17:04:24.499576Z"
    }
   }
  },
  {
   "cell_type": "code",
   "execution_count": 20,
   "outputs": [
    {
     "name": "stdout",
     "output_type": "stream",
     "text": [
      "tensor(22.3333, grad_fn=<MseLossBackward0>)\n",
      "tensor([[-0.2315,  0.9000, -1.9404],\n",
      "        [-0.9342,  1.9783, -4.3228]], grad_fn=<AddmmBackward0>)\n",
      "tensor(22.3333, grad_fn=<DivBackward0>)\n"
     ]
    }
   ],
   "source": [
    "# 演示 MSELoss 的使用\n",
    "\n",
    "crit = nn.MSELoss()  # 均方损失函数\n",
    "target = torch.tensor([[1, 2, 3], [4, 5, 6]], dtype=torch.float, requires_grad=True)\n",
    "pred = torch.tensor([[7, 8, 9], [8, 4, 3]], dtype=torch.float, requires_grad=True)\n",
    "# target = torch.FloatTensor([[1, 2, 3], [4, 5, 6]])\n",
    "# pred = torch.FloatTensor([[7, 8, 9], [8, 4, 3]])\n",
    "\n",
    "loss = crit(pred, target)  # 将pred,target逐个元素求差,然后求平方,再求和,再求均值\n",
    "print(loss)\n",
    "# loss.backward()\n",
    "# print(loss.item())\n",
    "\n",
    "sum = 0\n",
    "for i in range(2):  # 遍历行i\n",
    "    for j in range(3):  # 遍历列\n",
    "        sum += (target[i][j] - pred[i][j]) * (target[i][j] - pred[i][j])  # 对应元素做差,然后平方和\n",
    "\n",
    "print(sum / 6)  # 除以元素个数"
   ],
   "metadata": {
    "collapsed": false,
    "ExecuteTime": {
     "start_time": "2023-04-27T17:25:32.761482Z",
     "end_time": "2023-04-27T17:25:32.806771Z"
    }
   }
  },
  {
   "cell_type": "code",
   "execution_count": 30,
   "outputs": [
    {
     "name": "stdout",
     "output_type": "stream",
     "text": [
      "output:  tensor([1.3500], grad_fn=<AddBackward0>)\n",
      "Parameter containing:\n",
      "tensor([[0.5307, 0.3840]], requires_grad=True)\n",
      "Parameter containing:\n",
      "tensor([0.0514], requires_grad=True)\n"
     ]
    }
   ],
   "source": [
    "# 演示 Linear 的使用\n",
    "\n",
    "model = nn.Linear(2, 1)  # 输入特征数为2，输出特征数为1\n",
    "\n",
    "input = torch.Tensor([1, 2])  # 样本数据，有两个特征（两个特征值分别是1和2）\n",
    "output = model(input)  # 将样本输入给模型，输出预测值\n",
    "print('output: ', output)\n",
    "\n",
    "# 查看模型参数\n",
    "for param in model.parameters():\n",
    "    print(param)"
   ],
   "metadata": {
    "collapsed": false,
    "ExecuteTime": {
     "start_time": "2023-04-27T17:40:17.651994Z",
     "end_time": "2023-04-27T17:40:17.697527Z"
    }
   }
  },
  {
   "cell_type": "markdown",
   "source": [
    "torch.nn.Linear(in_features, # 输入特征数\n",
    "           out_features, # 输出特征数\n",
    "           bias=True # 是否包含偏置\n",
    "           )\n",
    "\n",
    "Linear 是对输入进行了线性变换，即：\n",
    "$$ Y_n_×_o = X_n_×_i W_i_×_o + b $$\n",
    "\n",
    "其中，$X_n_×_i$ 是输入，$W_i_×_o$ 是权重，$b$ 是偏置，$Y_n_×_o$ 是输出，$n$ 是样本数（输入向量行数），$i$ 是输入特征数，$o$ 是输出特征数。\n",
    "\n",
    "上述例子，模型有 3 个参数，分别是 w1、w2 和 b，其中 w1 和 w2 是权重，b 是偏置：\n",
    "\n",
    "$$y=[特征值1,特征值2] * [w_1,w_2]^{\\scriptscriptstyle T} + b $$\n",
    "\n",
    "以下进行演示："
   ],
   "metadata": {
    "collapsed": false
   }
  },
  {
   "cell_type": "code",
   "execution_count": 36,
   "outputs": [
    {
     "name": "stdout",
     "output_type": "stream",
     "text": [
      "tensor([[0.1000, 0.2000, 0.3000, 0.3000, 0.3000],\n",
      "        [0.4000, 0.5000, 0.6000, 0.6000, 0.6000],\n",
      "        [0.7000, 0.8000, 0.9000, 0.9000, 0.9000]])\n"
     ]
    }
   ],
   "source": [
    "X = torch.Tensor([\n",
    "    [0.1, 0.2, 0.3, 0.3, 0.3],\n",
    "    [0.4, 0.5, 0.6, 0.6, 0.6],\n",
    "    [0.7, 0.8, 0.9, 0.9, 0.9],\n",
    "])\n",
    "print(X)  # 输入向量，3个样本，每个样本5个特征值\n",
    "\n",
    "in_feature = 5  # 输入特征数\n",
    "out_feature = 10  # 输出特征数"
   ],
   "metadata": {
    "collapsed": false,
    "ExecuteTime": {
     "start_time": "2023-04-28T08:49:13.320312Z",
     "end_time": "2023-04-28T08:49:13.361956Z"
    }
   }
  },
  {
   "cell_type": "markdown",
   "source": [
    "将上述值套入公式，即\n",
    "$ Y_3_×_1_0 = X_3_×_5 W_5_×_1_0 + b $\n",
    "\n",
    "有三个样本，所以相当于依次进行了三次 $ Y_1_×_1_0 = X_1_×_5 W_5_×_1_0 + b $，然后将三个 $Y_1_×_1_0$ 合并成 $Y_3_×_1_0$。"
   ],
   "metadata": {
    "collapsed": false
   }
  },
  {
   "cell_type": "code",
   "execution_count": 35,
   "outputs": [
    {
     "data": {
      "text/plain": "torch.Size([3, 10])"
     },
     "execution_count": 35,
     "metadata": {},
     "output_type": "execute_result"
    }
   ],
   "source": [
    "model = nn.Linear(in_features=5, out_features=10, bias=True)\n",
    "model(X).size()"
   ],
   "metadata": {
    "collapsed": false,
    "ExecuteTime": {
     "start_time": "2023-04-28T08:27:32.213119Z",
     "end_time": "2023-04-28T08:27:32.235852Z"
    }
   }
  }
 ],
 "metadata": {
  "kernelspec": {
   "display_name": "Python 3",
   "language": "python",
   "name": "python3"
  },
  "language_info": {
   "codemirror_mode": {
    "name": "ipython",
    "version": 2
   },
   "file_extension": ".py",
   "mimetype": "text/x-python",
   "name": "python",
   "nbconvert_exporter": "python",
   "pygments_lexer": "ipython2",
   "version": "2.7.6"
  }
 },
 "nbformat": 4,
 "nbformat_minor": 0
}
