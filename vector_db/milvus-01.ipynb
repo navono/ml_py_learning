{
 "cells": [
  {
   "cell_type": "markdown",
   "source": [
    "# hello_milvus.py demonstrates the basic operations of PyMilvus, a Python SDK of Milvus.\n",
    "1. connect to Milvus\n",
    "2. create collection\n",
    "3. insert data\n",
    "4. create index\n",
    "5. search, query, and hybrid search on entities\n",
    "6. delete entities by PK\n",
    "7. drop collection"
   ],
   "metadata": {
    "collapsed": false
   },
   "id": "32eadcd7d380316e"
  },
  {
   "cell_type": "code",
   "execution_count": 1,
   "id": "initial_id",
   "metadata": {
    "collapsed": true,
    "ExecuteTime": {
     "end_time": "2023-09-14T07:41:41.569364800Z",
     "start_time": "2023-09-14T07:40:55.349189800Z"
    }
   },
   "outputs": [],
   "source": [
    "import time\n",
    "\n",
    "import numpy as np\n",
    "from pymilvus import (\n",
    "    connections,\n",
    "    utility,\n",
    "    FieldSchema, CollectionSchema, DataType,\n",
    "    Collection,\n",
    ")"
   ]
  },
  {
   "cell_type": "code",
   "execution_count": 2,
   "outputs": [],
   "source": [
    "fmt = \"\\n=== {:30} ===\\n\"\n",
    "search_latency_fmt = \"search latency = {:.4f}s\"\n",
    "num_entities, dim = 3000, 8"
   ],
   "metadata": {
    "collapsed": false,
    "ExecuteTime": {
     "end_time": "2023-09-14T07:41:54.835465700Z",
     "start_time": "2023-09-14T07:41:54.828449Z"
    }
   },
   "id": "f3235830135c019"
  },
  {
   "cell_type": "markdown",
   "source": [
    "#################################################################################\n",
    "# 1. connect to Milvus\n",
    "Add a new connection alias `default` for Milvus server in `localhost:19530`\n",
    "Actually the \"default\" alias is a buildin in PyMilvus.\n",
    "If the address of Milvus is the same as `localhost:19530`, you can omit all\n",
    "parameters and call the method as: `connections.connect()`.\n",
    "\n",
    "Note: the `using` parameter of the following methods is default to \"default\"."
   ],
   "metadata": {
    "collapsed": false
   },
   "id": "65797f9703563577"
  },
  {
   "cell_type": "code",
   "execution_count": 3,
   "outputs": [
    {
     "name": "stdout",
     "output_type": "stream",
     "text": [
      "\n",
      "=== start connecting to Milvus     ===\n",
      "Does collection hello_milvus exist in Milvus: False\n"
     ]
    }
   ],
   "source": [
    "print(fmt.format(\"start connecting to Milvus\"))\n",
    "connections.connect(\"default\", host=\"localhost\", port=\"19530\")\n",
    "\n",
    "has = utility.has_collection(\"hello_milvus\")\n",
    "print(f\"Does collection hello_milvus exist in Milvus: {has}\")"
   ],
   "metadata": {
    "collapsed": false,
    "ExecuteTime": {
     "end_time": "2023-09-14T07:43:12.970060100Z",
     "start_time": "2023-09-14T07:43:07.999699Z"
    }
   },
   "id": "d5feff8c91694a79"
  },
  {
   "cell_type": "markdown",
   "source": [
    "#################################################################################\n",
    "# 2. create collection\n",
    "We're going to create a collection with 3 fields.\n",
    "+-+------------+------------+------------------+------------------------------+\n",
    "| | field name | field type | other attributes |       field description      |\n",
    "+-+------------+------------+------------------+------------------------------+\n",
    "|1|    \"pk\"    |   VarChar  |  is_primary=True |      \"primary field\"         |\n",
    "| |            |            |   auto_id=False  |                              |\n",
    "+-+------------+------------+------------------+------------------------------+\n",
    "|2|  \"random\"  |    Double  |                  |      \"a double field\"        |\n",
    "+-+------------+------------+------------------+------------------------------+\n",
    "|3|\"embeddings\"| FloatVector|     dim=8        |  \"float vector with dim 8\"   |\n",
    "+-+------------+------------+------------------+------------------------------+"
   ],
   "metadata": {
    "collapsed": false
   },
   "id": "bbdaec328f92ab23"
  },
  {
   "cell_type": "code",
   "execution_count": 4,
   "outputs": [
    {
     "name": "stdout",
     "output_type": "stream",
     "text": [
      "\n",
      "=== Create collection `hello_milvus` ===\n"
     ]
    }
   ],
   "source": [
    "fields = [\n",
    "    FieldSchema(name=\"pk\", dtype=DataType.VARCHAR, is_primary=True, auto_id=False, max_length=100),\n",
    "    FieldSchema(name=\"random\", dtype=DataType.DOUBLE),\n",
    "    FieldSchema(name=\"embeddings\", dtype=DataType.FLOAT_VECTOR, dim=dim)\n",
    "]\n",
    "\n",
    "schema = CollectionSchema(fields, \"hello_milvus is the simplest demo to introduce the APIs\")\n",
    "\n",
    "print(fmt.format(\"Create collection `hello_milvus`\"))\n",
    "hello_milvus = Collection(\"hello_milvus\", schema, consistency_level=\"Strong\")"
   ],
   "metadata": {
    "collapsed": false,
    "ExecuteTime": {
     "end_time": "2023-09-14T07:45:19.596697Z",
     "start_time": "2023-09-14T07:45:19.542090500Z"
    }
   },
   "id": "53a4426d0d07502b"
  },
  {
   "cell_type": "markdown",
   "source": [
    "################################################################################\n",
    "# 3. insert data\n",
    "We are going to insert 3000 rows of data into `hello_milvus`\n",
    "Data to be inserted must be organized in fields.\n",
    "The insert() method returns:\n",
    "- either automatically generated primary keys by Milvus if auto_id=True in the schema;\n",
    "- or the existing primary key field from the entities if auto_id=False in the schema.\n"
   ],
   "metadata": {
    "collapsed": false
   },
   "id": "f89bf14d0dec95b6"
  },
  {
   "cell_type": "code",
   "execution_count": 5,
   "outputs": [
    {
     "name": "stdout",
     "output_type": "stream",
     "text": [
      "\n",
      "=== Start inserting entities       ===\n",
      "Number of entities in Milvus: 3000\n"
     ]
    }
   ],
   "source": [
    "print(fmt.format(\"Start inserting entities\"))\n",
    "rng = np.random.default_rng(seed=19530)\n",
    "entities = [\n",
    "    # provide the pk field because `auto_id` is set to False\n",
    "    [str(i) for i in range(num_entities)],\n",
    "    rng.random(num_entities).tolist(),  # field random, only supports list\n",
    "    rng.random((num_entities, dim)),  # field embeddings, supports numpy.ndarray and list\n",
    "]\n",
    "\n",
    "insert_result = hello_milvus.insert(entities)\n",
    "\n",
    "hello_milvus.flush()\n",
    "print(f\"Number of entities in Milvus: {hello_milvus.num_entities}\")  # check the num_entites"
   ],
   "metadata": {
    "collapsed": false,
    "ExecuteTime": {
     "end_time": "2023-09-14T07:46:03.817937100Z",
     "start_time": "2023-09-14T07:46:00.658009600Z"
    }
   },
   "id": "7e21d56b128b9cfe"
  },
  {
   "cell_type": "markdown",
   "source": [
    "################################################################################\n",
    "# 4. create index\n",
    "We are going to create an IVF_FLAT index for hello_milvus collection.\n",
    "create_index() can only be applied to `FloatVector` and `BinaryVector` fields."
   ],
   "metadata": {
    "collapsed": false
   },
   "id": "f69f4dba15d8921"
  },
  {
   "cell_type": "code",
   "execution_count": 6,
   "outputs": [
    {
     "name": "stdout",
     "output_type": "stream",
     "text": [
      "\n",
      "=== Start Creating index IVF_FLAT  ===\n"
     ]
    },
    {
     "data": {
      "text/plain": "Status(code=0, message=)"
     },
     "execution_count": 6,
     "metadata": {},
     "output_type": "execute_result"
    }
   ],
   "source": [
    "print(fmt.format(\"Start Creating index IVF_FLAT\"))\n",
    "index = {\n",
    "    \"index_type\": \"IVF_FLAT\",\n",
    "    \"metric_type\": \"L2\",\n",
    "    \"params\": {\"nlist\": 128},\n",
    "}\n",
    "\n",
    "hello_milvus.create_index(\"embeddings\", index)"
   ],
   "metadata": {
    "collapsed": false,
    "ExecuteTime": {
     "end_time": "2023-09-14T07:47:47.374571Z",
     "start_time": "2023-09-14T07:47:46.803868Z"
    }
   },
   "id": "69394782455e5dc8"
  },
  {
   "cell_type": "markdown",
   "source": [
    "################################################################################\n",
    "# 5. search, query, and hybrid search\n",
    "After data were inserted into Milvus and indexed, you can perform:\n",
    "- search based on vector similarity\n",
    "- query based on scalar filtering(boolean, int, etc.)\n",
    "- hybrid search based on vector similarity and scalar filtering.\n"
   ],
   "metadata": {
    "collapsed": false
   },
   "id": "1ab1972edc57e1d2"
  },
  {
   "cell_type": "code",
   "execution_count": 7,
   "outputs": [
    {
     "name": "stdout",
     "output_type": "stream",
     "text": [
      "\n",
      "=== Start loading                  ===\n"
     ]
    }
   ],
   "source": [
    "# Before conducting a search or a query, you need to load the data in `hello_milvus` into memory.\n",
    "print(fmt.format(\"Start loading\"))\n",
    "hello_milvus.load()"
   ],
   "metadata": {
    "collapsed": false,
    "ExecuteTime": {
     "end_time": "2023-09-14T07:49:35.676166200Z",
     "start_time": "2023-09-14T07:49:31.514713800Z"
    }
   },
   "id": "7eb829f4fdc216d4"
  },
  {
   "cell_type": "code",
   "execution_count": 9,
   "outputs": [
    {
     "name": "stdout",
     "output_type": "stream",
     "text": [
      "\n",
      "=== Start searching based on vector similarity ===\n",
      "hit: id: 2998, distance: 0.0, entity: {'random': 0.9728033590489911}, random field: 0.9728033590489911\n",
      "hit: id: 1262, distance: 0.08883658051490784, entity: {'random': 0.2978858685751561}, random field: 0.2978858685751561\n",
      "hit: id: 1265, distance: 0.09590047597885132, entity: {'random': 0.3042039939240304}, random field: 0.3042039939240304\n",
      "hit: id: 2999, distance: 0.0, entity: {'random': 0.02316334456872482}, random field: 0.02316334456872482\n",
      "hit: id: 1580, distance: 0.05628091096878052, entity: {'random': 0.3855988746044062}, random field: 0.3855988746044062\n",
      "hit: id: 2377, distance: 0.08096685260534286, entity: {'random': 0.8745922204004368}, random field: 0.8745922204004368\n",
      "search latency = 0.2458s\n",
      "\n",
      "=== Start querying with `random > 0.5` ===\n",
      "query result:\n",
      "-{'random': 0.6378742006852851, 'embeddings': [0.20963514, 0.39746657, 0.12019053, 0.6947492, 0.9535575, 0.5454552, 0.82360446, 0.21096309], 'pk': '0'}\n",
      "search latency = 0.2540s\n",
      "query pagination(limit=4):\n",
      "\t[{'random': 0.6378742006852851, 'pk': '0'}, {'random': 0.5763523024650556, 'pk': '100'}, {'random': 0.9425935891639464, 'pk': '1000'}, {'random': 0.7893211256191387, 'pk': '1001'}]\n",
      "query pagination(offset=1, limit=3):\n",
      "\t[{'random': 0.5763523024650556, 'pk': '100'}, {'random': 0.9425935891639464, 'pk': '1000'}, {'random': 0.7893211256191387, 'pk': '1001'}]\n",
      "\n",
      "=== Start hybrid searching with `random > 0.5` ===\n",
      "hit: id: 2998, distance: 0.0, entity: {'random': 0.9728033590489911}, random field: 0.9728033590489911\n",
      "hit: id: 747, distance: 0.14606499671936035, entity: {'random': 0.5648774800635661}, random field: 0.5648774800635661\n",
      "hit: id: 2527, distance: 0.1530652642250061, entity: {'random': 0.8928974315571507}, random field: 0.8928974315571507\n",
      "hit: id: 2377, distance: 0.08096685260534286, entity: {'random': 0.8745922204004368}, random field: 0.8745922204004368\n",
      "hit: id: 2034, distance: 0.20354536175727844, entity: {'random': 0.5526117606328499}, random field: 0.5526117606328499\n",
      "hit: id: 958, distance: 0.21908017992973328, entity: {'random': 0.6647383716417955}, random field: 0.6647383716417955\n",
      "search latency = 0.4030s\n"
     ]
    }
   ],
   "source": [
    "# -----------------------------------------------------------------------------\n",
    "# search based on vector similarity\n",
    "print(fmt.format(\"Start searching based on vector similarity\"))\n",
    "vectors_to_search = entities[-1][-2:]\n",
    "search_params = {\n",
    "    \"metric_type\": \"L2\",\n",
    "    \"params\": {\"nprobe\": 10},\n",
    "}\n",
    "\n",
    "start_time = time.time()\n",
    "result = hello_milvus.search(vectors_to_search, \"embeddings\", search_params, limit=3, output_fields=[\"random\"])\n",
    "end_time = time.time()\n",
    "\n",
    "for hits in result:\n",
    "    for hit in hits:\n",
    "        print(f\"hit: {hit}, random field: {hit.entity.get('random')}\")\n",
    "print(search_latency_fmt.format(end_time - start_time))\n",
    "\n",
    "# -----------------------------------------------------------------------------\n",
    "# query based on scalar filtering(boolean, int, etc.)\n",
    "print(fmt.format(\"Start querying with `random > 0.5`\"))\n",
    "\n",
    "start_time = time.time()\n",
    "result = hello_milvus.query(expr=\"random > 0.5\", output_fields=[\"random\", \"embeddings\"])\n",
    "end_time = time.time()\n",
    "\n",
    "print(f\"query result:\\n-{result[0]}\")\n",
    "print(search_latency_fmt.format(end_time - start_time))\n",
    "\n",
    "# -----------------------------------------------------------------------------\n",
    "# pagination\n",
    "r1 = hello_milvus.query(expr=\"random > 0.5\", limit=4, output_fields=[\"random\"])\n",
    "r2 = hello_milvus.query(expr=\"random > 0.5\", offset=1, limit=3, output_fields=[\"random\"])\n",
    "print(f\"query pagination(limit=4):\\n\\t{r1}\")\n",
    "print(f\"query pagination(offset=1, limit=3):\\n\\t{r2}\")\n",
    "\n",
    "# -----------------------------------------------------------------------------\n",
    "# hybrid search\n",
    "print(fmt.format(\"Start hybrid searching with `random > 0.5`\"))\n",
    "\n",
    "start_time = time.time()\n",
    "result = hello_milvus.search(vectors_to_search, \"embeddings\", search_params, limit=3, expr=\"random > 0.5\",\n",
    "                             output_fields=[\"random\"])\n",
    "end_time = time.time()\n",
    "\n",
    "for hits in result:\n",
    "    for hit in hits:\n",
    "        print(f\"hit: {hit}, random field: {hit.entity.get('random')}\")\n",
    "print(search_latency_fmt.format(end_time - start_time))"
   ],
   "metadata": {
    "collapsed": false,
    "ExecuteTime": {
     "end_time": "2023-09-14T07:50:26.409751900Z",
     "start_time": "2023-09-14T07:50:25.162218100Z"
    }
   },
   "id": "94f9e7899e3afca4"
  },
  {
   "cell_type": "code",
   "execution_count": 10,
   "outputs": [
    {
     "name": "stdout",
     "output_type": "stream",
     "text": [
      "\n",
      "=== Start deleting with expr `pk in [\"0\" , \"1\"]` ===\n",
      "query before delete by expr=`pk in [\"0\" , \"1\"]` -> result: \n",
      "-{'random': 0.6378742006852851, 'embeddings': [0.20963514, 0.39746657, 0.12019053, 0.6947492, 0.9535575, 0.5454552, 0.82360446, 0.21096309], 'pk': '0'}\n",
      "-{'random': 0.43925103574669633, 'embeddings': [0.52323616, 0.8035404, 0.77824664, 0.80369574, 0.4914803, 0.8265614, 0.6145269, 0.80234545], 'pk': '1'}\n",
      "\n",
      "query after delete by expr=`pk in [\"0\" , \"1\"]` -> result: []\n"
     ]
    }
   ],
   "source": [
    "###############################################################################\n",
    "# 6. delete entities by PK\n",
    "# You can delete entities by their PK values using boolean expressions.\n",
    "ids = insert_result.primary_keys\n",
    "\n",
    "expr = f'pk in [\"{ids[0]}\" , \"{ids[1]}\"]'\n",
    "print(fmt.format(f\"Start deleting with expr `{expr}`\"))\n",
    "\n",
    "result = hello_milvus.query(expr=expr, output_fields=[\"random\", \"embeddings\"])\n",
    "print(f\"query before delete by expr=`{expr}` -> result: \\n-{result[0]}\\n-{result[1]}\\n\")\n",
    "\n",
    "hello_milvus.delete(expr)\n",
    "\n",
    "result = hello_milvus.query(expr=expr, output_fields=[\"random\", \"embeddings\"])\n",
    "print(f\"query after delete by expr=`{expr}` -> result: {result}\\n\")"
   ],
   "metadata": {
    "collapsed": false,
    "ExecuteTime": {
     "end_time": "2023-09-14T07:50:58.818208700Z",
     "start_time": "2023-09-14T07:50:58.330327100Z"
    }
   },
   "id": "a808407103c2e2e4"
  },
  {
   "cell_type": "code",
   "execution_count": 11,
   "outputs": [
    {
     "name": "stdout",
     "output_type": "stream",
     "text": [
      "\n",
      "=== Drop collection `hello_milvus` ===\n"
     ]
    }
   ],
   "source": [
    "###############################################################################\n",
    "# 7. drop collection\n",
    "# Finally, drop the hello_milvus collection\n",
    "print(fmt.format(\"Drop collection `hello_milvus`\"))\n",
    "utility.drop_collection(\"hello_milvus\")"
   ],
   "metadata": {
    "collapsed": false,
    "ExecuteTime": {
     "end_time": "2023-09-14T07:51:07.226487600Z",
     "start_time": "2023-09-14T07:51:07.211490100Z"
    }
   },
   "id": "a2d853c1fc7137a8"
  }
 ],
 "metadata": {
  "kernelspec": {
   "display_name": "Python 3",
   "language": "python",
   "name": "python3"
  },
  "language_info": {
   "codemirror_mode": {
    "name": "ipython",
    "version": 2
   },
   "file_extension": ".py",
   "mimetype": "text/x-python",
   "name": "python",
   "nbconvert_exporter": "python",
   "pygments_lexer": "ipython2",
   "version": "2.7.6"
  }
 },
 "nbformat": 4,
 "nbformat_minor": 5
}
