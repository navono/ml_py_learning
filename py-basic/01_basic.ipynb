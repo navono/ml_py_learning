{
 "cells": [
  {
   "cell_type": "code",
   "execution_count": 2,
   "metadata": {
    "collapsed": true,
    "ExecuteTime": {
     "end_time": "2023-07-20T09:02:36.151099600Z",
     "start_time": "2023-07-20T09:02:35.949448800Z"
    }
   },
   "outputs": [],
   "source": [
    "!python3 -m pip install --upgrade pip"
   ]
  },
  {
   "cell_type": "code",
   "execution_count": 4,
   "outputs": [
    {
     "name": "stdout",
     "output_type": "stream",
     "text": [
      "\n",
      "Here is a list of the Python keywords.  Enter any keyword to get more help.\n",
      "\n",
      "False               class               from                or\n",
      "None                continue            global              pass\n",
      "True                def                 if                  raise\n",
      "and                 del                 import              return\n",
      "as                  elif                in                  try\n",
      "assert              else                is                  while\n",
      "async               except              lambda              with\n",
      "await               finally             nonlocal            yield\n",
      "break               for                 not                 \n",
      "\n"
     ]
    }
   ],
   "source": [
    "help('keywords')"
   ],
   "metadata": {
    "collapsed": false,
    "ExecuteTime": {
     "end_time": "2023-07-20T09:03:14.431434700Z",
     "start_time": "2023-07-20T09:03:14.426434400Z"
    }
   }
  },
  {
   "cell_type": "code",
   "execution_count": 3,
   "outputs": [
    {
     "data": {
      "text/plain": "['__add__',\n '__class__',\n '__contains__',\n '__delattr__',\n '__dir__',\n '__doc__',\n '__eq__',\n '__format__',\n '__ge__',\n '__getattribute__',\n '__getitem__',\n '__getnewargs__',\n '__gt__',\n '__hash__',\n '__init__',\n '__init_subclass__',\n '__iter__',\n '__le__',\n '__len__',\n '__lt__',\n '__mod__',\n '__mul__',\n '__ne__',\n '__new__',\n '__reduce__',\n '__reduce_ex__',\n '__repr__',\n '__rmod__',\n '__rmul__',\n '__setattr__',\n '__sizeof__',\n '__str__',\n '__subclasshook__',\n 'capitalize',\n 'casefold',\n 'center',\n 'count',\n 'encode',\n 'endswith',\n 'expandtabs',\n 'find',\n 'format',\n 'format_map',\n 'index',\n 'isalnum',\n 'isalpha',\n 'isascii',\n 'isdecimal',\n 'isdigit',\n 'isidentifier',\n 'islower',\n 'isnumeric',\n 'isprintable',\n 'isspace',\n 'istitle',\n 'isupper',\n 'join',\n 'ljust',\n 'lower',\n 'lstrip',\n 'maketrans',\n 'partition',\n 'removeprefix',\n 'removesuffix',\n 'replace',\n 'rfind',\n 'rindex',\n 'rjust',\n 'rpartition',\n 'rsplit',\n 'rstrip',\n 'split',\n 'splitlines',\n 'startswith',\n 'strip',\n 'swapcase',\n 'title',\n 'translate',\n 'upper',\n 'zfill']"
     },
     "execution_count": 3,
     "metadata": {},
     "output_type": "execute_result"
    }
   ],
   "source": [
    "dir(str)"
   ],
   "metadata": {
    "collapsed": false,
    "ExecuteTime": {
     "end_time": "2023-07-20T09:02:49.255025200Z",
     "start_time": "2023-07-20T09:02:49.243025500Z"
    }
   }
  },
  {
   "cell_type": "code",
   "execution_count": 5,
   "outputs": [],
   "source": [
    "# Variables in Python\n",
    "first_name = 'Asabeneh'\n",
    "last_name = 'Yetayeh'\n",
    "country = 'Finland'\n",
    "city = 'Helsinki'\n",
    "age = 250\n",
    "is_married = True\n",
    "skills = ['HTML', 'CSS', 'JS', 'React', 'Python']\n",
    "person_info = {\n",
    "    'firstname': 'Asabeneh',\n",
    "    'lastname': 'Yetayeh',\n",
    "    'country': 'Finland',\n",
    "    'city': 'Helsinki'\n",
    "}"
   ],
   "metadata": {
    "collapsed": false,
    "ExecuteTime": {
     "end_time": "2023-07-20T09:05:21.912711600Z",
     "start_time": "2023-07-20T09:05:21.890712100Z"
    }
   }
  },
  {
   "cell_type": "code",
   "execution_count": 7,
   "outputs": [
    {
     "name": "stdout",
     "output_type": "stream",
     "text": [
      "First name: Asabeneh\n",
      "First name length: 8\n",
      "Last name:  Yetayeh\n",
      "Last name length:  7\n",
      "Country:  Finland\n",
      "City:  Helsinki\n",
      "Age:  250\n",
      "Married:  True\n",
      "Skills:  ['HTML', 'CSS', 'JS', 'React', 'Python']\n",
      "Person information:  {'firstname': 'Asabeneh', 'lastname': 'Yetayeh', 'country': 'Finland', 'city': 'Helsinki'}\n"
     ]
    }
   ],
   "source": [
    "# Printing the values stored in the variables\n",
    "\n",
    "print('First name:', first_name)\n",
    "print('First name length:', len(first_name))\n",
    "print('Last name: ', last_name)\n",
    "print('Last name length: ', len(last_name))\n",
    "print('Country: ', country)\n",
    "print('City: ', city)\n",
    "print('Age: ', age)\n",
    "print('Married: ', is_married)\n",
    "print('Skills: ', skills)\n",
    "print('Person information: ', person_info)"
   ],
   "metadata": {
    "collapsed": false,
    "ExecuteTime": {
     "end_time": "2023-07-20T09:05:49.948389Z",
     "start_time": "2023-07-20T09:05:49.936388500Z"
    }
   }
  },
  {
   "cell_type": "code",
   "execution_count": 6,
   "outputs": [
    {
     "name": "stdout",
     "output_type": "stream",
     "text": [
      "Hello, World!\n",
      "Hello , World !\n",
      "13\n"
     ]
    }
   ],
   "source": [
    "print('Hello, World!')  # The text Hello, World! is an argument\n",
    "print('Hello', ',', 'World', '!')  # it can take multiple arguments, four arguments have been passed\n",
    "print(len('Hello, World!'))  # it takes only one argument"
   ],
   "metadata": {
    "collapsed": false,
    "ExecuteTime": {
     "end_time": "2023-07-20T09:05:26.376931800Z",
     "start_time": "2023-07-20T09:05:26.357934500Z"
    }
   }
  },
  {
   "cell_type": "code",
   "execution_count": 8,
   "outputs": [
    {
     "name": "stdout",
     "output_type": "stream",
     "text": [
      "Asabeneh Yetayeh Helsink 250 True\n",
      "First name: Asabeneh\n",
      "Last name:  Yetayeh\n",
      "Country:  Helsink\n",
      "Age:  250\n",
      "Married:  True\n"
     ]
    }
   ],
   "source": [
    "first_name, last_name, country, age, is_married = 'Asabeneh', 'Yetayeh', 'Helsink', 250, True\n",
    "\n",
    "print(first_name, last_name, country, age, is_married)\n",
    "print('First name:', first_name)\n",
    "print('Last name: ', last_name)\n",
    "print('Country: ', country)\n",
    "print('Age: ', age)\n",
    "print('Married: ', is_married)"
   ],
   "metadata": {
    "collapsed": false,
    "ExecuteTime": {
     "end_time": "2023-07-20T09:06:18.950044100Z",
     "start_time": "2023-07-20T09:06:18.949043100Z"
    }
   }
  },
  {
   "cell_type": "code",
   "execution_count": 9,
   "outputs": [
    {
     "name": "stdout",
     "output_type": "stream",
     "text": [
      "<class 'str'>\n",
      "<class 'str'>\n",
      "<class 'int'>\n",
      "<class 'float'>\n",
      "<class 'complex'>\n",
      "<class 'bool'>\n",
      "<class 'list'>\n",
      "<class 'dict'>\n",
      "<class 'tuple'>\n",
      "<class 'zip'>\n"
     ]
    }
   ],
   "source": [
    "# Data Types\n",
    "\n",
    "# Different python data types\n",
    "# Let's declare variables with various data types\n",
    "\n",
    "first_name = 'Asabeneh'  # str\n",
    "last_name = 'Yetayeh'  # str\n",
    "country = 'Finland'  # str\n",
    "city = 'Helsinki'  # str\n",
    "age = 250  # int, it is not my real age, don't worry about it\n",
    "\n",
    "# Printing out types\n",
    "print(type('Asabeneh'))  # str\n",
    "print(type(first_name))  # str\n",
    "print(type(10))  # int\n",
    "print(type(3.14))  # float\n",
    "print(type(1 + 1j))  # complex\n",
    "print(type(True))  # bool\n",
    "print(type([1, 2, 3, 4]))  # list\n",
    "print(type({'name': 'Asabeneh', 'age': 250, 'is_married': 250}))  # dict\n",
    "print(type((1, 2)))  # tuple\n",
    "print(type(zip([1, 2], [3, 4])))  # set"
   ],
   "metadata": {
    "collapsed": false,
    "ExecuteTime": {
     "end_time": "2023-07-20T09:07:44.817398100Z",
     "start_time": "2023-07-20T09:07:44.793398200Z"
    }
   }
  },
  {
   "cell_type": "code",
   "execution_count": 11,
   "outputs": [
    {
     "name": "stdout",
     "output_type": "stream",
     "text": [
      "num_int 10\n",
      "num_float: 10.0\n",
      "9\n",
      "10\n",
      "10\n",
      "num_int 10\n",
      "num_float 10.6\n",
      "Asabeneh\n",
      "['A', 's', 'a', 'b', 'e', 'n', 'e', 'h']\n"
     ]
    }
   ],
   "source": [
    "# Casting\n",
    "\n",
    "# int to float\n",
    "num_int = 10\n",
    "print('num_int', num_int)  # 10\n",
    "num_float = float(num_int)\n",
    "print('num_float:', num_float)  # 10.0\n",
    "\n",
    "# float to int\n",
    "gravity = 9.81\n",
    "print(int(gravity))  # 9\n",
    "\n",
    "# int to str\n",
    "num_int = 10\n",
    "print(num_int)  # 10\n",
    "num_str = str(num_int)\n",
    "print(num_str)  # '10'\n",
    "\n",
    "# str to int or float\n",
    "num_str = '10.6'\n",
    "print('num_int', int(float(num_str)))  # 10\n",
    "print('num_float', float(num_str))  # 10.6\n",
    "\n",
    "# str to list\n",
    "first_name = 'Asabeneh'\n",
    "print(first_name)  # 'Asabeneh'\n",
    "first_name_to_list = list(first_name)\n",
    "print(first_name_to_list)  # ['A', 's', 'a', 'b', 'e', 'n', 'e', 'h']"
   ],
   "metadata": {
    "collapsed": false,
    "ExecuteTime": {
     "end_time": "2023-07-20T09:10:06.461183200Z",
     "start_time": "2023-07-20T09:10:06.447179Z"
    }
   }
  }
 ],
 "metadata": {
  "kernelspec": {
   "display_name": "Python 3",
   "language": "python",
   "name": "python3"
  },
  "language_info": {
   "codemirror_mode": {
    "name": "ipython",
    "version": 2
   },
   "file_extension": ".py",
   "mimetype": "text/x-python",
   "name": "python",
   "nbconvert_exporter": "python",
   "pygments_lexer": "ipython2",
   "version": "2.7.6"
  }
 },
 "nbformat": 4,
 "nbformat_minor": 0
}
