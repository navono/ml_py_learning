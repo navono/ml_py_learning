{
 "cells": [
  {
   "cell_type": "code",
   "execution_count": 2,
   "metadata": {
    "collapsed": true,
    "ExecuteTime": {
     "end_time": "2023-07-20T09:02:36.151099600Z",
     "start_time": "2023-07-20T09:02:35.949448800Z"
    }
   },
   "outputs": [],
   "source": [
    "!python3 -m pip install --upgrade pip"
   ]
  },
  {
   "cell_type": "code",
   "execution_count": 4,
   "outputs": [
    {
     "name": "stdout",
     "output_type": "stream",
     "text": [
      "\n",
      "Here is a list of the Python keywords.  Enter any keyword to get more help.\n",
      "\n",
      "False               class               from                or\n",
      "None                continue            global              pass\n",
      "True                def                 if                  raise\n",
      "and                 del                 import              return\n",
      "as                  elif                in                  try\n",
      "assert              else                is                  while\n",
      "async               except              lambda              with\n",
      "await               finally             nonlocal            yield\n",
      "break               for                 not                 \n"
     ]
    }
   ],
   "source": [
    "help('keywords')"
   ],
   "metadata": {
    "collapsed": false,
    "ExecuteTime": {
     "end_time": "2023-07-20T09:03:14.431434700Z",
     "start_time": "2023-07-20T09:03:14.426434400Z"
    }
   }
  },
  {
   "cell_type": "code",
   "execution_count": 3,
   "outputs": [
    {
     "data": {
      "text/plain": "['__add__',\n '__class__',\n '__contains__',\n '__delattr__',\n '__dir__',\n '__doc__',\n '__eq__',\n '__format__',\n '__ge__',\n '__getattribute__',\n '__getitem__',\n '__getnewargs__',\n '__gt__',\n '__hash__',\n '__init__',\n '__init_subclass__',\n '__iter__',\n '__le__',\n '__len__',\n '__lt__',\n '__mod__',\n '__mul__',\n '__ne__',\n '__new__',\n '__reduce__',\n '__reduce_ex__',\n '__repr__',\n '__rmod__',\n '__rmul__',\n '__setattr__',\n '__sizeof__',\n '__str__',\n '__subclasshook__',\n 'capitalize',\n 'casefold',\n 'center',\n 'count',\n 'encode',\n 'endswith',\n 'expandtabs',\n 'find',\n 'format',\n 'format_map',\n 'index',\n 'isalnum',\n 'isalpha',\n 'isascii',\n 'isdecimal',\n 'isdigit',\n 'isidentifier',\n 'islower',\n 'isnumeric',\n 'isprintable',\n 'isspace',\n 'istitle',\n 'isupper',\n 'join',\n 'ljust',\n 'lower',\n 'lstrip',\n 'maketrans',\n 'partition',\n 'removeprefix',\n 'removesuffix',\n 'replace',\n 'rfind',\n 'rindex',\n 'rjust',\n 'rpartition',\n 'rsplit',\n 'rstrip',\n 'split',\n 'splitlines',\n 'startswith',\n 'strip',\n 'swapcase',\n 'title',\n 'translate',\n 'upper',\n 'zfill']"
     },
     "execution_count": 3,
     "metadata": {},
     "output_type": "execute_result"
    }
   ],
   "source": [
    "dir(str)"
   ],
   "metadata": {
    "collapsed": false,
    "ExecuteTime": {
     "end_time": "2023-07-20T09:02:49.255025200Z",
     "start_time": "2023-07-20T09:02:49.243025500Z"
    }
   }
  },
  {
   "cell_type": "code",
   "execution_count": 5,
   "outputs": [],
   "source": [
    "# Variables in Python\n",
    "first_name = 'Asabeneh'\n",
    "last_name = 'Yetayeh'\n",
    "country = 'Finland'\n",
    "city = 'Helsinki'\n",
    "age = 250\n",
    "is_married = True\n",
    "skills = ['HTML', 'CSS', 'JS', 'React', 'Python']\n",
    "person_info = {\n",
    "    'firstname': 'Asabeneh',\n",
    "    'lastname': 'Yetayeh',\n",
    "    'country': 'Finland',\n",
    "    'city': 'Helsinki'\n",
    "}"
   ],
   "metadata": {
    "collapsed": false,
    "ExecuteTime": {
     "end_time": "2023-07-20T09:05:21.912711600Z",
     "start_time": "2023-07-20T09:05:21.890712100Z"
    }
   }
  },
  {
   "cell_type": "code",
   "execution_count": 7,
   "outputs": [
    {
     "name": "stdout",
     "output_type": "stream",
     "text": [
      "First name: Asabeneh\n",
      "First name length: 8\n",
      "Last name:  Yetayeh\n",
      "Last name length:  7\n",
      "Country:  Finland\n",
      "City:  Helsinki\n",
      "Age:  250\n",
      "Married:  True\n",
      "Skills:  ['HTML', 'CSS', 'JS', 'React', 'Python']\n",
      "Person information:  {'firstname': 'Asabeneh', 'lastname': 'Yetayeh', 'country': 'Finland', 'city': 'Helsinki'}\n"
     ]
    }
   ],
   "source": [
    "# Printing the values stored in the variables\n",
    "\n",
    "print('First name:', first_name)\n",
    "print('First name length:', len(first_name))\n",
    "print('Last name: ', last_name)\n",
    "print('Last name length: ', len(last_name))\n",
    "print('Country: ', country)\n",
    "print('City: ', city)\n",
    "print('Age: ', age)\n",
    "print('Married: ', is_married)\n",
    "print('Skills: ', skills)\n",
    "print('Person information: ', person_info)"
   ],
   "metadata": {
    "collapsed": false,
    "ExecuteTime": {
     "end_time": "2023-07-20T09:05:49.948389Z",
     "start_time": "2023-07-20T09:05:49.936388500Z"
    }
   }
  },
  {
   "cell_type": "code",
   "execution_count": 6,
   "outputs": [
    {
     "name": "stdout",
     "output_type": "stream",
     "text": [
      "Hello, World!\n",
      "Hello , World !\n",
      "13\n"
     ]
    }
   ],
   "source": [
    "print('Hello, World!')  # The text Hello, World! is an argument\n",
    "print('Hello', ',', 'World', '!')  # it can take multiple arguments, four arguments have been passed\n",
    "print(len('Hello, World!'))  # it takes only one argument"
   ],
   "metadata": {
    "collapsed": false,
    "ExecuteTime": {
     "end_time": "2023-07-20T09:05:26.376931800Z",
     "start_time": "2023-07-20T09:05:26.357934500Z"
    }
   }
  },
  {
   "cell_type": "code",
   "execution_count": 8,
   "outputs": [
    {
     "name": "stdout",
     "output_type": "stream",
     "text": [
      "Asabeneh Yetayeh Helsink 250 True\n",
      "First name: Asabeneh\n",
      "Last name:  Yetayeh\n",
      "Country:  Helsink\n",
      "Age:  250\n",
      "Married:  True\n"
     ]
    }
   ],
   "source": [
    "first_name, last_name, country, age, is_married = 'Asabeneh', 'Yetayeh', 'Helsink', 250, True\n",
    "\n",
    "print(first_name, last_name, country, age, is_married)\n",
    "print('First name:', first_name)\n",
    "print('Last name: ', last_name)\n",
    "print('Country: ', country)\n",
    "print('Age: ', age)\n",
    "print('Married: ', is_married)"
   ],
   "metadata": {
    "collapsed": false,
    "ExecuteTime": {
     "end_time": "2023-07-20T09:06:18.950044100Z",
     "start_time": "2023-07-20T09:06:18.949043100Z"
    }
   }
  },
  {
   "cell_type": "code",
   "execution_count": 9,
   "outputs": [
    {
     "name": "stdout",
     "output_type": "stream",
     "text": [
      "<class 'str'>\n",
      "<class 'str'>\n",
      "<class 'int'>\n",
      "<class 'float'>\n",
      "<class 'complex'>\n",
      "<class 'bool'>\n",
      "<class 'list'>\n",
      "<class 'dict'>\n",
      "<class 'tuple'>\n",
      "<class 'zip'>\n"
     ]
    }
   ],
   "source": [
    "# Data Types\n",
    "\n",
    "# Different python data types\n",
    "# Let's declare variables with various data types\n",
    "\n",
    "first_name = 'Asabeneh'  # str\n",
    "last_name = 'Yetayeh'  # str\n",
    "country = 'Finland'  # str\n",
    "city = 'Helsinki'  # str\n",
    "age = 250  # int, it is not my real age, don't worry about it\n",
    "\n",
    "# Printing out types\n",
    "print(type('Asabeneh'))  # str\n",
    "print(type(first_name))  # str\n",
    "print(type(10))  # int\n",
    "print(type(3.14))  # float\n",
    "print(type(1 + 1j))  # complex\n",
    "print(type(True))  # bool\n",
    "print(type([1, 2, 3, 4]))  # list\n",
    "print(type({'name': 'Asabeneh', 'age': 250, 'is_married': 250}))  # dict\n",
    "print(type((1, 2)))  # tuple\n",
    "print(type(zip([1, 2], [3, 4])))  # set"
   ],
   "metadata": {
    "collapsed": false,
    "ExecuteTime": {
     "end_time": "2023-07-20T09:07:44.817398100Z",
     "start_time": "2023-07-20T09:07:44.793398200Z"
    }
   }
  },
  {
   "cell_type": "code",
   "execution_count": 11,
   "outputs": [
    {
     "name": "stdout",
     "output_type": "stream",
     "text": [
      "num_int 10\n",
      "num_float: 10.0\n",
      "9\n",
      "10\n",
      "10\n",
      "num_int 10\n",
      "num_float 10.6\n",
      "Asabeneh\n",
      "['A', 's', 'a', 'b', 'e', 'n', 'e', 'h']\n"
     ]
    }
   ],
   "source": [
    "# Casting\n",
    "\n",
    "# int to float\n",
    "num_int = 10\n",
    "print('num_int', num_int)  # 10\n",
    "num_float = float(num_int)\n",
    "print('num_float:', num_float)  # 10.0\n",
    "\n",
    "# float to int\n",
    "gravity = 9.81\n",
    "print(int(gravity))  # 9\n",
    "\n",
    "# int to str\n",
    "num_int = 10\n",
    "print(num_int)  # 10\n",
    "num_str = str(num_int)\n",
    "print(num_str)  # '10'\n",
    "\n",
    "# str to int or float\n",
    "num_str = '10.6'\n",
    "print('num_int', int(float(num_str)))  # 10\n",
    "print('num_float', float(num_str))  # 10.6\n",
    "\n",
    "# str to list\n",
    "first_name = 'Asabeneh'\n",
    "print(first_name)  # 'Asabeneh'\n",
    "first_name_to_list = list(first_name)\n",
    "print(first_name_to_list)  # ['A', 's', 'a', 'b', 'e', 'n', 'e', 'h']"
   ],
   "metadata": {
    "collapsed": false,
    "ExecuteTime": {
     "end_time": "2023-07-20T09:10:06.461183200Z",
     "start_time": "2023-07-20T09:10:06.447179Z"
    }
   }
  },
  {
   "cell_type": "code",
   "execution_count": 2,
   "outputs": [
    {
     "name": "stdout",
     "output_type": "stream",
     "text": [
      "5\n",
      "a + b =  5\n",
      "a - b =  1\n",
      "a * b =  6\n",
      "a / b =  1.5\n",
      "a % b =  1\n",
      "a // b =  1\n",
      "a ** b =  9\n"
     ]
    }
   ],
   "source": [
    "# Declaring the variable at the top first\n",
    "\n",
    "a = 3  # a is a variable name and 3 is an integer data type\n",
    "b = 2  # b is a variable name and 3 is an integer data type\n",
    "\n",
    "# Arithmetic operations and assigning the result to a variable\n",
    "total = a + b\n",
    "diff = a - b\n",
    "product = a * b\n",
    "division = a / b\n",
    "remainder = a % b\n",
    "floor_division = a // b\n",
    "exponentiation = a ** b\n",
    "\n",
    "# I should have used sum instead of total but sum is a built-in function - try to avoid overriding built-in functions\n",
    "print(total)  # if you do not label your print with some string, you never know where the result is coming from\n",
    "print('a + b = ', total)\n",
    "print('a - b = ', diff)\n",
    "print('a * b = ', product)\n",
    "print('a / b = ', division)\n",
    "print('a % b = ', remainder)\n",
    "print('a // b = ', floor_division)\n",
    "print('a ** b = ', exponentiation)"
   ],
   "metadata": {
    "collapsed": false,
    "ExecuteTime": {
     "end_time": "2023-07-31T02:42:23.640833600Z",
     "start_time": "2023-07-31T02:42:23.610832300Z"
    }
   }
  },
  {
   "cell_type": "code",
   "execution_count": 61,
   "outputs": [
    {
     "ename": "SyntaxError",
     "evalue": "unmatched ']' (3866725339.py, line 33)",
     "output_type": "error",
     "traceback": [
      "\u001B[1;36m  Cell \u001B[1;32mIn[61], line 33\u001B[1;36m\u001B[0m\n\u001B[1;33m    ]]\u001B[0m\n\u001B[1;37m     ^\u001B[0m\n\u001B[1;31mSyntaxError\u001B[0m\u001B[1;31m:\u001B[0m unmatched ']'\n"
     ]
    }
   ],
   "source": [
    "li = [[\n",
    "    [[[742.0, 75.0], [774.0, 75.0], [774.0, 108.0], [742.0, 108.0]], ('0', 0.9798496961593628)],\n",
    "    [[[1220.0, 68.0], [1394.0, 68.0], [1394.0, 117.0], [1220.0, 117.0]], ('王中寻', 0.6893253922462463)],\n",
    "    [[[1378.0, 70.0], [1468.0, 70.0], [1468.0, 113.0], [1378.0, 113.0]], ('积丹', 0.7596126794815063)],\n",
    "    [[[1988.0, 70.0], [2126.0, 68.0], [2127.0, 112.0], [1988.0, 115.0]], ('2021. 11.5', 0.9465373754501343)],\n",
    "    [[[728.0, 129.0], [793.0, 129.0], [793.0, 178.0], [728.0, 178.0]], ('修改', 0.9988491535186768)],\n",
    "    [[[1657.0, 309.0], [1992.0, 309.0], [1992.0, 340.0], [1657.0, 340.0]], ('INCORPORATION', 0.902382493019104)],\n",
    "    [[[1673.0, 363.0], [2129.0, 363.0], [2129.0, 394.0], [1673.0, 394.0]],\n",
    "     ('未经SEI书面许可，不得以任何方式复制或用于与本项目无关的其它用途', 0.9753356575965881)],\n",
    "    [[[779.0, 375.0], [1602.0, 375.0], [1602.0, 422.0], [779.0, 422.0]],\n",
    "     ('中国石化安庆分公司炼油转化工结构调整项目', 0.9549664258956909)],\n",
    "    [[[2164.0, 368.0], [2191.0, 368.0], [2191.0, 405.0], [2164.0, 405.0]], ('H', 0.9985731840133667)],\n",
    "    [[[1683.0, 398.0], [2115.0, 398.0], [2115.0, 415.0], [1683.0, 415.0]],\n",
    "     ('OONOTREPRODUCEOREMPLOYFOROTHERPURPOSESOTHER', 0.9274612069129944)],\n",
    "    [[[1678.0, 455.0], [1768.0, 455.0], [1768.0, 480.0], [1678.0, 480.0]], ('设计阶段', 0.9963698387145996)],\n",
    "    ('详细工程设讯合同号', 0.8936166763305664)],\n",
    "    [[[975.0, 478.0], [1366.0, 478.0], [1366.0, 518.0], [975.0, 518.0]],\n",
    "     ('300万吨/年重油催化裂解装置', 0.9492359757423401)],\n",
    "    [[[1012.0, 593.0], [1269.0, 593.0], [1269.0, 640.0], [1012.0, 640.0]],\n",
    "     ('联锁逻辑因果图（五）', 0.9503827095031738)],\n",
    "    [[[1685.0, 593.0], [1745.0, 593.0], [1745.0, 619.0], [1685.0, 619.0]], ('JOB. NO.', 0.9517961740493774)],\n",
    "    [[[1683.0, 609.0], [1745.0, 609.0], [1745.0, 645.0], [1683.0, 645.0]], ('图号', 0.9938911199569702)],\n",
    "    [[[2092.0, 600.0], [2127.0, 600.0], [2127.0, 635.0], [2092.0, 635.0]], ('0', 0.5497645735740662)],\n",
    "    [[[1780.0, 614.0], [2025.0, 614.0], [2025.0, 647.0], [1780.0, 647.0]],\n",
    "     ('114000PE-DW01-0085', 0.9606008529663086)],\n",
    "    [[[1671.0, 638.0], [1750.0, 638.0], [1750.0, 670.0], [1671.0, 670.0]], ('DWG.NO.', 0.9778197407722473)],\n",
    "    [[[2103.0, 642.0], [2129.0, 642.0], [2129.0, 666.0], [2103.0, 666.0]], ('REV', 0.987156867980957)],\n",
    "    [[[287.0, 684.0], [324.0, 684.0], [324.0, 738.0], [287.0, 738.0]], ('9', 0.9995781779289246)],\n",
    "    [[[807.0, 684.0], [867.0, 684.0], [867.0, 736.0], [807.0, 736.0]], ('10', 0.9946892857551575)],\n",
    "    [[[1334.0, 684.0], [1394.0, 684.0], [1394.0, 736.0], [1334.0, 736.0]], ('11', 0.7905031442642212)],\n",
    "    [[[1865.0, 682.0], [1923.0, 682.0], [1923.0, 738.0], [1865.0, 738.0]], ('12', 0.9998221397399902)],\n",
    "    [[[2036.0, 675.0], [2138.0, 675.0], [2138.0, 698.0], [2036.0, 698.0]], ('AlEngStyleH', 0.9387363791465759)]\n",
    "]]\n",
    "\n",
    "class ObjectItem:\n",
    "    def __init__(self, pos, val):\n",
    "        self.position = pos\n",
    "        self.value = val\n",
    "\n",
    "\n",
    "item_list = []\n",
    "for item in li[0]:\n",
    "    for i in range(len(item)):\n",
    "        if i == 0:\n",
    "            pos = item[i]\n",
    "        else:\n",
    "            val = item[i][0]\n",
    "        item_list.append(ObjectItem(pos, val))\n",
    "\n",
    "print(\"len(item_list):\", len(item_list))\n",
    "\n",
    "\n",
    "def compare_nested_objects(obj):\n",
    "    return obj.position\n",
    "\n",
    "\n",
    "# 使用 sorted 函数进行排序，key 参数指定比较函数\n",
    "sorted_array = sorted(item_list, key=compare_nested_objects)\n",
    "print(\"len(sorted_array):\", len(sorted_array))\n",
    "\n",
    "# 打印排序后的结果\n",
    "for obj in sorted_array:\n",
    "    print(obj.position, obj.value)\n"
   ],
   "metadata": {
    "collapsed": false,
    "ExecuteTime": {
     "end_time": "2023-08-15T06:16:42.386251700Z",
     "start_time": "2023-08-15T06:16:42.367237Z"
    }
   }
  },
  {
   "cell_type": "code",
   "execution_count": null,
   "outputs": [],
   "source": [],
   "metadata": {
    "collapsed": false
   }
  },
  {
   "cell_type": "code",
   "execution_count": 36,
   "outputs": [
    {
     "name": "stdout",
     "output_type": "stream",
     "text": [
      "obj: [[742.0, 75.0], ('0', 0.9798496961593628)]\n",
      "obj: [[287.0, 684.0], ('修改', 0.9988491535186768)]\n",
      "obj: [[971.0, 134.0], ('AlEngStyleH', 0.9387363791465759)]\n",
      "[[287.0, 684.0], ('修改', 0.9988491535186768)]\n",
      "[[742.0, 75.0], ('0', 0.9798496961593628)]\n",
      "[[971.0, 134.0], ('AlEngStyleH', 0.9387363791465759)]\n"
     ]
    }
   ],
   "source": [
    "class NestedObject:\n",
    "    def __init__(self, value):\n",
    "        self.value = value\n",
    "\n",
    "\n",
    "class MyObject:\n",
    "    def __init__(self, nested_obj):\n",
    "        self.nested_obj = nested_obj\n",
    "\n",
    "    # [[[742.0, 75.0], [774.0, 75.0], [774.0, 108.0], [742.0, 108.0], ('0', 0.9798496961593628)],\n",
    "    #  [[728.0, 129.0], [793.0, 129.0], [793.0, 178.0], [728.0, 178.0], ('修改', 0.9988491535186768)],\n",
    "    #  [[971.0, 134.0], [1026.0, 134.0], [1026.0, 173.0], [971.0, 173.0], ('说明', 0.9982331991195679)],\n",
    "    #  [[2036.0, 675.0], [2138.0, 675.0], [2138.0, 698.0], [2036.0, 698.0], ('AlEngStyleH', 0.9387363791465759)],\n",
    "    #  [[287.0, 684.0], [324.0, 684.0], [324.0, 738.0], [287.0, 738.0], ('abc', 0.9995781779289246)]\n",
    "\n",
    "\n",
    "# 创建嵌套对象数组\n",
    "nested_object_array = [\n",
    "    MyObject(NestedObject([[742.0, 75.0], ('0', 0.9798496961593628)])),\n",
    "    MyObject(NestedObject([[287.0, 684.0], ('修改', 0.9988491535186768)])),\n",
    "    MyObject(NestedObject([[971.0, 134.0], ('AlEngStyleH', 0.9387363791465759)]))\n",
    "]\n",
    "\n",
    "\n",
    "# 定义比较函数，根据嵌套对象的 value 属性进行比较\n",
    "def compare_nested_objects(obj):\n",
    "    print(\"obj:\", obj.nested_obj.value)\n",
    "    return obj.nested_obj.value\n",
    "\n",
    "\n",
    "# 使用 sorted 函数进行排序，key 参数指定比较函数\n",
    "sorted_array = sorted(nested_object_array, key=compare_nested_objects)\n",
    "\n",
    "# 打印排序后的结果\n",
    "for obj in sorted_array:\n",
    "    print(obj.nested_obj.value)"
   ],
   "metadata": {
    "collapsed": false,
    "ExecuteTime": {
     "end_time": "2023-08-15T05:57:42.872940600Z",
     "start_time": "2023-08-15T05:57:42.864864600Z"
    }
   }
  },
  {
   "cell_type": "code",
   "execution_count": 6,
   "outputs": [
    {
     "name": "stdout",
     "output_type": "stream",
     "text": [
      "True\n",
      "[272.0..437]\n"
     ]
    }
   ],
   "source": [
    "from interval import Interval\n",
    "\n",
    "z = Interval(272.0, 437)\n",
    "z2 = Interval(648, 684)\n",
    "\n",
    "y = Interval(595, 715)\n",
    "\n",
    "print(y.overlaps(z2))\n",
    "\n",
    "print(z)"
   ],
   "metadata": {
    "collapsed": false,
    "ExecuteTime": {
     "end_time": "2023-08-15T11:59:49.210038Z",
     "start_time": "2023-08-15T11:59:49.175039200Z"
    }
   }
  }
 ],
 "metadata": {
  "kernelspec": {
   "display_name": "Python 3",
   "language": "python",
   "name": "python3"
  },
  "language_info": {
   "codemirror_mode": {
    "name": "ipython",
    "version": 2
   },
   "file_extension": ".py",
   "mimetype": "text/x-python",
   "name": "python",
   "nbconvert_exporter": "python",
   "pygments_lexer": "ipython2",
   "version": "2.7.6"
  }
 },
 "nbformat": 4,
 "nbformat_minor": 0
}
