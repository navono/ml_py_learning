{
 "cells": [
  {
   "cell_type": "code",
   "execution_count": 1,
   "id": "initial_id",
   "metadata": {
    "collapsed": true,
    "ExecuteTime": {
     "end_time": "2023-09-15T01:27:02.741520200Z",
     "start_time": "2023-09-15T01:27:02.530107800Z"
    }
   },
   "outputs": [],
   "source": [
    "import numpy as np"
   ]
  },
  {
   "cell_type": "markdown",
   "source": [
    "# dot\n",
    "1. 如果a和b都是一维的,那么结果就是普通的內积(inner product)。可以使用np.matmul 或者 a @ b 得到相同的答案\n",
    "    $a \\cdot b = \\sum_{i=1}^{n}{a_ib_i}=a_1b_1 + a_2b_2 + ... + a_nb_n$\n",
    "2. 如果a和b都是二维的，运算等同于矩阵乘法（Dot product）。可以使用np.matmul 或者 a @ b 得到相同的答案。（位置会改变结果）\n",
    "3. 如果 a 或者 b 中有一个是标量的，效果等价于np.multiply ，可以使用 multiply(a,b) 或者 a * b 也可以。（位置不会改变结果）\n",
    "4. 如果a是 N-D 数组, b 是 1-D的数组，结果为a和b最后一个轴的乘积。\n",
    "5. 如果a是N-D数组， b 是 M-D数组（M>2），结果为a的最后一个轴与a的倒数第二个轴的和。\n",
    "\n",
    "注意：\n",
    "- 对于array对象，*和np.multiply函数代表的是数量积，如果希望使用矩阵的乘法规则，则应该调用np.dot和np.matmul函数\n",
    "- 对于matrix对象，*直接代表了原生的矩阵乘法，而如果特殊情况下需要使用数量积，则应该使用np.multiply函数"
   ],
   "metadata": {
    "collapsed": false
   },
   "id": "39bd90a5ec7dc955"
  },
  {
   "cell_type": "code",
   "execution_count": 2,
   "outputs": [
    {
     "name": "stdout",
     "output_type": "stream",
     "text": [
      "result_ab: 32\n",
      "result_ba: 32\n"
     ]
    }
   ],
   "source": [
    "# 1-D array\n",
    "a = np.array([1, 2, 3])\n",
    "b = np.array([4, 5, 6])\n",
    "result_ab = np.dot(a, b)\n",
    "result_ba = np.dot(b, a)\n",
    "print('result_ab: %s' % (result_ab))\n",
    "print('result_ba: %s' % (result_ba))"
   ],
   "metadata": {
    "collapsed": false,
    "ExecuteTime": {
     "end_time": "2023-09-15T01:27:22.166075Z",
     "start_time": "2023-09-15T01:27:22.162992200Z"
    }
   },
   "id": "c1176af19bf274a6"
  },
  {
   "cell_type": "code",
   "execution_count": 3,
   "outputs": [
    {
     "name": "stdout",
     "output_type": "stream",
     "text": [
      "dot_result_ab:\n",
      " [[22 28]\n",
      " [49 64]]\n",
      "dot_result_ba:\n",
      " [[ 9 12 15]\n",
      " [19 26 33]\n",
      " [29 40 51]]\n",
      "matmul_result_ab:\n",
      " [[22 28]\n",
      " [49 64]]\n",
      "matmul_result_ba:\n",
      " [[ 9 12 15]\n",
      " [19 26 33]\n",
      " [29 40 51]]\n"
     ]
    }
   ],
   "source": [
    "# 2-D array: 2 x 3\n",
    "a = np.array([[1, 2, 3], [4, 5, 6]])\n",
    "# 2-D array: 3 x 2\n",
    "b = np.array([[1, 2], [3, 4], [5, 6]])\n",
    "\n",
    "result_ab = np.dot(a, b)\n",
    "result_ba = np.dot(b, a)\n",
    "print('dot_result_ab:\\n %s' % (result_ab))\n",
    "print('dot_result_ba:\\n %s' % (result_ba))\n",
    "\n",
    "result_ab = np.matmul(a, b)\n",
    "result_ba = np.matmul(b, a)\n",
    "print('matmul_result_ab:\\n %s' % (result_ab))\n",
    "print('matmul_result_ba:\\n %s' % (result_ba))"
   ],
   "metadata": {
    "collapsed": false,
    "ExecuteTime": {
     "end_time": "2023-09-15T01:33:56.113800900Z",
     "start_time": "2023-09-15T01:33:56.087735100Z"
    }
   },
   "id": "2c39702c407e22c4"
  },
  {
   "cell_type": "code",
   "execution_count": 4,
   "outputs": [
    {
     "name": "stdout",
     "output_type": "stream",
     "text": [
      "result_ab:\n",
      " [[ 3  6  9]\n",
      " [12 15 18]]\n",
      "multiply_result_ab:\n",
      " [[ 3  6  9]\n",
      " [12 15 18]]\n"
     ]
    }
   ],
   "source": [
    "# 2-D array: 2 x 3\n",
    "a = np.array([[1, 2, 3], [4, 5, 6]])\n",
    "# 标量 \n",
    "b = 3\n",
    "result_ab = np.dot(a, b)\n",
    "print('result_ab:\\n %s' % (result_ab))\n",
    "\n",
    "multiply_result_ab = np.multiply(a, b)\n",
    "print('multiply_result_ab:\\n %s' % (multiply_result_ab))"
   ],
   "metadata": {
    "collapsed": false,
    "ExecuteTime": {
     "end_time": "2023-09-15T01:36:30.095555600Z",
     "start_time": "2023-09-15T01:36:30.074555400Z"
    }
   },
   "id": "e19bcaa9af2af238"
  },
  {
   "cell_type": "code",
   "execution_count": 5,
   "outputs": [
    {
     "name": "stdout",
     "output_type": "stream",
     "text": [
      "result_ab:\n",
      " [14 32]\n"
     ]
    }
   ],
   "source": [
    "# 2-D array: 2 x 3\n",
    "a = np.array([[1, 2, 3], [4, 5, 6]])\n",
    "b = np.array([1, 2, 3])\n",
    "result_ab = np.dot(a, b)\n",
    "print('result_ab:\\n %s' % (result_ab))"
   ],
   "metadata": {
    "collapsed": false,
    "ExecuteTime": {
     "end_time": "2023-09-15T01:38:01.073477800Z",
     "start_time": "2023-09-15T01:38:01.061477100Z"
    }
   },
   "id": "edb2d2ba0079e28d"
  },
  {
   "cell_type": "markdown",
   "source": [
    "# matmul\n",
    "参考 dot 的第二点"
   ],
   "metadata": {
    "collapsed": false
   },
   "id": "6a96fc605090e1f3"
  },
  {
   "cell_type": "markdown",
   "source": [
    "# multiply\n",
    "参考 dot 的第三点"
   ],
   "metadata": {
    "collapsed": false
   },
   "id": "cceb1865d1b0548d"
  }
 ],
 "metadata": {
  "kernelspec": {
   "display_name": "Python 3",
   "language": "python",
   "name": "python3"
  },
  "language_info": {
   "codemirror_mode": {
    "name": "ipython",
    "version": 2
   },
   "file_extension": ".py",
   "mimetype": "text/x-python",
   "name": "python",
   "nbconvert_exporter": "python",
   "pygments_lexer": "ipython2",
   "version": "2.7.6"
  }
 },
 "nbformat": 4,
 "nbformat_minor": 5
}
