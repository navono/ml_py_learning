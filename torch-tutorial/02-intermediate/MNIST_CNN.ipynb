{
 "cells": [
  {
   "cell_type": "code",
   "execution_count": 1,
   "metadata": {
    "collapsed": true,
    "ExecuteTime": {
     "end_time": "2023-05-19T07:30:08.389572700Z",
     "start_time": "2023-05-19T07:30:07.068832900Z"
    }
   },
   "outputs": [],
   "source": [
    "import torch\n",
    "import torch.nn as nn\n",
    "import torchvision\n",
    "import torchvision.transforms as transforms"
   ]
  },
  {
   "cell_type": "code",
   "execution_count": 2,
   "outputs": [],
   "source": [
    "# Device configuration\n",
    "device = torch.device('cuda:0' if torch.cuda.is_available() else 'cpu')\n",
    "\n",
    "# Hyper parameters\n",
    "num_epochs = 5\n",
    "num_classes = 10\n",
    "batch_size = 100\n",
    "learning_rate = 0.001"
   ],
   "metadata": {
    "collapsed": false,
    "ExecuteTime": {
     "end_time": "2023-05-19T07:30:08.404127400Z",
     "start_time": "2023-05-19T07:30:08.390574600Z"
    }
   }
  },
  {
   "cell_type": "code",
   "execution_count": 3,
   "outputs": [],
   "source": [
    "# MNIST dataset\n",
    "train_dataset = torchvision.datasets.MNIST(root='./data/',\n",
    "                                           train=True,\n",
    "                                           transform=transforms.ToTensor(),\n",
    "                                           download=True)\n",
    "\n",
    "test_dataset = torchvision.datasets.MNIST(root='./data/',\n",
    "                                          train=False,\n",
    "                                          transform=transforms.ToTensor())\n",
    "\n",
    "# Data loader\n",
    "train_loader = torch.utils.data.DataLoader(dataset=train_dataset,\n",
    "                                           batch_size=batch_size,\n",
    "                                           shuffle=True)\n",
    "\n",
    "test_loader = torch.utils.data.DataLoader(dataset=test_dataset,\n",
    "                                          batch_size=batch_size,\n",
    "                                          shuffle=False)"
   ],
   "metadata": {
    "collapsed": false,
    "ExecuteTime": {
     "end_time": "2023-05-19T07:30:08.451640900Z",
     "start_time": "2023-05-19T07:30:08.406126500Z"
    }
   }
  },
  {
   "cell_type": "code",
   "execution_count": 4,
   "outputs": [],
   "source": [
    "# Convolutional neural network (two convolutional layers)\n",
    "class ConvNet(nn.Module):\n",
    "    def __init__(self, num_classes=10):\n",
    "        super(ConvNet, self).__init__()\n",
    "        self.layer1 = nn.Sequential(\n",
    "            nn.Conv2d(1, 16, kernel_size=5, stride=1, padding=2),\n",
    "            nn.BatchNorm2d(16),\n",
    "            nn.ReLU(),\n",
    "            nn.MaxPool2d(kernel_size=2, stride=2))\n",
    "        self.layer2 = nn.Sequential(\n",
    "            nn.Conv2d(16, 32, kernel_size=5, stride=1, padding=2),\n",
    "            nn.BatchNorm2d(32),\n",
    "            nn.ReLU(),\n",
    "            nn.MaxPool2d(kernel_size=2, stride=2))\n",
    "        self.fc = nn.Linear(7 * 7 * 32, num_classes)\n",
    "\n",
    "    def forward(self, x):\n",
    "        out = self.layer1(x)\n",
    "        out = self.layer2(out)\n",
    "        out = out.reshape(out.size(0), -1)\n",
    "        out = self.fc(out)\n",
    "        return out"
   ],
   "metadata": {
    "collapsed": false,
    "ExecuteTime": {
     "end_time": "2023-05-19T07:30:08.467641800Z",
     "start_time": "2023-05-19T07:30:08.454640100Z"
    }
   }
  },
  {
   "cell_type": "code",
   "execution_count": 5,
   "outputs": [
    {
     "name": "stdout",
     "output_type": "stream",
     "text": [
      "Epoch [1/5], Step [100/600], Loss: 0.1204\n",
      "Epoch [1/5], Step [200/600], Loss: 0.1244\n",
      "Epoch [1/5], Step [300/600], Loss: 0.3182\n",
      "Epoch [1/5], Step [400/600], Loss: 0.0312\n",
      "Epoch [1/5], Step [500/600], Loss: 0.0690\n",
      "Epoch [1/5], Step [600/600], Loss: 0.0501\n",
      "Epoch [2/5], Step [100/600], Loss: 0.1063\n",
      "Epoch [2/5], Step [200/600], Loss: 0.0921\n",
      "Epoch [2/5], Step [300/600], Loss: 0.0925\n",
      "Epoch [2/5], Step [400/600], Loss: 0.0346\n",
      "Epoch [2/5], Step [500/600], Loss: 0.0490\n",
      "Epoch [2/5], Step [600/600], Loss: 0.0412\n",
      "Epoch [3/5], Step [100/600], Loss: 0.0119\n",
      "Epoch [3/5], Step [200/600], Loss: 0.0099\n",
      "Epoch [3/5], Step [300/600], Loss: 0.0181\n",
      "Epoch [3/5], Step [400/600], Loss: 0.0238\n",
      "Epoch [3/5], Step [500/600], Loss: 0.0160\n",
      "Epoch [3/5], Step [600/600], Loss: 0.0142\n",
      "Epoch [4/5], Step [100/600], Loss: 0.0009\n",
      "Epoch [4/5], Step [200/600], Loss: 0.0847\n",
      "Epoch [4/5], Step [300/600], Loss: 0.0166\n",
      "Epoch [4/5], Step [400/600], Loss: 0.0107\n",
      "Epoch [4/5], Step [500/600], Loss: 0.0235\n",
      "Epoch [4/5], Step [600/600], Loss: 0.0308\n",
      "Epoch [5/5], Step [100/600], Loss: 0.0005\n",
      "Epoch [5/5], Step [200/600], Loss: 0.0227\n",
      "Epoch [5/5], Step [300/600], Loss: 0.0108\n",
      "Epoch [5/5], Step [400/600], Loss: 0.0083\n",
      "Epoch [5/5], Step [500/600], Loss: 0.0643\n",
      "Epoch [5/5], Step [600/600], Loss: 0.0119\n",
      "Test Accuracy of the model on the 10000 test images: 98.95 %\n"
     ]
    }
   ],
   "source": [
    "model = ConvNet(num_classes).to(device)\n",
    "\n",
    "# Loss and optimizer\n",
    "criterion = nn.CrossEntropyLoss()\n",
    "optimizer = torch.optim.Adam(model.parameters(), lr=learning_rate)\n",
    "\n",
    "# Train the model\n",
    "total_step = len(train_loader)\n",
    "for epoch in range(num_epochs):\n",
    "    for i, (images, labels) in enumerate(train_loader):\n",
    "        images = images.to(device)\n",
    "        labels = labels.to(device)\n",
    "\n",
    "        # Forward pass\n",
    "        outputs = model(images)\n",
    "        loss = criterion(outputs, labels)\n",
    "\n",
    "        # Backward and optimize\n",
    "        optimizer.zero_grad()\n",
    "        loss.backward()\n",
    "        optimizer.step()\n",
    "\n",
    "        if (i + 1) % 100 == 0:\n",
    "            print('Epoch [{}/{}], Step [{}/{}], Loss: {:.4f}'\n",
    "                  .format(epoch + 1, num_epochs, i + 1, total_step, loss.item()))\n",
    "\n",
    "# Test the model\n",
    "model.eval()  # eval mode (batchnorm uses moving mean/variance instead of mini-batch mean/variance)\n",
    "with torch.no_grad():\n",
    "    correct = 0\n",
    "    total = 0\n",
    "    for images, labels in test_loader:\n",
    "        images = images.to(device)\n",
    "        labels = labels.to(device)\n",
    "        outputs = model(images)\n",
    "        _, predicted = torch.max(outputs.data, 1)\n",
    "        total += labels.size(0)\n",
    "        correct += (predicted == labels).sum().item()\n",
    "\n",
    "    print('Test Accuracy of the model on the 10000 test images: {} %'.format(100 * correct / total))\n"
   ],
   "metadata": {
    "collapsed": false,
    "ExecuteTime": {
     "end_time": "2023-05-19T07:30:31.302783200Z",
     "start_time": "2023-05-19T07:30:08.471641100Z"
    }
   }
  },
  {
   "cell_type": "code",
   "execution_count": 6,
   "outputs": [],
   "source": [
    "# Save the model checkpoint\n",
    "torch.save(model.state_dict(), './data/MNIST_CNN_model.pt')"
   ],
   "metadata": {
    "collapsed": false,
    "ExecuteTime": {
     "end_time": "2023-05-19T07:30:31.309784900Z",
     "start_time": "2023-05-19T07:30:31.293784200Z"
    }
   }
  }
 ],
 "metadata": {
  "kernelspec": {
   "display_name": "Python 3",
   "language": "python",
   "name": "python3"
  },
  "language_info": {
   "codemirror_mode": {
    "name": "ipython",
    "version": 2
   },
   "file_extension": ".py",
   "mimetype": "text/x-python",
   "name": "python",
   "nbconvert_exporter": "python",
   "pygments_lexer": "ipython2",
   "version": "2.7.6"
  }
 },
 "nbformat": 4,
 "nbformat_minor": 0
}
