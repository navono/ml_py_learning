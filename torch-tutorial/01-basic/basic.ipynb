{
 "cells": [
  {
   "cell_type": "code",
   "execution_count": 1,
   "metadata": {
    "collapsed": true,
    "ExecuteTime": {
     "end_time": "2023-05-29T06:39:50.195740Z",
     "start_time": "2023-05-29T06:39:49.029355500Z"
    }
   },
   "outputs": [],
   "source": [
    "import torch\n",
    "from torch.autograd import Variable"
   ]
  },
  {
   "cell_type": "code",
   "execution_count": 2,
   "outputs": [
    {
     "data": {
      "text/plain": "(tensor([[0.0451, 0.9295],\n         [0.6203, 0.1004]]),\n tensor([[0.0451, 0.9295],\n         [0.6203, 0.1004]], requires_grad=True))"
     },
     "execution_count": 2,
     "metadata": {},
     "output_type": "execute_result"
    }
   ],
   "source": [
    "tensor = torch.rand(2, 2)\n",
    "x = Variable(tensor, requires_grad=True)\n",
    "\n",
    "tensor, x"
   ],
   "metadata": {
    "collapsed": false,
    "ExecuteTime": {
     "end_time": "2023-05-19T08:25:46.653218200Z",
     "start_time": "2023-05-19T08:25:46.604087100Z"
    }
   }
  },
  {
   "cell_type": "code",
   "execution_count": 3,
   "outputs": [
    {
     "data": {
      "text/plain": "(tensor(1.6952, grad_fn=<SumBackward0>),\n tensor([[0.2123, 0.9641],\n         [0.7876, 0.3169]], grad_fn=<SqrtBackward0>),\n tensor([[0.0020, 0.8640],\n         [0.3847, 0.0101]], grad_fn=<PowBackward0>),\n tensor([[0.0451, 0.9295],\n         [0.6203, 0.1004]], requires_grad=True))"
     },
     "execution_count": 3,
     "metadata": {},
     "output_type": "execute_result"
    }
   ],
   "source": [
    "x.sum(), x.sqrt(), x ** 2, x"
   ],
   "metadata": {
    "collapsed": false,
    "ExecuteTime": {
     "end_time": "2023-05-19T08:26:22.787632600Z",
     "start_time": "2023-05-19T08:26:22.775124300Z"
    }
   }
  },
  {
   "cell_type": "code",
   "execution_count": 4,
   "outputs": [
    {
     "data": {
      "text/plain": "tensor([[0.0451, 0.9295],\n        [0.6203, 0.1004]])"
     },
     "execution_count": 4,
     "metadata": {},
     "output_type": "execute_result"
    }
   ],
   "source": [
    "x.data"
   ],
   "metadata": {
    "collapsed": false,
    "ExecuteTime": {
     "end_time": "2023-05-19T08:26:46.632836300Z",
     "start_time": "2023-05-19T08:26:46.629833800Z"
    }
   }
  },
  {
   "cell_type": "code",
   "execution_count": 5,
   "outputs": [
    {
     "name": "stderr",
     "output_type": "stream",
     "text": [
      "C:\\Users\\ping\\AppData\\Local\\Temp\\ipykernel_33896\\3032477269.py:1: UserWarning: volatile was removed (Variable.volatile is always False)\n",
      "  x.requires_grad, x.grad, x.grad_fn, x.volatile\n"
     ]
    },
    {
     "data": {
      "text/plain": "(True, None, None, False)"
     },
     "execution_count": 5,
     "metadata": {},
     "output_type": "execute_result"
    }
   ],
   "source": [
    "x.requires_grad, x.grad, x.grad_fn, x.volatile"
   ],
   "metadata": {
    "collapsed": false,
    "ExecuteTime": {
     "end_time": "2023-05-19T08:29:27.631843300Z",
     "start_time": "2023-05-19T08:29:27.616806300Z"
    }
   }
  },
  {
   "cell_type": "code",
   "execution_count": 6,
   "outputs": [
    {
     "data": {
      "text/plain": "(True, True, False, tensor([30.], grad_fn=<AddBackward0>))"
     },
     "execution_count": 6,
     "metadata": {},
     "output_type": "execute_result"
    }
   ],
   "source": [
    "x = Variable(torch.FloatTensor([3]), requires_grad=True)\n",
    "\n",
    "y = x ** 3 + 3\n",
    "\n",
    "z = Variable(torch.FloatTensor([5]))\n",
    "\n",
    "x.requires_grad, y.requires_grad, z.requires_grad, y"
   ],
   "metadata": {
    "collapsed": false,
    "ExecuteTime": {
     "end_time": "2023-05-19T08:29:53.918676300Z",
     "start_time": "2023-05-19T08:29:53.909677400Z"
    }
   }
  },
  {
   "cell_type": "code",
   "execution_count": 7,
   "outputs": [
    {
     "data": {
      "text/plain": "<PowBackward0 at 0x1b88c4a1210>"
     },
     "execution_count": 7,
     "metadata": {},
     "output_type": "execute_result"
    }
   ],
   "source": [
    "y.grad_fn.next_functions[0][0]"
   ],
   "metadata": {
    "collapsed": false,
    "ExecuteTime": {
     "end_time": "2023-05-19T08:30:15.023719900Z",
     "start_time": "2023-05-19T08:30:15.021059800Z"
    }
   }
  },
  {
   "cell_type": "code",
   "execution_count": 8,
   "outputs": [],
   "source": [
    "y.backward()"
   ],
   "metadata": {
    "collapsed": false,
    "ExecuteTime": {
     "end_time": "2023-05-19T08:30:22.487669600Z",
     "start_time": "2023-05-19T08:30:22.463668500Z"
    }
   }
  },
  {
   "cell_type": "code",
   "execution_count": 9,
   "outputs": [
    {
     "data": {
      "text/plain": "(tensor([3.], requires_grad=True), tensor([27.]))"
     },
     "execution_count": 9,
     "metadata": {},
     "output_type": "execute_result"
    }
   ],
   "source": [
    "x, x.grad"
   ],
   "metadata": {
    "collapsed": false,
    "ExecuteTime": {
     "end_time": "2023-05-19T08:30:27.111661Z",
     "start_time": "2023-05-19T08:30:27.094664900Z"
    }
   }
  },
  {
   "cell_type": "code",
   "execution_count": 2,
   "outputs": [
    {
     "name": "stdout",
     "output_type": "stream",
     "text": [
      "x = [1.0929692], y = [-1.1945816]\n",
      "x = [0.87437534], y = [-0.76453227]\n",
      "x = [0.69950026], y = [-0.4893006]\n",
      "x = [0.55960023], y = [-0.31315243]\n",
      "x = [0.44768018], y = [-0.20041753]\n",
      "x = [0.35814413], y = [-0.12826721]\n",
      "x = [0.2865153], y = [-0.08209101]\n",
      "x = [0.22921224], y = [-0.05253825]\n",
      "x = [0.18336979], y = [-0.03362448]\n",
      "x = [0.14669582], y = [-0.02151966]\n",
      "x = [0.11735666], y = [-0.01377259]\n",
      "x = [0.09388532], y = [-0.00881445]\n",
      "x = [0.07510826], y = [-0.00564125]\n",
      "x = [0.06008661], y = [-0.0036104]\n",
      "x = [0.04806929], y = [-0.00231066]\n",
      "x = [0.03845543], y = [-0.00147882]\n",
      "x = [0.03076435], y = [-0.00094644]\n",
      "x = [0.02461148], y = [-0.00060572]\n",
      "x = [0.01968918], y = [-0.00038766]\n",
      "x = [0.01575135], y = [-0.0002481]\n"
     ]
    }
   ],
   "source": [
    "x = torch.randn(1).requires_grad_(True)\n",
    "\n",
    "for epoch in range(20):\n",
    "    y = - x ** 2\n",
    "    y.backward()\n",
    "    x.data += 0.1 * x.grad\n",
    "\n",
    "    # 梯度归零\n",
    "    x.grad.data.zero_()\n",
    "\n",
    "    # print當下結果\n",
    "    print('x = {}, y = {}'.format(x.data.numpy(), -x.data.numpy() ** 2))"
   ],
   "metadata": {
    "collapsed": false,
    "ExecuteTime": {
     "end_time": "2023-05-29T06:40:00.054902600Z",
     "start_time": "2023-05-29T06:39:59.922733200Z"
    }
   }
  },
  {
   "cell_type": "code",
   "execution_count": 4,
   "outputs": [
    {
     "name": "stdout",
     "output_type": "stream",
     "text": [
      "Epoch 0: loss = 74.58502960205078, weight = [5.1562476], bias = [-0.0845477]\n",
      "Epoch 1: loss = 45.76244354248047, weight = [1.3146574], bias = [0.33236185]\n",
      "Epoch 2: loss = 28.083250045776367, weight = [4.31728], bias = [0.6658895]\n",
      "Epoch 3: loss = 17.237323760986328, weight = [1.970402], bias = [0.9327116]\n",
      "Epoch 4: loss = 10.582275390625, weight = [3.8047433], bias = [1.1461693]\n",
      "Epoch 5: loss = 6.497981548309326, weight = [2.371005], bias = [1.3169354]\n",
      "Epoch 6: loss = 3.9909093379974365, weight = [3.4916284], bias = [1.4535483]\n",
      "Epoch 7: loss = 2.4516701698303223, weight = [2.6157389], bias = [1.5628387]\n",
      "Epoch 8: loss = 1.5064423084259033, weight = [3.300342], bias = [1.6502709]\n",
      "Epoch 9: loss = 0.9258638620376587, weight = [2.7652497], bias = [1.7202168]\n",
      "Epoch 10: loss = 0.5691806674003601, weight = [3.1834831], bias = [1.7761734]\n",
      "Epoch 11: loss = 0.3499969244003296, weight = [2.856588], bias = [1.8209387]\n",
      "Epoch 12: loss = 0.21527503430843353, weight = [3.1120923], bias = [1.856751]\n",
      "Epoch 13: loss = 0.13244692981243134, weight = [2.9123876], bias = [1.8854008]\n",
      "Epoch 14: loss = 0.08151065558195114, weight = [3.0684788], bias = [1.9083207]\n",
      "Epoch 15: loss = 0.050178028643131256, weight = [2.9464765], bias = [1.9266565]\n",
      "Epoch 16: loss = 0.03089882619678974, weight = [3.0418346], bias = [1.9413252]\n",
      "Epoch 17: loss = 0.019032960757613182, weight = [2.9673018], bias = [1.9530602]\n",
      "Epoch 18: loss = 0.01172757800668478, weight = [3.0255573], bias = [1.9624481]\n",
      "Epoch 19: loss = 0.00722866365686059, weight = [2.980024], bias = [1.9699585]\n",
      "Epoch 20: loss = 0.0044571468606591225, weight = [3.0156133], bias = [1.9759668]\n",
      "Epoch 21: loss = 0.002749151084572077, weight = [2.9877965], bias = [1.9807734]\n",
      "Epoch 22: loss = 0.0016962906811386347, weight = [3.0095384], bias = [1.9846188]\n",
      "Epoch 23: loss = 0.0010470411507412791, weight = [2.9925447], bias = [1.987695]\n",
      "Epoch 24: loss = 0.0006465517217293382, weight = [3.0058272], bias = [1.990156]\n",
      "Epoch 25: loss = 0.0003993772261310369, weight = [2.9954455], bias = [1.9921248]\n",
      "Epoch 26: loss = 0.00024680860224179924, weight = [3.0035598], bias = [1.9936999]\n",
      "Epoch 27: loss = 0.00015257459017448127, weight = [2.9972177], bias = [1.99496]\n",
      "Epoch 28: loss = 9.436563414055854e-05, weight = [3.0021749], bias = [1.995968]\n",
      "Epoch 29: loss = 5.8391156926518306e-05, weight = [2.9983003], bias = [1.9967744]\n",
      "Epoch 30: loss = 3.614012894104235e-05, weight = [3.0013287], bias = [1.9974195]\n",
      "Epoch 31: loss = 2.2385338525054976e-05, weight = [2.9989614], bias = [1.9979357]\n",
      "Epoch 32: loss = 1.3871183000446763e-05, weight = [3.0008118], bias = [1.9983486]\n",
      "Epoch 33: loss = 8.597515261499211e-06, weight = [2.9993656], bias = [1.9986789]\n",
      "Epoch 34: loss = 5.330975454853615e-06, weight = [3.000496], bias = [1.9989431]\n",
      "Epoch 35: loss = 3.307449105705018e-06, weight = [2.9996123], bias = [1.9991544]\n",
      "Epoch 36: loss = 2.053928938039462e-06, weight = [3.000303], bias = [1.9993236]\n",
      "Epoch 37: loss = 1.2753699820677866e-06, weight = [2.9997633], bias = [1.9994589]\n",
      "Epoch 38: loss = 7.920433517938363e-07, weight = [3.000185], bias = [1.9995672]\n",
      "Epoch 39: loss = 4.921703293803148e-07, weight = [2.9998555], bias = [1.9996537]\n",
      "Epoch 40: loss = 3.061087738842616e-07, weight = [3.000113], bias = [1.999723]\n",
      "Epoch 41: loss = 1.9046883892315236e-07, weight = [2.9999118], bias = [1.9997784]\n",
      "Epoch 42: loss = 1.1842585934118688e-07, weight = [3.000069], bias = [1.9998227]\n",
      "Epoch 43: loss = 7.364101861639938e-08, weight = [2.9999464], bias = [1.9998581]\n",
      "Epoch 44: loss = 4.581879409215617e-08, weight = [3.000042], bias = [1.9998865]\n",
      "Epoch 45: loss = 2.85412742329072e-08, weight = [2.9999673], bias = [1.9999093]\n",
      "Epoch 46: loss = 1.7731601076320658e-08, weight = [3.0000255], bias = [1.9999274]\n",
      "Epoch 47: loss = 1.1049603898527494e-08, weight = [2.9999802], bias = [1.999942]\n",
      "Epoch 48: loss = 6.873418723074565e-09, weight = [3.0000155], bias = [1.9999536]\n",
      "Epoch 49: loss = 4.289882671315581e-09, weight = [2.999988], bias = [1.9999629]\n",
      "Epoch 50: loss = 2.646075802914538e-09, weight = [3.0000093], bias = [1.9999703]\n",
      "Epoch 51: loss = 1.6389090085056068e-09, weight = [2.9999928], bias = [1.9999763]\n",
      "Epoch 52: loss = 1.0228717872706738e-09, weight = [3.0000057], bias = [1.999981]\n",
      "Epoch 53: loss = 6.515364359138687e-10, weight = [2.9999957], bias = [1.9999849]\n",
      "Epoch 54: loss = 3.975320905791335e-10, weight = [3.0000033], bias = [1.999988]\n",
      "Epoch 55: loss = 2.4515003915759337e-10, weight = [2.9999974], bias = [1.9999903]\n",
      "Epoch 56: loss = 1.5639471662165505e-10, weight = [3.0000021], bias = [1.9999923]\n",
      "Epoch 57: loss = 9.86091208687867e-11, weight = [2.9999983], bias = [1.9999938]\n",
      "Epoch 58: loss = 6.489291742850511e-11, weight = [3.0000014], bias = [1.999995]\n",
      "Epoch 59: loss = 4.201486727972714e-11, weight = [2.999999], bias = [1.999996]\n",
      "Epoch 60: loss = 2.5003525291888984e-11, weight = [3.000001], bias = [1.9999968]\n",
      "Epoch 61: loss = 1.739361259189831e-11, weight = [2.9999993], bias = [1.9999974]\n",
      "Epoch 62: loss = 1.2269652308050105e-11, weight = [3.0000005], bias = [1.999998]\n",
      "Epoch 63: loss = 5.5550230214362895e-12, weight = [2.9999998], bias = [1.9999983]\n",
      "Epoch 64: loss = 3.892353019757655e-12, weight = [3.0000002], bias = [1.9999987]\n",
      "Epoch 65: loss = 1.9525713511325815e-12, weight = [2.9999998], bias = [1.9999989]\n",
      "Epoch 66: loss = 1.558457030960414e-12, weight = [3.0000002], bias = [1.9999992]\n",
      "Epoch 67: loss = 1.323504240230422e-12, weight = [2.9999998], bias = [1.9999994]\n",
      "Epoch 68: loss = 1.2628713179363427e-12, weight = [3.0000002], bias = [1.9999995]\n",
      "Epoch 69: loss = 7.811233214069513e-13, weight = [2.9999998], bias = [1.9999996]\n",
      "Epoch 70: loss = 6.26224983327206e-13, weight = [3.0000002], bias = [1.9999996]\n",
      "Epoch 71: loss = 5.428546609627383e-13, weight = [2.9999998], bias = [1.9999996]\n",
      "Epoch 72: loss = 6.26224983327206e-13, weight = [3.0000002], bias = [1.9999996]\n",
      "Epoch 73: loss = 5.428546609627383e-13, weight = [2.9999998], bias = [1.9999996]\n",
      "Epoch 74: loss = 6.26224983327206e-13, weight = [3.0000002], bias = [1.9999996]\n",
      "Epoch 75: loss = 5.428546609627383e-13, weight = [2.9999998], bias = [1.9999996]\n",
      "Epoch 76: loss = 6.26224983327206e-13, weight = [3.0000002], bias = [1.9999996]\n",
      "Epoch 77: loss = 5.428546609627383e-13, weight = [2.9999998], bias = [1.9999996]\n",
      "Epoch 78: loss = 6.26224983327206e-13, weight = [3.0000002], bias = [1.9999996]\n",
      "Epoch 79: loss = 5.428546609627383e-13, weight = [2.9999998], bias = [1.9999996]\n",
      "Epoch 80: loss = 6.26224983327206e-13, weight = [3.0000002], bias = [1.9999996]\n",
      "Epoch 81: loss = 5.428546609627383e-13, weight = [2.9999998], bias = [1.9999996]\n",
      "Epoch 82: loss = 6.26224983327206e-13, weight = [3.0000002], bias = [1.9999996]\n",
      "Epoch 83: loss = 5.428546609627383e-13, weight = [2.9999998], bias = [1.9999996]\n",
      "Epoch 84: loss = 6.26224983327206e-13, weight = [3.0000002], bias = [1.9999996]\n",
      "Epoch 85: loss = 5.428546609627383e-13, weight = [2.9999998], bias = [1.9999996]\n",
      "Epoch 86: loss = 6.26224983327206e-13, weight = [3.0000002], bias = [1.9999996]\n",
      "Epoch 87: loss = 5.428546609627383e-13, weight = [2.9999998], bias = [1.9999996]\n",
      "Epoch 88: loss = 6.26224983327206e-13, weight = [3.0000002], bias = [1.9999996]\n",
      "Epoch 89: loss = 5.428546609627383e-13, weight = [2.9999998], bias = [1.9999996]\n",
      "Epoch 90: loss = 6.26224983327206e-13, weight = [3.0000002], bias = [1.9999996]\n",
      "Epoch 91: loss = 5.428546609627383e-13, weight = [2.9999998], bias = [1.9999996]\n",
      "Epoch 92: loss = 6.26224983327206e-13, weight = [3.0000002], bias = [1.9999996]\n",
      "Epoch 93: loss = 5.428546609627383e-13, weight = [2.9999998], bias = [1.9999996]\n",
      "Epoch 94: loss = 6.26224983327206e-13, weight = [3.0000002], bias = [1.9999996]\n",
      "Epoch 95: loss = 5.428546609627383e-13, weight = [2.9999998], bias = [1.9999996]\n",
      "Epoch 96: loss = 6.26224983327206e-13, weight = [3.0000002], bias = [1.9999996]\n",
      "Epoch 97: loss = 5.428546609627383e-13, weight = [2.9999998], bias = [1.9999996]\n",
      "Epoch 98: loss = 6.26224983327206e-13, weight = [3.0000002], bias = [1.9999996]\n",
      "Epoch 99: loss = 5.428546609627383e-13, weight = [2.9999998], bias = [1.9999996]\n"
     ]
    }
   ],
   "source": [
    "x = torch.linspace(-5, 5, 30)\n",
    "real_y = x * 3 + 2\n",
    "weight = torch.randn(1).requires_grad_(True)\n",
    "bias = torch.randn(1).requires_grad_(True)\n",
    "\n",
    "opt = torch.optim.SGD(params=[weight, bias], lr=1e-1)\n",
    "loss_func = torch.nn.MSELoss()\n",
    "\n",
    "for epoch in range(100):\n",
    "    pred_y = x * weight + bias\n",
    "    loss = loss_func(pred_y, real_y)\n",
    "    opt.zero_grad()\n",
    "    loss.backward()\n",
    "    opt.step()\n",
    "\n",
    "    print('Epoch {}: loss = {}, weight = {}, bias = {}'.format(epoch, loss.data.numpy(),\n",
    "                                                               weight.data.numpy(), bias.data.numpy()))\n"
   ],
   "metadata": {
    "collapsed": false,
    "ExecuteTime": {
     "end_time": "2023-05-29T06:44:11.052607600Z",
     "start_time": "2023-05-29T06:44:11.015483800Z"
    }
   }
  },
  {
   "cell_type": "code",
   "execution_count": null,
   "outputs": [],
   "source": [],
   "metadata": {
    "collapsed": false
   }
  },
  {
   "cell_type": "markdown",
   "source": [],
   "metadata": {
    "collapsed": false
   }
  }
 ],
 "metadata": {
  "kernelspec": {
   "display_name": "Python 3",
   "language": "python",
   "name": "python3"
  },
  "language_info": {
   "codemirror_mode": {
    "name": "ipython",
    "version": 2
   },
   "file_extension": ".py",
   "mimetype": "text/x-python",
   "name": "python",
   "nbconvert_exporter": "python",
   "pygments_lexer": "ipython2",
   "version": "2.7.6"
  }
 },
 "nbformat": 4,
 "nbformat_minor": 0
}
