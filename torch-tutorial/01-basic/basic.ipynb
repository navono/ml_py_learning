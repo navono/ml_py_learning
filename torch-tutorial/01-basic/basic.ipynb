{
 "cells": [
  {
   "cell_type": "code",
   "execution_count": 1,
   "metadata": {
    "collapsed": true,
    "ExecuteTime": {
     "end_time": "2023-05-19T08:23:20.566718500Z",
     "start_time": "2023-05-19T08:23:19.413463900Z"
    }
   },
   "outputs": [],
   "source": [
    "import torch\n",
    "from torch.autograd import Variable"
   ]
  },
  {
   "cell_type": "code",
   "execution_count": 2,
   "outputs": [
    {
     "data": {
      "text/plain": "(tensor([[0.0451, 0.9295],\n         [0.6203, 0.1004]]),\n tensor([[0.0451, 0.9295],\n         [0.6203, 0.1004]], requires_grad=True))"
     },
     "execution_count": 2,
     "metadata": {},
     "output_type": "execute_result"
    }
   ],
   "source": [
    "tensor = torch.rand(2,2)\n",
    "x = Variable(tensor, requires_grad=True)\n",
    "\n",
    "tensor, x"
   ],
   "metadata": {
    "collapsed": false,
    "ExecuteTime": {
     "end_time": "2023-05-19T08:25:46.653218200Z",
     "start_time": "2023-05-19T08:25:46.604087100Z"
    }
   }
  },
  {
   "cell_type": "code",
   "execution_count": 3,
   "outputs": [
    {
     "data": {
      "text/plain": "(tensor(1.6952, grad_fn=<SumBackward0>),\n tensor([[0.2123, 0.9641],\n         [0.7876, 0.3169]], grad_fn=<SqrtBackward0>),\n tensor([[0.0020, 0.8640],\n         [0.3847, 0.0101]], grad_fn=<PowBackward0>),\n tensor([[0.0451, 0.9295],\n         [0.6203, 0.1004]], requires_grad=True))"
     },
     "execution_count": 3,
     "metadata": {},
     "output_type": "execute_result"
    }
   ],
   "source": [
    "x.sum(), x.sqrt(), x**2, x"
   ],
   "metadata": {
    "collapsed": false,
    "ExecuteTime": {
     "end_time": "2023-05-19T08:26:22.787632600Z",
     "start_time": "2023-05-19T08:26:22.775124300Z"
    }
   }
  },
  {
   "cell_type": "code",
   "execution_count": 4,
   "outputs": [
    {
     "data": {
      "text/plain": "tensor([[0.0451, 0.9295],\n        [0.6203, 0.1004]])"
     },
     "execution_count": 4,
     "metadata": {},
     "output_type": "execute_result"
    }
   ],
   "source": [
    "x.data"
   ],
   "metadata": {
    "collapsed": false,
    "ExecuteTime": {
     "end_time": "2023-05-19T08:26:46.632836300Z",
     "start_time": "2023-05-19T08:26:46.629833800Z"
    }
   }
  },
  {
   "cell_type": "code",
   "execution_count": 5,
   "outputs": [
    {
     "name": "stderr",
     "output_type": "stream",
     "text": [
      "C:\\Users\\ping\\AppData\\Local\\Temp\\ipykernel_33896\\3032477269.py:1: UserWarning: volatile was removed (Variable.volatile is always False)\n",
      "  x.requires_grad, x.grad, x.grad_fn, x.volatile\n"
     ]
    },
    {
     "data": {
      "text/plain": "(True, None, None, False)"
     },
     "execution_count": 5,
     "metadata": {},
     "output_type": "execute_result"
    }
   ],
   "source": [
    "x.requires_grad, x.grad, x.grad_fn, x.volatile"
   ],
   "metadata": {
    "collapsed": false,
    "ExecuteTime": {
     "end_time": "2023-05-19T08:29:27.631843300Z",
     "start_time": "2023-05-19T08:29:27.616806300Z"
    }
   }
  },
  {
   "cell_type": "code",
   "execution_count": 6,
   "outputs": [
    {
     "data": {
      "text/plain": "(True, True, False, tensor([30.], grad_fn=<AddBackward0>))"
     },
     "execution_count": 6,
     "metadata": {},
     "output_type": "execute_result"
    }
   ],
   "source": [
    "x = Variable(torch.FloatTensor([3]), requires_grad=True)\n",
    "\n",
    "y = x**3 + 3\n",
    "\n",
    "z  = Variable(torch.FloatTensor([5]))\n",
    "\n",
    "x.requires_grad, y.requires_grad, z.requires_grad, y"
   ],
   "metadata": {
    "collapsed": false,
    "ExecuteTime": {
     "end_time": "2023-05-19T08:29:53.918676300Z",
     "start_time": "2023-05-19T08:29:53.909677400Z"
    }
   }
  },
  {
   "cell_type": "code",
   "execution_count": 7,
   "outputs": [
    {
     "data": {
      "text/plain": "<PowBackward0 at 0x1b88c4a1210>"
     },
     "execution_count": 7,
     "metadata": {},
     "output_type": "execute_result"
    }
   ],
   "source": [
    "y.grad_fn.next_functions[0][0]"
   ],
   "metadata": {
    "collapsed": false,
    "ExecuteTime": {
     "end_time": "2023-05-19T08:30:15.023719900Z",
     "start_time": "2023-05-19T08:30:15.021059800Z"
    }
   }
  },
  {
   "cell_type": "code",
   "execution_count": 8,
   "outputs": [],
   "source": [
    "y.backward()"
   ],
   "metadata": {
    "collapsed": false,
    "ExecuteTime": {
     "end_time": "2023-05-19T08:30:22.487669600Z",
     "start_time": "2023-05-19T08:30:22.463668500Z"
    }
   }
  },
  {
   "cell_type": "code",
   "execution_count": 9,
   "outputs": [
    {
     "data": {
      "text/plain": "(tensor([3.], requires_grad=True), tensor([27.]))"
     },
     "execution_count": 9,
     "metadata": {},
     "output_type": "execute_result"
    }
   ],
   "source": [
    "x, x.grad"
   ],
   "metadata": {
    "collapsed": false,
    "ExecuteTime": {
     "end_time": "2023-05-19T08:30:27.111661Z",
     "start_time": "2023-05-19T08:30:27.094664900Z"
    }
   }
  }
 ],
 "metadata": {
  "kernelspec": {
   "display_name": "Python 3",
   "language": "python",
   "name": "python3"
  },
  "language_info": {
   "codemirror_mode": {
    "name": "ipython",
    "version": 2
   },
   "file_extension": ".py",
   "mimetype": "text/x-python",
   "name": "python",
   "nbconvert_exporter": "python",
   "pygments_lexer": "ipython2",
   "version": "2.7.6"
  }
 },
 "nbformat": 4,
 "nbformat_minor": 0
}
