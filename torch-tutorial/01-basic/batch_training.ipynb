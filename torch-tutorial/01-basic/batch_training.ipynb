{
 "cells": [
  {
   "cell_type": "code",
   "execution_count": 29,
   "metadata": {
    "collapsed": true,
    "ExecuteTime": {
     "end_time": "2023-05-24T02:43:50.887551600Z",
     "start_time": "2023-05-24T02:43:50.517920400Z"
    }
   },
   "outputs": [],
   "source": [
    "import torch\n",
    "import torch.utils.data as Data\n",
    "import torchvision\n",
    "import torchvision.datasets as dsets\n",
    "import torchvision.transforms as transforms"
   ]
  },
  {
   "cell_type": "code",
   "execution_count": 2,
   "outputs": [
    {
     "data": {
      "text/plain": "<torch._C.Generator at 0x2bedad57f30>"
     },
     "execution_count": 2,
     "metadata": {},
     "output_type": "execute_result"
    }
   ],
   "source": [
    "torch.manual_seed(6)"
   ],
   "metadata": {
    "collapsed": false,
    "ExecuteTime": {
     "end_time": "2023-05-24T01:15:11.685682500Z",
     "start_time": "2023-05-24T01:15:11.652686700Z"
    }
   }
  },
  {
   "cell_type": "code",
   "execution_count": 23,
   "outputs": [
    {
     "data": {
      "text/plain": "(tensor([ 1.,  2.,  3.,  4.,  5.,  6.,  7.,  8.,  9., 10.]),\n tensor([10.,  9.,  8.,  7.,  6.,  5.,  4.,  3.,  2.,  1.]))"
     },
     "execution_count": 23,
     "metadata": {},
     "output_type": "execute_result"
    }
   ],
   "source": [
    "# Dataset\n",
    "x = torch.linspace(1, 10, 10)\n",
    "y = torch.linspace(10, 1, 10)\n",
    "torch.cat((x.view(len(x), -1), y.view(len(y), -1)), 1)\n",
    "\n",
    "dataset = Data.TensorDataset(x, y)"
   ],
   "metadata": {
    "collapsed": false,
    "ExecuteTime": {
     "end_time": "2023-05-24T02:30:49.127757900Z",
     "start_time": "2023-05-24T02:30:49.108758500Z"
    }
   }
  },
  {
   "cell_type": "code",
   "execution_count": 24,
   "outputs": [],
   "source": [
    "# DataLoader\n",
    "BATCH_SIZE = 5\n",
    "\n",
    "loader = Data.DataLoader(\n",
    "    dataset=dataset,\n",
    "    batch_size=BATCH_SIZE,\n",
    "    shuffle=True,\n",
    "    num_workers=1,\n",
    ")"
   ],
   "metadata": {
    "collapsed": false,
    "ExecuteTime": {
     "end_time": "2023-05-24T02:31:12.078813400Z",
     "start_time": "2023-05-24T02:31:12.064813900Z"
    }
   }
  },
  {
   "cell_type": "code",
   "execution_count": 26,
   "outputs": [
    {
     "name": "stdout",
     "output_type": "stream",
     "text": [
      "Epoch :  0 | Step 0 | batch x : [2. 6. 1. 7. 4.] | batch y :  [ 9.  5. 10.  4.  7.]\n",
      "Epoch :  0 | Step 1 | batch x : [ 9. 10.  5.  8.  3.] | batch y :  [2. 1. 6. 3. 8.]\n",
      "Epoch :  1 | Step 0 | batch x : [9. 2. 7. 8. 3.] | batch y :  [2. 9. 4. 3. 8.]\n",
      "Epoch :  1 | Step 1 | batch x : [ 5.  6.  4.  1. 10.] | batch y :  [ 6.  5.  7. 10.  1.]\n",
      "Epoch :  2 | Step 0 | batch x : [8. 2. 6. 3. 9.] | batch y :  [3. 9. 5. 8. 2.]\n",
      "Epoch :  2 | Step 1 | batch x : [ 4.  1.  7. 10.  5.] | batch y :  [ 7. 10.  4.  1.  6.]\n"
     ]
    }
   ],
   "source": [
    "for epoch in range(3):\n",
    "    for step, (batch_x, batch_y) in enumerate(loader):\n",
    "        print('Epoch : ', epoch, '| Step', step, '| batch x :', batch_x.numpy(), \"| batch y : \", batch_y.numpy())"
   ],
   "metadata": {
    "collapsed": false,
    "ExecuteTime": {
     "end_time": "2023-05-24T02:31:58.452129200Z",
     "start_time": "2023-05-24T02:31:54.090377100Z"
    }
   }
  },
  {
   "cell_type": "code",
   "execution_count": 27,
   "outputs": [
    {
     "name": "stdout",
     "output_type": "stream",
     "text": [
      "Epoch:  0 | Step:  0 | batch x:  [ 2. 10.  5.  7.  3.  6.  1.  9.] | batch y:  [ 9.  1.  6.  4.  8.  5. 10.  2.]\n",
      "Epoch:  0 | Step:  1 | batch x:  [4. 8.] | batch y:  [7. 3.]\n",
      "Epoch:  1 | Step:  0 | batch x:  [ 1.  7.  3.  4. 10.  9.  5.  6.] | batch y:  [10.  4.  8.  7.  1.  2.  6.  5.]\n",
      "Epoch:  1 | Step:  1 | batch x:  [8. 2.] | batch y:  [3. 9.]\n",
      "Epoch:  2 | Step:  0 | batch x:  [ 7. 10.  1.  3.  6.  5.  8.  9.] | batch y:  [ 4.  1. 10.  8.  5.  6.  3.  2.]\n",
      "Epoch:  2 | Step:  1 | batch x:  [4. 2.] | batch y:  [7. 9.]\n"
     ]
    }
   ],
   "source": [
    "BATCH_SIZE = 8\n",
    "\n",
    "loader = Data.DataLoader(\n",
    "    dataset=dataset,  # torch TensorDataset format\n",
    "    batch_size=BATCH_SIZE,  # mini batch size\n",
    "    shuffle=True,  # random shuffle for training\n",
    "    num_workers=1,  # subprocesses for loading data\n",
    ")\n",
    "\n",
    "for epoch in range(3):  # train entire dataset 3 times\n",
    "    for step, (batch_x, batch_y) in enumerate(loader):  # for each training step\n",
    "\n",
    "        # train your data...\n",
    "\n",
    "        print('Epoch: ', epoch, '| Step: ', step, '| batch x: ',\n",
    "              batch_x.numpy(), '| batch y: ', batch_y.numpy())"
   ],
   "metadata": {
    "collapsed": false,
    "ExecuteTime": {
     "end_time": "2023-05-24T02:32:17.697514500Z",
     "start_time": "2023-05-24T02:32:13.273940500Z"
    }
   }
  },
  {
   "cell_type": "code",
   "execution_count": 31,
   "outputs": [
    {
     "name": "stdout",
     "output_type": "stream",
     "text": [
      "['bird', 'mountain']\n",
      "{'bird': 0, 'mountain': 1}\n",
      "[('./images\\\\bird\\\\5f708a660eef3c4762c5a4a232f76db0.jpg', 0), ('./images\\\\bird\\\\c012c9fc6a99dcc00cfd89867f22a1c6.jpg', 0), ('./images\\\\mountain\\\\926c079396486b16944a44e6fa395bd6.jpg', 1), ('./images\\\\mountain\\\\b3e291f866f1c8754a5eb7fa51e72a0a.jpg', 1), ('./images\\\\mountain\\\\bd5fdf64757acb56a5c336f1e7bdbbb3.jpg', 1), ('./images\\\\mountain\\\\f7d40a84a44897f83ab8722254bd0551.jpg', 1)]\n"
     ]
    }
   ],
   "source": [
    "# Create dataset from images\n",
    "img_dir = \"./images\"\n",
    "img_data = dsets.ImageFolder(img_dir, transforms.Compose([\n",
    "    transforms.RandomCrop(224),\n",
    "    transforms.RandomHorizontalFlip(),\n",
    "    transforms.ToTensor(),\n",
    "]))\n",
    "\n",
    "print(img_data.classes)\n",
    "print(img_data.class_to_idx)\n",
    "print(img_data.imgs)"
   ],
   "metadata": {
    "collapsed": false,
    "ExecuteTime": {
     "end_time": "2023-05-24T02:44:38.064534600Z",
     "start_time": "2023-05-24T02:44:38.054532400Z"
    }
   }
  },
  {
   "cell_type": "code",
   "execution_count": 32,
   "outputs": [
    {
     "name": "stdout",
     "output_type": "stream",
     "text": [
      "torch.Size([3, 3, 224, 224])\n",
      "tensor([0, 1, 1])\n",
      "torch.Size([3, 3, 224, 224])\n",
      "tensor([0, 1, 1])\n"
     ]
    }
   ],
   "source": [
    "# DataLoader\n",
    "loader = Data.DataLoader(img_data, batch_size=3,\n",
    "                         shuffle=True, num_workers=1)\n",
    "\n",
    "for img, label in loader:\n",
    "    print(img.size())\n",
    "    print(label)"
   ],
   "metadata": {
    "collapsed": false,
    "ExecuteTime": {
     "end_time": "2023-05-24T02:44:58.989638900Z",
     "start_time": "2023-05-24T02:44:57.255199100Z"
    }
   }
  },
  {
   "cell_type": "code",
   "execution_count": 33,
   "outputs": [
    {
     "name": "stdout",
     "output_type": "stream",
     "text": [
      "torch.Size([1, 28, 28])\n",
      "5\n"
     ]
    }
   ],
   "source": [
    "# MNIST Dataset\n",
    "train_dataset = dsets.MNIST(root='./data',\n",
    "                            train=True,\n",
    "                            transform=transforms.ToTensor(),\n",
    "                            download=True)\n",
    "\n",
    "image, label = train_dataset[0]\n",
    "print(image.size())\n",
    "print(label)"
   ],
   "metadata": {
    "collapsed": false,
    "ExecuteTime": {
     "end_time": "2023-05-24T02:45:18.120695700Z",
     "start_time": "2023-05-24T02:45:18.076696500Z"
    }
   }
  },
  {
   "cell_type": "code",
   "execution_count": 35,
   "outputs": [
    {
     "data": {
      "text/plain": "torch.Size([100, 1, 28, 28])"
     },
     "execution_count": 35,
     "metadata": {},
     "output_type": "execute_result"
    }
   ],
   "source": [
    "train_loader = Data.DataLoader(dataset=train_dataset,\n",
    "                               batch_size=100,\n",
    "                               shuffle=True,\n",
    "                               num_workers=2)\n",
    "\n",
    "data_iter = iter(train_loader)\n",
    "images, labels = next(data_iter)\n",
    "\n",
    "for images, labels in train_loader:\n",
    "    pass\n",
    "\n",
    "images.size()"
   ],
   "metadata": {
    "collapsed": false,
    "ExecuteTime": {
     "end_time": "2023-05-24T02:46:57.292649600Z",
     "start_time": "2023-05-24T02:46:51.975508Z"
    }
   }
  },
  {
   "cell_type": "code",
   "execution_count": 36,
   "outputs": [
    {
     "ename": "ValueError",
     "evalue": "num_samples should be a positive integer value, but got num_samples=0",
     "output_type": "error",
     "traceback": [
      "\u001B[1;31m---------------------------------------------------------------------------\u001B[0m",
      "\u001B[1;31mValueError\u001B[0m                                Traceback (most recent call last)",
      "Cell \u001B[1;32mIn[36], line 19\u001B[0m\n\u001B[0;32m     17\u001B[0m \u001B[38;5;66;03m# Then, you can just use prebuilt torch's data loader.\u001B[39;00m\n\u001B[0;32m     18\u001B[0m custom_dataset \u001B[38;5;241m=\u001B[39m CustomDataset()\n\u001B[1;32m---> 19\u001B[0m train_loader \u001B[38;5;241m=\u001B[39m \u001B[43mData\u001B[49m\u001B[38;5;241;43m.\u001B[39;49m\u001B[43mDataLoader\u001B[49m\u001B[43m(\u001B[49m\u001B[43mdataset\u001B[49m\u001B[38;5;241;43m=\u001B[39;49m\u001B[43mcustom_dataset\u001B[49m\u001B[43m,\u001B[49m\n\u001B[0;32m     20\u001B[0m \u001B[43m                                           \u001B[49m\u001B[43mbatch_size\u001B[49m\u001B[38;5;241;43m=\u001B[39;49m\u001B[38;5;241;43m100\u001B[39;49m\u001B[43m,\u001B[49m\n\u001B[0;32m     21\u001B[0m \u001B[43m                                           \u001B[49m\u001B[43mshuffle\u001B[49m\u001B[38;5;241;43m=\u001B[39;49m\u001B[38;5;28;43;01mTrue\u001B[39;49;00m\u001B[43m,\u001B[49m\n\u001B[0;32m     22\u001B[0m \u001B[43m                                           \u001B[49m\u001B[43mnum_workers\u001B[49m\u001B[38;5;241;43m=\u001B[39;49m\u001B[38;5;241;43m2\u001B[39;49m\u001B[43m)\u001B[49m\n",
      "File \u001B[1;32m~\\.conda\\envs\\py310-ml\\lib\\site-packages\\torch\\utils\\data\\dataloader.py:351\u001B[0m, in \u001B[0;36mDataLoader.__init__\u001B[1;34m(self, dataset, batch_size, shuffle, sampler, batch_sampler, num_workers, collate_fn, pin_memory, drop_last, timeout, worker_init_fn, multiprocessing_context, generator, prefetch_factor, persistent_workers, pin_memory_device)\u001B[0m\n\u001B[0;32m    349\u001B[0m \u001B[38;5;28;01melse\u001B[39;00m:  \u001B[38;5;66;03m# map-style\u001B[39;00m\n\u001B[0;32m    350\u001B[0m     \u001B[38;5;28;01mif\u001B[39;00m shuffle:\n\u001B[1;32m--> 351\u001B[0m         sampler \u001B[38;5;241m=\u001B[39m \u001B[43mRandomSampler\u001B[49m\u001B[43m(\u001B[49m\u001B[43mdataset\u001B[49m\u001B[43m,\u001B[49m\u001B[43m \u001B[49m\u001B[43mgenerator\u001B[49m\u001B[38;5;241;43m=\u001B[39;49m\u001B[43mgenerator\u001B[49m\u001B[43m)\u001B[49m  \u001B[38;5;66;03m# type: ignore[arg-type]\u001B[39;00m\n\u001B[0;32m    352\u001B[0m     \u001B[38;5;28;01melse\u001B[39;00m:\n\u001B[0;32m    353\u001B[0m         sampler \u001B[38;5;241m=\u001B[39m SequentialSampler(dataset)  \u001B[38;5;66;03m# type: ignore[arg-type]\u001B[39;00m\n",
      "File \u001B[1;32m~\\.conda\\envs\\py310-ml\\lib\\site-packages\\torch\\utils\\data\\sampler.py:107\u001B[0m, in \u001B[0;36mRandomSampler.__init__\u001B[1;34m(self, data_source, replacement, num_samples, generator)\u001B[0m\n\u001B[0;32m    103\u001B[0m     \u001B[38;5;28;01mraise\u001B[39;00m \u001B[38;5;167;01mTypeError\u001B[39;00m(\u001B[38;5;124m\"\u001B[39m\u001B[38;5;124mreplacement should be a boolean value, but got \u001B[39m\u001B[38;5;124m\"\u001B[39m\n\u001B[0;32m    104\u001B[0m                     \u001B[38;5;124m\"\u001B[39m\u001B[38;5;124mreplacement=\u001B[39m\u001B[38;5;132;01m{}\u001B[39;00m\u001B[38;5;124m\"\u001B[39m\u001B[38;5;241m.\u001B[39mformat(\u001B[38;5;28mself\u001B[39m\u001B[38;5;241m.\u001B[39mreplacement))\n\u001B[0;32m    106\u001B[0m \u001B[38;5;28;01mif\u001B[39;00m \u001B[38;5;129;01mnot\u001B[39;00m \u001B[38;5;28misinstance\u001B[39m(\u001B[38;5;28mself\u001B[39m\u001B[38;5;241m.\u001B[39mnum_samples, \u001B[38;5;28mint\u001B[39m) \u001B[38;5;129;01mor\u001B[39;00m \u001B[38;5;28mself\u001B[39m\u001B[38;5;241m.\u001B[39mnum_samples \u001B[38;5;241m<\u001B[39m\u001B[38;5;241m=\u001B[39m \u001B[38;5;241m0\u001B[39m:\n\u001B[1;32m--> 107\u001B[0m     \u001B[38;5;28;01mraise\u001B[39;00m \u001B[38;5;167;01mValueError\u001B[39;00m(\u001B[38;5;124m\"\u001B[39m\u001B[38;5;124mnum_samples should be a positive integer \u001B[39m\u001B[38;5;124m\"\u001B[39m\n\u001B[0;32m    108\u001B[0m                      \u001B[38;5;124m\"\u001B[39m\u001B[38;5;124mvalue, but got num_samples=\u001B[39m\u001B[38;5;132;01m{}\u001B[39;00m\u001B[38;5;124m\"\u001B[39m\u001B[38;5;241m.\u001B[39mformat(\u001B[38;5;28mself\u001B[39m\u001B[38;5;241m.\u001B[39mnum_samples))\n",
      "\u001B[1;31mValueError\u001B[0m: num_samples should be a positive integer value, but got num_samples=0"
     ]
    }
   ],
   "source": [
    "# Custom dataset. You should build custom dataset as below.\n",
    "class CustomDataset(Data.Dataset):\n",
    "    def __init__(self):\n",
    "        # TODO\n",
    "        # 1. Initialize file path or list of file names.\n",
    "        pass\n",
    "\n",
    "    def __getitem__(self, index):\n",
    "        # TODO\n",
    "        # 1. Read one data from file (e.g. using numpy.fromfile, PIL.Image.open).\n",
    "        # 2. Preprocess the data (e.g. torchvision.Transform).\n",
    "        # 3. Return a data pair (e.g. image and label).\n",
    "        pass\n",
    "\n",
    "    def __len__(self):\n",
    "        # You should change 0 to the total size of your dataset.\n",
    "        return 0\n",
    "\n",
    "\n",
    "# Then, you can just use prebuilt torch's data loader.\n",
    "custom_dataset = CustomDataset()\n",
    "train_loader = Data.DataLoader(dataset=custom_dataset,\n",
    "                               batch_size=100,\n",
    "                               shuffle=True,\n",
    "                               num_workers=2)"
   ],
   "metadata": {
    "collapsed": false,
    "ExecuteTime": {
     "end_time": "2023-05-24T02:47:15.278569100Z",
     "start_time": "2023-05-24T02:47:05.095419200Z"
    }
   }
  },
  {
   "cell_type": "code",
   "execution_count": 44,
   "outputs": [
    {
     "name": "stdout",
     "output_type": "stream",
     "text": [
      "torch.Size([10, 100])\n"
     ]
    }
   ],
   "source": [
    "#========================== Using pretrained model ==========================#\n",
    "# Download and load pretrained resnet.\n",
    "resnet = torchvision.models.resnet18()\n",
    "\n",
    "# If you want to finetune only top layer of the model.\n",
    "for param in resnet.parameters():\n",
    "    param.requires_grad = False\n",
    "\n",
    "# Replace top layer for fine-tuning.\n",
    "resnet.fc = torch.nn.Linear(resnet.fc.in_features, 100)  # 100 is for example.\n",
    "\n",
    "# For test.\n",
    "images = torch.autograd.Variable(torch.randn(10, 3, 256, 256))\n",
    "outputs = resnet(images)\n",
    "print(outputs.size())  # (10, 100)"
   ],
   "metadata": {
    "collapsed": false,
    "ExecuteTime": {
     "end_time": "2023-05-24T02:52:52.709082200Z",
     "start_time": "2023-05-24T02:52:52.402090400Z"
    }
   }
  }
 ],
 "metadata": {
  "kernelspec": {
   "display_name": "Python 3",
   "language": "python",
   "name": "python3"
  },
  "language_info": {
   "codemirror_mode": {
    "name": "ipython",
    "version": 2
   },
   "file_extension": ".py",
   "mimetype": "text/x-python",
   "name": "python",
   "nbconvert_exporter": "python",
   "pygments_lexer": "ipython2",
   "version": "2.7.6"
  }
 },
 "nbformat": 4,
 "nbformat_minor": 0
}
