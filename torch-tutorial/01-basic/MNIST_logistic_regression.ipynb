{
 "cells": [
  {
   "cell_type": "code",
   "execution_count": 1,
   "metadata": {
    "collapsed": true,
    "ExecuteTime": {
     "end_time": "2023-05-19T07:26:04.783126200Z",
     "start_time": "2023-05-19T07:26:02.074313200Z"
    }
   },
   "outputs": [],
   "source": [
    "import torch\n",
    "import torch.nn as nn\n",
    "import torchvision\n",
    "import torchvision.transforms as transforms"
   ]
  },
  {
   "cell_type": "code",
   "execution_count": 2,
   "outputs": [],
   "source": [
    "# Hyper-parameters\n",
    "input_size = 28 * 28    # 784\n",
    "num_classes = 10\n",
    "num_epochs = 5\n",
    "batch_size = 100\n",
    "learning_rate = 0.001"
   ],
   "metadata": {
    "collapsed": false,
    "ExecuteTime": {
     "end_time": "2023-05-19T07:26:13.707166100Z",
     "start_time": "2023-05-19T07:26:13.696164600Z"
    }
   }
  },
  {
   "cell_type": "code",
   "execution_count": 3,
   "outputs": [],
   "source": [
    "# MNIST dataset (images and labels)\n",
    "train_dataset = torchvision.datasets.MNIST(root='./data',\n",
    "                                           train=True,\n",
    "                                           transform=transforms.ToTensor(),\n",
    "                                           download=True)\n",
    "\n",
    "test_dataset = torchvision.datasets.MNIST(root='./data',\n",
    "                                          train=False,\n",
    "                                          transform=transforms.ToTensor())\n",
    "\n",
    "# Data loader (input pipeline)\n",
    "train_loader = torch.utils.data.DataLoader(dataset=train_dataset,\n",
    "                                           batch_size=batch_size,\n",
    "                                           shuffle=True)\n",
    "\n",
    "test_loader = torch.utils.data.DataLoader(dataset=test_dataset,\n",
    "                                          batch_size=batch_size,\n",
    "                                          shuffle=False)"
   ],
   "metadata": {
    "collapsed": false,
    "ExecuteTime": {
     "end_time": "2023-05-19T07:26:15.681855Z",
     "start_time": "2023-05-19T07:26:15.628343600Z"
    }
   }
  },
  {
   "cell_type": "code",
   "execution_count": 4,
   "outputs": [
    {
     "name": "stdout",
     "output_type": "stream",
     "text": [
      "Epoch [1/5], Step [100/600], Loss: 2.2202\n",
      "Epoch [1/5], Step [200/600], Loss: 2.1261\n",
      "Epoch [1/5], Step [300/600], Loss: 2.0164\n",
      "Epoch [1/5], Step [400/600], Loss: 1.9564\n",
      "Epoch [1/5], Step [500/600], Loss: 1.8384\n",
      "Epoch [1/5], Step [600/600], Loss: 1.8302\n",
      "Epoch [2/5], Step [100/600], Loss: 1.7469\n",
      "Epoch [2/5], Step [200/600], Loss: 1.7295\n",
      "Epoch [2/5], Step [300/600], Loss: 1.6477\n",
      "Epoch [2/5], Step [400/600], Loss: 1.6096\n",
      "Epoch [2/5], Step [500/600], Loss: 1.4563\n",
      "Epoch [2/5], Step [600/600], Loss: 1.5085\n",
      "Epoch [3/5], Step [100/600], Loss: 1.4194\n",
      "Epoch [3/5], Step [200/600], Loss: 1.3154\n",
      "Epoch [3/5], Step [300/600], Loss: 1.3733\n",
      "Epoch [3/5], Step [400/600], Loss: 1.2549\n",
      "Epoch [3/5], Step [500/600], Loss: 1.3392\n",
      "Epoch [3/5], Step [600/600], Loss: 1.3361\n",
      "Epoch [4/5], Step [100/600], Loss: 1.2705\n",
      "Epoch [4/5], Step [200/600], Loss: 1.2695\n",
      "Epoch [4/5], Step [300/600], Loss: 1.2684\n",
      "Epoch [4/5], Step [400/600], Loss: 1.0771\n",
      "Epoch [4/5], Step [500/600], Loss: 1.1379\n",
      "Epoch [4/5], Step [600/600], Loss: 1.1993\n",
      "Epoch [5/5], Step [100/600], Loss: 1.1868\n",
      "Epoch [5/5], Step [200/600], Loss: 1.1066\n",
      "Epoch [5/5], Step [300/600], Loss: 1.0275\n",
      "Epoch [5/5], Step [400/600], Loss: 1.0895\n",
      "Epoch [5/5], Step [500/600], Loss: 1.0841\n",
      "Epoch [5/5], Step [600/600], Loss: 0.9691\n",
      "Accuracy of the model on the 10000 test images: 83.11000061035156 %\n"
     ]
    }
   ],
   "source": [
    "# Logistic regression model\n",
    "model = nn.Linear(input_size, num_classes)\n",
    "\n",
    "# Loss and optimizer\n",
    "# nn.CrossEntropyLoss() computes softmax internally\n",
    "criterion = nn.CrossEntropyLoss()\n",
    "optimizer = torch.optim.SGD(model.parameters(), lr=learning_rate)\n",
    "\n",
    "# Train the model\n",
    "total_step = len(train_loader)\n",
    "for epoch in range(num_epochs):\n",
    "    for i, (images, labels) in enumerate(train_loader):\n",
    "        # Reshape images to (batch_size, input_size)\n",
    "        images = images.reshape(-1, input_size)\n",
    "\n",
    "        # Forward pass\n",
    "        outputs = model(images)\n",
    "        loss = criterion(outputs, labels)\n",
    "\n",
    "        # Backward and optimize\n",
    "        optimizer.zero_grad()\n",
    "        loss.backward()\n",
    "        optimizer.step()\n",
    "\n",
    "        if (i+1) % 100 == 0:\n",
    "            print ('Epoch [{}/{}], Step [{}/{}], Loss: {:.4f}'\n",
    "                   .format(epoch+1, num_epochs, i+1, total_step, loss.item()))\n",
    "\n",
    "# Test the model\n",
    "# In test phase, we don't need to compute gradients (for memory efficiency)\n",
    "with torch.no_grad():\n",
    "    correct = 0\n",
    "    total = 0\n",
    "    for images, labels in test_loader:\n",
    "        images = images.reshape(-1, input_size)\n",
    "        outputs = model(images)\n",
    "        _, predicted = torch.max(outputs.data, 1)\n",
    "        total += labels.size(0)\n",
    "        correct += (predicted == labels).sum()\n",
    "\n",
    "    print('Accuracy of the model on the 10000 test images: {} %'.format(100 * correct / total))\n"
   ],
   "metadata": {
    "collapsed": false,
    "ExecuteTime": {
     "end_time": "2023-05-19T07:26:36.421636700Z",
     "start_time": "2023-05-19T07:26:18.278106100Z"
    }
   }
  },
  {
   "cell_type": "code",
   "execution_count": null,
   "outputs": [],
   "source": [
    "# Save the model checkpoint\n",
    "torch.save(model.state_dict(), './data/MNIST_logistic_model.pt')"
   ],
   "metadata": {
    "collapsed": false
   }
  }
 ],
 "metadata": {
  "kernelspec": {
   "display_name": "Python 3",
   "language": "python",
   "name": "python3"
  },
  "language_info": {
   "codemirror_mode": {
    "name": "ipython",
    "version": 2
   },
   "file_extension": ".py",
   "mimetype": "text/x-python",
   "name": "python",
   "nbconvert_exporter": "python",
   "pygments_lexer": "ipython2",
   "version": "2.7.6"
  }
 },
 "nbformat": 4,
 "nbformat_minor": 0
}
