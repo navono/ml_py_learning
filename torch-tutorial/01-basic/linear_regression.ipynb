{
 "cells": [
  {
   "cell_type": "code",
   "execution_count": 1,
   "metadata": {
    "collapsed": true,
    "ExecuteTime": {
     "end_time": "2023-05-18T02:34:28.492157600Z",
     "start_time": "2023-05-18T02:34:27.074309500Z"
    }
   },
   "outputs": [],
   "source": [
    "import torch\n",
    "import torch.nn as nn\n",
    "import numpy as np\n",
    "import matplotlib.pyplot as plt"
   ]
  },
  {
   "cell_type": "code",
   "execution_count": 2,
   "outputs": [],
   "source": [
    "# Hyper-parameters\n",
    "input_size = 1\n",
    "output_size = 1\n",
    "num_epochs = 60\n",
    "learning_rate = 0.001\n",
    "\n",
    "# Toy dataset\n",
    "x_train = np.array([[3.3], [4.4], [5.5], [6.71], [6.93], [4.168],\n",
    "                    [9.779], [6.182], [7.59], [2.167], [7.042],\n",
    "                    [10.791], [5.313], [7.997], [3.1]], dtype=np.float32)\n",
    "\n",
    "y_train = np.array([[1.7], [2.76], [2.09], [3.19], [1.694], [1.573],\n",
    "                    [3.366], [2.596], [2.53], [1.221], [2.827],\n",
    "                    [3.465], [1.65], [2.904], [1.3]], dtype=np.float32)"
   ],
   "metadata": {
    "collapsed": false,
    "ExecuteTime": {
     "end_time": "2023-05-18T02:34:37.887497600Z",
     "start_time": "2023-05-18T02:34:37.881498400Z"
    }
   }
  },
  {
   "cell_type": "code",
   "execution_count": 3,
   "outputs": [
    {
     "name": "stdout",
     "output_type": "stream",
     "text": [
      "Epoch [5/60], Loss: 25.3610\n",
      "Epoch [10/60], Loss: 10.3823\n",
      "Epoch [15/60], Loss: 4.3141\n",
      "Epoch [20/60], Loss: 1.8558\n",
      "Epoch [25/60], Loss: 0.8599\n",
      "Epoch [30/60], Loss: 0.4564\n",
      "Epoch [35/60], Loss: 0.2929\n",
      "Epoch [40/60], Loss: 0.2267\n",
      "Epoch [45/60], Loss: 0.1998\n",
      "Epoch [50/60], Loss: 0.1889\n",
      "Epoch [55/60], Loss: 0.1845\n",
      "Epoch [60/60], Loss: 0.1827\n"
     ]
    }
   ],
   "source": [
    "# Linear regression model\n",
    "model = nn.Linear(input_size, output_size)\n",
    "\n",
    "# Loss and optimizer\n",
    "criterion = nn.MSELoss()\n",
    "optimizer = torch.optim.SGD(model.parameters(), lr=learning_rate)\n",
    "\n",
    "# Train the model\n",
    "for epoch in range(num_epochs):\n",
    "    # Convert numpy arrays to torch tensors\n",
    "    inputs = torch.from_numpy(x_train)\n",
    "    targets = torch.from_numpy(y_train)\n",
    "\n",
    "    # Forward pass\n",
    "    outputs = model(inputs)\n",
    "    loss = criterion(outputs, targets)\n",
    "\n",
    "    # Backward and optimize。不断调整 model 中的权重与偏置，使得 loss 最小\n",
    "    optimizer.zero_grad()\n",
    "    loss.backward()     # 反向传播计算梯度\n",
    "    optimizer.step()    # 优化算法更新模型参数\n",
    "\n",
    "    if (epoch+1) % 5 == 0:\n",
    "        print ('Epoch [{}/{}], Loss: {:.4f}'.format(epoch+1, num_epochs, loss.item()))"
   ],
   "metadata": {
    "collapsed": false,
    "ExecuteTime": {
     "end_time": "2023-05-18T02:34:48.549998900Z",
     "start_time": "2023-05-18T02:34:48.510993900Z"
    }
   }
  },
  {
   "cell_type": "code",
   "execution_count": 5,
   "outputs": [
    {
     "name": "stdout",
     "output_type": "stream",
     "text": [
      "Latest model parameters:\n",
      "\t Parameter containing:\n",
      "tensor([[0.2107]], requires_grad=True)\n",
      "\t Parameter containing:\n",
      "tensor([1.0563], requires_grad=True)\n"
     ]
    },
    {
     "data": {
      "text/plain": "<Figure size 640x480 with 1 Axes>",
      "image/png": "[encoded data removed]"
     },
     "metadata": {},
     "output_type": "display_data"
    }
   ],
   "source": [
    "print(\"Latest model parameters:\")\n",
    "# 第一个 tensor 是权重，第二个 tensor 是偏置\n",
    "for param in model.parameters():\n",
    "    print(f'param: {param}\\t')\n",
    "\n",
    "# Plot the graph\n",
    "predicted = model(torch.from_numpy(x_train)).detach().numpy()\n",
    "plt.plot(x_train, y_train, 'ro', label='Original data')\n",
    "plt.plot(x_train, predicted, label='Fitted line')\n",
    "plt.legend()\n",
    "plt.show()\n",
    "\n",
    "# Save the model checkpoint\n",
    "torch.save(model.state_dict(), 'model.ckpt')"
   ],
   "metadata": {
    "collapsed": false,
    "ExecuteTime": {
     "end_time": "2023-05-18T02:35:56.039277200Z",
     "start_time": "2023-05-18T02:35:55.957022300Z"
    }
   }
  },
  {
   "cell_type": "markdown",
   "source": [
    "按照机器学习的三个基本要素分析上述的代码：\n",
    "1. 模型：即上述的线性模型：`nn.Linear`；\n",
    "2. 学习准则：即上述的损失函数：`nn.MSELoss`；\n",
    "3. 优化算法：即上述的随机梯度下降算法：`torch.optim.SGD`，用于优化调整模型中的参数，使得损失函数最小。\n",
    "\n",
    "\n",
    "下面将分别对上述的三个要素进行分析。首先是 **模型**。"
   ],
   "metadata": {
    "collapsed": false
   }
  },
  {
   "cell_type": "code",
   "execution_count": 20,
   "outputs": [
    {
     "name": "stdout",
     "output_type": "stream",
     "text": [
      "output: tensor([1.4402], grad_fn=<AddBackward0>)\n",
      "\n",
      "param: Parameter containing:\n",
      "tensor([[-0.4326,  0.6057]], requires_grad=True)\n",
      "param: Parameter containing:\n",
      "tensor([0.6613], requires_grad=True)\n"
     ]
    }
   ],
   "source": [
    "# 演示 Linear 的使用\n",
    "\n",
    "input = torch.Tensor([1, 2])  # 样本数据，有两个特征（两个特征值分别是1和2）\n",
    "\n",
    "model = nn.Linear(2, 1)  # 输入特征数为2，输出特征数为1\n",
    "output = model(input)  # 将样本输入给模型，输出预测值\n",
    "print(f'output: {output}\\n')\n",
    "\n",
    "# 查看模型参数\n",
    "for param in model.parameters():\n",
    "    # 第一个 tensor 是权重，第二个 tensor 是偏置\n",
    "    print(f'param: {param}')\n",
    "\n",
    "# 模型的参数，通过优化算法进行优化，同时使用损失函数进行衡量"
   ],
   "metadata": {
    "collapsed": false,
    "ExecuteTime": {
     "end_time": "2023-05-18T02:41:02.896657Z",
     "start_time": "2023-05-18T02:41:02.881657300Z"
    }
   }
  },
  {
   "cell_type": "markdown",
   "source": [
    "torch.nn.Linear(in_features, # 输入特征数\n",
    "           out_features, # 输出特征数\n",
    "           bias=True # 是否包含偏置\n",
    "           )\n",
    "\n",
    "Linear 是对输入进行了线性变换，即：\n",
    "$$ Y_n_×_o = X_n_×_i W_i_×_o + b $$\n",
    "\n",
    "其中，$X_{n×i}$ 是输入，$W_{i×o}$ 是权重，$b$ 是偏置，$Y_{n×o}$ 是输出，$n$ 是样本数（输入向量行数），$i$ 是输入特征数，$o$ 是输出特征数。\n",
    "\n",
    "上述例子，模型有 3 个参数，分别是 w1、w2 和 b，其中 w1 和 w2 是权重，b 是偏置：\n",
    "\n",
    "$$y=[特征值1,特征值2] * [w_1,w_2]^{\\scriptscriptstyle T} + b $$\n",
    "\n",
    "以下使用代码进行演示："
   ],
   "metadata": {
    "collapsed": false
   }
  },
  {
   "cell_type": "code",
   "execution_count": 21,
   "outputs": [
    {
     "name": "stdout",
     "output_type": "stream",
     "text": [
      "tensor([[0.1000, 0.2000, 0.3000, 0.3000, 0.3000],\n",
      "        [0.4000, 0.5000, 0.6000, 0.6000, 0.6000],\n",
      "        [0.7000, 0.8000, 0.9000, 0.9000, 0.9000]])\n"
     ]
    }
   ],
   "source": [
    "X = torch.Tensor([\n",
    "    [0.1, 0.2, 0.3, 0.3, 0.3],\n",
    "    [0.4, 0.5, 0.6, 0.6, 0.6],\n",
    "    [0.7, 0.8, 0.9, 0.9, 0.9],\n",
    "])\n",
    "print(X)  # 输入向量，n = 3，样本（行数），每个样本5个特征值\n",
    "\n",
    "in_feature = 5  # i = 5，输入特征数\n",
    "out_feature = 10  # o = 10，输出特征数"
   ],
   "metadata": {
    "collapsed": false,
    "ExecuteTime": {
     "end_time": "2023-05-18T02:41:25.156667100Z",
     "start_time": "2023-05-18T02:41:25.148158100Z"
    }
   }
  },
  {
   "cell_type": "markdown",
   "source": [
    "将上述值套入公式，即\n",
    "$$ Y_{3×10} = X_{3×5} W_{5×10} + b $$\n",
    "\n",
    "有三个样本，所以相当于依次进行了三次 $ Y_{1×10} = X_{1×5} W_{5×10} + b $，然后将三个 $Y_{1×10}$ 合并成 $Y_{3×10}$。"
   ],
   "metadata": {
    "collapsed": false
   }
  },
  {
   "cell_type": "code",
   "execution_count": 24,
   "outputs": [
    {
     "name": "stdout",
     "output_type": "stream",
     "text": [
      "torch.Size([3, 10])\n"
     ]
    },
    {
     "data": {
      "text/plain": "tensor([[-0.2360,  0.3753,  0.6496, -0.3494,  0.0786,  0.0545,  0.0788, -0.0106,\n         -0.0744, -0.1825],\n        [-0.5388,  0.4829,  0.9422, -0.5532,  0.0965,  0.1692, -0.1080,  0.1030,\n          0.0510, -0.4719],\n        [-0.8415,  0.5904,  1.2348, -0.7570,  0.1144,  0.2838, -0.2949,  0.2166,\n          0.1764, -0.7613]], grad_fn=<AddmmBackward0>)"
     },
     "execution_count": 24,
     "metadata": {},
     "output_type": "execute_result"
    }
   ],
   "source": [
    "model = nn.Linear(in_features=5, out_features=10, bias=True)\n",
    "print(model(X).size())  # 输出预测值，3个样本，每个样本10个特征值\n",
    "model(X)"
   ],
   "metadata": {
    "collapsed": false,
    "ExecuteTime": {
     "end_time": "2023-05-18T02:44:04.598328800Z",
     "start_time": "2023-05-18T02:44:04.588328400Z"
    }
   }
  },
  {
   "cell_type": "markdown",
   "source": [
    "接下来是 **损失函数**"
   ],
   "metadata": {
    "collapsed": false
   }
  },
  {
   "cell_type": "code",
   "execution_count": 28,
   "outputs": [
    {
     "name": "stdout",
     "output_type": "stream",
     "text": [
      "model auto compute loss: 22.33333396911621\n",
      "\n",
      "22.33333396911621\n",
      "manual compute loss: 22.33333396911621\n"
     ]
    }
   ],
   "source": [
    "# 演示 MSELoss 的使用\n",
    "\n",
    "crit = nn.MSELoss()  # 均方损失函数\n",
    "target = torch.tensor([[1, 2, 3], [4, 5, 6]], dtype=torch.float, requires_grad=True)\n",
    "pred = torch.tensor([[7, 8, 9], [8, 4, 3]], dtype=torch.float, requires_grad=True)\n",
    "# target = torch.FloatTensor([[1, 2, 3], [4, 5, 6]])\n",
    "# pred = torch.FloatTensor([[7, 8, 9], [8, 4, 3]])\n",
    "\n",
    "loss = crit(pred, target)  # 将pred,target逐个元素求差,然后求平方,再求和,再求均值\n",
    "print(f'model auto compute loss: {loss}\\n')\n",
    "\n",
    "sum = 0\n",
    "for i in range(2):  # 遍历行i\n",
    "    for j in range(3):  # 遍历列\n",
    "        sum += (target[i][j] - pred[i][j]) * (target[i][j] - pred[i][j])  # 对应元素做差,然后平方和\n",
    "\n",
    "print(f'manual compute loss: {sum / 6}' )  # 除以元素个数"
   ],
   "metadata": {
    "collapsed": false,
    "ExecuteTime": {
     "end_time": "2023-05-18T02:51:37.013326100Z",
     "start_time": "2023-05-18T02:51:36.998323400Z"
    }
   }
  }
 ],
 "metadata": {
  "kernelspec": {
   "display_name": "Python 3",
   "language": "python",
   "name": "python3"
  },
  "language_info": {
   "codemirror_mode": {
    "name": "ipython",
    "version": 2
   },
   "file_extension": ".py",
   "mimetype": "text/x-python",
   "name": "python",
   "nbconvert_exporter": "python",
   "pygments_lexer": "ipython2",
   "version": "2.7.6"
  }
 },
 "nbformat": 4,
 "nbformat_minor": 0
}
