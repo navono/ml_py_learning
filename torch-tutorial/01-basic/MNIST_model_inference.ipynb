{
 "cells": [
  {
   "cell_type": "code",
   "execution_count": 56,
   "metadata": {
    "collapsed": true,
    "ExecuteTime": {
     "end_time": "2023-05-18T09:07:28.168992600Z",
     "start_time": "2023-05-18T09:07:27.672727500Z"
    }
   },
   "outputs": [],
   "source": [
    "import torch\n",
    "# from mnist import *\n",
    "import torch.nn as nn\n",
    "import cv2\n",
    "import torch.nn.functional as F\n",
    "from torch.autograd import Variable\n",
    "from torchvision import datasets, transforms\n",
    "import numpy as np\n",
    "import matplotlib.pyplot as plt\n",
    "import torchvision\n",
    "from skimage import io,transform"
   ]
  },
  {
   "cell_type": "code",
   "execution_count": 5,
   "outputs": [],
   "source": [
    "class NeuralNet(nn.Module):\n",
    "    def __init__(self, input_size, hidden_size, num_classes):\n",
    "        super(NeuralNet, self).__init__()\n",
    "        self.fc1 = nn.Linear(input_size, hidden_size)\n",
    "        self.relu = nn.ReLU()\n",
    "        self.fc2 = nn.Linear(hidden_size, num_classes)\n",
    "\n",
    "    def forward(self, x):\n",
    "        out = self.fc1(x)\n",
    "        out = self.relu(out)\n",
    "        out = self.fc2(out)\n",
    "        return out"
   ],
   "metadata": {
    "collapsed": false,
    "ExecuteTime": {
     "end_time": "2023-05-18T06:25:15.427789100Z",
     "start_time": "2023-05-18T06:25:15.422787200Z"
    }
   }
  },
  {
   "cell_type": "code",
   "execution_count": 100,
   "outputs": [],
   "source": [
    "def mnist(img):\n",
    "    img1 = img.copy()\n",
    "    #_, img = cv2.threshold(img, 150, 255, cv2.THRESH_TRUNC)\n",
    "    img1 = cv2.bitwise_not(img1)\n",
    "\n",
    "    kernel = np.ones((7,7), np.uint8)\n",
    "    img1  = cv2.cvtColor(img1,cv2.COLOR_BGR2RGB)\n",
    "    img1  = cv2.cvtColor(img1,cv2.COLOR_RGB2GRAY)\n",
    "    img1 = cv2.dilate(img1, kernel) # two thicken the hand writing\n",
    "    #closing = cv2.morphologyEx(img,cv2.MORPH_CLOSE,kernel,)\n",
    "    #_, img = cv2.threshold(img, 127, 255, cv2.THRESH_BINARY)\n",
    "\n",
    "    #img = cv2.GaussianBlur(img, (5,5),0) # no need it i guess\n",
    "    closing = cv2.morphologyEx(img1,cv2.MORPH_CLOSE,kernel,)\n",
    "    resized = cv2.resize(closing, (28, 28), interpolation = cv2.INTER_AREA) # the size of mnist is 28x28\n",
    "\n",
    "    return resized"
   ],
   "metadata": {
    "collapsed": false,
    "ExecuteTime": {
     "end_time": "2023-05-18T09:22:33.506734200Z",
     "start_time": "2023-05-18T09:22:33.503733400Z"
    }
   }
  },
  {
   "cell_type": "code",
   "execution_count": 101,
   "outputs": [],
   "source": [
    "def to_tensor(arr: np.ndarray):\n",
    "    tensor_arr = torch.from_numpy(arr).float()\n",
    "    norm_tensor = F.normalize(tensor_arr)\n",
    "    norm_tensor = norm_tensor.reshape(-1,28*28)\n",
    "\n",
    "    return norm_tensor.to(device)"
   ],
   "metadata": {
    "collapsed": false,
    "ExecuteTime": {
     "end_time": "2023-05-18T09:22:34.944542200Z",
     "start_time": "2023-05-18T09:22:34.941355400Z"
    }
   }
  },
  {
   "cell_type": "code",
   "execution_count": 105,
   "outputs": [
    {
     "name": "stdout",
     "output_type": "stream",
     "text": [
      "2\n"
     ]
    }
   ],
   "source": [
    "input_size = 784\n",
    "hidden_size = 500\n",
    "num_classes = 10\n",
    "device = torch.device('cuda' if torch.cuda.is_available() else 'cpu')\n",
    "\n",
    "model = NeuralNet(input_size, hidden_size, num_classes).to(device)\n",
    "model.load_state_dict(torch.load('./data/MNIST_model.pt'))\n",
    "model.eval()\n",
    "\n",
    "img = cv2.imread('./data/two.png')\n",
    "\n",
    "img_mnist = mnist(img)\n",
    "img_mnist = to_tensor(img_mnist)\n",
    "\n",
    "output=model.forward(img_mnist)\n",
    "\n",
    "prob = F.softmax(output, dim=1)\n",
    "prob = Variable(prob)\n",
    "\n",
    "prob = prob.cpu().numpy()  #用GPU的数据训练的模型保存的参数都是gpu形式的，要显示则先要转回cpu，再转回numpy模式\n",
    "pred = np.argmax(prob) #选出概率最大的一个\n",
    "print(pred.item())"
   ],
   "metadata": {
    "collapsed": false,
    "ExecuteTime": {
     "end_time": "2023-05-18T09:23:14.275664Z",
     "start_time": "2023-05-18T09:23:14.261699300Z"
    }
   }
  }
 ],
 "metadata": {
  "kernelspec": {
   "display_name": "Python 3",
   "language": "python",
   "name": "python3"
  },
  "language_info": {
   "codemirror_mode": {
    "name": "ipython",
    "version": 2
   },
   "file_extension": ".py",
   "mimetype": "text/x-python",
   "name": "python",
   "nbconvert_exporter": "python",
   "pygments_lexer": "ipython2",
   "version": "2.7.6"
  }
 },
 "nbformat": 4,
 "nbformat_minor": 0
}
