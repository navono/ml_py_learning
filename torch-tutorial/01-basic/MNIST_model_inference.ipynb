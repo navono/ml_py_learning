{
 "cells": [
  {
   "cell_type": "code",
   "execution_count": 4,
   "metadata": {
    "collapsed": true,
    "ExecuteTime": {
     "end_time": "2023-05-18T06:25:14.040795200Z",
     "start_time": "2023-05-18T06:25:14.027236500Z"
    }
   },
   "outputs": [],
   "source": [
    "import torch\n",
    "# from mnist import *\n",
    "import torch.nn as nn\n",
    "import cv2\n",
    "import torch.nn.functional as F\n",
    "from torch.autograd import Variable\n",
    "from torchvision import datasets, transforms\n",
    "import numpy as np\n",
    "import torchvision\n",
    "from skimage import io,transform"
   ]
  },
  {
   "cell_type": "code",
   "execution_count": 5,
   "outputs": [],
   "source": [
    "class NeuralNet(nn.Module):\n",
    "    def __init__(self, input_size, hidden_size, num_classes):\n",
    "        super(NeuralNet, self).__init__()\n",
    "        self.fc1 = nn.Linear(input_size, hidden_size)\n",
    "        self.relu = nn.ReLU()\n",
    "        self.fc2 = nn.Linear(hidden_size, num_classes)\n",
    "\n",
    "    def forward(self, x):\n",
    "        out = self.fc1(x)\n",
    "        out = self.relu(out)\n",
    "        out = self.fc2(out)\n",
    "        return out"
   ],
   "metadata": {
    "collapsed": false,
    "ExecuteTime": {
     "end_time": "2023-05-18T06:25:15.427789100Z",
     "start_time": "2023-05-18T06:25:15.422787200Z"
    }
   }
  },
  {
   "cell_type": "code",
   "execution_count": 46,
   "outputs": [
    {
     "name": "stdout",
     "output_type": "stream",
     "text": [
      "[[255 255 255 ... 255 255 255]\n",
      " [255 255 255 ... 255 255 255]\n",
      " [255 255 255 ... 255 255 255]\n",
      " ...\n",
      " [255 255 255 ... 255 255 255]\n",
      " [255 255 255 ... 255 255 255]\n",
      " [255 255 255 ... 255 255 255]]\n"
     ]
    },
    {
     "ename": "UFuncTypeError",
     "evalue": "Cannot cast ufunc 'divide' output from dtype('float64') to dtype('uint8') with casting rule 'same_kind'",
     "output_type": "error",
     "traceback": [
      "\u001B[1;31m---------------------------------------------------------------------------\u001B[0m",
      "\u001B[1;31mUFuncTypeError\u001B[0m                            Traceback (most recent call last)",
      "Cell \u001B[1;32mIn[46], line 23\u001B[0m\n\u001B[0;32m     20\u001B[0m \u001B[38;5;28mprint\u001B[39m(img)\n\u001B[0;32m     22\u001B[0m \u001B[38;5;66;03m# you can divide numpy arrays by a constant natively\u001B[39;00m\n\u001B[1;32m---> 23\u001B[0m img \u001B[38;5;241m/\u001B[39m\u001B[38;5;241m=\u001B[39m \u001B[38;5;241m255.0\u001B[39m\n\u001B[0;32m     25\u001B[0m normalized_8 \u001B[38;5;241m=\u001B[39m [(\u001B[38;5;241m255\u001B[39m \u001B[38;5;241m-\u001B[39m x) \u001B[38;5;241m*\u001B[39m \u001B[38;5;241m1.0\u001B[39m \u001B[38;5;241m/\u001B[39m \u001B[38;5;241m255.0\u001B[39m \u001B[38;5;28;01mfor\u001B[39;00m x \u001B[38;5;129;01min\u001B[39;00m img ]\n\u001B[0;32m     26\u001B[0m tensor_8 \u001B[38;5;241m=\u001B[39m torch\u001B[38;5;241m.\u001B[39mFloatTensor( normalized_8 )\n",
      "\u001B[1;31mUFuncTypeError\u001B[0m: Cannot cast ufunc 'divide' output from dtype('float64') to dtype('uint8') with casting rule 'same_kind'"
     ]
    }
   ],
   "source": [
    "input_size = 784\n",
    "hidden_size = 500\n",
    "num_classes = 10\n",
    "device = torch.device('cuda' if torch.cuda.is_available() else 'cpu')\n",
    "# model = torch.load('./data/MNIST_model.pt') #加载模型\n",
    "# model = model.to(device)\n",
    "# model.eval()    #把模型转为test模式\n",
    "\n",
    "model = NeuralNet(input_size, hidden_size, num_classes).to(device)\n",
    "model.load_state_dict(torch.load('./data/MNIST_model.pt'))\n",
    "model.eval()\n",
    "\n",
    "# print(model)\n",
    "\n",
    "img = cv2.imread('./data/five.png')\n",
    "# img = cv2.resize(img, (28, 28))\n",
    "\n",
    "# following line may or may not be necessary\n",
    "img = cv2.cvtColor(img, cv2.COLOR_BGR2GRAY)\n",
    "print(img)\n",
    "\n",
    "# you can divide numpy arrays by a constant natively\n",
    "img /= 255.0\n",
    "\n",
    "normalized_8 = [(255 - x) * 1.0 / 255.0 for x in img ]\n",
    "tensor_8 = torch.FloatTensor( normalized_8 )\n",
    "\n",
    "# This makes a 4d tensor (batched image) with shape [1, channels, width, height]\n",
    "img = torch.Tensor(tensor_8).unsqueeze(axis=0)\n",
    "\n",
    "\n",
    "\n",
    "# height,width=img.shape\n",
    "# dst=np.zeros((height,width),np.uint8)\n",
    "# for i in range(height):\n",
    "#     for j in range(width):\n",
    "#         dst[i,j]=255-img[i,j]\n",
    "\n",
    "# img = dst\n",
    "\n",
    "# img=np.array(img).astype(np.float32)\n",
    "# img=np.expand_dims(img,0)\n",
    "# img=np.expand_dims(img,0)   #扩展后，为[1，1，28，28]\n",
    "# img=torch.from_numpy(img)\n",
    "# img = img.reshape(-1, 28*28).to(device)\n",
    "#\n",
    "# print(img.size())\n",
    "\n",
    "# output = model(Variable(img))\n",
    "output = model(img)\n",
    "print(f'output: {output}')\n",
    "\n",
    "prob = F.softmax(output, dim=1)\n",
    "prob = Variable(prob)\n",
    "print(f'prob: {prob}')\n",
    "\n",
    "prob = prob.cpu().numpy()  #用GPU的数据训练的模型保存的参数都是gpu形式的，要显示则先要转回cpu，再转回numpy模式\n",
    "print(prob)  #prob是10个分类的概率\n",
    "pred = np.argmax(prob) #选出概率最大的一个\n",
    "print(pred.item())"
   ],
   "metadata": {
    "collapsed": false,
    "ExecuteTime": {
     "end_time": "2023-05-18T08:52:23.962392900Z",
     "start_time": "2023-05-18T08:52:23.929392500Z"
    }
   }
  }
 ],
 "metadata": {
  "kernelspec": {
   "display_name": "Python 3",
   "language": "python",
   "name": "python3"
  },
  "language_info": {
   "codemirror_mode": {
    "name": "ipython",
    "version": 2
   },
   "file_extension": ".py",
   "mimetype": "text/x-python",
   "name": "python",
   "nbconvert_exporter": "python",
   "pygments_lexer": "ipython2",
   "version": "2.7.6"
  }
 },
 "nbformat": 4,
 "nbformat_minor": 0
}
