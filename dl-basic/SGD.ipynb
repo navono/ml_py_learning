{
 "cells": [
  {
   "cell_type": "code",
   "execution_count": null,
   "metadata": {
    "collapsed": true
   },
   "outputs": [],
   "source": [
    "# https://blog.csdn.net/weixin_45488228/article/details/99506171\n",
    "\n",
    "import numpy as np"
   ]
  },
  {
   "cell_type": "code",
   "execution_count": null,
   "outputs": [],
   "source": [
    "# 生成示例数据\n",
    "X = 2 * np.random.rand(100, 1)\n",
    "y = 4 + 3 * X + np.random.randn(100, 1)  # 添加噪声\n",
    "X_b = np.c_[np.ones((100, 1)), X]  # add x0 = 1 to each instance\n",
    "\n",
    "# 初始化模型参数\n",
    "theta = np.random.randn(2, 1)\n",
    "\n",
    "# 设置超参数\n",
    "learning_rate = 0.1\n",
    "num_iterations = 100\n",
    "\n",
    "# 随机梯度下降算法\n",
    "for iteration in range(num_iterations):\n",
    "    for i in range(len(X_b)):\n",
    "        random_index = np.random.randint(len(X_b))  # 随机选择一个样本\n",
    "        xi = X_b[random_index:random_index + 1]\n",
    "        yi = y[random_index:random_index + 1]\n",
    "        gradients = 2 * xi.T.dot(xi.dot(theta) - yi)  # 计算梯度\n",
    "        theta = theta - learning_rate * gradients  # 更新参数\n",
    "\n",
    "# 打印训练结果\n",
    "print(\"最优参数 theta:\", theta)"
   ],
   "metadata": {
    "collapsed": false
   }
  }
 ],
 "metadata": {
  "kernelspec": {
   "display_name": "Python 3",
   "language": "python",
   "name": "python3"
  },
  "language_info": {
   "codemirror_mode": {
    "name": "ipython",
    "version": 2
   },
   "file_extension": ".py",
   "mimetype": "text/x-python",
   "name": "python",
   "nbconvert_exporter": "python",
   "pygments_lexer": "ipython2",
   "version": "2.7.6"
  }
 },
 "nbformat": 4,
 "nbformat_minor": 0
}
