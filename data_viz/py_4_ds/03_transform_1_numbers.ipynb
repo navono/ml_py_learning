{
 "cells": [
  {
   "cell_type": "code",
   "execution_count": 1,
   "id": "initial_id",
   "metadata": {
    "collapsed": true,
    "ExecuteTime": {
     "end_time": "2023-10-17T01:19:07.328469Z",
     "start_time": "2023-10-17T01:18:48.952254400Z"
    }
   },
   "outputs": [],
   "source": [
    "import pandas as pd\n",
    "\n",
    "url = \"https://raw.githubusercontent.com/byuidatascience/data4python4ds/master/data-raw/flights/flights.csv\"\n",
    "flights = pd.read_csv(url)"
   ]
  },
  {
   "cell_type": "code",
   "execution_count": 2,
   "outputs": [
    {
     "data": {
      "text/plain": "336776"
     },
     "execution_count": 2,
     "metadata": {},
     "output_type": "execute_result"
    }
   ],
   "source": [
    "flights[\"dest\"].count()"
   ],
   "metadata": {
    "collapsed": false,
    "ExecuteTime": {
     "end_time": "2023-10-17T01:19:07.338481200Z",
     "start_time": "2023-10-17T01:19:07.327469700Z"
    }
   },
   "id": "e4d8f5ca949754d3"
  },
  {
   "cell_type": "code",
   "execution_count": 3,
   "outputs": [
    {
     "data": {
      "text/plain": "dest\nORD    17283\nATL    17215\nLAX    16174\nBOS    15508\nMCO    14082\n       ...  \nMTJ       15\nSBN       10\nANC        8\nLEX        1\nLGA        1\nName: count, Length: 105, dtype: int64"
     },
     "execution_count": 3,
     "metadata": {},
     "output_type": "execute_result"
    }
   ],
   "source": [
    "flights[\"dest\"].value_counts()"
   ],
   "metadata": {
    "collapsed": false,
    "ExecuteTime": {
     "end_time": "2023-10-17T01:19:29.359758700Z",
     "start_time": "2023-10-17T01:19:29.307970100Z"
    }
   },
   "id": "1661a8c682eb5d52"
  },
  {
   "cell_type": "code",
   "execution_count": 4,
   "outputs": [
    {
     "data": {
      "text/plain": "      mean_delay  count_flights\ndest                           \nORD    13.570484          17283\nATL    12.509824          17215\nLAX     9.401344          16174\nBOS     8.730613          15508\nMCO    11.275998          14082\n...          ...            ...\nMTJ    17.642857             15\nSBN    21.100000             10\nANC    12.875000              8\nLGA          NaN              1\nLEX    -9.000000              1\n\n[105 rows x 2 columns]",
      "text/html": "<div>\n<style scoped>\n    .dataframe tbody tr th:only-of-type {\n        vertical-align: middle;\n    }\n\n    .dataframe tbody tr th {\n        vertical-align: top;\n    }\n\n    .dataframe thead th {\n        text-align: right;\n    }\n</style>\n<table border=\"1\" class=\"dataframe\">\n  <thead>\n    <tr style=\"text-align: right;\">\n      <th></th>\n      <th>mean_delay</th>\n      <th>count_flights</th>\n    </tr>\n    <tr>\n      <th>dest</th>\n      <th></th>\n      <th></th>\n    </tr>\n  </thead>\n  <tbody>\n    <tr>\n      <th>ORD</th>\n      <td>13.570484</td>\n      <td>17283</td>\n    </tr>\n    <tr>\n      <th>ATL</th>\n      <td>12.509824</td>\n      <td>17215</td>\n    </tr>\n    <tr>\n      <th>LAX</th>\n      <td>9.401344</td>\n      <td>16174</td>\n    </tr>\n    <tr>\n      <th>BOS</th>\n      <td>8.730613</td>\n      <td>15508</td>\n    </tr>\n    <tr>\n      <th>MCO</th>\n      <td>11.275998</td>\n      <td>14082</td>\n    </tr>\n    <tr>\n      <th>...</th>\n      <td>...</td>\n      <td>...</td>\n    </tr>\n    <tr>\n      <th>MTJ</th>\n      <td>17.642857</td>\n      <td>15</td>\n    </tr>\n    <tr>\n      <th>SBN</th>\n      <td>21.100000</td>\n      <td>10</td>\n    </tr>\n    <tr>\n      <th>ANC</th>\n      <td>12.875000</td>\n      <td>8</td>\n    </tr>\n    <tr>\n      <th>LGA</th>\n      <td>NaN</td>\n      <td>1</td>\n    </tr>\n    <tr>\n      <th>LEX</th>\n      <td>-9.000000</td>\n      <td>1</td>\n    </tr>\n  </tbody>\n</table>\n<p>105 rows × 2 columns</p>\n</div>"
     },
     "execution_count": 4,
     "metadata": {},
     "output_type": "execute_result"
    }
   ],
   "source": [
    "(\n",
    "    flights.groupby([\"dest\"])\n",
    "    .agg(\n",
    "        mean_delay=(\"dep_delay\", \"mean\"),\n",
    "        count_flights=(\"dest\", \"count\"),\n",
    "    )\n",
    "    .sort_values(by=\"count_flights\", ascending=False)\n",
    ")"
   ],
   "metadata": {
    "collapsed": false,
    "ExecuteTime": {
     "end_time": "2023-10-17T01:20:37.503574900Z",
     "start_time": "2023-10-17T01:20:37.467759600Z"
    }
   },
   "id": "9e48b7cc1f5b6de8"
  },
  {
   "cell_type": "code",
   "execution_count": 5,
   "outputs": [
    {
     "data": {
      "text/plain": "          miles\ntailnum        \nD942DN     3418\nN0EGMQ   250866\nN10156   115966\nN102UW    25722\nN103US    24619\n...         ...\nN997DL    54669\nN998AT    15432\nN998DL    66052\nN999DN    54623\nN9EAMQ   167317\n\n[4043 rows x 1 columns]",
      "text/html": "<div>\n<style scoped>\n    .dataframe tbody tr th:only-of-type {\n        vertical-align: middle;\n    }\n\n    .dataframe tbody tr th {\n        vertical-align: top;\n    }\n\n    .dataframe thead th {\n        text-align: right;\n    }\n</style>\n<table border=\"1\" class=\"dataframe\">\n  <thead>\n    <tr style=\"text-align: right;\">\n      <th></th>\n      <th>miles</th>\n    </tr>\n    <tr>\n      <th>tailnum</th>\n      <th></th>\n    </tr>\n  </thead>\n  <tbody>\n    <tr>\n      <th>D942DN</th>\n      <td>3418</td>\n    </tr>\n    <tr>\n      <th>N0EGMQ</th>\n      <td>250866</td>\n    </tr>\n    <tr>\n      <th>N10156</th>\n      <td>115966</td>\n    </tr>\n    <tr>\n      <th>N102UW</th>\n      <td>25722</td>\n    </tr>\n    <tr>\n      <th>N103US</th>\n      <td>24619</td>\n    </tr>\n    <tr>\n      <th>...</th>\n      <td>...</td>\n    </tr>\n    <tr>\n      <th>N997DL</th>\n      <td>54669</td>\n    </tr>\n    <tr>\n      <th>N998AT</th>\n      <td>15432</td>\n    </tr>\n    <tr>\n      <th>N998DL</th>\n      <td>66052</td>\n    </tr>\n    <tr>\n      <th>N999DN</th>\n      <td>54623</td>\n    </tr>\n    <tr>\n      <th>N9EAMQ</th>\n      <td>167317</td>\n    </tr>\n  </tbody>\n</table>\n<p>4043 rows × 1 columns</p>\n</div>"
     },
     "execution_count": 5,
     "metadata": {},
     "output_type": "execute_result"
    }
   ],
   "source": [
    "(flights.groupby(\"tailnum\").agg(miles=(\"distance\", \"sum\")))"
   ],
   "metadata": {
    "collapsed": false,
    "ExecuteTime": {
     "end_time": "2023-10-17T01:33:40.006510400Z",
     "start_time": "2023-10-17T01:33:39.966510700Z"
    }
   },
   "id": "94130ca66d86c669"
  },
  {
   "cell_type": "code",
   "execution_count": 6,
   "outputs": [
    {
     "data": {
      "text/plain": "      n_cancelled\ndest             \nABQ             0\nACK             0\nALB            20\nANC             0\nATL           317\n...           ...\nTPA            59\nTUL            16\nTVC             5\nTYS            52\nXNA            25\n\n[105 rows x 1 columns]",
      "text/html": "<div>\n<style scoped>\n    .dataframe tbody tr th:only-of-type {\n        vertical-align: middle;\n    }\n\n    .dataframe tbody tr th {\n        vertical-align: top;\n    }\n\n    .dataframe thead th {\n        text-align: right;\n    }\n</style>\n<table border=\"1\" class=\"dataframe\">\n  <thead>\n    <tr style=\"text-align: right;\">\n      <th></th>\n      <th>n_cancelled</th>\n    </tr>\n    <tr>\n      <th>dest</th>\n      <th></th>\n    </tr>\n  </thead>\n  <tbody>\n    <tr>\n      <th>ABQ</th>\n      <td>0</td>\n    </tr>\n    <tr>\n      <th>ACK</th>\n      <td>0</td>\n    </tr>\n    <tr>\n      <th>ALB</th>\n      <td>20</td>\n    </tr>\n    <tr>\n      <th>ANC</th>\n      <td>0</td>\n    </tr>\n    <tr>\n      <th>ATL</th>\n      <td>317</td>\n    </tr>\n    <tr>\n      <th>...</th>\n      <td>...</td>\n    </tr>\n    <tr>\n      <th>TPA</th>\n      <td>59</td>\n    </tr>\n    <tr>\n      <th>TUL</th>\n      <td>16</td>\n    </tr>\n    <tr>\n      <th>TVC</th>\n      <td>5</td>\n    </tr>\n    <tr>\n      <th>TYS</th>\n      <td>52</td>\n    </tr>\n    <tr>\n      <th>XNA</th>\n      <td>25</td>\n    </tr>\n  </tbody>\n</table>\n<p>105 rows × 1 columns</p>\n</div>"
     },
     "execution_count": 6,
     "metadata": {},
     "output_type": "execute_result"
    }
   ],
   "source": [
    "(flights.groupby(\"dest\").agg(n_cancelled=(\"dep_time\", lambda x: x.isnull().sum())))"
   ],
   "metadata": {
    "collapsed": false,
    "ExecuteTime": {
     "end_time": "2023-10-17T01:34:04.747779100Z",
     "start_time": "2023-10-17T01:34:04.706779700Z"
    }
   },
   "id": "83bb946cd728fb85"
  },
  {
   "cell_type": "markdown",
   "source": [
    "# Transformations"
   ],
   "metadata": {
    "collapsed": false
   },
   "id": "10c2e5066ef83a64"
  },
  {
   "cell_type": "markdown",
   "source": [
    "## 最大与最小"
   ],
   "metadata": {
    "collapsed": false
   },
   "id": "76f415d42b926b7d"
  },
  {
   "cell_type": "code",
   "execution_count": 8,
   "outputs": [
    {
     "data": {
      "text/plain": "4983"
     },
     "execution_count": 8,
     "metadata": {},
     "output_type": "execute_result"
    }
   ],
   "source": [
    "flights[\"distance\"].max()"
   ],
   "metadata": {
    "collapsed": false,
    "ExecuteTime": {
     "end_time": "2023-10-17T02:33:47.867345600Z",
     "start_time": "2023-10-17T02:33:47.819336400Z"
    }
   },
   "id": "6aeb1f79a88c7925"
  },
  {
   "cell_type": "code",
   "execution_count": 9,
   "outputs": [
    {
     "data": {
      "text/plain": "   x     y\n0  1     3\n1  5     2\n2  7  <NA>",
      "text/html": "<div>\n<style scoped>\n    .dataframe tbody tr th:only-of-type {\n        vertical-align: middle;\n    }\n\n    .dataframe tbody tr th {\n        vertical-align: top;\n    }\n\n    .dataframe thead th {\n        text-align: right;\n    }\n</style>\n<table border=\"1\" class=\"dataframe\">\n  <thead>\n    <tr style=\"text-align: right;\">\n      <th></th>\n      <th>x</th>\n      <th>y</th>\n    </tr>\n  </thead>\n  <tbody>\n    <tr>\n      <th>0</th>\n      <td>1</td>\n      <td>3</td>\n    </tr>\n    <tr>\n      <th>1</th>\n      <td>5</td>\n      <td>2</td>\n    </tr>\n    <tr>\n      <th>2</th>\n      <td>7</td>\n      <td>&lt;NA&gt;</td>\n    </tr>\n  </tbody>\n</table>\n</div>"
     },
     "execution_count": 9,
     "metadata": {},
     "output_type": "execute_result"
    }
   ],
   "source": [
    "df = pd.DataFrame({\"x\": [1, 5, 7], \"y\": [3, 2, pd.NA]})\n",
    "df"
   ],
   "metadata": {
    "collapsed": false,
    "ExecuteTime": {
     "end_time": "2023-10-17T02:34:00.742925900Z",
     "start_time": "2023-10-17T02:34:00.705821400Z"
    }
   },
   "id": "6272c0a37738d939"
  },
  {
   "cell_type": "code",
   "execution_count": 10,
   "outputs": [
    {
     "data": {
      "text/plain": "0    1\n1    2\n2    7\ndtype: object"
     },
     "execution_count": 10,
     "metadata": {},
     "output_type": "execute_result"
    }
   ],
   "source": [
    "# 按 row 查找最小\n",
    "df.min(axis=1)"
   ],
   "metadata": {
    "collapsed": false,
    "ExecuteTime": {
     "end_time": "2023-10-17T02:34:14.545583400Z",
     "start_time": "2023-10-17T02:34:14.534075Z"
    }
   },
   "id": "c48c57a475084e3b"
  },
  {
   "cell_type": "markdown",
   "source": [
    "## 按模运算"
   ],
   "metadata": {
    "collapsed": false
   },
   "id": "8961a0760deaaf48"
  },
  {
   "cell_type": "code",
   "execution_count": 11,
   "outputs": [
    {
     "name": "stdout",
     "output_type": "stream",
     "text": [
      "[1, 2, 3, 4, 5, 6, 7, 8, 9, 10]\n",
      "divided by 3 gives\n",
      "remainder:\n",
      "[1, 2, 0, 1, 2, 0, 1, 2, 0, 1]\n",
      "divisions:\n",
      "[0, 0, 1, 1, 1, 2, 2, 2, 3, 3]\n"
     ]
    }
   ],
   "source": [
    "print([x for x in range(1, 11)])\n",
    "print(\"divided by 3 gives\")\n",
    "print(\"remainder:\")\n",
    "print([x % 3 for x in range(1, 11)])\n",
    "print(\"divisions:\")\n",
    "print([x // 3 for x in range(1, 11)])"
   ],
   "metadata": {
    "collapsed": false,
    "ExecuteTime": {
     "end_time": "2023-10-17T02:35:49.417381400Z",
     "start_time": "2023-10-17T02:35:49.402169100Z"
    }
   },
   "id": "1cef4fd9658b334"
  },
  {
   "cell_type": "code",
   "execution_count": 12,
   "outputs": [
    {
     "data": {
      "text/plain": "        year  month  day  dep_time  sched_dep_time  dep_delay  arr_time  \\\n0       2013      1    1     517.0             515        2.0     830.0   \n1       2013      1    1     533.0             529        4.0     850.0   \n2       2013      1    1     542.0             540        2.0     923.0   \n3       2013      1    1     544.0             545       -1.0    1004.0   \n4       2013      1    1     554.0             600       -6.0     812.0   \n...      ...    ...  ...       ...             ...        ...       ...   \n336771  2013      9   30       NaN            1455        NaN       NaN   \n336772  2013      9   30       NaN            2200        NaN       NaN   \n336773  2013      9   30       NaN            1210        NaN       NaN   \n336774  2013      9   30       NaN            1159        NaN       NaN   \n336775  2013      9   30       NaN             840        NaN       NaN   \n\n        sched_arr_time  arr_delay carrier  flight tailnum origin dest  \\\n0                  819       11.0      UA    1545  N14228    EWR  IAH   \n1                  830       20.0      UA    1714  N24211    LGA  IAH   \n2                  850       33.0      AA    1141  N619AA    JFK  MIA   \n3                 1022      -18.0      B6     725  N804JB    JFK  BQN   \n4                  837      -25.0      DL     461  N668DN    LGA  ATL   \n...                ...        ...     ...     ...     ...    ...  ...   \n336771            1634        NaN      9E    3393     NaN    JFK  DCA   \n336772            2312        NaN      9E    3525     NaN    LGA  SYR   \n336773            1330        NaN      MQ    3461  N535MQ    LGA  BNA   \n336774            1344        NaN      MQ    3572  N511MQ    LGA  CLE   \n336775            1020        NaN      MQ    3531  N839MQ    LGA  RDU   \n\n        air_time  distance  hour  minute             time_hour  \n0          227.0      1400     5      15  2013-01-01T10:00:00Z  \n1          227.0      1416     5      29  2013-01-01T10:00:00Z  \n2          160.0      1089     5      40  2013-01-01T10:00:00Z  \n3          183.0      1576     5      45  2013-01-01T10:00:00Z  \n4          116.0       762     6       0  2013-01-01T11:00:00Z  \n...          ...       ...   ...     ...                   ...  \n336771       NaN       213    14      55  2013-09-30T18:00:00Z  \n336772       NaN       198    22       0  2013-10-01T02:00:00Z  \n336773       NaN       764    12      10  2013-09-30T16:00:00Z  \n336774       NaN       419    11      59  2013-09-30T15:00:00Z  \n336775       NaN       431     8      40  2013-09-30T12:00:00Z  \n\n[336776 rows x 19 columns]",
      "text/html": "<div>\n<style scoped>\n    .dataframe tbody tr th:only-of-type {\n        vertical-align: middle;\n    }\n\n    .dataframe tbody tr th {\n        vertical-align: top;\n    }\n\n    .dataframe thead th {\n        text-align: right;\n    }\n</style>\n<table border=\"1\" class=\"dataframe\">\n  <thead>\n    <tr style=\"text-align: right;\">\n      <th></th>\n      <th>year</th>\n      <th>month</th>\n      <th>day</th>\n      <th>dep_time</th>\n      <th>sched_dep_time</th>\n      <th>dep_delay</th>\n      <th>arr_time</th>\n      <th>sched_arr_time</th>\n      <th>arr_delay</th>\n      <th>carrier</th>\n      <th>flight</th>\n      <th>tailnum</th>\n      <th>origin</th>\n      <th>dest</th>\n      <th>air_time</th>\n      <th>distance</th>\n      <th>hour</th>\n      <th>minute</th>\n      <th>time_hour</th>\n    </tr>\n  </thead>\n  <tbody>\n    <tr>\n      <th>0</th>\n      <td>2013</td>\n      <td>1</td>\n      <td>1</td>\n      <td>517.0</td>\n      <td>515</td>\n      <td>2.0</td>\n      <td>830.0</td>\n      <td>819</td>\n      <td>11.0</td>\n      <td>UA</td>\n      <td>1545</td>\n      <td>N14228</td>\n      <td>EWR</td>\n      <td>IAH</td>\n      <td>227.0</td>\n      <td>1400</td>\n      <td>5</td>\n      <td>15</td>\n      <td>2013-01-01T10:00:00Z</td>\n    </tr>\n    <tr>\n      <th>1</th>\n      <td>2013</td>\n      <td>1</td>\n      <td>1</td>\n      <td>533.0</td>\n      <td>529</td>\n      <td>4.0</td>\n      <td>850.0</td>\n      <td>830</td>\n      <td>20.0</td>\n      <td>UA</td>\n      <td>1714</td>\n      <td>N24211</td>\n      <td>LGA</td>\n      <td>IAH</td>\n      <td>227.0</td>\n      <td>1416</td>\n      <td>5</td>\n      <td>29</td>\n      <td>2013-01-01T10:00:00Z</td>\n    </tr>\n    <tr>\n      <th>2</th>\n      <td>2013</td>\n      <td>1</td>\n      <td>1</td>\n      <td>542.0</td>\n      <td>540</td>\n      <td>2.0</td>\n      <td>923.0</td>\n      <td>850</td>\n      <td>33.0</td>\n      <td>AA</td>\n      <td>1141</td>\n      <td>N619AA</td>\n      <td>JFK</td>\n      <td>MIA</td>\n      <td>160.0</td>\n      <td>1089</td>\n      <td>5</td>\n      <td>40</td>\n      <td>2013-01-01T10:00:00Z</td>\n    </tr>\n    <tr>\n      <th>3</th>\n      <td>2013</td>\n      <td>1</td>\n      <td>1</td>\n      <td>544.0</td>\n      <td>545</td>\n      <td>-1.0</td>\n      <td>1004.0</td>\n      <td>1022</td>\n      <td>-18.0</td>\n      <td>B6</td>\n      <td>725</td>\n      <td>N804JB</td>\n      <td>JFK</td>\n      <td>BQN</td>\n      <td>183.0</td>\n      <td>1576</td>\n      <td>5</td>\n      <td>45</td>\n      <td>2013-01-01T10:00:00Z</td>\n    </tr>\n    <tr>\n      <th>4</th>\n      <td>2013</td>\n      <td>1</td>\n      <td>1</td>\n      <td>554.0</td>\n      <td>600</td>\n      <td>-6.0</td>\n      <td>812.0</td>\n      <td>837</td>\n      <td>-25.0</td>\n      <td>DL</td>\n      <td>461</td>\n      <td>N668DN</td>\n      <td>LGA</td>\n      <td>ATL</td>\n      <td>116.0</td>\n      <td>762</td>\n      <td>6</td>\n      <td>0</td>\n      <td>2013-01-01T11:00:00Z</td>\n    </tr>\n    <tr>\n      <th>...</th>\n      <td>...</td>\n      <td>...</td>\n      <td>...</td>\n      <td>...</td>\n      <td>...</td>\n      <td>...</td>\n      <td>...</td>\n      <td>...</td>\n      <td>...</td>\n      <td>...</td>\n      <td>...</td>\n      <td>...</td>\n      <td>...</td>\n      <td>...</td>\n      <td>...</td>\n      <td>...</td>\n      <td>...</td>\n      <td>...</td>\n      <td>...</td>\n    </tr>\n    <tr>\n      <th>336771</th>\n      <td>2013</td>\n      <td>9</td>\n      <td>30</td>\n      <td>NaN</td>\n      <td>1455</td>\n      <td>NaN</td>\n      <td>NaN</td>\n      <td>1634</td>\n      <td>NaN</td>\n      <td>9E</td>\n      <td>3393</td>\n      <td>NaN</td>\n      <td>JFK</td>\n      <td>DCA</td>\n      <td>NaN</td>\n      <td>213</td>\n      <td>14</td>\n      <td>55</td>\n      <td>2013-09-30T18:00:00Z</td>\n    </tr>\n    <tr>\n      <th>336772</th>\n      <td>2013</td>\n      <td>9</td>\n      <td>30</td>\n      <td>NaN</td>\n      <td>2200</td>\n      <td>NaN</td>\n      <td>NaN</td>\n      <td>2312</td>\n      <td>NaN</td>\n      <td>9E</td>\n      <td>3525</td>\n      <td>NaN</td>\n      <td>LGA</td>\n      <td>SYR</td>\n      <td>NaN</td>\n      <td>198</td>\n      <td>22</td>\n      <td>0</td>\n      <td>2013-10-01T02:00:00Z</td>\n    </tr>\n    <tr>\n      <th>336773</th>\n      <td>2013</td>\n      <td>9</td>\n      <td>30</td>\n      <td>NaN</td>\n      <td>1210</td>\n      <td>NaN</td>\n      <td>NaN</td>\n      <td>1330</td>\n      <td>NaN</td>\n      <td>MQ</td>\n      <td>3461</td>\n      <td>N535MQ</td>\n      <td>LGA</td>\n      <td>BNA</td>\n      <td>NaN</td>\n      <td>764</td>\n      <td>12</td>\n      <td>10</td>\n      <td>2013-09-30T16:00:00Z</td>\n    </tr>\n    <tr>\n      <th>336774</th>\n      <td>2013</td>\n      <td>9</td>\n      <td>30</td>\n      <td>NaN</td>\n      <td>1159</td>\n      <td>NaN</td>\n      <td>NaN</td>\n      <td>1344</td>\n      <td>NaN</td>\n      <td>MQ</td>\n      <td>3572</td>\n      <td>N511MQ</td>\n      <td>LGA</td>\n      <td>CLE</td>\n      <td>NaN</td>\n      <td>419</td>\n      <td>11</td>\n      <td>59</td>\n      <td>2013-09-30T15:00:00Z</td>\n    </tr>\n    <tr>\n      <th>336775</th>\n      <td>2013</td>\n      <td>9</td>\n      <td>30</td>\n      <td>NaN</td>\n      <td>840</td>\n      <td>NaN</td>\n      <td>NaN</td>\n      <td>1020</td>\n      <td>NaN</td>\n      <td>MQ</td>\n      <td>3531</td>\n      <td>N839MQ</td>\n      <td>LGA</td>\n      <td>RDU</td>\n      <td>NaN</td>\n      <td>431</td>\n      <td>8</td>\n      <td>40</td>\n      <td>2013-09-30T12:00:00Z</td>\n    </tr>\n  </tbody>\n</table>\n<p>336776 rows × 19 columns</p>\n</div>"
     },
     "execution_count": 12,
     "metadata": {},
     "output_type": "execute_result"
    }
   ],
   "source": [
    "flights.assign(\n",
    "    hour=lambda x: x[\"sched_dep_time\"] // 100,\n",
    "    minute=lambda x: x[\"sched_dep_time\"] % 100,\n",
    ")"
   ],
   "metadata": {
    "collapsed": false,
    "ExecuteTime": {
     "end_time": "2023-10-17T02:36:20.387715500Z",
     "start_time": "2023-10-17T02:36:20.312715100Z"
    }
   },
   "id": "6492a04ab4ef834d"
  },
  {
   "cell_type": "markdown",
   "source": [
    "## 对数"
   ],
   "metadata": {
    "collapsed": false
   },
   "id": "39d0779ef77efef8"
  },
  {
   "cell_type": "code",
   "execution_count": 13,
   "outputs": [
    {
     "data": {
      "text/plain": "   year       money\n0  2001  105.000000\n1  2002  110.250000\n2  2003  115.762500\n3  2004  121.550625\n4  2005  127.628156",
      "text/html": "<div>\n<style scoped>\n    .dataframe tbody tr th:only-of-type {\n        vertical-align: middle;\n    }\n\n    .dataframe tbody tr th {\n        vertical-align: top;\n    }\n\n    .dataframe thead th {\n        text-align: right;\n    }\n</style>\n<table border=\"1\" class=\"dataframe\">\n  <thead>\n    <tr style=\"text-align: right;\">\n      <th></th>\n      <th>year</th>\n      <th>money</th>\n    </tr>\n  </thead>\n  <tbody>\n    <tr>\n      <th>0</th>\n      <td>2001</td>\n      <td>105.000000</td>\n    </tr>\n    <tr>\n      <th>1</th>\n      <td>2002</td>\n      <td>110.250000</td>\n    </tr>\n    <tr>\n      <th>2</th>\n      <td>2003</td>\n      <td>115.762500</td>\n    </tr>\n    <tr>\n      <th>3</th>\n      <td>2004</td>\n      <td>121.550625</td>\n    </tr>\n    <tr>\n      <th>4</th>\n      <td>2005</td>\n      <td>127.628156</td>\n    </tr>\n  </tbody>\n</table>\n</div>"
     },
     "execution_count": 13,
     "metadata": {},
     "output_type": "execute_result"
    }
   ],
   "source": [
    "import numpy as np\n",
    "\n",
    "starting = 100\n",
    "interest = 1.05\n",
    "money = pd.DataFrame(\n",
    "    {\"year\": 2000 + np.arange(1, 51), \"money\": starting * interest ** np.arange(1, 51)}\n",
    ")\n",
    "money.head()"
   ],
   "metadata": {
    "collapsed": false,
    "ExecuteTime": {
     "end_time": "2023-10-17T02:37:08.740082300Z",
     "start_time": "2023-10-17T02:37:08.716078900Z"
    }
   },
   "id": "370e4bae89e674e0"
  },
  {
   "cell_type": "code",
   "execution_count": 14,
   "outputs": [
    {
     "data": {
      "text/plain": "<Figure size 640x480 with 1 Axes>",
      "image/png": "[encoded data removed]"
     },
     "metadata": {},
     "output_type": "display_data"
    }
   ],
   "source": [
    "money.plot(x=\"year\", y=\"money\");"
   ],
   "metadata": {
    "collapsed": false,
    "ExecuteTime": {
     "end_time": "2023-10-17T02:37:34.425352800Z",
     "start_time": "2023-10-17T02:37:33.979203300Z"
    }
   },
   "id": "e04521bea60baca4"
  },
  {
   "cell_type": "code",
   "execution_count": 15,
   "outputs": [
    {
     "data": {
      "text/plain": "<Figure size 640x480 with 1 Axes>",
      "image/png": "[encoded data removed]"
     },
     "metadata": {},
     "output_type": "display_data"
    }
   ],
   "source": [
    "# log 会将轴变成直线\n",
    "money.plot(x=\"year\", y=\"money\", logy=True);\n",
    "\n",
    "# log(money) = log(starting) + n * log(interest)"
   ],
   "metadata": {
    "collapsed": false,
    "ExecuteTime": {
     "end_time": "2023-10-17T02:38:21.466293700Z",
     "start_time": "2023-10-17T02:38:21.239313900Z"
    }
   },
   "id": "4913b8a99a35db58"
  },
  {
   "cell_type": "markdown",
   "source": [
    "## Rounding"
   ],
   "metadata": {
    "collapsed": false
   },
   "id": "606a3ca153a0daf8"
  },
  {
   "cell_type": "code",
   "execution_count": 16,
   "outputs": [
    {
     "data": {
      "text/plain": "   year   money\n0  2001  105.00\n1  2002  110.25\n2  2003  115.76\n3  2004  121.55\n4  2005  127.63",
      "text/html": "<div>\n<style scoped>\n    .dataframe tbody tr th:only-of-type {\n        vertical-align: middle;\n    }\n\n    .dataframe tbody tr th {\n        vertical-align: top;\n    }\n\n    .dataframe thead th {\n        text-align: right;\n    }\n</style>\n<table border=\"1\" class=\"dataframe\">\n  <thead>\n    <tr style=\"text-align: right;\">\n      <th></th>\n      <th>year</th>\n      <th>money</th>\n    </tr>\n  </thead>\n  <tbody>\n    <tr>\n      <th>0</th>\n      <td>2001</td>\n      <td>105.00</td>\n    </tr>\n    <tr>\n      <th>1</th>\n      <td>2002</td>\n      <td>110.25</td>\n    </tr>\n    <tr>\n      <th>2</th>\n      <td>2003</td>\n      <td>115.76</td>\n    </tr>\n    <tr>\n      <th>3</th>\n      <td>2004</td>\n      <td>121.55</td>\n    </tr>\n    <tr>\n      <th>4</th>\n      <td>2005</td>\n      <td>127.63</td>\n    </tr>\n  </tbody>\n</table>\n</div>"
     },
     "execution_count": 16,
     "metadata": {},
     "output_type": "execute_result"
    }
   ],
   "source": [
    "money.head().round(2)"
   ],
   "metadata": {
    "collapsed": false,
    "ExecuteTime": {
     "end_time": "2023-10-17T02:53:31.125770800Z",
     "start_time": "2023-10-17T02:53:31.108242900Z"
    }
   },
   "id": "b3b110a2edcaa178"
  },
  {
   "cell_type": "code",
   "execution_count": 17,
   "outputs": [
    {
     "data": {
      "text/plain": "   year  money\n0  2001  105.0\n1  2002  110.2\n2  2003  115.8\n3  2004  121.6\n4  2005  127.6",
      "text/html": "<div>\n<style scoped>\n    .dataframe tbody tr th:only-of-type {\n        vertical-align: middle;\n    }\n\n    .dataframe tbody tr th {\n        vertical-align: top;\n    }\n\n    .dataframe thead th {\n        text-align: right;\n    }\n</style>\n<table border=\"1\" class=\"dataframe\">\n  <thead>\n    <tr style=\"text-align: right;\">\n      <th></th>\n      <th>year</th>\n      <th>money</th>\n    </tr>\n  </thead>\n  <tbody>\n    <tr>\n      <th>0</th>\n      <td>2001</td>\n      <td>105.0</td>\n    </tr>\n    <tr>\n      <th>1</th>\n      <td>2002</td>\n      <td>110.2</td>\n    </tr>\n    <tr>\n      <th>2</th>\n      <td>2003</td>\n      <td>115.8</td>\n    </tr>\n    <tr>\n      <th>3</th>\n      <td>2004</td>\n      <td>121.6</td>\n    </tr>\n    <tr>\n      <th>4</th>\n      <td>2005</td>\n      <td>127.6</td>\n    </tr>\n  </tbody>\n</table>\n</div>"
     },
     "execution_count": 17,
     "metadata": {},
     "output_type": "execute_result"
    }
   ],
   "source": [
    "money.head().round({\"year\": 0, \"money\": 1})"
   ],
   "metadata": {
    "collapsed": false,
    "ExecuteTime": {
     "end_time": "2023-10-17T02:53:36.699899900Z",
     "start_time": "2023-10-17T02:53:36.669900900Z"
    }
   },
   "id": "f8a50a7607b65b54"
  },
  {
   "cell_type": "code",
   "execution_count": 18,
   "outputs": [
    {
     "data": {
      "text/plain": "    year   money\n45  2046   900.0\n46  2047  1000.0\n47  2048  1000.0\n48  2049  1100.0\n49  2050  1100.0",
      "text/html": "<div>\n<style scoped>\n    .dataframe tbody tr th:only-of-type {\n        vertical-align: middle;\n    }\n\n    .dataframe tbody tr th {\n        vertical-align: top;\n    }\n\n    .dataframe thead th {\n        text-align: right;\n    }\n</style>\n<table border=\"1\" class=\"dataframe\">\n  <thead>\n    <tr style=\"text-align: right;\">\n      <th></th>\n      <th>year</th>\n      <th>money</th>\n    </tr>\n  </thead>\n  <tbody>\n    <tr>\n      <th>45</th>\n      <td>2046</td>\n      <td>900.0</td>\n    </tr>\n    <tr>\n      <th>46</th>\n      <td>2047</td>\n      <td>1000.0</td>\n    </tr>\n    <tr>\n      <th>47</th>\n      <td>2048</td>\n      <td>1000.0</td>\n    </tr>\n    <tr>\n      <th>48</th>\n      <td>2049</td>\n      <td>1100.0</td>\n    </tr>\n    <tr>\n      <th>49</th>\n      <td>2050</td>\n      <td>1100.0</td>\n    </tr>\n  </tbody>\n</table>\n</div>"
     },
     "execution_count": 18,
     "metadata": {},
     "output_type": "execute_result"
    }
   ],
   "source": [
    "# n = 2 时，将四舍五入到最接近的 0.01\n",
    "# n = -2 时，将四舍五入到最接近的 100\n",
    "money.tail().round({\"year\": 0, \"money\": -2})"
   ],
   "metadata": {
    "collapsed": false,
    "ExecuteTime": {
     "end_time": "2023-10-17T02:55:08.050316800Z",
     "start_time": "2023-10-17T02:55:08.029317Z"
    }
   },
   "id": "601cdbfe5e95a13d"
  },
  {
   "cell_type": "code",
   "execution_count": 19,
   "outputs": [
    {
     "data": {
      "text/plain": "0    105.000000\n1    110.250000\n2    115.762500\n3    121.550625\n4    127.628156\nName: money, dtype: float64"
     },
     "execution_count": 19,
     "metadata": {},
     "output_type": "execute_result"
    }
   ],
   "source": [
    "money[\"money\"].head()"
   ],
   "metadata": {
    "collapsed": false,
    "ExecuteTime": {
     "end_time": "2023-10-18T05:55:21.688132900Z",
     "start_time": "2023-10-18T05:55:21.672135600Z"
    }
   },
   "id": "731538871f523f59"
  },
  {
   "cell_type": "code",
   "execution_count": 21,
   "outputs": [
    {
     "data": {
      "text/plain": "0    105.0\n1    110.0\n2    116.0\n3    122.0\n4    128.0\nName: money, dtype: float64"
     },
     "execution_count": 21,
     "metadata": {},
     "output_type": "execute_result"
    }
   ],
   "source": [
    "money[\"money\"].head().apply(lambda x: float(f'{float(f\"{x:.3g}\"):g}'))"
   ],
   "metadata": {
    "collapsed": false,
    "ExecuteTime": {
     "end_time": "2023-10-18T05:56:15.388589800Z",
     "start_time": "2023-10-18T05:56:15.355585500Z"
    }
   },
   "id": "2edd4e78aa8e4ece"
  },
  {
   "cell_type": "code",
   "execution_count": 22,
   "outputs": [
    {
     "data": {
      "text/plain": "array([25.20773136, 20.64642004,  5.47399477, 53.59537247, 36.32330012,\n       46.87472437, 72.9888921 , 44.51238423, 35.42386499, 13.87140639])"
     },
     "execution_count": 22,
     "metadata": {},
     "output_type": "execute_result"
    }
   ],
   "source": [
    "real_nums = 100 * np.random.random(size=10)\n",
    "real_nums"
   ],
   "metadata": {
    "collapsed": false,
    "ExecuteTime": {
     "end_time": "2023-10-18T05:57:27.693647100Z",
     "start_time": "2023-10-18T05:57:27.667137800Z"
    }
   },
   "id": "d7aa013a51462459"
  },
  {
   "cell_type": "code",
   "execution_count": 23,
   "outputs": [
    {
     "data": {
      "text/plain": "array([26., 21.,  6., 54., 37., 47., 73., 45., 36., 14.])"
     },
     "execution_count": 23,
     "metadata": {},
     "output_type": "execute_result"
    }
   ],
   "source": [
    "np.ceil(real_nums)"
   ],
   "metadata": {
    "collapsed": false,
    "ExecuteTime": {
     "end_time": "2023-10-18T05:57:36.272727Z",
     "start_time": "2023-10-18T05:57:36.244727500Z"
    }
   },
   "id": "2f3c1c17a9989130"
  },
  {
   "cell_type": "code",
   "execution_count": 24,
   "outputs": [
    {
     "data": {
      "text/plain": "array([25., 20.,  5., 53., 36., 46., 72., 44., 35., 13.])"
     },
     "execution_count": 24,
     "metadata": {},
     "output_type": "execute_result"
    }
   ],
   "source": [
    "np.floor(real_nums)"
   ],
   "metadata": {
    "collapsed": false,
    "ExecuteTime": {
     "end_time": "2023-10-18T05:57:45.140240500Z",
     "start_time": "2023-10-18T05:57:45.110231300Z"
    }
   },
   "id": "9a8e1eda07888b95"
  },
  {
   "cell_type": "code",
   "execution_count": 25,
   "outputs": [
    {
     "data": {
      "text/plain": "0    105.0\n1    111.0\n2    116.0\n3    122.0\n4    128.0\nName: money, dtype: float64"
     },
     "execution_count": 25,
     "metadata": {},
     "output_type": "execute_result"
    }
   ],
   "source": [
    "# 在 pandas 的 apply 中使用 numpy 的函数\n",
    "money[\"money\"].head().apply(np.ceil)"
   ],
   "metadata": {
    "collapsed": false,
    "ExecuteTime": {
     "end_time": "2023-10-18T05:58:24.697609800Z",
     "start_time": "2023-10-18T05:58:24.670610800Z"
    }
   },
   "id": "e1c666da3a5a6798"
  },
  {
   "cell_type": "markdown",
   "source": [
    "## 累积量和滚动聚合"
   ],
   "metadata": {
    "collapsed": false
   },
   "id": "2560a727656ec952"
  },
  {
   "cell_type": "code",
   "execution_count": 27,
   "outputs": [
    {
     "data": {
      "text/plain": "45     943.425818\n46     990.597109\n47    1040.126965\n48    1092.133313\n49    1146.739979\nName: money, dtype: float64"
     },
     "execution_count": 27,
     "metadata": {},
     "output_type": "execute_result"
    }
   ],
   "source": [
    "money[\"money\"].tail()"
   ],
   "metadata": {
    "collapsed": false,
    "ExecuteTime": {
     "end_time": "2023-10-18T05:59:33.133545100Z",
     "start_time": "2023-10-18T05:59:33.121967200Z"
    }
   },
   "id": "cacadeb280d6f03a"
  },
  {
   "cell_type": "code",
   "execution_count": 26,
   "outputs": [
    {
     "data": {
      "text/plain": "45     943.425818\n46    1934.022928\n47    2974.149892\n48    4066.283205\n49    5213.023184\nName: money, dtype: float64"
     },
     "execution_count": 26,
     "metadata": {},
     "output_type": "execute_result"
    }
   ],
   "source": [
    "money[\"money\"].tail().cumsum()"
   ],
   "metadata": {
    "collapsed": false,
    "ExecuteTime": {
     "end_time": "2023-10-18T05:59:25.214514Z",
     "start_time": "2023-10-18T05:59:25.187506600Z"
    }
   },
   "id": "b81c9e274afdc1c7"
  },
  {
   "cell_type": "markdown",
   "source": [
    "# 一般变换"
   ],
   "metadata": {
    "collapsed": false
   },
   "id": "d95c224efcbe2933"
  },
  {
   "cell_type": "markdown",
   "source": [
    "## Ranking"
   ],
   "metadata": {
    "collapsed": false
   },
   "id": "15c86471d0d9790b"
  },
  {
   "cell_type": "code",
   "execution_count": 28,
   "outputs": [
    {
     "data": {
      "text/plain": "   x     y\n0  1     3\n1  5     2\n2  7  <NA>",
      "text/html": "<div>\n<style scoped>\n    .dataframe tbody tr th:only-of-type {\n        vertical-align: middle;\n    }\n\n    .dataframe tbody tr th {\n        vertical-align: top;\n    }\n\n    .dataframe thead th {\n        text-align: right;\n    }\n</style>\n<table border=\"1\" class=\"dataframe\">\n  <thead>\n    <tr style=\"text-align: right;\">\n      <th></th>\n      <th>x</th>\n      <th>y</th>\n    </tr>\n  </thead>\n  <tbody>\n    <tr>\n      <th>0</th>\n      <td>1</td>\n      <td>3</td>\n    </tr>\n    <tr>\n      <th>1</th>\n      <td>5</td>\n      <td>2</td>\n    </tr>\n    <tr>\n      <th>2</th>\n      <td>7</td>\n      <td>&lt;NA&gt;</td>\n    </tr>\n  </tbody>\n</table>\n</div>"
     },
     "execution_count": 28,
     "metadata": {},
     "output_type": "execute_result"
    }
   ],
   "source": [
    "df"
   ],
   "metadata": {
    "collapsed": false,
    "ExecuteTime": {
     "end_time": "2023-10-18T06:00:11.473887400Z",
     "start_time": "2023-10-18T06:00:11.458884200Z"
    }
   },
   "id": "f933dde0cc27aff9"
  },
  {
   "cell_type": "code",
   "execution_count": 29,
   "outputs": [
    {
     "data": {
      "text/plain": "     x    y\n0  1.0  2.0\n1  2.0  1.0\n2  3.0  NaN",
      "text/html": "<div>\n<style scoped>\n    .dataframe tbody tr th:only-of-type {\n        vertical-align: middle;\n    }\n\n    .dataframe tbody tr th {\n        vertical-align: top;\n    }\n\n    .dataframe thead th {\n        text-align: right;\n    }\n</style>\n<table border=\"1\" class=\"dataframe\">\n  <thead>\n    <tr style=\"text-align: right;\">\n      <th></th>\n      <th>x</th>\n      <th>y</th>\n    </tr>\n  </thead>\n  <tbody>\n    <tr>\n      <th>0</th>\n      <td>1.0</td>\n      <td>2.0</td>\n    </tr>\n    <tr>\n      <th>1</th>\n      <td>2.0</td>\n      <td>1.0</td>\n    </tr>\n    <tr>\n      <th>2</th>\n      <td>3.0</td>\n      <td>NaN</td>\n    </tr>\n  </tbody>\n</table>\n</div>"
     },
     "execution_count": 29,
     "metadata": {},
     "output_type": "execute_result"
    }
   ],
   "source": [
    "df.rank()"
   ],
   "metadata": {
    "collapsed": false,
    "ExecuteTime": {
     "end_time": "2023-10-18T06:00:20.226815800Z",
     "start_time": "2023-10-18T06:00:20.209816300Z"
    }
   },
   "id": "e4c675e8fdbdebcc"
  },
  {
   "cell_type": "markdown",
   "source": [
    "## Offsets and Shifting"
   ],
   "metadata": {
    "collapsed": false
   },
   "id": "410665d347e202bb"
  },
  {
   "cell_type": "code",
   "execution_count": 30,
   "outputs": [
    {
     "data": {
      "text/plain": "<Figure size 640x480 with 1 Axes>",
      "image/png": "[encoded data removed]"
     },
     "metadata": {},
     "output_type": "display_data"
    }
   ],
   "source": [
    "money[\"money_lag_5\"] = money[\"money\"].shift(5)\n",
    "money[\"money_lead_10\"] = money[\"money\"].shift(-10)\n",
    "money.set_index(\"year\").plot();"
   ],
   "metadata": {
    "collapsed": false,
    "ExecuteTime": {
     "end_time": "2023-10-18T06:02:18.102670400Z",
     "start_time": "2023-10-18T06:02:17.985597300Z"
    }
   },
   "id": "2759fb7b4aaba34e"
  },
  {
   "cell_type": "markdown",
   "source": [
    "# 统计摘要"
   ],
   "metadata": {
    "collapsed": false
   },
   "id": "56ce075e46191754"
  },
  {
   "cell_type": "markdown",
   "source": [
    "##分位数\n",
    "\n",
    "The quantile at x% is the value that x% of values are below and (100-x)% are above."
   ],
   "metadata": {
    "collapsed": false
   },
   "id": "cf8e5f512cade7bb"
  },
  {
   "cell_type": "code",
   "execution_count": 32,
   "outputs": [
    {
     "data": {
      "text/plain": "0      105.000000\n1      110.250000\n2      115.762500\n3      121.550625\n4      127.628156\n5      134.009564\n6      140.710042\n7      147.745544\n8      155.132822\n9      162.889463\n10     171.033936\n11     179.585633\n12     188.564914\n13     197.993160\n14     207.892818\n15     218.287459\n16     229.201832\n17     240.661923\n18     252.695020\n19     265.329771\n20     278.596259\n21     292.526072\n22     307.152376\n23     322.509994\n24     338.635494\n25     355.567269\n26     373.345632\n27     392.012914\n28     411.613560\n29     432.194238\n30     453.803949\n31     476.494147\n32     500.318854\n33     525.334797\n34     551.601537\n35     579.181614\n36     608.140694\n37     638.547729\n38     670.475115\n39     703.998871\n40     739.198815\n41     776.158756\n42     814.966693\n43     855.715028\n44     898.500779\n45     943.425818\n46     990.597109\n47    1040.126965\n48    1092.133313\n49    1146.739979\nName: money, dtype: float64"
     },
     "execution_count": 32,
     "metadata": {},
     "output_type": "execute_result"
    }
   ],
   "source": [
    "money[\"money\"]"
   ],
   "metadata": {
    "collapsed": false,
    "ExecuteTime": {
     "end_time": "2023-10-18T06:04:31.790665900Z",
     "start_time": "2023-10-18T06:04:31.770586100Z"
    }
   },
   "id": "b0cec06abcc1da0e"
  },
  {
   "cell_type": "code",
   "execution_count": 31,
   "outputs": [
    {
     "data": {
      "text/plain": "190.92197566022773"
     },
     "execution_count": 31,
     "metadata": {},
     "output_type": "execute_result"
    }
   ],
   "source": [
    "money[\"money\"].quantile(0.25)"
   ],
   "metadata": {
    "collapsed": false,
    "ExecuteTime": {
     "end_time": "2023-10-18T06:04:11.425407300Z",
     "start_time": "2023-10-18T06:04:11.409783Z"
    }
   },
   "id": "b07af834a006d959"
  },
  {
   "cell_type": "code",
   "execution_count": 33,
   "outputs": [
    {
     "data": {
      "text/plain": "0.00    105.000000\n0.25    190.921976\n0.50    347.101381\n0.75    630.945970\nName: money, dtype: float64"
     },
     "execution_count": 33,
     "metadata": {},
     "output_type": "execute_result"
    }
   ],
   "source": [
    "money[\"money\"].quantile([0, 0.25, 0.5, 0.75])"
   ],
   "metadata": {
    "collapsed": false,
    "ExecuteTime": {
     "end_time": "2023-10-18T06:05:09.894134100Z",
     "start_time": "2023-10-18T06:05:09.878975800Z"
    }
   },
   "id": "b997452a554b36e0"
  },
  {
   "cell_type": "markdown",
   "source": [
    "## Spread"
   ],
   "metadata": {
    "collapsed": false
   },
   "id": "1773159984f5769f"
  },
  {
   "cell_type": "code",
   "execution_count": 34,
   "outputs": [
    {
     "data": {
      "text/plain": "             distance_sd  count\norigin dest                    \nEWR    EGE           1.0    110\nJFK    EGE           1.0    103",
      "text/html": "<div>\n<style scoped>\n    .dataframe tbody tr th:only-of-type {\n        vertical-align: middle;\n    }\n\n    .dataframe tbody tr th {\n        vertical-align: top;\n    }\n\n    .dataframe thead th {\n        text-align: right;\n    }\n</style>\n<table border=\"1\" class=\"dataframe\">\n  <thead>\n    <tr style=\"text-align: right;\">\n      <th></th>\n      <th></th>\n      <th>distance_sd</th>\n      <th>count</th>\n    </tr>\n    <tr>\n      <th>origin</th>\n      <th>dest</th>\n      <th></th>\n      <th></th>\n    </tr>\n  </thead>\n  <tbody>\n    <tr>\n      <th>EWR</th>\n      <th>EGE</th>\n      <td>1.0</td>\n      <td>110</td>\n    </tr>\n    <tr>\n      <th>JFK</th>\n      <th>EGE</th>\n      <td>1.0</td>\n      <td>103</td>\n    </tr>\n  </tbody>\n</table>\n</div>"
     },
     "execution_count": 34,
     "metadata": {},
     "output_type": "execute_result"
    }
   ],
   "source": [
    "# sd 指的是标准差（standard deviation）\n",
    "(flights.groupby([\"origin\", \"dest\"])\n",
    " .agg(\n",
    "    distance_sd=(\"distance\", lambda x: x.quantile(0.75) - x.quantile(0.25)),\n",
    "    count=(\"distance\", \"count\"),\n",
    ")\n",
    " .query(\"distance_sd > 0\")\n",
    " )"
   ],
   "metadata": {
    "collapsed": false,
    "ExecuteTime": {
     "end_time": "2023-10-18T06:07:42.251281300Z",
     "start_time": "2023-10-18T06:07:42.099136Z"
    }
   },
   "id": "13f1d57109391d35"
  },
  {
   "cell_type": "markdown",
   "source": [
    "## Distributions"
   ],
   "metadata": {
    "collapsed": false
   },
   "id": "485227f2df046600"
  },
  {
   "cell_type": "code",
   "execution_count": 35,
   "outputs": [
    {
     "data": {
      "text/plain": "<Figure size 640x480 with 1 Axes>",
      "image/png": "[encoded data removed]"
     },
     "metadata": {},
     "output_type": "display_data"
    }
   ],
   "source": [
    "flights[\"dep_delay\"].plot.hist(bins=50, title=\"         Distribution: length of delay\");"
   ],
   "metadata": {
    "collapsed": false,
    "ExecuteTime": {
     "end_time": "2023-10-18T06:08:10.529615600Z",
     "start_time": "2023-10-18T06:08:10.366358700Z"
    }
   },
   "id": "7ea9b61ac7d6549b"
  },
  {
   "cell_type": "code",
   "execution_count": 36,
   "outputs": [
    {
     "data": {
      "text/plain": "<Figure size 640x480 with 1 Axes>",
      "image/png": "[encoded data removed]"
     },
     "metadata": {},
     "output_type": "display_data"
    }
   ],
   "source": [
    "flights.query(\"dep_delay <= 120\")[\"dep_delay\"].plot.hist(\n",
    "    bins=50, title=\"         Distribution: length of delay\"\n",
    ");"
   ],
   "metadata": {
    "collapsed": false,
    "ExecuteTime": {
     "end_time": "2023-10-18T06:08:23.461130Z",
     "start_time": "2023-10-18T06:08:23.243360800Z"
    }
   },
   "id": "f6b504cf56b4f046"
  }
 ],
 "metadata": {
  "kernelspec": {
   "display_name": "Python 3",
   "language": "python",
   "name": "python3"
  },
  "language_info": {
   "codemirror_mode": {
    "name": "ipython",
    "version": 2
   },
   "file_extension": ".py",
   "mimetype": "text/x-python",
   "name": "python",
   "nbconvert_exporter": "python",
   "pygments_lexer": "ipython2",
   "version": "2.7.6"
  }
 },
 "nbformat": 4,
 "nbformat_minor": 5
}
