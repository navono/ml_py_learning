{
 "cells": [
  {
   "cell_type": "markdown",
   "source": [
    "# Data Transformation"
   ],
   "metadata": {
    "collapsed": false
   },
   "id": "bb43456cbc446a08"
  },
  {
   "cell_type": "code",
   "execution_count": 1,
   "outputs": [
    {
     "data": {
      "text/plain": "'2.1.0'"
     },
     "execution_count": 1,
     "metadata": {},
     "output_type": "execute_result"
    }
   ],
   "source": [
    "import pandas as pd\n",
    "\n",
    "pd.__version__"
   ],
   "metadata": {
    "collapsed": false,
    "ExecuteTime": {
     "end_time": "2023-09-25T06:07:43.311870Z",
     "start_time": "2023-09-25T06:07:42.554544700Z"
    }
   },
   "id": "initial_id"
  },
  {
   "cell_type": "code",
   "execution_count": 2,
   "outputs": [],
   "source": [
    "# prepare the data\n",
    "url = \"https://raw.githubusercontent.com/byuidatascience/data4python4ds/master/data-raw/flights/flights.csv\"\n",
    "flights = pd.read_csv(url)"
   ],
   "metadata": {
    "collapsed": false,
    "ExecuteTime": {
     "end_time": "2023-09-25T06:08:01.366168200Z",
     "start_time": "2023-09-25T06:07:43.311870Z"
    }
   },
   "id": "b2fd884f32649ef2"
  },
  {
   "cell_type": "code",
   "execution_count": 3,
   "outputs": [
    {
     "data": {
      "text/plain": "   year  month  day  dep_time  sched_dep_time  dep_delay  arr_time  \\\n0  2013      1    1     517.0             515        2.0     830.0   \n1  2013      1    1     533.0             529        4.0     850.0   \n2  2013      1    1     542.0             540        2.0     923.0   \n3  2013      1    1     544.0             545       -1.0    1004.0   \n4  2013      1    1     554.0             600       -6.0     812.0   \n\n   sched_arr_time  arr_delay carrier  flight tailnum origin dest  air_time  \\\n0             819       11.0      UA    1545  N14228    EWR  IAH     227.0   \n1             830       20.0      UA    1714  N24211    LGA  IAH     227.0   \n2             850       33.0      AA    1141  N619AA    JFK  MIA     160.0   \n3            1022      -18.0      B6     725  N804JB    JFK  BQN     183.0   \n4             837      -25.0      DL     461  N668DN    LGA  ATL     116.0   \n\n   distance  hour  minute             time_hour  \n0      1400     5      15  2013-01-01T10:00:00Z  \n1      1416     5      29  2013-01-01T10:00:00Z  \n2      1089     5      40  2013-01-01T10:00:00Z  \n3      1576     5      45  2013-01-01T10:00:00Z  \n4       762     6       0  2013-01-01T11:00:00Z  ",
      "text/html": "<div>\n<style scoped>\n    .dataframe tbody tr th:only-of-type {\n        vertical-align: middle;\n    }\n\n    .dataframe tbody tr th {\n        vertical-align: top;\n    }\n\n    .dataframe thead th {\n        text-align: right;\n    }\n</style>\n<table border=\"1\" class=\"dataframe\">\n  <thead>\n    <tr style=\"text-align: right;\">\n      <th></th>\n      <th>year</th>\n      <th>month</th>\n      <th>day</th>\n      <th>dep_time</th>\n      <th>sched_dep_time</th>\n      <th>dep_delay</th>\n      <th>arr_time</th>\n      <th>sched_arr_time</th>\n      <th>arr_delay</th>\n      <th>carrier</th>\n      <th>flight</th>\n      <th>tailnum</th>\n      <th>origin</th>\n      <th>dest</th>\n      <th>air_time</th>\n      <th>distance</th>\n      <th>hour</th>\n      <th>minute</th>\n      <th>time_hour</th>\n    </tr>\n  </thead>\n  <tbody>\n    <tr>\n      <th>0</th>\n      <td>2013</td>\n      <td>1</td>\n      <td>1</td>\n      <td>517.0</td>\n      <td>515</td>\n      <td>2.0</td>\n      <td>830.0</td>\n      <td>819</td>\n      <td>11.0</td>\n      <td>UA</td>\n      <td>1545</td>\n      <td>N14228</td>\n      <td>EWR</td>\n      <td>IAH</td>\n      <td>227.0</td>\n      <td>1400</td>\n      <td>5</td>\n      <td>15</td>\n      <td>2013-01-01T10:00:00Z</td>\n    </tr>\n    <tr>\n      <th>1</th>\n      <td>2013</td>\n      <td>1</td>\n      <td>1</td>\n      <td>533.0</td>\n      <td>529</td>\n      <td>4.0</td>\n      <td>850.0</td>\n      <td>830</td>\n      <td>20.0</td>\n      <td>UA</td>\n      <td>1714</td>\n      <td>N24211</td>\n      <td>LGA</td>\n      <td>IAH</td>\n      <td>227.0</td>\n      <td>1416</td>\n      <td>5</td>\n      <td>29</td>\n      <td>2013-01-01T10:00:00Z</td>\n    </tr>\n    <tr>\n      <th>2</th>\n      <td>2013</td>\n      <td>1</td>\n      <td>1</td>\n      <td>542.0</td>\n      <td>540</td>\n      <td>2.0</td>\n      <td>923.0</td>\n      <td>850</td>\n      <td>33.0</td>\n      <td>AA</td>\n      <td>1141</td>\n      <td>N619AA</td>\n      <td>JFK</td>\n      <td>MIA</td>\n      <td>160.0</td>\n      <td>1089</td>\n      <td>5</td>\n      <td>40</td>\n      <td>2013-01-01T10:00:00Z</td>\n    </tr>\n    <tr>\n      <th>3</th>\n      <td>2013</td>\n      <td>1</td>\n      <td>1</td>\n      <td>544.0</td>\n      <td>545</td>\n      <td>-1.0</td>\n      <td>1004.0</td>\n      <td>1022</td>\n      <td>-18.0</td>\n      <td>B6</td>\n      <td>725</td>\n      <td>N804JB</td>\n      <td>JFK</td>\n      <td>BQN</td>\n      <td>183.0</td>\n      <td>1576</td>\n      <td>5</td>\n      <td>45</td>\n      <td>2013-01-01T10:00:00Z</td>\n    </tr>\n    <tr>\n      <th>4</th>\n      <td>2013</td>\n      <td>1</td>\n      <td>1</td>\n      <td>554.0</td>\n      <td>600</td>\n      <td>-6.0</td>\n      <td>812.0</td>\n      <td>837</td>\n      <td>-25.0</td>\n      <td>DL</td>\n      <td>461</td>\n      <td>N668DN</td>\n      <td>LGA</td>\n      <td>ATL</td>\n      <td>116.0</td>\n      <td>762</td>\n      <td>6</td>\n      <td>0</td>\n      <td>2013-01-01T11:00:00Z</td>\n    </tr>\n  </tbody>\n</table>\n</div>"
     },
     "execution_count": 3,
     "metadata": {},
     "output_type": "execute_result"
    }
   ],
   "source": [
    "flights.head()"
   ],
   "metadata": {
    "collapsed": false,
    "ExecuteTime": {
     "end_time": "2023-09-25T06:08:01.381167600Z",
     "start_time": "2023-09-25T06:08:01.366168200Z"
    }
   },
   "id": "1678e746369878d3"
  },
  {
   "cell_type": "code",
   "execution_count": 4,
   "outputs": [
    {
     "name": "stdout",
     "output_type": "stream",
     "text": [
      "<class 'pandas.core.frame.DataFrame'>\n",
      "RangeIndex: 336776 entries, 0 to 336775\n",
      "Data columns (total 19 columns):\n",
      " #   Column          Non-Null Count   Dtype  \n",
      "---  ------          --------------   -----  \n",
      " 0   year            336776 non-null  int64  \n",
      " 1   month           336776 non-null  int64  \n",
      " 2   day             336776 non-null  int64  \n",
      " 3   dep_time        328521 non-null  float64\n",
      " 4   sched_dep_time  336776 non-null  int64  \n",
      " 5   dep_delay       328521 non-null  float64\n",
      " 6   arr_time        328063 non-null  float64\n",
      " 7   sched_arr_time  336776 non-null  int64  \n",
      " 8   arr_delay       327346 non-null  float64\n",
      " 9   carrier         336776 non-null  object \n",
      " 10  flight          336776 non-null  int64  \n",
      " 11  tailnum         334264 non-null  object \n",
      " 12  origin          336776 non-null  object \n",
      " 13  dest            336776 non-null  object \n",
      " 14  air_time        327346 non-null  float64\n",
      " 15  distance        336776 non-null  int64  \n",
      " 16  hour            336776 non-null  int64  \n",
      " 17  minute          336776 non-null  int64  \n",
      " 18  time_hour       336776 non-null  object \n",
      "dtypes: float64(5), int64(9), object(5)\n",
      "memory usage: 48.8+ MB\n"
     ]
    }
   ],
   "source": [
    "flights.info()"
   ],
   "metadata": {
    "collapsed": false,
    "ExecuteTime": {
     "end_time": "2023-09-25T06:08:01.447585500Z",
     "start_time": "2023-09-25T06:08:01.382167900Z"
    }
   },
   "id": "1654ea3466077312"
  },
  {
   "cell_type": "code",
   "execution_count": 5,
   "outputs": [
    {
     "data": {
      "text/plain": "0         2013-01-01T10:00:00Z\n1         2013-01-01T10:00:00Z\n2         2013-01-01T10:00:00Z\n3         2013-01-01T10:00:00Z\n4         2013-01-01T11:00:00Z\n                  ...         \n336771    2013-09-30T18:00:00Z\n336772    2013-10-01T02:00:00Z\n336773    2013-09-30T16:00:00Z\n336774    2013-09-30T15:00:00Z\n336775    2013-09-30T12:00:00Z\nName: time_hour, Length: 336776, dtype: object"
     },
     "execution_count": 5,
     "metadata": {},
     "output_type": "execute_result"
    }
   ],
   "source": [
    "flights[\"time_hour\"]"
   ],
   "metadata": {
    "collapsed": false,
    "ExecuteTime": {
     "end_time": "2023-09-25T06:08:01.450585900Z",
     "start_time": "2023-09-25T06:08:01.429511300Z"
    }
   },
   "id": "e28c14c1f0705693"
  },
  {
   "cell_type": "code",
   "execution_count": 6,
   "outputs": [
    {
     "data": {
      "text/plain": "0        2013-01-01 10:00:00\n1        2013-01-01 10:00:00\n2        2013-01-01 10:00:00\n3        2013-01-01 10:00:00\n4        2013-01-01 11:00:00\n                 ...        \n336771   2013-09-30 18:00:00\n336772   2013-10-01 02:00:00\n336773   2013-09-30 16:00:00\n336774   2013-09-30 15:00:00\n336775   2013-09-30 12:00:00\nName: time_hour, Length: 336776, dtype: datetime64[ns]"
     },
     "execution_count": 6,
     "metadata": {},
     "output_type": "execute_result"
    }
   ],
   "source": [
    "flights[\"time_hour\"] = pd.to_datetime(flights[\"time_hour\"], format=\"%Y-%m-%dT%H:%M:%SZ\")\n",
    "flights[\"time_hour\"]"
   ],
   "metadata": {
    "collapsed": false,
    "ExecuteTime": {
     "end_time": "2023-09-25T06:08:01.512381800Z",
     "start_time": "2023-09-25T06:08:01.444586600Z"
    }
   },
   "id": "909895b93ee49d8"
  },
  {
   "cell_type": "markdown",
   "source": [
    "## Pandas Basic"
   ],
   "metadata": {
    "collapsed": false
   },
   "id": "6326de6997c64187"
  },
  {
   "cell_type": "code",
   "execution_count": 7,
   "outputs": [
    {
     "data": {
      "text/plain": "      col0  col1  col2 col3   col4\nrow0     0     0     0    a  alpha\nrow1     0     0     0    b  gamma\nrow2     0     0     0    b  gamma\nrow3     0     0     0    a  gamma",
      "text/html": "<div>\n<style scoped>\n    .dataframe tbody tr th:only-of-type {\n        vertical-align: middle;\n    }\n\n    .dataframe tbody tr th {\n        vertical-align: top;\n    }\n\n    .dataframe thead th {\n        text-align: right;\n    }\n</style>\n<table border=\"1\" class=\"dataframe\">\n  <thead>\n    <tr style=\"text-align: right;\">\n      <th></th>\n      <th>col0</th>\n      <th>col1</th>\n      <th>col2</th>\n      <th>col3</th>\n      <th>col4</th>\n    </tr>\n  </thead>\n  <tbody>\n    <tr>\n      <th>row0</th>\n      <td>0</td>\n      <td>0</td>\n      <td>0</td>\n      <td>a</td>\n      <td>alpha</td>\n    </tr>\n    <tr>\n      <th>row1</th>\n      <td>0</td>\n      <td>0</td>\n      <td>0</td>\n      <td>b</td>\n      <td>gamma</td>\n    </tr>\n    <tr>\n      <th>row2</th>\n      <td>0</td>\n      <td>0</td>\n      <td>0</td>\n      <td>b</td>\n      <td>gamma</td>\n    </tr>\n    <tr>\n      <th>row3</th>\n      <td>0</td>\n      <td>0</td>\n      <td>0</td>\n      <td>a</td>\n      <td>gamma</td>\n    </tr>\n  </tbody>\n</table>\n</div>"
     },
     "execution_count": 7,
     "metadata": {},
     "output_type": "execute_result"
    }
   ],
   "source": [
    "df = pd.DataFrame(\n",
    "    data={\n",
    "        \"col0\": [0, 0, 0, 0],\n",
    "        \"col1\": [0, 0, 0, 0],\n",
    "        \"col2\": [0, 0, 0, 0],\n",
    "        \"col3\": [\"a\", \"b\", \"b\", \"a\"],\n",
    "        \"col4\": [\"alpha\", \"gamma\", \"gamma\", \"gamma\"],\n",
    "    },\n",
    "    index=[\"row\" + str(i) for i in range(4)],\n",
    ")\n",
    "df.head()"
   ],
   "metadata": {
    "collapsed": false,
    "ExecuteTime": {
     "end_time": "2023-09-25T06:08:01.513382300Z",
     "start_time": "2023-09-25T06:08:01.492586Z"
    }
   },
   "id": "6446d524ea0363d"
  },
  {
   "cell_type": "code",
   "execution_count": 8,
   "outputs": [
    {
     "data": {
      "text/plain": "                                arr_delay\nyear month day origin distance           \n2013 1     1   EWR    1400      15.181818\n               LGA    1416      21.111111\n           2   EWR    1400      11.363636\n               LGA    1416       1.666667\n           3   EWR    1400      13.700000\n...                                   ...\n     12    30  JFK    1417      33.000000\n               LGA    1416      13.571429\n           31  EWR    1400       3.875000\n               JFK    1417       2.000000\n               LGA    1416     -17.833333\n\n[1004 rows x 1 columns]",
      "text/html": "<div>\n<style scoped>\n    .dataframe tbody tr th:only-of-type {\n        vertical-align: middle;\n    }\n\n    .dataframe tbody tr th {\n        vertical-align: top;\n    }\n\n    .dataframe thead th {\n        text-align: right;\n    }\n</style>\n<table border=\"1\" class=\"dataframe\">\n  <thead>\n    <tr style=\"text-align: right;\">\n      <th></th>\n      <th></th>\n      <th></th>\n      <th></th>\n      <th></th>\n      <th>arr_delay</th>\n    </tr>\n    <tr>\n      <th>year</th>\n      <th>month</th>\n      <th>day</th>\n      <th>origin</th>\n      <th>distance</th>\n      <th></th>\n    </tr>\n  </thead>\n  <tbody>\n    <tr>\n      <th rowspan=\"11\" valign=\"top\">2013</th>\n      <th rowspan=\"5\" valign=\"top\">1</th>\n      <th rowspan=\"2\" valign=\"top\">1</th>\n      <th>EWR</th>\n      <th>1400</th>\n      <td>15.181818</td>\n    </tr>\n    <tr>\n      <th>LGA</th>\n      <th>1416</th>\n      <td>21.111111</td>\n    </tr>\n    <tr>\n      <th rowspan=\"2\" valign=\"top\">2</th>\n      <th>EWR</th>\n      <th>1400</th>\n      <td>11.363636</td>\n    </tr>\n    <tr>\n      <th>LGA</th>\n      <th>1416</th>\n      <td>1.666667</td>\n    </tr>\n    <tr>\n      <th>3</th>\n      <th>EWR</th>\n      <th>1400</th>\n      <td>13.700000</td>\n    </tr>\n    <tr>\n      <th>...</th>\n      <th>...</th>\n      <th>...</th>\n      <th>...</th>\n      <td>...</td>\n    </tr>\n    <tr>\n      <th rowspan=\"5\" valign=\"top\">12</th>\n      <th rowspan=\"2\" valign=\"top\">30</th>\n      <th>JFK</th>\n      <th>1417</th>\n      <td>33.000000</td>\n    </tr>\n    <tr>\n      <th>LGA</th>\n      <th>1416</th>\n      <td>13.571429</td>\n    </tr>\n    <tr>\n      <th rowspan=\"3\" valign=\"top\">31</th>\n      <th>EWR</th>\n      <th>1400</th>\n      <td>3.875000</td>\n    </tr>\n    <tr>\n      <th>JFK</th>\n      <th>1417</th>\n      <td>2.000000</td>\n    </tr>\n    <tr>\n      <th>LGA</th>\n      <th>1416</th>\n      <td>-17.833333</td>\n    </tr>\n  </tbody>\n</table>\n<p>1004 rows × 1 columns</p>\n</div>"
     },
     "execution_count": 8,
     "metadata": {},
     "output_type": "execute_result"
    }
   ],
   "source": [
    "\"\"\"\n",
    "Chain query with 4 key operations:\n",
    "- manipulating rows\n",
    "- manipulating the index\n",
    "- manipulating columns\n",
    "- applying statistics\n",
    "\"\"\"\n",
    "flights.query(\"dest == 'IAH'\").groupby([\"year\", \"month\", \"day\", \"origin\", \"distance\"])[[\"arr_delay\"]].mean()"
   ],
   "metadata": {
    "collapsed": false,
    "ExecuteTime": {
     "end_time": "2023-09-25T06:08:01.551390Z",
     "start_time": "2023-09-25T06:08:01.509382700Z"
    }
   },
   "id": "8a6b0333d4bd72"
  },
  {
   "cell_type": "markdown",
   "source": [
    "## Manipulating Rows"
   ],
   "metadata": {
    "collapsed": false
   },
   "id": "fdfdfb6021425eb9"
  },
  {
   "cell_type": "code",
   "execution_count": 9,
   "outputs": [
    {
     "data": {
      "text/plain": "   col0  col1  col2  col3  col4  col5       col6\na   0.0   1.0   2.0   3.0   4.0   5.0      apple\nb   6.0   7.0   8.0   9.0  10.0  11.0     orange\nc  12.0  13.0  14.0  15.0  16.0  17.0  pineapple\nd  18.0  19.0  20.0  21.0  22.0  23.0      mango\ne  24.0  25.0  26.0  27.0  28.0  29.0       kiwi\nf  30.0  31.0  32.0  33.0  34.0  35.0      lemon",
      "text/html": "<div>\n<style scoped>\n    .dataframe tbody tr th:only-of-type {\n        vertical-align: middle;\n    }\n\n    .dataframe tbody tr th {\n        vertical-align: top;\n    }\n\n    .dataframe thead th {\n        text-align: right;\n    }\n</style>\n<table border=\"1\" class=\"dataframe\">\n  <thead>\n    <tr style=\"text-align: right;\">\n      <th></th>\n      <th>col0</th>\n      <th>col1</th>\n      <th>col2</th>\n      <th>col3</th>\n      <th>col4</th>\n      <th>col5</th>\n      <th>col6</th>\n    </tr>\n  </thead>\n  <tbody>\n    <tr>\n      <th>a</th>\n      <td>0.0</td>\n      <td>1.0</td>\n      <td>2.0</td>\n      <td>3.0</td>\n      <td>4.0</td>\n      <td>5.0</td>\n      <td>apple</td>\n    </tr>\n    <tr>\n      <th>b</th>\n      <td>6.0</td>\n      <td>7.0</td>\n      <td>8.0</td>\n      <td>9.0</td>\n      <td>10.0</td>\n      <td>11.0</td>\n      <td>orange</td>\n    </tr>\n    <tr>\n      <th>c</th>\n      <td>12.0</td>\n      <td>13.0</td>\n      <td>14.0</td>\n      <td>15.0</td>\n      <td>16.0</td>\n      <td>17.0</td>\n      <td>pineapple</td>\n    </tr>\n    <tr>\n      <th>d</th>\n      <td>18.0</td>\n      <td>19.0</td>\n      <td>20.0</td>\n      <td>21.0</td>\n      <td>22.0</td>\n      <td>23.0</td>\n      <td>mango</td>\n    </tr>\n    <tr>\n      <th>e</th>\n      <td>24.0</td>\n      <td>25.0</td>\n      <td>26.0</td>\n      <td>27.0</td>\n      <td>28.0</td>\n      <td>29.0</td>\n      <td>kiwi</td>\n    </tr>\n    <tr>\n      <th>f</th>\n      <td>30.0</td>\n      <td>31.0</td>\n      <td>32.0</td>\n      <td>33.0</td>\n      <td>34.0</td>\n      <td>35.0</td>\n      <td>lemon</td>\n    </tr>\n  </tbody>\n</table>\n</div>"
     },
     "execution_count": 9,
     "metadata": {},
     "output_type": "execute_result"
    }
   ],
   "source": [
    "import numpy as np\n",
    "\n",
    "df = pd.DataFrame(\n",
    "    data=np.reshape(range(36), (6, 6)),\n",
    "    index=[\"a\", \"b\", \"c\", \"d\", \"e\", \"f\"],\n",
    "    columns=[\"col\" + str(i) for i in range(6)],\n",
    "    dtype=float,\n",
    ")\n",
    "df[\"col6\"] = [\"apple\", \"orange\", \"pineapple\", \"mango\", \"kiwi\", \"lemon\"]\n",
    "df"
   ],
   "metadata": {
    "collapsed": false,
    "ExecuteTime": {
     "end_time": "2023-09-25T06:08:01.584816Z",
     "start_time": "2023-09-25T06:08:01.539381600Z"
    }
   },
   "id": "cc065e6a5ce9d7fc"
  },
  {
   "cell_type": "code",
   "execution_count": 10,
   "outputs": [
    {
     "data": {
      "text/plain": "   col0  col1  col2  col3  col4  col5    col6\na   0.0   1.0   2.0   3.0   4.0   5.0   apple\nb   6.0   7.0   8.0   9.0  10.0  11.0  orange",
      "text/html": "<div>\n<style scoped>\n    .dataframe tbody tr th:only-of-type {\n        vertical-align: middle;\n    }\n\n    .dataframe tbody tr th {\n        vertical-align: top;\n    }\n\n    .dataframe thead th {\n        text-align: right;\n    }\n</style>\n<table border=\"1\" class=\"dataframe\">\n  <thead>\n    <tr style=\"text-align: right;\">\n      <th></th>\n      <th>col0</th>\n      <th>col1</th>\n      <th>col2</th>\n      <th>col3</th>\n      <th>col4</th>\n      <th>col5</th>\n      <th>col6</th>\n    </tr>\n  </thead>\n  <tbody>\n    <tr>\n      <th>a</th>\n      <td>0.0</td>\n      <td>1.0</td>\n      <td>2.0</td>\n      <td>3.0</td>\n      <td>4.0</td>\n      <td>5.0</td>\n      <td>apple</td>\n    </tr>\n    <tr>\n      <th>b</th>\n      <td>6.0</td>\n      <td>7.0</td>\n      <td>8.0</td>\n      <td>9.0</td>\n      <td>10.0</td>\n      <td>11.0</td>\n      <td>orange</td>\n    </tr>\n  </tbody>\n</table>\n</div>"
     },
     "execution_count": 10,
     "metadata": {},
     "output_type": "execute_result"
    }
   ],
   "source": [
    "# accessing rows\n",
    "df.loc[[\"a\", \"b\"]]"
   ],
   "metadata": {
    "collapsed": false,
    "ExecuteTime": {
     "end_time": "2023-09-25T06:08:01.609352500Z",
     "start_time": "2023-09-25T06:08:01.554382200Z"
    }
   },
   "id": "46833ec2c8ce89ba"
  },
  {
   "cell_type": "code",
   "execution_count": 11,
   "outputs": [
    {
     "data": {
      "text/plain": "col0      0.0\ncol1      1.0\ncol2      2.0\ncol3      3.0\ncol4      4.0\ncol5      5.0\ncol6    apple\nName: a, dtype: object"
     },
     "execution_count": 11,
     "metadata": {},
     "output_type": "execute_result"
    }
   ],
   "source": [
    "# or like this\n",
    "df.iloc[0]"
   ],
   "metadata": {
    "collapsed": false,
    "ExecuteTime": {
     "end_time": "2023-09-25T06:08:01.654360800Z",
     "start_time": "2023-09-25T06:08:01.570817800Z"
    }
   },
   "id": "6d3cd921018aa7dc"
  },
  {
   "cell_type": "code",
   "execution_count": 12,
   "outputs": [
    {
     "data": {
      "text/plain": "   col0  col1  col2  col3  col4  col5       col6\na   0.0   1.0   2.0   3.0   4.0   5.0      apple\nc  12.0  13.0  14.0  15.0  16.0  17.0  pineapple",
      "text/html": "<div>\n<style scoped>\n    .dataframe tbody tr th:only-of-type {\n        vertical-align: middle;\n    }\n\n    .dataframe tbody tr th {\n        vertical-align: top;\n    }\n\n    .dataframe thead th {\n        text-align: right;\n    }\n</style>\n<table border=\"1\" class=\"dataframe\">\n  <thead>\n    <tr style=\"text-align: right;\">\n      <th></th>\n      <th>col0</th>\n      <th>col1</th>\n      <th>col2</th>\n      <th>col3</th>\n      <th>col4</th>\n      <th>col5</th>\n      <th>col6</th>\n    </tr>\n  </thead>\n  <tbody>\n    <tr>\n      <th>a</th>\n      <td>0.0</td>\n      <td>1.0</td>\n      <td>2.0</td>\n      <td>3.0</td>\n      <td>4.0</td>\n      <td>5.0</td>\n      <td>apple</td>\n    </tr>\n    <tr>\n      <th>c</th>\n      <td>12.0</td>\n      <td>13.0</td>\n      <td>14.0</td>\n      <td>15.0</td>\n      <td>16.0</td>\n      <td>17.0</td>\n      <td>pineapple</td>\n    </tr>\n  </tbody>\n</table>\n</div>"
     },
     "execution_count": 12,
     "metadata": {},
     "output_type": "execute_result"
    }
   ],
   "source": [
    "df.iloc[[0, 2]]"
   ],
   "metadata": {
    "collapsed": false,
    "ExecuteTime": {
     "end_time": "2023-09-25T06:08:01.654360800Z",
     "start_time": "2023-09-25T06:08:01.585816700Z"
    }
   },
   "id": "1af17d23b168d529"
  },
  {
   "cell_type": "code",
   "execution_count": 13,
   "outputs": [
    {
     "data": {
      "text/plain": "   col0  col1  col2  col3  col4  col5       col6\nc  12.0  13.0  14.0  15.0  16.0  17.0  pineapple\ne  24.0  25.0  26.0  27.0  28.0  29.0       kiwi",
      "text/html": "<div>\n<style scoped>\n    .dataframe tbody tr th:only-of-type {\n        vertical-align: middle;\n    }\n\n    .dataframe tbody tr th {\n        vertical-align: top;\n    }\n\n    .dataframe thead th {\n        text-align: right;\n    }\n</style>\n<table border=\"1\" class=\"dataframe\">\n  <thead>\n    <tr style=\"text-align: right;\">\n      <th></th>\n      <th>col0</th>\n      <th>col1</th>\n      <th>col2</th>\n      <th>col3</th>\n      <th>col4</th>\n      <th>col5</th>\n      <th>col6</th>\n    </tr>\n  </thead>\n  <tbody>\n    <tr>\n      <th>c</th>\n      <td>12.0</td>\n      <td>13.0</td>\n      <td>14.0</td>\n      <td>15.0</td>\n      <td>16.0</td>\n      <td>17.0</td>\n      <td>pineapple</td>\n    </tr>\n    <tr>\n      <th>e</th>\n      <td>24.0</td>\n      <td>25.0</td>\n      <td>26.0</td>\n      <td>27.0</td>\n      <td>28.0</td>\n      <td>29.0</td>\n      <td>kiwi</td>\n    </tr>\n  </tbody>\n</table>\n</div>"
     },
     "execution_count": 13,
     "metadata": {},
     "output_type": "execute_result"
    }
   ],
   "source": [
    "# filtering rows\n",
    "df.query(\"col6 == 'kiwi' or col6 == 'pineapple'\")"
   ],
   "metadata": {
    "collapsed": false,
    "ExecuteTime": {
     "end_time": "2023-09-25T06:08:01.656360800Z",
     "start_time": "2023-09-25T06:08:01.600502800Z"
    }
   },
   "id": "4c7b0bf97d9ee256"
  },
  {
   "cell_type": "code",
   "execution_count": 14,
   "outputs": [
    {
     "data": {
      "text/plain": "   col0  col1  col2  col3  col4  col5       col6\nc  12.0  13.0  14.0  15.0  16.0  17.0  pineapple\nd  18.0  19.0  20.0  21.0  22.0  23.0      mango\ne  24.0  25.0  26.0  27.0  28.0  29.0       kiwi\nf  30.0  31.0  32.0  33.0  34.0  35.0      lemon",
      "text/html": "<div>\n<style scoped>\n    .dataframe tbody tr th:only-of-type {\n        vertical-align: middle;\n    }\n\n    .dataframe tbody tr th {\n        vertical-align: top;\n    }\n\n    .dataframe thead th {\n        text-align: right;\n    }\n</style>\n<table border=\"1\" class=\"dataframe\">\n  <thead>\n    <tr style=\"text-align: right;\">\n      <th></th>\n      <th>col0</th>\n      <th>col1</th>\n      <th>col2</th>\n      <th>col3</th>\n      <th>col4</th>\n      <th>col5</th>\n      <th>col6</th>\n    </tr>\n  </thead>\n  <tbody>\n    <tr>\n      <th>c</th>\n      <td>12.0</td>\n      <td>13.0</td>\n      <td>14.0</td>\n      <td>15.0</td>\n      <td>16.0</td>\n      <td>17.0</td>\n      <td>pineapple</td>\n    </tr>\n    <tr>\n      <th>d</th>\n      <td>18.0</td>\n      <td>19.0</td>\n      <td>20.0</td>\n      <td>21.0</td>\n      <td>22.0</td>\n      <td>23.0</td>\n      <td>mango</td>\n    </tr>\n    <tr>\n      <th>e</th>\n      <td>24.0</td>\n      <td>25.0</td>\n      <td>26.0</td>\n      <td>27.0</td>\n      <td>28.0</td>\n      <td>29.0</td>\n      <td>kiwi</td>\n    </tr>\n    <tr>\n      <th>f</th>\n      <td>30.0</td>\n      <td>31.0</td>\n      <td>32.0</td>\n      <td>33.0</td>\n      <td>34.0</td>\n      <td>35.0</td>\n      <td>lemon</td>\n    </tr>\n  </tbody>\n</table>\n</div>"
     },
     "execution_count": 14,
     "metadata": {},
     "output_type": "execute_result"
    }
   ],
   "source": [
    "df.query(\"col0 > 6\")"
   ],
   "metadata": {
    "collapsed": false,
    "ExecuteTime": {
     "end_time": "2023-09-25T06:08:01.657360700Z",
     "start_time": "2023-09-25T06:08:01.618352200Z"
    }
   },
   "id": "e0074b920163e5d1"
  },
  {
   "cell_type": "code",
   "execution_count": 15,
   "outputs": [
    {
     "data": {
      "text/plain": "     year  month  day  dep_time  sched_dep_time  dep_delay  arr_time  \\\n0    2013      1    1     517.0             515        2.0     830.0   \n1    2013      1    1     533.0             529        4.0     850.0   \n2    2013      1    1     542.0             540        2.0     923.0   \n3    2013      1    1     544.0             545       -1.0    1004.0   \n4    2013      1    1     554.0             600       -6.0     812.0   \n..    ...    ...  ...       ...             ...        ...       ...   \n837  2013      1    1    2356.0            2359       -3.0     425.0   \n838  2013      1    1       NaN            1630        NaN       NaN   \n839  2013      1    1       NaN            1935        NaN       NaN   \n840  2013      1    1       NaN            1500        NaN       NaN   \n841  2013      1    1       NaN             600        NaN       NaN   \n\n     sched_arr_time  arr_delay carrier  flight tailnum origin dest  air_time  \\\n0               819       11.0      UA    1545  N14228    EWR  IAH     227.0   \n1               830       20.0      UA    1714  N24211    LGA  IAH     227.0   \n2               850       33.0      AA    1141  N619AA    JFK  MIA     160.0   \n3              1022      -18.0      B6     725  N804JB    JFK  BQN     183.0   \n4               837      -25.0      DL     461  N668DN    LGA  ATL     116.0   \n..              ...        ...     ...     ...     ...    ...  ...       ...   \n837             437      -12.0      B6     727  N588JB    JFK  BQN     186.0   \n838            1815        NaN      EV    4308  N18120    EWR  RDU       NaN   \n839            2240        NaN      AA     791  N3EHAA    LGA  DFW       NaN   \n840            1825        NaN      AA    1925  N3EVAA    LGA  MIA       NaN   \n841             901        NaN      B6     125  N618JB    JFK  FLL       NaN   \n\n     distance  hour  minute           time_hour  \n0        1400     5      15 2013-01-01 10:00:00  \n1        1416     5      29 2013-01-01 10:00:00  \n2        1089     5      40 2013-01-01 10:00:00  \n3        1576     5      45 2013-01-01 10:00:00  \n4         762     6       0 2013-01-01 11:00:00  \n..        ...   ...     ...                 ...  \n837      1576    23      59 2013-01-02 04:00:00  \n838       416    16      30 2013-01-01 21:00:00  \n839      1389    19      35 2013-01-02 00:00:00  \n840      1096    15       0 2013-01-01 20:00:00  \n841      1069     6       0 2013-01-01 11:00:00  \n\n[842 rows x 19 columns]",
      "text/html": "<div>\n<style scoped>\n    .dataframe tbody tr th:only-of-type {\n        vertical-align: middle;\n    }\n\n    .dataframe tbody tr th {\n        vertical-align: top;\n    }\n\n    .dataframe thead th {\n        text-align: right;\n    }\n</style>\n<table border=\"1\" class=\"dataframe\">\n  <thead>\n    <tr style=\"text-align: right;\">\n      <th></th>\n      <th>year</th>\n      <th>month</th>\n      <th>day</th>\n      <th>dep_time</th>\n      <th>sched_dep_time</th>\n      <th>dep_delay</th>\n      <th>arr_time</th>\n      <th>sched_arr_time</th>\n      <th>arr_delay</th>\n      <th>carrier</th>\n      <th>flight</th>\n      <th>tailnum</th>\n      <th>origin</th>\n      <th>dest</th>\n      <th>air_time</th>\n      <th>distance</th>\n      <th>hour</th>\n      <th>minute</th>\n      <th>time_hour</th>\n    </tr>\n  </thead>\n  <tbody>\n    <tr>\n      <th>0</th>\n      <td>2013</td>\n      <td>1</td>\n      <td>1</td>\n      <td>517.0</td>\n      <td>515</td>\n      <td>2.0</td>\n      <td>830.0</td>\n      <td>819</td>\n      <td>11.0</td>\n      <td>UA</td>\n      <td>1545</td>\n      <td>N14228</td>\n      <td>EWR</td>\n      <td>IAH</td>\n      <td>227.0</td>\n      <td>1400</td>\n      <td>5</td>\n      <td>15</td>\n      <td>2013-01-01 10:00:00</td>\n    </tr>\n    <tr>\n      <th>1</th>\n      <td>2013</td>\n      <td>1</td>\n      <td>1</td>\n      <td>533.0</td>\n      <td>529</td>\n      <td>4.0</td>\n      <td>850.0</td>\n      <td>830</td>\n      <td>20.0</td>\n      <td>UA</td>\n      <td>1714</td>\n      <td>N24211</td>\n      <td>LGA</td>\n      <td>IAH</td>\n      <td>227.0</td>\n      <td>1416</td>\n      <td>5</td>\n      <td>29</td>\n      <td>2013-01-01 10:00:00</td>\n    </tr>\n    <tr>\n      <th>2</th>\n      <td>2013</td>\n      <td>1</td>\n      <td>1</td>\n      <td>542.0</td>\n      <td>540</td>\n      <td>2.0</td>\n      <td>923.0</td>\n      <td>850</td>\n      <td>33.0</td>\n      <td>AA</td>\n      <td>1141</td>\n      <td>N619AA</td>\n      <td>JFK</td>\n      <td>MIA</td>\n      <td>160.0</td>\n      <td>1089</td>\n      <td>5</td>\n      <td>40</td>\n      <td>2013-01-01 10:00:00</td>\n    </tr>\n    <tr>\n      <th>3</th>\n      <td>2013</td>\n      <td>1</td>\n      <td>1</td>\n      <td>544.0</td>\n      <td>545</td>\n      <td>-1.0</td>\n      <td>1004.0</td>\n      <td>1022</td>\n      <td>-18.0</td>\n      <td>B6</td>\n      <td>725</td>\n      <td>N804JB</td>\n      <td>JFK</td>\n      <td>BQN</td>\n      <td>183.0</td>\n      <td>1576</td>\n      <td>5</td>\n      <td>45</td>\n      <td>2013-01-01 10:00:00</td>\n    </tr>\n    <tr>\n      <th>4</th>\n      <td>2013</td>\n      <td>1</td>\n      <td>1</td>\n      <td>554.0</td>\n      <td>600</td>\n      <td>-6.0</td>\n      <td>812.0</td>\n      <td>837</td>\n      <td>-25.0</td>\n      <td>DL</td>\n      <td>461</td>\n      <td>N668DN</td>\n      <td>LGA</td>\n      <td>ATL</td>\n      <td>116.0</td>\n      <td>762</td>\n      <td>6</td>\n      <td>0</td>\n      <td>2013-01-01 11:00:00</td>\n    </tr>\n    <tr>\n      <th>...</th>\n      <td>...</td>\n      <td>...</td>\n      <td>...</td>\n      <td>...</td>\n      <td>...</td>\n      <td>...</td>\n      <td>...</td>\n      <td>...</td>\n      <td>...</td>\n      <td>...</td>\n      <td>...</td>\n      <td>...</td>\n      <td>...</td>\n      <td>...</td>\n      <td>...</td>\n      <td>...</td>\n      <td>...</td>\n      <td>...</td>\n      <td>...</td>\n    </tr>\n    <tr>\n      <th>837</th>\n      <td>2013</td>\n      <td>1</td>\n      <td>1</td>\n      <td>2356.0</td>\n      <td>2359</td>\n      <td>-3.0</td>\n      <td>425.0</td>\n      <td>437</td>\n      <td>-12.0</td>\n      <td>B6</td>\n      <td>727</td>\n      <td>N588JB</td>\n      <td>JFK</td>\n      <td>BQN</td>\n      <td>186.0</td>\n      <td>1576</td>\n      <td>23</td>\n      <td>59</td>\n      <td>2013-01-02 04:00:00</td>\n    </tr>\n    <tr>\n      <th>838</th>\n      <td>2013</td>\n      <td>1</td>\n      <td>1</td>\n      <td>NaN</td>\n      <td>1630</td>\n      <td>NaN</td>\n      <td>NaN</td>\n      <td>1815</td>\n      <td>NaN</td>\n      <td>EV</td>\n      <td>4308</td>\n      <td>N18120</td>\n      <td>EWR</td>\n      <td>RDU</td>\n      <td>NaN</td>\n      <td>416</td>\n      <td>16</td>\n      <td>30</td>\n      <td>2013-01-01 21:00:00</td>\n    </tr>\n    <tr>\n      <th>839</th>\n      <td>2013</td>\n      <td>1</td>\n      <td>1</td>\n      <td>NaN</td>\n      <td>1935</td>\n      <td>NaN</td>\n      <td>NaN</td>\n      <td>2240</td>\n      <td>NaN</td>\n      <td>AA</td>\n      <td>791</td>\n      <td>N3EHAA</td>\n      <td>LGA</td>\n      <td>DFW</td>\n      <td>NaN</td>\n      <td>1389</td>\n      <td>19</td>\n      <td>35</td>\n      <td>2013-01-02 00:00:00</td>\n    </tr>\n    <tr>\n      <th>840</th>\n      <td>2013</td>\n      <td>1</td>\n      <td>1</td>\n      <td>NaN</td>\n      <td>1500</td>\n      <td>NaN</td>\n      <td>NaN</td>\n      <td>1825</td>\n      <td>NaN</td>\n      <td>AA</td>\n      <td>1925</td>\n      <td>N3EVAA</td>\n      <td>LGA</td>\n      <td>MIA</td>\n      <td>NaN</td>\n      <td>1096</td>\n      <td>15</td>\n      <td>0</td>\n      <td>2013-01-01 20:00:00</td>\n    </tr>\n    <tr>\n      <th>841</th>\n      <td>2013</td>\n      <td>1</td>\n      <td>1</td>\n      <td>NaN</td>\n      <td>600</td>\n      <td>NaN</td>\n      <td>NaN</td>\n      <td>901</td>\n      <td>NaN</td>\n      <td>B6</td>\n      <td>125</td>\n      <td>N618JB</td>\n      <td>JFK</td>\n      <td>FLL</td>\n      <td>NaN</td>\n      <td>1069</td>\n      <td>6</td>\n      <td>0</td>\n      <td>2013-01-01 11:00:00</td>\n    </tr>\n  </tbody>\n</table>\n<p>842 rows × 19 columns</p>\n</div>"
     },
     "execution_count": 15,
     "metadata": {},
     "output_type": "execute_result"
    }
   ],
   "source": [
    "# Flights that departed on January 1\n",
    "flights.query(\"month == 1 and day == 1\")"
   ],
   "metadata": {
    "collapsed": false,
    "ExecuteTime": {
     "end_time": "2023-09-25T06:08:01.736224Z",
     "start_time": "2023-09-25T06:08:01.632352Z"
    }
   },
   "id": "a3b5d28602c56bfc"
  },
  {
   "cell_type": "code",
   "execution_count": 16,
   "outputs": [
    {
     "data": {
      "text/plain": "        year  month  day  dep_time  sched_dep_time  dep_delay  arr_time  \\\n0       2013      1    1     517.0             515        2.0     830.0   \n1       2013      1    1     533.0             529        4.0     850.0   \n2       2013      1    1     542.0             540        2.0     923.0   \n3       2013      1    1     544.0             545       -1.0    1004.0   \n4       2013      1    1     554.0             600       -6.0     812.0   \n...      ...    ...  ...       ...             ...        ...       ...   \n111291  2013     12   31       NaN             705        NaN       NaN   \n111292  2013     12   31       NaN             825        NaN       NaN   \n111293  2013     12   31       NaN            1615        NaN       NaN   \n111294  2013     12   31       NaN             600        NaN       NaN   \n111295  2013     12   31       NaN             830        NaN       NaN   \n\n        sched_arr_time  arr_delay carrier  flight tailnum origin dest  \\\n0                  819       11.0      UA    1545  N14228    EWR  IAH   \n1                  830       20.0      UA    1714  N24211    LGA  IAH   \n2                  850       33.0      AA    1141  N619AA    JFK  MIA   \n3                 1022      -18.0      B6     725  N804JB    JFK  BQN   \n4                  837      -25.0      DL     461  N668DN    LGA  ATL   \n...                ...        ...     ...     ...     ...    ...  ...   \n111291             931        NaN      UA    1729     NaN    EWR  DEN   \n111292            1029        NaN      US    1831     NaN    JFK  CLT   \n111293            1800        NaN      MQ    3301  N844MQ    LGA  RDU   \n111294             735        NaN      UA     219     NaN    EWR  ORD   \n111295            1154        NaN      UA     443     NaN    JFK  LAX   \n\n        air_time  distance  hour  minute           time_hour  \n0          227.0      1400     5      15 2013-01-01 10:00:00  \n1          227.0      1416     5      29 2013-01-01 10:00:00  \n2          160.0      1089     5      40 2013-01-01 10:00:00  \n3          183.0      1576     5      45 2013-01-01 10:00:00  \n4          116.0       762     6       0 2013-01-01 11:00:00  \n...          ...       ...   ...     ...                 ...  \n111291       NaN      1605     7       5 2013-12-31 12:00:00  \n111292       NaN       541     8      25 2013-12-31 13:00:00  \n111293       NaN       431    16      15 2013-12-31 21:00:00  \n111294       NaN       719     6       0 2013-12-31 11:00:00  \n111295       NaN      2475     8      30 2013-12-31 13:00:00  \n\n[336776 rows x 19 columns]",
      "text/html": "<div>\n<style scoped>\n    .dataframe tbody tr th:only-of-type {\n        vertical-align: middle;\n    }\n\n    .dataframe tbody tr th {\n        vertical-align: top;\n    }\n\n    .dataframe thead th {\n        text-align: right;\n    }\n</style>\n<table border=\"1\" class=\"dataframe\">\n  <thead>\n    <tr style=\"text-align: right;\">\n      <th></th>\n      <th>year</th>\n      <th>month</th>\n      <th>day</th>\n      <th>dep_time</th>\n      <th>sched_dep_time</th>\n      <th>dep_delay</th>\n      <th>arr_time</th>\n      <th>sched_arr_time</th>\n      <th>arr_delay</th>\n      <th>carrier</th>\n      <th>flight</th>\n      <th>tailnum</th>\n      <th>origin</th>\n      <th>dest</th>\n      <th>air_time</th>\n      <th>distance</th>\n      <th>hour</th>\n      <th>minute</th>\n      <th>time_hour</th>\n    </tr>\n  </thead>\n  <tbody>\n    <tr>\n      <th>0</th>\n      <td>2013</td>\n      <td>1</td>\n      <td>1</td>\n      <td>517.0</td>\n      <td>515</td>\n      <td>2.0</td>\n      <td>830.0</td>\n      <td>819</td>\n      <td>11.0</td>\n      <td>UA</td>\n      <td>1545</td>\n      <td>N14228</td>\n      <td>EWR</td>\n      <td>IAH</td>\n      <td>227.0</td>\n      <td>1400</td>\n      <td>5</td>\n      <td>15</td>\n      <td>2013-01-01 10:00:00</td>\n    </tr>\n    <tr>\n      <th>1</th>\n      <td>2013</td>\n      <td>1</td>\n      <td>1</td>\n      <td>533.0</td>\n      <td>529</td>\n      <td>4.0</td>\n      <td>850.0</td>\n      <td>830</td>\n      <td>20.0</td>\n      <td>UA</td>\n      <td>1714</td>\n      <td>N24211</td>\n      <td>LGA</td>\n      <td>IAH</td>\n      <td>227.0</td>\n      <td>1416</td>\n      <td>5</td>\n      <td>29</td>\n      <td>2013-01-01 10:00:00</td>\n    </tr>\n    <tr>\n      <th>2</th>\n      <td>2013</td>\n      <td>1</td>\n      <td>1</td>\n      <td>542.0</td>\n      <td>540</td>\n      <td>2.0</td>\n      <td>923.0</td>\n      <td>850</td>\n      <td>33.0</td>\n      <td>AA</td>\n      <td>1141</td>\n      <td>N619AA</td>\n      <td>JFK</td>\n      <td>MIA</td>\n      <td>160.0</td>\n      <td>1089</td>\n      <td>5</td>\n      <td>40</td>\n      <td>2013-01-01 10:00:00</td>\n    </tr>\n    <tr>\n      <th>3</th>\n      <td>2013</td>\n      <td>1</td>\n      <td>1</td>\n      <td>544.0</td>\n      <td>545</td>\n      <td>-1.0</td>\n      <td>1004.0</td>\n      <td>1022</td>\n      <td>-18.0</td>\n      <td>B6</td>\n      <td>725</td>\n      <td>N804JB</td>\n      <td>JFK</td>\n      <td>BQN</td>\n      <td>183.0</td>\n      <td>1576</td>\n      <td>5</td>\n      <td>45</td>\n      <td>2013-01-01 10:00:00</td>\n    </tr>\n    <tr>\n      <th>4</th>\n      <td>2013</td>\n      <td>1</td>\n      <td>1</td>\n      <td>554.0</td>\n      <td>600</td>\n      <td>-6.0</td>\n      <td>812.0</td>\n      <td>837</td>\n      <td>-25.0</td>\n      <td>DL</td>\n      <td>461</td>\n      <td>N668DN</td>\n      <td>LGA</td>\n      <td>ATL</td>\n      <td>116.0</td>\n      <td>762</td>\n      <td>6</td>\n      <td>0</td>\n      <td>2013-01-01 11:00:00</td>\n    </tr>\n    <tr>\n      <th>...</th>\n      <td>...</td>\n      <td>...</td>\n      <td>...</td>\n      <td>...</td>\n      <td>...</td>\n      <td>...</td>\n      <td>...</td>\n      <td>...</td>\n      <td>...</td>\n      <td>...</td>\n      <td>...</td>\n      <td>...</td>\n      <td>...</td>\n      <td>...</td>\n      <td>...</td>\n      <td>...</td>\n      <td>...</td>\n      <td>...</td>\n      <td>...</td>\n    </tr>\n    <tr>\n      <th>111291</th>\n      <td>2013</td>\n      <td>12</td>\n      <td>31</td>\n      <td>NaN</td>\n      <td>705</td>\n      <td>NaN</td>\n      <td>NaN</td>\n      <td>931</td>\n      <td>NaN</td>\n      <td>UA</td>\n      <td>1729</td>\n      <td>NaN</td>\n      <td>EWR</td>\n      <td>DEN</td>\n      <td>NaN</td>\n      <td>1605</td>\n      <td>7</td>\n      <td>5</td>\n      <td>2013-12-31 12:00:00</td>\n    </tr>\n    <tr>\n      <th>111292</th>\n      <td>2013</td>\n      <td>12</td>\n      <td>31</td>\n      <td>NaN</td>\n      <td>825</td>\n      <td>NaN</td>\n      <td>NaN</td>\n      <td>1029</td>\n      <td>NaN</td>\n      <td>US</td>\n      <td>1831</td>\n      <td>NaN</td>\n      <td>JFK</td>\n      <td>CLT</td>\n      <td>NaN</td>\n      <td>541</td>\n      <td>8</td>\n      <td>25</td>\n      <td>2013-12-31 13:00:00</td>\n    </tr>\n    <tr>\n      <th>111293</th>\n      <td>2013</td>\n      <td>12</td>\n      <td>31</td>\n      <td>NaN</td>\n      <td>1615</td>\n      <td>NaN</td>\n      <td>NaN</td>\n      <td>1800</td>\n      <td>NaN</td>\n      <td>MQ</td>\n      <td>3301</td>\n      <td>N844MQ</td>\n      <td>LGA</td>\n      <td>RDU</td>\n      <td>NaN</td>\n      <td>431</td>\n      <td>16</td>\n      <td>15</td>\n      <td>2013-12-31 21:00:00</td>\n    </tr>\n    <tr>\n      <th>111294</th>\n      <td>2013</td>\n      <td>12</td>\n      <td>31</td>\n      <td>NaN</td>\n      <td>600</td>\n      <td>NaN</td>\n      <td>NaN</td>\n      <td>735</td>\n      <td>NaN</td>\n      <td>UA</td>\n      <td>219</td>\n      <td>NaN</td>\n      <td>EWR</td>\n      <td>ORD</td>\n      <td>NaN</td>\n      <td>719</td>\n      <td>6</td>\n      <td>0</td>\n      <td>2013-12-31 11:00:00</td>\n    </tr>\n    <tr>\n      <th>111295</th>\n      <td>2013</td>\n      <td>12</td>\n      <td>31</td>\n      <td>NaN</td>\n      <td>830</td>\n      <td>NaN</td>\n      <td>NaN</td>\n      <td>1154</td>\n      <td>NaN</td>\n      <td>UA</td>\n      <td>443</td>\n      <td>NaN</td>\n      <td>JFK</td>\n      <td>LAX</td>\n      <td>NaN</td>\n      <td>2475</td>\n      <td>8</td>\n      <td>30</td>\n      <td>2013-12-31 13:00:00</td>\n    </tr>\n  </tbody>\n</table>\n<p>336776 rows × 19 columns</p>\n</div>"
     },
     "execution_count": 16,
     "metadata": {},
     "output_type": "execute_result"
    }
   ],
   "source": [
    "# Re-arranging rows\n",
    "flights.sort_values([\"year\", \"month\", \"day\", \"dep_time\"])"
   ],
   "metadata": {
    "collapsed": false,
    "ExecuteTime": {
     "end_time": "2023-09-25T06:08:01.790407Z",
     "start_time": "2023-09-25T06:08:01.663352Z"
    }
   },
   "id": "b3cc03c8ac68ef40"
  },
  {
   "cell_type": "code",
   "execution_count": 17,
   "outputs": [
    {
     "data": {
      "text/plain": "        year  month  day  dep_time  sched_dep_time  dep_delay  arr_time  \\\n7072    2013      1    9     641.0             900     1301.0    1242.0   \n235778  2013      6   15    1432.0            1935     1137.0    1607.0   \n8239    2013      1   10    1121.0            1635     1126.0    1239.0   \n327043  2013      9   20    1139.0            1845     1014.0    1457.0   \n270376  2013      7   22     845.0            1600     1005.0    1044.0   \n...      ...    ...  ...       ...             ...        ...       ...   \n336771  2013      9   30       NaN            1455        NaN       NaN   \n336772  2013      9   30       NaN            2200        NaN       NaN   \n336773  2013      9   30       NaN            1210        NaN       NaN   \n336774  2013      9   30       NaN            1159        NaN       NaN   \n336775  2013      9   30       NaN             840        NaN       NaN   \n\n        sched_arr_time  arr_delay carrier  flight tailnum origin dest  \\\n7072              1530     1272.0      HA      51  N384HA    JFK  HNL   \n235778            2120     1127.0      MQ    3535  N504MQ    JFK  CMH   \n8239              1810     1109.0      MQ    3695  N517MQ    EWR  ORD   \n327043            2210     1007.0      AA     177  N338AA    JFK  SFO   \n270376            1815      989.0      MQ    3075  N665MQ    JFK  CVG   \n...                ...        ...     ...     ...     ...    ...  ...   \n336771            1634        NaN      9E    3393     NaN    JFK  DCA   \n336772            2312        NaN      9E    3525     NaN    LGA  SYR   \n336773            1330        NaN      MQ    3461  N535MQ    LGA  BNA   \n336774            1344        NaN      MQ    3572  N511MQ    LGA  CLE   \n336775            1020        NaN      MQ    3531  N839MQ    LGA  RDU   \n\n        air_time  distance  hour  minute           time_hour  \n7072       640.0      4983     9       0 2013-01-09 14:00:00  \n235778      74.0       483    19      35 2013-06-15 23:00:00  \n8239       111.0       719    16      35 2013-01-10 21:00:00  \n327043     354.0      2586    18      45 2013-09-20 22:00:00  \n270376      96.0       589    16       0 2013-07-22 20:00:00  \n...          ...       ...   ...     ...                 ...  \n336771       NaN       213    14      55 2013-09-30 18:00:00  \n336772       NaN       198    22       0 2013-10-01 02:00:00  \n336773       NaN       764    12      10 2013-09-30 16:00:00  \n336774       NaN       419    11      59 2013-09-30 15:00:00  \n336775       NaN       431     8      40 2013-09-30 12:00:00  \n\n[336776 rows x 19 columns]",
      "text/html": "<div>\n<style scoped>\n    .dataframe tbody tr th:only-of-type {\n        vertical-align: middle;\n    }\n\n    .dataframe tbody tr th {\n        vertical-align: top;\n    }\n\n    .dataframe thead th {\n        text-align: right;\n    }\n</style>\n<table border=\"1\" class=\"dataframe\">\n  <thead>\n    <tr style=\"text-align: right;\">\n      <th></th>\n      <th>year</th>\n      <th>month</th>\n      <th>day</th>\n      <th>dep_time</th>\n      <th>sched_dep_time</th>\n      <th>dep_delay</th>\n      <th>arr_time</th>\n      <th>sched_arr_time</th>\n      <th>arr_delay</th>\n      <th>carrier</th>\n      <th>flight</th>\n      <th>tailnum</th>\n      <th>origin</th>\n      <th>dest</th>\n      <th>air_time</th>\n      <th>distance</th>\n      <th>hour</th>\n      <th>minute</th>\n      <th>time_hour</th>\n    </tr>\n  </thead>\n  <tbody>\n    <tr>\n      <th>7072</th>\n      <td>2013</td>\n      <td>1</td>\n      <td>9</td>\n      <td>641.0</td>\n      <td>900</td>\n      <td>1301.0</td>\n      <td>1242.0</td>\n      <td>1530</td>\n      <td>1272.0</td>\n      <td>HA</td>\n      <td>51</td>\n      <td>N384HA</td>\n      <td>JFK</td>\n      <td>HNL</td>\n      <td>640.0</td>\n      <td>4983</td>\n      <td>9</td>\n      <td>0</td>\n      <td>2013-01-09 14:00:00</td>\n    </tr>\n    <tr>\n      <th>235778</th>\n      <td>2013</td>\n      <td>6</td>\n      <td>15</td>\n      <td>1432.0</td>\n      <td>1935</td>\n      <td>1137.0</td>\n      <td>1607.0</td>\n      <td>2120</td>\n      <td>1127.0</td>\n      <td>MQ</td>\n      <td>3535</td>\n      <td>N504MQ</td>\n      <td>JFK</td>\n      <td>CMH</td>\n      <td>74.0</td>\n      <td>483</td>\n      <td>19</td>\n      <td>35</td>\n      <td>2013-06-15 23:00:00</td>\n    </tr>\n    <tr>\n      <th>8239</th>\n      <td>2013</td>\n      <td>1</td>\n      <td>10</td>\n      <td>1121.0</td>\n      <td>1635</td>\n      <td>1126.0</td>\n      <td>1239.0</td>\n      <td>1810</td>\n      <td>1109.0</td>\n      <td>MQ</td>\n      <td>3695</td>\n      <td>N517MQ</td>\n      <td>EWR</td>\n      <td>ORD</td>\n      <td>111.0</td>\n      <td>719</td>\n      <td>16</td>\n      <td>35</td>\n      <td>2013-01-10 21:00:00</td>\n    </tr>\n    <tr>\n      <th>327043</th>\n      <td>2013</td>\n      <td>9</td>\n      <td>20</td>\n      <td>1139.0</td>\n      <td>1845</td>\n      <td>1014.0</td>\n      <td>1457.0</td>\n      <td>2210</td>\n      <td>1007.0</td>\n      <td>AA</td>\n      <td>177</td>\n      <td>N338AA</td>\n      <td>JFK</td>\n      <td>SFO</td>\n      <td>354.0</td>\n      <td>2586</td>\n      <td>18</td>\n      <td>45</td>\n      <td>2013-09-20 22:00:00</td>\n    </tr>\n    <tr>\n      <th>270376</th>\n      <td>2013</td>\n      <td>7</td>\n      <td>22</td>\n      <td>845.0</td>\n      <td>1600</td>\n      <td>1005.0</td>\n      <td>1044.0</td>\n      <td>1815</td>\n      <td>989.0</td>\n      <td>MQ</td>\n      <td>3075</td>\n      <td>N665MQ</td>\n      <td>JFK</td>\n      <td>CVG</td>\n      <td>96.0</td>\n      <td>589</td>\n      <td>16</td>\n      <td>0</td>\n      <td>2013-07-22 20:00:00</td>\n    </tr>\n    <tr>\n      <th>...</th>\n      <td>...</td>\n      <td>...</td>\n      <td>...</td>\n      <td>...</td>\n      <td>...</td>\n      <td>...</td>\n      <td>...</td>\n      <td>...</td>\n      <td>...</td>\n      <td>...</td>\n      <td>...</td>\n      <td>...</td>\n      <td>...</td>\n      <td>...</td>\n      <td>...</td>\n      <td>...</td>\n      <td>...</td>\n      <td>...</td>\n      <td>...</td>\n    </tr>\n    <tr>\n      <th>336771</th>\n      <td>2013</td>\n      <td>9</td>\n      <td>30</td>\n      <td>NaN</td>\n      <td>1455</td>\n      <td>NaN</td>\n      <td>NaN</td>\n      <td>1634</td>\n      <td>NaN</td>\n      <td>9E</td>\n      <td>3393</td>\n      <td>NaN</td>\n      <td>JFK</td>\n      <td>DCA</td>\n      <td>NaN</td>\n      <td>213</td>\n      <td>14</td>\n      <td>55</td>\n      <td>2013-09-30 18:00:00</td>\n    </tr>\n    <tr>\n      <th>336772</th>\n      <td>2013</td>\n      <td>9</td>\n      <td>30</td>\n      <td>NaN</td>\n      <td>2200</td>\n      <td>NaN</td>\n      <td>NaN</td>\n      <td>2312</td>\n      <td>NaN</td>\n      <td>9E</td>\n      <td>3525</td>\n      <td>NaN</td>\n      <td>LGA</td>\n      <td>SYR</td>\n      <td>NaN</td>\n      <td>198</td>\n      <td>22</td>\n      <td>0</td>\n      <td>2013-10-01 02:00:00</td>\n    </tr>\n    <tr>\n      <th>336773</th>\n      <td>2013</td>\n      <td>9</td>\n      <td>30</td>\n      <td>NaN</td>\n      <td>1210</td>\n      <td>NaN</td>\n      <td>NaN</td>\n      <td>1330</td>\n      <td>NaN</td>\n      <td>MQ</td>\n      <td>3461</td>\n      <td>N535MQ</td>\n      <td>LGA</td>\n      <td>BNA</td>\n      <td>NaN</td>\n      <td>764</td>\n      <td>12</td>\n      <td>10</td>\n      <td>2013-09-30 16:00:00</td>\n    </tr>\n    <tr>\n      <th>336774</th>\n      <td>2013</td>\n      <td>9</td>\n      <td>30</td>\n      <td>NaN</td>\n      <td>1159</td>\n      <td>NaN</td>\n      <td>NaN</td>\n      <td>1344</td>\n      <td>NaN</td>\n      <td>MQ</td>\n      <td>3572</td>\n      <td>N511MQ</td>\n      <td>LGA</td>\n      <td>CLE</td>\n      <td>NaN</td>\n      <td>419</td>\n      <td>11</td>\n      <td>59</td>\n      <td>2013-09-30 15:00:00</td>\n    </tr>\n    <tr>\n      <th>336775</th>\n      <td>2013</td>\n      <td>9</td>\n      <td>30</td>\n      <td>NaN</td>\n      <td>840</td>\n      <td>NaN</td>\n      <td>NaN</td>\n      <td>1020</td>\n      <td>NaN</td>\n      <td>MQ</td>\n      <td>3531</td>\n      <td>N839MQ</td>\n      <td>LGA</td>\n      <td>RDU</td>\n      <td>NaN</td>\n      <td>431</td>\n      <td>8</td>\n      <td>40</td>\n      <td>2013-09-30 12:00:00</td>\n    </tr>\n  </tbody>\n</table>\n<p>336776 rows × 19 columns</p>\n</div>"
     },
     "execution_count": 17,
     "metadata": {},
     "output_type": "execute_result"
    }
   ],
   "source": [
    "# or with argument\n",
    "flights.sort_values(\"dep_delay\", ascending=False)"
   ],
   "metadata": {
    "collapsed": false,
    "ExecuteTime": {
     "end_time": "2023-09-25T06:08:01.860624100Z",
     "start_time": "2023-09-25T06:08:01.727654200Z"
    }
   },
   "id": "d4668fe546e9a897"
  },
  {
   "cell_type": "code",
   "execution_count": 18,
   "outputs": [
    {
     "data": {
      "text/plain": "        year  month  day  dep_time  sched_dep_time  dep_delay  arr_time  \\\n55985   2013     11    1     658.0             700       -2.0    1329.0   \n181270  2013      4   18     558.0             600       -2.0    1149.0   \n256340  2013      7    7    1659.0            1700       -1.0    2050.0   \n325749  2013      9   19     648.0             641        7.0    1035.0   \n\n        sched_arr_time  arr_delay carrier  flight tailnum origin dest  \\\n55985             1015      194.0      VX     399  N629VA    JFK  LAX   \n181270             850      179.0      AA     707  N3EXAA    LGA  DFW   \n256340            1823      147.0      US    2183  N948UW    LGA  DCA   \n325749             810      145.0      UA    1262  N17244    EWR  ORD   \n\n        air_time  distance  hour  minute           time_hour  \n55985      336.0      2475     7       0 2013-11-01 11:00:00  \n181270     234.0      1389     6       0 2013-04-18 10:00:00  \n256340      64.0       214    17       0 2013-07-07 21:00:00  \n325749     169.0       719     6      41 2013-09-19 10:00:00  ",
      "text/html": "<div>\n<style scoped>\n    .dataframe tbody tr th:only-of-type {\n        vertical-align: middle;\n    }\n\n    .dataframe tbody tr th {\n        vertical-align: top;\n    }\n\n    .dataframe thead th {\n        text-align: right;\n    }\n</style>\n<table border=\"1\" class=\"dataframe\">\n  <thead>\n    <tr style=\"text-align: right;\">\n      <th></th>\n      <th>year</th>\n      <th>month</th>\n      <th>day</th>\n      <th>dep_time</th>\n      <th>sched_dep_time</th>\n      <th>dep_delay</th>\n      <th>arr_time</th>\n      <th>sched_arr_time</th>\n      <th>arr_delay</th>\n      <th>carrier</th>\n      <th>flight</th>\n      <th>tailnum</th>\n      <th>origin</th>\n      <th>dest</th>\n      <th>air_time</th>\n      <th>distance</th>\n      <th>hour</th>\n      <th>minute</th>\n      <th>time_hour</th>\n    </tr>\n  </thead>\n  <tbody>\n    <tr>\n      <th>55985</th>\n      <td>2013</td>\n      <td>11</td>\n      <td>1</td>\n      <td>658.0</td>\n      <td>700</td>\n      <td>-2.0</td>\n      <td>1329.0</td>\n      <td>1015</td>\n      <td>194.0</td>\n      <td>VX</td>\n      <td>399</td>\n      <td>N629VA</td>\n      <td>JFK</td>\n      <td>LAX</td>\n      <td>336.0</td>\n      <td>2475</td>\n      <td>7</td>\n      <td>0</td>\n      <td>2013-11-01 11:00:00</td>\n    </tr>\n    <tr>\n      <th>181270</th>\n      <td>2013</td>\n      <td>4</td>\n      <td>18</td>\n      <td>558.0</td>\n      <td>600</td>\n      <td>-2.0</td>\n      <td>1149.0</td>\n      <td>850</td>\n      <td>179.0</td>\n      <td>AA</td>\n      <td>707</td>\n      <td>N3EXAA</td>\n      <td>LGA</td>\n      <td>DFW</td>\n      <td>234.0</td>\n      <td>1389</td>\n      <td>6</td>\n      <td>0</td>\n      <td>2013-04-18 10:00:00</td>\n    </tr>\n    <tr>\n      <th>256340</th>\n      <td>2013</td>\n      <td>7</td>\n      <td>7</td>\n      <td>1659.0</td>\n      <td>1700</td>\n      <td>-1.0</td>\n      <td>2050.0</td>\n      <td>1823</td>\n      <td>147.0</td>\n      <td>US</td>\n      <td>2183</td>\n      <td>N948UW</td>\n      <td>LGA</td>\n      <td>DCA</td>\n      <td>64.0</td>\n      <td>214</td>\n      <td>17</td>\n      <td>0</td>\n      <td>2013-07-07 21:00:00</td>\n    </tr>\n    <tr>\n      <th>325749</th>\n      <td>2013</td>\n      <td>9</td>\n      <td>19</td>\n      <td>648.0</td>\n      <td>641</td>\n      <td>7.0</td>\n      <td>1035.0</td>\n      <td>810</td>\n      <td>145.0</td>\n      <td>UA</td>\n      <td>1262</td>\n      <td>N17244</td>\n      <td>EWR</td>\n      <td>ORD</td>\n      <td>169.0</td>\n      <td>719</td>\n      <td>6</td>\n      <td>41</td>\n      <td>2013-09-19 10:00:00</td>\n    </tr>\n  </tbody>\n</table>\n</div>"
     },
     "execution_count": 18,
     "metadata": {},
     "output_type": "execute_result"
    }
   ],
   "source": [
    "# combine\n",
    "(flights.query(\"dep_delay <=10 and dep_delay>=-10\")\n",
    ".sort_values(\"arr_delay\", ascending=False)\n",
    ".iloc[[0, 1, 2, 3]]\n",
    ")"
   ],
   "metadata": {
    "collapsed": false,
    "ExecuteTime": {
     "end_time": "2023-09-25T06:08:01.923232600Z",
     "start_time": "2023-09-25T06:08:01.789405400Z"
    }
   },
   "id": "afe45aee77003a91"
  },
  {
   "cell_type": "markdown",
   "source": [
    "## Manipulating Columns\n",
    "访问行：df.iloc[i]\n",
    "访问列：df.iloc[:, j]"
   ],
   "metadata": {
    "collapsed": false
   },
   "id": "cbcab0c98e592c93"
  },
  {
   "cell_type": "code",
   "execution_count": 19,
   "outputs": [
    {
     "data": {
      "text/plain": "   col0  col1  col2  col3  col4  col5       col6  new_column0\na   0.0   1.0   2.0   3.0   4.0   5.0      apple            5\nb   6.0   7.0   8.0   9.0  10.0  11.0     orange            5\nc  12.0  13.0  14.0  15.0  16.0  17.0  pineapple            5\nd  18.0  19.0  20.0  21.0  22.0  23.0      mango            5\ne  24.0  25.0  26.0  27.0  28.0  29.0       kiwi            5\nf  30.0  31.0  32.0  33.0  34.0  35.0      lemon            5",
      "text/html": "<div>\n<style scoped>\n    .dataframe tbody tr th:only-of-type {\n        vertical-align: middle;\n    }\n\n    .dataframe tbody tr th {\n        vertical-align: top;\n    }\n\n    .dataframe thead th {\n        text-align: right;\n    }\n</style>\n<table border=\"1\" class=\"dataframe\">\n  <thead>\n    <tr style=\"text-align: right;\">\n      <th></th>\n      <th>col0</th>\n      <th>col1</th>\n      <th>col2</th>\n      <th>col3</th>\n      <th>col4</th>\n      <th>col5</th>\n      <th>col6</th>\n      <th>new_column0</th>\n    </tr>\n  </thead>\n  <tbody>\n    <tr>\n      <th>a</th>\n      <td>0.0</td>\n      <td>1.0</td>\n      <td>2.0</td>\n      <td>3.0</td>\n      <td>4.0</td>\n      <td>5.0</td>\n      <td>apple</td>\n      <td>5</td>\n    </tr>\n    <tr>\n      <th>b</th>\n      <td>6.0</td>\n      <td>7.0</td>\n      <td>8.0</td>\n      <td>9.0</td>\n      <td>10.0</td>\n      <td>11.0</td>\n      <td>orange</td>\n      <td>5</td>\n    </tr>\n    <tr>\n      <th>c</th>\n      <td>12.0</td>\n      <td>13.0</td>\n      <td>14.0</td>\n      <td>15.0</td>\n      <td>16.0</td>\n      <td>17.0</td>\n      <td>pineapple</td>\n      <td>5</td>\n    </tr>\n    <tr>\n      <th>d</th>\n      <td>18.0</td>\n      <td>19.0</td>\n      <td>20.0</td>\n      <td>21.0</td>\n      <td>22.0</td>\n      <td>23.0</td>\n      <td>mango</td>\n      <td>5</td>\n    </tr>\n    <tr>\n      <th>e</th>\n      <td>24.0</td>\n      <td>25.0</td>\n      <td>26.0</td>\n      <td>27.0</td>\n      <td>28.0</td>\n      <td>29.0</td>\n      <td>kiwi</td>\n      <td>5</td>\n    </tr>\n    <tr>\n      <th>f</th>\n      <td>30.0</td>\n      <td>31.0</td>\n      <td>32.0</td>\n      <td>33.0</td>\n      <td>34.0</td>\n      <td>35.0</td>\n      <td>lemon</td>\n      <td>5</td>\n    </tr>\n  </tbody>\n</table>\n</div>"
     },
     "execution_count": 19,
     "metadata": {},
     "output_type": "execute_result"
    }
   ],
   "source": [
    "# creating new columns\n",
    "df[\"new_column0\"] = 5\n",
    "df"
   ],
   "metadata": {
    "collapsed": false,
    "ExecuteTime": {
     "end_time": "2023-09-25T06:08:01.924232700Z",
     "start_time": "2023-09-25T06:08:01.868613900Z"
    }
   },
   "id": "35090244aa6e0030"
  },
  {
   "cell_type": "code",
   "execution_count": 20,
   "outputs": [
    {
     "data": {
      "text/plain": "   col0  col1  col2  col3  col4  col5       col6  new_column0\na   0.0   1.0   2.0   3.0   4.0   5.0      apple            0\nb   6.0   7.0   8.0   9.0  10.0  11.0     orange            1\nc  12.0  13.0  14.0  15.0  16.0  17.0  pineapple            2\nd  18.0  19.0  20.0  21.0  22.0  23.0      mango            3\ne  24.0  25.0  26.0  27.0  28.0  29.0       kiwi            4\nf  30.0  31.0  32.0  33.0  34.0  35.0      lemon            5",
      "text/html": "<div>\n<style scoped>\n    .dataframe tbody tr th:only-of-type {\n        vertical-align: middle;\n    }\n\n    .dataframe tbody tr th {\n        vertical-align: top;\n    }\n\n    .dataframe thead th {\n        text-align: right;\n    }\n</style>\n<table border=\"1\" class=\"dataframe\">\n  <thead>\n    <tr style=\"text-align: right;\">\n      <th></th>\n      <th>col0</th>\n      <th>col1</th>\n      <th>col2</th>\n      <th>col3</th>\n      <th>col4</th>\n      <th>col5</th>\n      <th>col6</th>\n      <th>new_column0</th>\n    </tr>\n  </thead>\n  <tbody>\n    <tr>\n      <th>a</th>\n      <td>0.0</td>\n      <td>1.0</td>\n      <td>2.0</td>\n      <td>3.0</td>\n      <td>4.0</td>\n      <td>5.0</td>\n      <td>apple</td>\n      <td>0</td>\n    </tr>\n    <tr>\n      <th>b</th>\n      <td>6.0</td>\n      <td>7.0</td>\n      <td>8.0</td>\n      <td>9.0</td>\n      <td>10.0</td>\n      <td>11.0</td>\n      <td>orange</td>\n      <td>1</td>\n    </tr>\n    <tr>\n      <th>c</th>\n      <td>12.0</td>\n      <td>13.0</td>\n      <td>14.0</td>\n      <td>15.0</td>\n      <td>16.0</td>\n      <td>17.0</td>\n      <td>pineapple</td>\n      <td>2</td>\n    </tr>\n    <tr>\n      <th>d</th>\n      <td>18.0</td>\n      <td>19.0</td>\n      <td>20.0</td>\n      <td>21.0</td>\n      <td>22.0</td>\n      <td>23.0</td>\n      <td>mango</td>\n      <td>3</td>\n    </tr>\n    <tr>\n      <th>e</th>\n      <td>24.0</td>\n      <td>25.0</td>\n      <td>26.0</td>\n      <td>27.0</td>\n      <td>28.0</td>\n      <td>29.0</td>\n      <td>kiwi</td>\n      <td>4</td>\n    </tr>\n    <tr>\n      <th>f</th>\n      <td>30.0</td>\n      <td>31.0</td>\n      <td>32.0</td>\n      <td>33.0</td>\n      <td>34.0</td>\n      <td>35.0</td>\n      <td>lemon</td>\n      <td>5</td>\n    </tr>\n  </tbody>\n</table>\n</div>"
     },
     "execution_count": 20,
     "metadata": {},
     "output_type": "execute_result"
    }
   ],
   "source": [
    "df[\"new_column0\"] = [0, 1, 2, 3, 4, 5]\n",
    "df"
   ],
   "metadata": {
    "collapsed": false,
    "ExecuteTime": {
     "end_time": "2023-09-25T06:08:01.992763200Z",
     "start_time": "2023-09-25T06:08:01.884613300Z"
    }
   },
   "id": "6cddc2886a999498"
  },
  {
   "cell_type": "code",
   "execution_count": 21,
   "outputs": [
    {
     "data": {
      "text/plain": "   col0  col1  col2  col3  col4  col5       col6  new_column0  new_column1  \\\na   0.0   1.0   2.0   3.0   4.0   5.0      apple            0            5   \nb   6.0   7.0   8.0   9.0  10.0  11.0     orange            1            5   \nc  12.0  13.0  14.0  15.0  16.0  17.0  pineapple            2            5   \nd  18.0  19.0  20.0  21.0  22.0  23.0      mango            3            5   \ne  24.0  25.0  26.0  27.0  28.0  29.0       kiwi            4            5   \nf  30.0  31.0  32.0  33.0  34.0  35.0      lemon            5            5   \n\n   new_column2  \na            6  \nb            6  \nc            6  \nd            6  \ne            6  \nf            6  ",
      "text/html": "<div>\n<style scoped>\n    .dataframe tbody tr th:only-of-type {\n        vertical-align: middle;\n    }\n\n    .dataframe tbody tr th {\n        vertical-align: top;\n    }\n\n    .dataframe thead th {\n        text-align: right;\n    }\n</style>\n<table border=\"1\" class=\"dataframe\">\n  <thead>\n    <tr style=\"text-align: right;\">\n      <th></th>\n      <th>col0</th>\n      <th>col1</th>\n      <th>col2</th>\n      <th>col3</th>\n      <th>col4</th>\n      <th>col5</th>\n      <th>col6</th>\n      <th>new_column0</th>\n      <th>new_column1</th>\n      <th>new_column2</th>\n    </tr>\n  </thead>\n  <tbody>\n    <tr>\n      <th>a</th>\n      <td>0.0</td>\n      <td>1.0</td>\n      <td>2.0</td>\n      <td>3.0</td>\n      <td>4.0</td>\n      <td>5.0</td>\n      <td>apple</td>\n      <td>0</td>\n      <td>5</td>\n      <td>6</td>\n    </tr>\n    <tr>\n      <th>b</th>\n      <td>6.0</td>\n      <td>7.0</td>\n      <td>8.0</td>\n      <td>9.0</td>\n      <td>10.0</td>\n      <td>11.0</td>\n      <td>orange</td>\n      <td>1</td>\n      <td>5</td>\n      <td>6</td>\n    </tr>\n    <tr>\n      <th>c</th>\n      <td>12.0</td>\n      <td>13.0</td>\n      <td>14.0</td>\n      <td>15.0</td>\n      <td>16.0</td>\n      <td>17.0</td>\n      <td>pineapple</td>\n      <td>2</td>\n      <td>5</td>\n      <td>6</td>\n    </tr>\n    <tr>\n      <th>d</th>\n      <td>18.0</td>\n      <td>19.0</td>\n      <td>20.0</td>\n      <td>21.0</td>\n      <td>22.0</td>\n      <td>23.0</td>\n      <td>mango</td>\n      <td>3</td>\n      <td>5</td>\n      <td>6</td>\n    </tr>\n    <tr>\n      <th>e</th>\n      <td>24.0</td>\n      <td>25.0</td>\n      <td>26.0</td>\n      <td>27.0</td>\n      <td>28.0</td>\n      <td>29.0</td>\n      <td>kiwi</td>\n      <td>4</td>\n      <td>5</td>\n      <td>6</td>\n    </tr>\n    <tr>\n      <th>f</th>\n      <td>30.0</td>\n      <td>31.0</td>\n      <td>32.0</td>\n      <td>33.0</td>\n      <td>34.0</td>\n      <td>35.0</td>\n      <td>lemon</td>\n      <td>5</td>\n      <td>5</td>\n      <td>6</td>\n    </tr>\n  </tbody>\n</table>\n</div>"
     },
     "execution_count": 21,
     "metadata": {},
     "output_type": "execute_result"
    }
   ],
   "source": [
    "df[[\"new_column1\", \"new_column2\"]] = [5, 6]\n",
    "df"
   ],
   "metadata": {
    "collapsed": false,
    "ExecuteTime": {
     "end_time": "2023-09-25T06:08:01.993762300Z",
     "start_time": "2023-09-25T06:08:01.897614100Z"
    }
   },
   "id": "347c91dd88c84c39"
  },
  {
   "cell_type": "code",
   "execution_count": 22,
   "outputs": [
    {
     "data": {
      "text/plain": "   col0  col1  col2  col3  col4  col5       col6  new_column0  new_column1  \\\na   0.0   1.0   2.0   3.0   4.0   5.0      apple            0            5   \nb   6.0   7.0   8.0   9.0  10.0  11.0     orange            1            5   \nc  12.0  13.0  14.0  15.0  16.0  17.0  pineapple            2            5   \nd  18.0  19.0  20.0  21.0  22.0  23.0      mango            3            5   \ne  24.0  25.0  26.0  27.0  28.0  29.0       kiwi            4            5   \nf  30.0  31.0  32.0  33.0  34.0  35.0      lemon            5            5   \n\n   new_column2  new_column3  \na            6          0.0  \nb            6          5.0  \nc            6         10.0  \nd            6         15.0  \ne            6         20.0  \nf            6         25.0  ",
      "text/html": "<div>\n<style scoped>\n    .dataframe tbody tr th:only-of-type {\n        vertical-align: middle;\n    }\n\n    .dataframe tbody tr th {\n        vertical-align: top;\n    }\n\n    .dataframe thead th {\n        text-align: right;\n    }\n</style>\n<table border=\"1\" class=\"dataframe\">\n  <thead>\n    <tr style=\"text-align: right;\">\n      <th></th>\n      <th>col0</th>\n      <th>col1</th>\n      <th>col2</th>\n      <th>col3</th>\n      <th>col4</th>\n      <th>col5</th>\n      <th>col6</th>\n      <th>new_column0</th>\n      <th>new_column1</th>\n      <th>new_column2</th>\n      <th>new_column3</th>\n    </tr>\n  </thead>\n  <tbody>\n    <tr>\n      <th>a</th>\n      <td>0.0</td>\n      <td>1.0</td>\n      <td>2.0</td>\n      <td>3.0</td>\n      <td>4.0</td>\n      <td>5.0</td>\n      <td>apple</td>\n      <td>0</td>\n      <td>5</td>\n      <td>6</td>\n      <td>0.0</td>\n    </tr>\n    <tr>\n      <th>b</th>\n      <td>6.0</td>\n      <td>7.0</td>\n      <td>8.0</td>\n      <td>9.0</td>\n      <td>10.0</td>\n      <td>11.0</td>\n      <td>orange</td>\n      <td>1</td>\n      <td>5</td>\n      <td>6</td>\n      <td>5.0</td>\n    </tr>\n    <tr>\n      <th>c</th>\n      <td>12.0</td>\n      <td>13.0</td>\n      <td>14.0</td>\n      <td>15.0</td>\n      <td>16.0</td>\n      <td>17.0</td>\n      <td>pineapple</td>\n      <td>2</td>\n      <td>5</td>\n      <td>6</td>\n      <td>10.0</td>\n    </tr>\n    <tr>\n      <th>d</th>\n      <td>18.0</td>\n      <td>19.0</td>\n      <td>20.0</td>\n      <td>21.0</td>\n      <td>22.0</td>\n      <td>23.0</td>\n      <td>mango</td>\n      <td>3</td>\n      <td>5</td>\n      <td>6</td>\n      <td>15.0</td>\n    </tr>\n    <tr>\n      <th>e</th>\n      <td>24.0</td>\n      <td>25.0</td>\n      <td>26.0</td>\n      <td>27.0</td>\n      <td>28.0</td>\n      <td>29.0</td>\n      <td>kiwi</td>\n      <td>4</td>\n      <td>5</td>\n      <td>6</td>\n      <td>20.0</td>\n    </tr>\n    <tr>\n      <th>f</th>\n      <td>30.0</td>\n      <td>31.0</td>\n      <td>32.0</td>\n      <td>33.0</td>\n      <td>34.0</td>\n      <td>35.0</td>\n      <td>lemon</td>\n      <td>5</td>\n      <td>5</td>\n      <td>6</td>\n      <td>25.0</td>\n    </tr>\n  </tbody>\n</table>\n</div>"
     },
     "execution_count": 22,
     "metadata": {},
     "output_type": "execute_result"
    }
   ],
   "source": [
    "df[\"new_column3\"] = df[\"col0\"] - df[\"new_column0\"]\n",
    "df"
   ],
   "metadata": {
    "collapsed": false,
    "ExecuteTime": {
     "end_time": "2023-09-25T06:08:02.009763800Z",
     "start_time": "2023-09-25T06:08:01.914613600Z"
    }
   },
   "id": "5e92343cdb65c74b"
  },
  {
   "cell_type": "code",
   "execution_count": 23,
   "outputs": [
    {
     "data": {
      "text/plain": "        year  month  day  dep_time  sched_dep_time  dep_delay  arr_time  \\\n0       2013      1    1     517.0             515        2.0     830.0   \n1       2013      1    1     533.0             529        4.0     850.0   \n2       2013      1    1     542.0             540        2.0     923.0   \n3       2013      1    1     544.0             545       -1.0    1004.0   \n4       2013      1    1     554.0             600       -6.0     812.0   \n...      ...    ...  ...       ...             ...        ...       ...   \n336771  2013      9   30       NaN            1455        NaN       NaN   \n336772  2013      9   30       NaN            2200        NaN       NaN   \n336773  2013      9   30       NaN            1210        NaN       NaN   \n336774  2013      9   30       NaN            1159        NaN       NaN   \n336775  2013      9   30       NaN             840        NaN       NaN   \n\n        sched_arr_time  arr_delay carrier  ...  tailnum origin dest air_time  \\\n0                  819       11.0      UA  ...   N14228    EWR  IAH    227.0   \n1                  830       20.0      UA  ...   N24211    LGA  IAH    227.0   \n2                  850       33.0      AA  ...   N619AA    JFK  MIA    160.0   \n3                 1022      -18.0      B6  ...   N804JB    JFK  BQN    183.0   \n4                  837      -25.0      DL  ...   N668DN    LGA  ATL    116.0   \n...                ...        ...     ...  ...      ...    ...  ...      ...   \n336771            1634        NaN      9E  ...      NaN    JFK  DCA      NaN   \n336772            2312        NaN      9E  ...      NaN    LGA  SYR      NaN   \n336773            1330        NaN      MQ  ...   N535MQ    LGA  BNA      NaN   \n336774            1344        NaN      MQ  ...   N511MQ    LGA  CLE      NaN   \n336775            1020        NaN      MQ  ...   N839MQ    LGA  RDU      NaN   \n\n        distance  hour  minute           time_hour  gain       speed  \n0           1400     5      15 2013-01-01 10:00:00  -9.0  370.044053  \n1           1416     5      29 2013-01-01 10:00:00 -16.0  374.273128  \n2           1089     5      40 2013-01-01 10:00:00 -31.0  408.375000  \n3           1576     5      45 2013-01-01 10:00:00  17.0  516.721311  \n4            762     6       0 2013-01-01 11:00:00  19.0  394.137931  \n...          ...   ...     ...                 ...   ...         ...  \n336771       213    14      55 2013-09-30 18:00:00   NaN         NaN  \n336772       198    22       0 2013-10-01 02:00:00   NaN         NaN  \n336773       764    12      10 2013-09-30 16:00:00   NaN         NaN  \n336774       419    11      59 2013-09-30 15:00:00   NaN         NaN  \n336775       431     8      40 2013-09-30 12:00:00   NaN         NaN  \n\n[336776 rows x 21 columns]",
      "text/html": "<div>\n<style scoped>\n    .dataframe tbody tr th:only-of-type {\n        vertical-align: middle;\n    }\n\n    .dataframe tbody tr th {\n        vertical-align: top;\n    }\n\n    .dataframe thead th {\n        text-align: right;\n    }\n</style>\n<table border=\"1\" class=\"dataframe\">\n  <thead>\n    <tr style=\"text-align: right;\">\n      <th></th>\n      <th>year</th>\n      <th>month</th>\n      <th>day</th>\n      <th>dep_time</th>\n      <th>sched_dep_time</th>\n      <th>dep_delay</th>\n      <th>arr_time</th>\n      <th>sched_arr_time</th>\n      <th>arr_delay</th>\n      <th>carrier</th>\n      <th>...</th>\n      <th>tailnum</th>\n      <th>origin</th>\n      <th>dest</th>\n      <th>air_time</th>\n      <th>distance</th>\n      <th>hour</th>\n      <th>minute</th>\n      <th>time_hour</th>\n      <th>gain</th>\n      <th>speed</th>\n    </tr>\n  </thead>\n  <tbody>\n    <tr>\n      <th>0</th>\n      <td>2013</td>\n      <td>1</td>\n      <td>1</td>\n      <td>517.0</td>\n      <td>515</td>\n      <td>2.0</td>\n      <td>830.0</td>\n      <td>819</td>\n      <td>11.0</td>\n      <td>UA</td>\n      <td>...</td>\n      <td>N14228</td>\n      <td>EWR</td>\n      <td>IAH</td>\n      <td>227.0</td>\n      <td>1400</td>\n      <td>5</td>\n      <td>15</td>\n      <td>2013-01-01 10:00:00</td>\n      <td>-9.0</td>\n      <td>370.044053</td>\n    </tr>\n    <tr>\n      <th>1</th>\n      <td>2013</td>\n      <td>1</td>\n      <td>1</td>\n      <td>533.0</td>\n      <td>529</td>\n      <td>4.0</td>\n      <td>850.0</td>\n      <td>830</td>\n      <td>20.0</td>\n      <td>UA</td>\n      <td>...</td>\n      <td>N24211</td>\n      <td>LGA</td>\n      <td>IAH</td>\n      <td>227.0</td>\n      <td>1416</td>\n      <td>5</td>\n      <td>29</td>\n      <td>2013-01-01 10:00:00</td>\n      <td>-16.0</td>\n      <td>374.273128</td>\n    </tr>\n    <tr>\n      <th>2</th>\n      <td>2013</td>\n      <td>1</td>\n      <td>1</td>\n      <td>542.0</td>\n      <td>540</td>\n      <td>2.0</td>\n      <td>923.0</td>\n      <td>850</td>\n      <td>33.0</td>\n      <td>AA</td>\n      <td>...</td>\n      <td>N619AA</td>\n      <td>JFK</td>\n      <td>MIA</td>\n      <td>160.0</td>\n      <td>1089</td>\n      <td>5</td>\n      <td>40</td>\n      <td>2013-01-01 10:00:00</td>\n      <td>-31.0</td>\n      <td>408.375000</td>\n    </tr>\n    <tr>\n      <th>3</th>\n      <td>2013</td>\n      <td>1</td>\n      <td>1</td>\n      <td>544.0</td>\n      <td>545</td>\n      <td>-1.0</td>\n      <td>1004.0</td>\n      <td>1022</td>\n      <td>-18.0</td>\n      <td>B6</td>\n      <td>...</td>\n      <td>N804JB</td>\n      <td>JFK</td>\n      <td>BQN</td>\n      <td>183.0</td>\n      <td>1576</td>\n      <td>5</td>\n      <td>45</td>\n      <td>2013-01-01 10:00:00</td>\n      <td>17.0</td>\n      <td>516.721311</td>\n    </tr>\n    <tr>\n      <th>4</th>\n      <td>2013</td>\n      <td>1</td>\n      <td>1</td>\n      <td>554.0</td>\n      <td>600</td>\n      <td>-6.0</td>\n      <td>812.0</td>\n      <td>837</td>\n      <td>-25.0</td>\n      <td>DL</td>\n      <td>...</td>\n      <td>N668DN</td>\n      <td>LGA</td>\n      <td>ATL</td>\n      <td>116.0</td>\n      <td>762</td>\n      <td>6</td>\n      <td>0</td>\n      <td>2013-01-01 11:00:00</td>\n      <td>19.0</td>\n      <td>394.137931</td>\n    </tr>\n    <tr>\n      <th>...</th>\n      <td>...</td>\n      <td>...</td>\n      <td>...</td>\n      <td>...</td>\n      <td>...</td>\n      <td>...</td>\n      <td>...</td>\n      <td>...</td>\n      <td>...</td>\n      <td>...</td>\n      <td>...</td>\n      <td>...</td>\n      <td>...</td>\n      <td>...</td>\n      <td>...</td>\n      <td>...</td>\n      <td>...</td>\n      <td>...</td>\n      <td>...</td>\n      <td>...</td>\n      <td>...</td>\n    </tr>\n    <tr>\n      <th>336771</th>\n      <td>2013</td>\n      <td>9</td>\n      <td>30</td>\n      <td>NaN</td>\n      <td>1455</td>\n      <td>NaN</td>\n      <td>NaN</td>\n      <td>1634</td>\n      <td>NaN</td>\n      <td>9E</td>\n      <td>...</td>\n      <td>NaN</td>\n      <td>JFK</td>\n      <td>DCA</td>\n      <td>NaN</td>\n      <td>213</td>\n      <td>14</td>\n      <td>55</td>\n      <td>2013-09-30 18:00:00</td>\n      <td>NaN</td>\n      <td>NaN</td>\n    </tr>\n    <tr>\n      <th>336772</th>\n      <td>2013</td>\n      <td>9</td>\n      <td>30</td>\n      <td>NaN</td>\n      <td>2200</td>\n      <td>NaN</td>\n      <td>NaN</td>\n      <td>2312</td>\n      <td>NaN</td>\n      <td>9E</td>\n      <td>...</td>\n      <td>NaN</td>\n      <td>LGA</td>\n      <td>SYR</td>\n      <td>NaN</td>\n      <td>198</td>\n      <td>22</td>\n      <td>0</td>\n      <td>2013-10-01 02:00:00</td>\n      <td>NaN</td>\n      <td>NaN</td>\n    </tr>\n    <tr>\n      <th>336773</th>\n      <td>2013</td>\n      <td>9</td>\n      <td>30</td>\n      <td>NaN</td>\n      <td>1210</td>\n      <td>NaN</td>\n      <td>NaN</td>\n      <td>1330</td>\n      <td>NaN</td>\n      <td>MQ</td>\n      <td>...</td>\n      <td>N535MQ</td>\n      <td>LGA</td>\n      <td>BNA</td>\n      <td>NaN</td>\n      <td>764</td>\n      <td>12</td>\n      <td>10</td>\n      <td>2013-09-30 16:00:00</td>\n      <td>NaN</td>\n      <td>NaN</td>\n    </tr>\n    <tr>\n      <th>336774</th>\n      <td>2013</td>\n      <td>9</td>\n      <td>30</td>\n      <td>NaN</td>\n      <td>1159</td>\n      <td>NaN</td>\n      <td>NaN</td>\n      <td>1344</td>\n      <td>NaN</td>\n      <td>MQ</td>\n      <td>...</td>\n      <td>N511MQ</td>\n      <td>LGA</td>\n      <td>CLE</td>\n      <td>NaN</td>\n      <td>419</td>\n      <td>11</td>\n      <td>59</td>\n      <td>2013-09-30 15:00:00</td>\n      <td>NaN</td>\n      <td>NaN</td>\n    </tr>\n    <tr>\n      <th>336775</th>\n      <td>2013</td>\n      <td>9</td>\n      <td>30</td>\n      <td>NaN</td>\n      <td>840</td>\n      <td>NaN</td>\n      <td>NaN</td>\n      <td>1020</td>\n      <td>NaN</td>\n      <td>MQ</td>\n      <td>...</td>\n      <td>N839MQ</td>\n      <td>LGA</td>\n      <td>RDU</td>\n      <td>NaN</td>\n      <td>431</td>\n      <td>8</td>\n      <td>40</td>\n      <td>2013-09-30 12:00:00</td>\n      <td>NaN</td>\n      <td>NaN</td>\n    </tr>\n  </tbody>\n</table>\n<p>336776 rows × 21 columns</p>\n</div>"
     },
     "execution_count": 23,
     "metadata": {},
     "output_type": "execute_result"
    }
   ],
   "source": [
    "(\n",
    "    flights.assign(\n",
    "        gain=lambda row: row[\"dep_delay\"] - row[\"arr_delay\"],\n",
    "        speed=lambda row: row[\"distance\"] / row[\"air_time\"] * 60,\n",
    "    )\n",
    ")"
   ],
   "metadata": {
    "collapsed": false,
    "ExecuteTime": {
     "end_time": "2023-09-25T06:08:02.175421200Z",
     "start_time": "2023-09-25T06:08:01.931231500Z"
    }
   },
   "id": "413576e518e98298"
  },
  {
   "cell_type": "markdown",
   "source": [
    "## Accessing Columns"
   ],
   "metadata": {
    "collapsed": false
   },
   "id": "d2e35732be9be411"
  },
  {
   "cell_type": "code",
   "execution_count": 24,
   "outputs": [
    {
     "data": {
      "text/plain": "a     0.0\nb     6.0\nc    12.0\nd    18.0\ne    24.0\nf    30.0\nName: col0, dtype: float64"
     },
     "execution_count": 24,
     "metadata": {},
     "output_type": "execute_result"
    }
   ],
   "source": [
    "df[\"col0\"]"
   ],
   "metadata": {
    "collapsed": false,
    "ExecuteTime": {
     "end_time": "2023-09-25T06:08:02.201927300Z",
     "start_time": "2023-09-25T06:08:02.070090800Z"
    }
   },
   "id": "95e9e035f4f49f1"
  },
  {
   "cell_type": "code",
   "execution_count": 25,
   "outputs": [
    {
     "data": {
      "text/plain": "   col0  new_column0  col2\na   0.0            0   2.0\nb   6.0            1   8.0\nc  12.0            2  14.0\nd  18.0            3  20.0\ne  24.0            4  26.0\nf  30.0            5  32.0",
      "text/html": "<div>\n<style scoped>\n    .dataframe tbody tr th:only-of-type {\n        vertical-align: middle;\n    }\n\n    .dataframe tbody tr th {\n        vertical-align: top;\n    }\n\n    .dataframe thead th {\n        text-align: right;\n    }\n</style>\n<table border=\"1\" class=\"dataframe\">\n  <thead>\n    <tr style=\"text-align: right;\">\n      <th></th>\n      <th>col0</th>\n      <th>new_column0</th>\n      <th>col2</th>\n    </tr>\n  </thead>\n  <tbody>\n    <tr>\n      <th>a</th>\n      <td>0.0</td>\n      <td>0</td>\n      <td>2.0</td>\n    </tr>\n    <tr>\n      <th>b</th>\n      <td>6.0</td>\n      <td>1</td>\n      <td>8.0</td>\n    </tr>\n    <tr>\n      <th>c</th>\n      <td>12.0</td>\n      <td>2</td>\n      <td>14.0</td>\n    </tr>\n    <tr>\n      <th>d</th>\n      <td>18.0</td>\n      <td>3</td>\n      <td>20.0</td>\n    </tr>\n    <tr>\n      <th>e</th>\n      <td>24.0</td>\n      <td>4</td>\n      <td>26.0</td>\n    </tr>\n    <tr>\n      <th>f</th>\n      <td>30.0</td>\n      <td>5</td>\n      <td>32.0</td>\n    </tr>\n  </tbody>\n</table>\n</div>"
     },
     "execution_count": 25,
     "metadata": {},
     "output_type": "execute_result"
    }
   ],
   "source": [
    "# multiple columns\n",
    "df[[\"col0\", \"new_column0\", \"col2\"]]"
   ],
   "metadata": {
    "collapsed": false,
    "ExecuteTime": {
     "end_time": "2023-09-25T06:08:02.220927200Z",
     "start_time": "2023-09-25T06:08:02.085528900Z"
    }
   },
   "id": "5754971ab9ffc0cf"
  },
  {
   "cell_type": "code",
   "execution_count": 26,
   "outputs": [
    {
     "data": {
      "text/plain": "   col0  new_column0  col2\na   0.0            0   2.0\nb   6.0            1   8.0",
      "text/html": "<div>\n<style scoped>\n    .dataframe tbody tr th:only-of-type {\n        vertical-align: middle;\n    }\n\n    .dataframe tbody tr th {\n        vertical-align: top;\n    }\n\n    .dataframe thead th {\n        text-align: right;\n    }\n</style>\n<table border=\"1\" class=\"dataframe\">\n  <thead>\n    <tr style=\"text-align: right;\">\n      <th></th>\n      <th>col0</th>\n      <th>new_column0</th>\n      <th>col2</th>\n    </tr>\n  </thead>\n  <tbody>\n    <tr>\n      <th>a</th>\n      <td>0.0</td>\n      <td>0</td>\n      <td>2.0</td>\n    </tr>\n    <tr>\n      <th>b</th>\n      <td>6.0</td>\n      <td>1</td>\n      <td>8.0</td>\n    </tr>\n  </tbody>\n</table>\n</div>"
     },
     "execution_count": 26,
     "metadata": {},
     "output_type": "execute_result"
    }
   ],
   "source": [
    "# particular columns\n",
    "df.loc[[\"a\", \"b\"], [\"col0\", \"new_column0\", \"col2\"]]"
   ],
   "metadata": {
    "collapsed": false,
    "ExecuteTime": {
     "end_time": "2023-09-25T06:08:02.259927300Z",
     "start_time": "2023-09-25T06:08:02.100582600Z"
    }
   },
   "id": "cd40d88bb087746f"
  },
  {
   "cell_type": "code",
   "execution_count": 27,
   "outputs": [
    {
     "data": {
      "text/plain": "   col0  col1\na   0.0   1.0\nb   6.0   7.0\nc  12.0  13.0\nd  18.0  19.0\ne  24.0  25.0\nf  30.0  31.0",
      "text/html": "<div>\n<style scoped>\n    .dataframe tbody tr th:only-of-type {\n        vertical-align: middle;\n    }\n\n    .dataframe tbody tr th {\n        vertical-align: top;\n    }\n\n    .dataframe thead th {\n        text-align: right;\n    }\n</style>\n<table border=\"1\" class=\"dataframe\">\n  <thead>\n    <tr style=\"text-align: right;\">\n      <th></th>\n      <th>col0</th>\n      <th>col1</th>\n    </tr>\n  </thead>\n  <tbody>\n    <tr>\n      <th>a</th>\n      <td>0.0</td>\n      <td>1.0</td>\n    </tr>\n    <tr>\n      <th>b</th>\n      <td>6.0</td>\n      <td>7.0</td>\n    </tr>\n    <tr>\n      <th>c</th>\n      <td>12.0</td>\n      <td>13.0</td>\n    </tr>\n    <tr>\n      <th>d</th>\n      <td>18.0</td>\n      <td>19.0</td>\n    </tr>\n    <tr>\n      <th>e</th>\n      <td>24.0</td>\n      <td>25.0</td>\n    </tr>\n    <tr>\n      <th>f</th>\n      <td>30.0</td>\n      <td>31.0</td>\n    </tr>\n  </tbody>\n</table>\n</div>"
     },
     "execution_count": 27,
     "metadata": {},
     "output_type": "execute_result"
    }
   ],
   "source": [
    "df.iloc[:, [0, 1]]"
   ],
   "metadata": {
    "collapsed": false,
    "ExecuteTime": {
     "end_time": "2023-09-25T06:08:02.280927500Z",
     "start_time": "2023-09-25T06:08:02.116902500Z"
    }
   },
   "id": "11553f2a1c0e90db"
  },
  {
   "cell_type": "code",
   "execution_count": 28,
   "outputs": [
    {
     "data": {
      "text/plain": "        year  month  day  sched_dep_time  sched_arr_time  flight  distance  \\\n0       2013      1    1             515             819    1545      1400   \n1       2013      1    1             529             830    1714      1416   \n2       2013      1    1             540             850    1141      1089   \n3       2013      1    1             545            1022     725      1576   \n4       2013      1    1             600             837     461       762   \n...      ...    ...  ...             ...             ...     ...       ...   \n336771  2013      9   30            1455            1634    3393       213   \n336772  2013      9   30            2200            2312    3525       198   \n336773  2013      9   30            1210            1330    3461       764   \n336774  2013      9   30            1159            1344    3572       419   \n336775  2013      9   30             840            1020    3531       431   \n\n        hour  minute  \n0          5      15  \n1          5      29  \n2          5      40  \n3          5      45  \n4          6       0  \n...      ...     ...  \n336771    14      55  \n336772    22       0  \n336773    12      10  \n336774    11      59  \n336775     8      40  \n\n[336776 rows x 9 columns]",
      "text/html": "<div>\n<style scoped>\n    .dataframe tbody tr th:only-of-type {\n        vertical-align: middle;\n    }\n\n    .dataframe tbody tr th {\n        vertical-align: top;\n    }\n\n    .dataframe thead th {\n        text-align: right;\n    }\n</style>\n<table border=\"1\" class=\"dataframe\">\n  <thead>\n    <tr style=\"text-align: right;\">\n      <th></th>\n      <th>year</th>\n      <th>month</th>\n      <th>day</th>\n      <th>sched_dep_time</th>\n      <th>sched_arr_time</th>\n      <th>flight</th>\n      <th>distance</th>\n      <th>hour</th>\n      <th>minute</th>\n    </tr>\n  </thead>\n  <tbody>\n    <tr>\n      <th>0</th>\n      <td>2013</td>\n      <td>1</td>\n      <td>1</td>\n      <td>515</td>\n      <td>819</td>\n      <td>1545</td>\n      <td>1400</td>\n      <td>5</td>\n      <td>15</td>\n    </tr>\n    <tr>\n      <th>1</th>\n      <td>2013</td>\n      <td>1</td>\n      <td>1</td>\n      <td>529</td>\n      <td>830</td>\n      <td>1714</td>\n      <td>1416</td>\n      <td>5</td>\n      <td>29</td>\n    </tr>\n    <tr>\n      <th>2</th>\n      <td>2013</td>\n      <td>1</td>\n      <td>1</td>\n      <td>540</td>\n      <td>850</td>\n      <td>1141</td>\n      <td>1089</td>\n      <td>5</td>\n      <td>40</td>\n    </tr>\n    <tr>\n      <th>3</th>\n      <td>2013</td>\n      <td>1</td>\n      <td>1</td>\n      <td>545</td>\n      <td>1022</td>\n      <td>725</td>\n      <td>1576</td>\n      <td>5</td>\n      <td>45</td>\n    </tr>\n    <tr>\n      <th>4</th>\n      <td>2013</td>\n      <td>1</td>\n      <td>1</td>\n      <td>600</td>\n      <td>837</td>\n      <td>461</td>\n      <td>762</td>\n      <td>6</td>\n      <td>0</td>\n    </tr>\n    <tr>\n      <th>...</th>\n      <td>...</td>\n      <td>...</td>\n      <td>...</td>\n      <td>...</td>\n      <td>...</td>\n      <td>...</td>\n      <td>...</td>\n      <td>...</td>\n      <td>...</td>\n    </tr>\n    <tr>\n      <th>336771</th>\n      <td>2013</td>\n      <td>9</td>\n      <td>30</td>\n      <td>1455</td>\n      <td>1634</td>\n      <td>3393</td>\n      <td>213</td>\n      <td>14</td>\n      <td>55</td>\n    </tr>\n    <tr>\n      <th>336772</th>\n      <td>2013</td>\n      <td>9</td>\n      <td>30</td>\n      <td>2200</td>\n      <td>2312</td>\n      <td>3525</td>\n      <td>198</td>\n      <td>22</td>\n      <td>0</td>\n    </tr>\n    <tr>\n      <th>336773</th>\n      <td>2013</td>\n      <td>9</td>\n      <td>30</td>\n      <td>1210</td>\n      <td>1330</td>\n      <td>3461</td>\n      <td>764</td>\n      <td>12</td>\n      <td>10</td>\n    </tr>\n    <tr>\n      <th>336774</th>\n      <td>2013</td>\n      <td>9</td>\n      <td>30</td>\n      <td>1159</td>\n      <td>1344</td>\n      <td>3572</td>\n      <td>419</td>\n      <td>11</td>\n      <td>59</td>\n    </tr>\n    <tr>\n      <th>336775</th>\n      <td>2013</td>\n      <td>9</td>\n      <td>30</td>\n      <td>840</td>\n      <td>1020</td>\n      <td>3531</td>\n      <td>431</td>\n      <td>8</td>\n      <td>40</td>\n    </tr>\n  </tbody>\n</table>\n<p>336776 rows × 9 columns</p>\n</div>"
     },
     "execution_count": 28,
     "metadata": {},
     "output_type": "execute_result"
    }
   ],
   "source": [
    "# use types\n",
    "flights.select_dtypes(\"int64\")"
   ],
   "metadata": {
    "collapsed": false,
    "ExecuteTime": {
     "end_time": "2023-09-25T06:08:02.310621Z",
     "start_time": "2023-09-25T06:08:02.131115700Z"
    }
   },
   "id": "b0d1adbae26fe111"
  },
  {
   "cell_type": "code",
   "execution_count": 29,
   "outputs": [
    {
     "name": "stdout",
     "output_type": "stream",
     "text": [
      "The selection from the data frame:\n"
     ]
    },
    {
     "data": {
      "text/plain": "   new_column0  new_column1  new_column2  new_column3\na            0            5            6          0.0\nb            1            5            6          5.0\nc            2            5            6         10.0\nd            3            5            6         15.0\ne            4            5            6         20.0\nf            5            5            6         25.0",
      "text/html": "<div>\n<style scoped>\n    .dataframe tbody tr th:only-of-type {\n        vertical-align: middle;\n    }\n\n    .dataframe tbody tr th {\n        vertical-align: top;\n    }\n\n    .dataframe thead th {\n        text-align: right;\n    }\n</style>\n<table border=\"1\" class=\"dataframe\">\n  <thead>\n    <tr style=\"text-align: right;\">\n      <th></th>\n      <th>new_column0</th>\n      <th>new_column1</th>\n      <th>new_column2</th>\n      <th>new_column3</th>\n    </tr>\n  </thead>\n  <tbody>\n    <tr>\n      <th>a</th>\n      <td>0</td>\n      <td>5</td>\n      <td>6</td>\n      <td>0.0</td>\n    </tr>\n    <tr>\n      <th>b</th>\n      <td>1</td>\n      <td>5</td>\n      <td>6</td>\n      <td>5.0</td>\n    </tr>\n    <tr>\n      <th>c</th>\n      <td>2</td>\n      <td>5</td>\n      <td>6</td>\n      <td>10.0</td>\n    </tr>\n    <tr>\n      <th>d</th>\n      <td>3</td>\n      <td>5</td>\n      <td>6</td>\n      <td>15.0</td>\n    </tr>\n    <tr>\n      <th>e</th>\n      <td>4</td>\n      <td>5</td>\n      <td>6</td>\n      <td>20.0</td>\n    </tr>\n    <tr>\n      <th>f</th>\n      <td>5</td>\n      <td>5</td>\n      <td>6</td>\n      <td>25.0</td>\n    </tr>\n  </tbody>\n</table>\n</div>"
     },
     "execution_count": 29,
     "metadata": {},
     "output_type": "execute_result"
    }
   ],
   "source": [
    "print(\"The selection from the data frame:\")\n",
    "df.loc[:, df.columns.str.startswith(\"new\")]"
   ],
   "metadata": {
    "collapsed": false,
    "ExecuteTime": {
     "end_time": "2023-09-25T06:08:02.322995300Z",
     "start_time": "2023-09-25T06:08:02.146327500Z"
    }
   },
   "id": "e6f94d082a784deb"
  },
  {
   "cell_type": "markdown",
   "source": [
    "## Renaming Columns"
   ],
   "metadata": {
    "collapsed": false
   },
   "id": "e9c3ad9a51b4676f"
  },
  {
   "cell_type": "code",
   "execution_count": 30,
   "outputs": [
    {
     "name": "stdout",
     "output_type": "stream",
     "text": [
      "   col0  col1  col2  col3  col4  col5       col6  new_column0  new_column1  \\\n",
      "a   0.0   1.0   2.0   3.0   4.0   5.0      apple            0            5   \n",
      "b   6.0   7.0   8.0   9.0  10.0  11.0     orange            1            5   \n",
      "c  12.0  13.0  14.0  15.0  16.0  17.0  pineapple            2            5   \n",
      "d  18.0  19.0  20.0  21.0  22.0  23.0      mango            3            5   \n",
      "e  24.0  25.0  26.0  27.0  28.0  29.0       kiwi            4            5   \n",
      "f  30.0  31.0  32.0  33.0  34.0  35.0      lemon            5            5   \n",
      "\n",
      "   new_column2  new_column3  \n",
      "a            6          0.0  \n",
      "b            6          5.0  \n",
      "c            6         10.0  \n",
      "d            6         15.0  \n",
      "e            6         20.0  \n",
      "f            6         25.0  \n"
     ]
    },
    {
     "data": {
      "text/plain": "   col0  col1  col2  letters  names  col5      fruit  new_column0  \\\na   0.0   1.0   2.0      3.0    4.0   5.0      apple            0   \nb   6.0   7.0   8.0      9.0   10.0  11.0     orange            1   \nc  12.0  13.0  14.0     15.0   16.0  17.0  pineapple            2   \nd  18.0  19.0  20.0     21.0   22.0  23.0      mango            3   \ne  24.0  25.0  26.0     27.0   28.0  29.0       kiwi            4   \nf  30.0  31.0  32.0     33.0   34.0  35.0      lemon            5   \n\n   new_column1  new_column2  new_column3  \na            5            6          0.0  \nb            5            6          5.0  \nc            5            6         10.0  \nd            5            6         15.0  \ne            5            6         20.0  \nf            5            6         25.0  ",
      "text/html": "<div>\n<style scoped>\n    .dataframe tbody tr th:only-of-type {\n        vertical-align: middle;\n    }\n\n    .dataframe tbody tr th {\n        vertical-align: top;\n    }\n\n    .dataframe thead th {\n        text-align: right;\n    }\n</style>\n<table border=\"1\" class=\"dataframe\">\n  <thead>\n    <tr style=\"text-align: right;\">\n      <th></th>\n      <th>col0</th>\n      <th>col1</th>\n      <th>col2</th>\n      <th>letters</th>\n      <th>names</th>\n      <th>col5</th>\n      <th>fruit</th>\n      <th>new_column0</th>\n      <th>new_column1</th>\n      <th>new_column2</th>\n      <th>new_column3</th>\n    </tr>\n  </thead>\n  <tbody>\n    <tr>\n      <th>a</th>\n      <td>0.0</td>\n      <td>1.0</td>\n      <td>2.0</td>\n      <td>3.0</td>\n      <td>4.0</td>\n      <td>5.0</td>\n      <td>apple</td>\n      <td>0</td>\n      <td>5</td>\n      <td>6</td>\n      <td>0.0</td>\n    </tr>\n    <tr>\n      <th>b</th>\n      <td>6.0</td>\n      <td>7.0</td>\n      <td>8.0</td>\n      <td>9.0</td>\n      <td>10.0</td>\n      <td>11.0</td>\n      <td>orange</td>\n      <td>1</td>\n      <td>5</td>\n      <td>6</td>\n      <td>5.0</td>\n    </tr>\n    <tr>\n      <th>c</th>\n      <td>12.0</td>\n      <td>13.0</td>\n      <td>14.0</td>\n      <td>15.0</td>\n      <td>16.0</td>\n      <td>17.0</td>\n      <td>pineapple</td>\n      <td>2</td>\n      <td>5</td>\n      <td>6</td>\n      <td>10.0</td>\n    </tr>\n    <tr>\n      <th>d</th>\n      <td>18.0</td>\n      <td>19.0</td>\n      <td>20.0</td>\n      <td>21.0</td>\n      <td>22.0</td>\n      <td>23.0</td>\n      <td>mango</td>\n      <td>3</td>\n      <td>5</td>\n      <td>6</td>\n      <td>15.0</td>\n    </tr>\n    <tr>\n      <th>e</th>\n      <td>24.0</td>\n      <td>25.0</td>\n      <td>26.0</td>\n      <td>27.0</td>\n      <td>28.0</td>\n      <td>29.0</td>\n      <td>kiwi</td>\n      <td>4</td>\n      <td>5</td>\n      <td>6</td>\n      <td>20.0</td>\n    </tr>\n    <tr>\n      <th>f</th>\n      <td>30.0</td>\n      <td>31.0</td>\n      <td>32.0</td>\n      <td>33.0</td>\n      <td>34.0</td>\n      <td>35.0</td>\n      <td>lemon</td>\n      <td>5</td>\n      <td>5</td>\n      <td>6</td>\n      <td>25.0</td>\n    </tr>\n  </tbody>\n</table>\n</div>"
     },
     "execution_count": 30,
     "metadata": {},
     "output_type": "execute_result"
    }
   ],
   "source": [
    "print(df)\n",
    "df.rename(columns={\"col3\": \"letters\", \"col4\": \"names\", \"col6\": \"fruit\"})"
   ],
   "metadata": {
    "collapsed": false,
    "ExecuteTime": {
     "end_time": "2023-09-25T06:08:02.339310600Z",
     "start_time": "2023-09-25T06:08:02.163018200Z"
    }
   },
   "id": "b30b6ee9fad3dc1d"
  },
  {
   "cell_type": "code",
   "execution_count": 31,
   "outputs": [
    {
     "data": {
      "text/plain": "   Col0  Col1  Col2  Col3  Col4  Col5       Col6  New_column0  New_column1  \\\na   0.0   1.0   2.0   3.0   4.0   5.0      apple            0            5   \nb   6.0   7.0   8.0   9.0  10.0  11.0     orange            1            5   \nc  12.0  13.0  14.0  15.0  16.0  17.0  pineapple            2            5   \nd  18.0  19.0  20.0  21.0  22.0  23.0      mango            3            5   \ne  24.0  25.0  26.0  27.0  28.0  29.0       kiwi            4            5   \nf  30.0  31.0  32.0  33.0  34.0  35.0      lemon            5            5   \n\n   New_column2  New_column3  \na            6          0.0  \nb            6          5.0  \nc            6         10.0  \nd            6         15.0  \ne            6         20.0  \nf            6         25.0  ",
      "text/html": "<div>\n<style scoped>\n    .dataframe tbody tr th:only-of-type {\n        vertical-align: middle;\n    }\n\n    .dataframe tbody tr th {\n        vertical-align: top;\n    }\n\n    .dataframe thead th {\n        text-align: right;\n    }\n</style>\n<table border=\"1\" class=\"dataframe\">\n  <thead>\n    <tr style=\"text-align: right;\">\n      <th></th>\n      <th>Col0</th>\n      <th>Col1</th>\n      <th>Col2</th>\n      <th>Col3</th>\n      <th>Col4</th>\n      <th>Col5</th>\n      <th>Col6</th>\n      <th>New_column0</th>\n      <th>New_column1</th>\n      <th>New_column2</th>\n      <th>New_column3</th>\n    </tr>\n  </thead>\n  <tbody>\n    <tr>\n      <th>a</th>\n      <td>0.0</td>\n      <td>1.0</td>\n      <td>2.0</td>\n      <td>3.0</td>\n      <td>4.0</td>\n      <td>5.0</td>\n      <td>apple</td>\n      <td>0</td>\n      <td>5</td>\n      <td>6</td>\n      <td>0.0</td>\n    </tr>\n    <tr>\n      <th>b</th>\n      <td>6.0</td>\n      <td>7.0</td>\n      <td>8.0</td>\n      <td>9.0</td>\n      <td>10.0</td>\n      <td>11.0</td>\n      <td>orange</td>\n      <td>1</td>\n      <td>5</td>\n      <td>6</td>\n      <td>5.0</td>\n    </tr>\n    <tr>\n      <th>c</th>\n      <td>12.0</td>\n      <td>13.0</td>\n      <td>14.0</td>\n      <td>15.0</td>\n      <td>16.0</td>\n      <td>17.0</td>\n      <td>pineapple</td>\n      <td>2</td>\n      <td>5</td>\n      <td>6</td>\n      <td>10.0</td>\n    </tr>\n    <tr>\n      <th>d</th>\n      <td>18.0</td>\n      <td>19.0</td>\n      <td>20.0</td>\n      <td>21.0</td>\n      <td>22.0</td>\n      <td>23.0</td>\n      <td>mango</td>\n      <td>3</td>\n      <td>5</td>\n      <td>6</td>\n      <td>15.0</td>\n    </tr>\n    <tr>\n      <th>e</th>\n      <td>24.0</td>\n      <td>25.0</td>\n      <td>26.0</td>\n      <td>27.0</td>\n      <td>28.0</td>\n      <td>29.0</td>\n      <td>kiwi</td>\n      <td>4</td>\n      <td>5</td>\n      <td>6</td>\n      <td>20.0</td>\n    </tr>\n    <tr>\n      <th>f</th>\n      <td>30.0</td>\n      <td>31.0</td>\n      <td>32.0</td>\n      <td>33.0</td>\n      <td>34.0</td>\n      <td>35.0</td>\n      <td>lemon</td>\n      <td>5</td>\n      <td>5</td>\n      <td>6</td>\n      <td>25.0</td>\n    </tr>\n  </tbody>\n</table>\n</div>"
     },
     "execution_count": 31,
     "metadata": {},
     "output_type": "execute_result"
    }
   ],
   "source": [
    "df.columns = df.columns.str.capitalize()\n",
    "df"
   ],
   "metadata": {
    "collapsed": false,
    "ExecuteTime": {
     "end_time": "2023-09-25T06:08:02.339310600Z",
     "start_time": "2023-09-25T06:08:02.177422Z"
    }
   },
   "id": "9bfe7d94df2feb76"
  },
  {
   "cell_type": "code",
   "execution_count": 32,
   "outputs": [
    {
     "data": {
      "text/plain": "Index(['Original_column0', 'Original_column1', 'Original_column2',\n       'Original_column3', 'Original_column4', 'Original_column5',\n       'Original_column6', 'New_column0', 'New_column1', 'New_column2',\n       'New_column3'],\n      dtype='object')"
     },
     "execution_count": 32,
     "metadata": {},
     "output_type": "execute_result"
    }
   ],
   "source": [
    "df.columns.str.replace(\"Col\", \"Original_column\")"
   ],
   "metadata": {
    "collapsed": false,
    "ExecuteTime": {
     "end_time": "2023-09-25T06:08:02.386232300Z",
     "start_time": "2023-09-25T06:08:02.193670500Z"
    }
   },
   "id": "95f1cec2a83588a"
  },
  {
   "cell_type": "markdown",
   "source": [
    "## Re-ordering Columns"
   ],
   "metadata": {
    "collapsed": false
   },
   "id": "ae59ff3d61329db7"
  },
  {
   "cell_type": "code",
   "execution_count": 33,
   "outputs": [
    {
     "data": {
      "text/plain": "   col0  col1  col2  col3  col4  col5\na   0.0   1.0   2.0   3.0   4.0   5.0\nb   6.0   7.0   8.0   9.0  10.0  11.0\nc  12.0  13.0  14.0  15.0  16.0  17.0\nd  18.0  19.0  20.0  21.0  22.0  23.0\ne  24.0  25.0  26.0  27.0  28.0  29.0\nf  30.0  31.0  32.0  33.0  34.0  35.0",
      "text/html": "<div>\n<style scoped>\n    .dataframe tbody tr th:only-of-type {\n        vertical-align: middle;\n    }\n\n    .dataframe tbody tr th {\n        vertical-align: top;\n    }\n\n    .dataframe thead th {\n        text-align: right;\n    }\n</style>\n<table border=\"1\" class=\"dataframe\">\n  <thead>\n    <tr style=\"text-align: right;\">\n      <th></th>\n      <th>col0</th>\n      <th>col1</th>\n      <th>col2</th>\n      <th>col3</th>\n      <th>col4</th>\n      <th>col5</th>\n    </tr>\n  </thead>\n  <tbody>\n    <tr>\n      <th>a</th>\n      <td>0.0</td>\n      <td>1.0</td>\n      <td>2.0</td>\n      <td>3.0</td>\n      <td>4.0</td>\n      <td>5.0</td>\n    </tr>\n    <tr>\n      <th>b</th>\n      <td>6.0</td>\n      <td>7.0</td>\n      <td>8.0</td>\n      <td>9.0</td>\n      <td>10.0</td>\n      <td>11.0</td>\n    </tr>\n    <tr>\n      <th>c</th>\n      <td>12.0</td>\n      <td>13.0</td>\n      <td>14.0</td>\n      <td>15.0</td>\n      <td>16.0</td>\n      <td>17.0</td>\n    </tr>\n    <tr>\n      <th>d</th>\n      <td>18.0</td>\n      <td>19.0</td>\n      <td>20.0</td>\n      <td>21.0</td>\n      <td>22.0</td>\n      <td>23.0</td>\n    </tr>\n    <tr>\n      <th>e</th>\n      <td>24.0</td>\n      <td>25.0</td>\n      <td>26.0</td>\n      <td>27.0</td>\n      <td>28.0</td>\n      <td>29.0</td>\n    </tr>\n    <tr>\n      <th>f</th>\n      <td>30.0</td>\n      <td>31.0</td>\n      <td>32.0</td>\n      <td>33.0</td>\n      <td>34.0</td>\n      <td>35.0</td>\n    </tr>\n  </tbody>\n</table>\n</div>"
     },
     "execution_count": 33,
     "metadata": {},
     "output_type": "execute_result"
    }
   ],
   "source": [
    "df = pd.DataFrame(\n",
    "    data=np.reshape(range(36), (6, 6)),\n",
    "    index=[\"a\", \"b\", \"c\", \"d\", \"e\", \"f\"],\n",
    "    columns=[\"col\" + str(i) for i in range(6)],\n",
    "    dtype=float,\n",
    ")\n",
    "df"
   ],
   "metadata": {
    "collapsed": false,
    "ExecuteTime": {
     "end_time": "2023-09-25T06:08:02.387232500Z",
     "start_time": "2023-09-25T06:08:02.207931600Z"
    }
   },
   "id": "52af9e04a76ba173"
  },
  {
   "cell_type": "code",
   "execution_count": 37,
   "outputs": [
    {
     "data": {
      "text/plain": "   col5  col3  col1  col4  col2  col0\na   5.0   3.0   1.0   4.0   2.0   0.0\nb  11.0   9.0   7.0  10.0   8.0   6.0\nc  17.0  15.0  13.0  16.0  14.0  12.0\nd  23.0  21.0  19.0  22.0  20.0  18.0\ne  29.0  27.0  25.0  28.0  26.0  24.0\nf  35.0  33.0  31.0  34.0  32.0  30.0",
      "text/html": "<div>\n<style scoped>\n    .dataframe tbody tr th:only-of-type {\n        vertical-align: middle;\n    }\n\n    .dataframe tbody tr th {\n        vertical-align: top;\n    }\n\n    .dataframe thead th {\n        text-align: right;\n    }\n</style>\n<table border=\"1\" class=\"dataframe\">\n  <thead>\n    <tr style=\"text-align: right;\">\n      <th></th>\n      <th>col5</th>\n      <th>col3</th>\n      <th>col1</th>\n      <th>col4</th>\n      <th>col2</th>\n      <th>col0</th>\n    </tr>\n  </thead>\n  <tbody>\n    <tr>\n      <th>a</th>\n      <td>5.0</td>\n      <td>3.0</td>\n      <td>1.0</td>\n      <td>4.0</td>\n      <td>2.0</td>\n      <td>0.0</td>\n    </tr>\n    <tr>\n      <th>b</th>\n      <td>11.0</td>\n      <td>9.0</td>\n      <td>7.0</td>\n      <td>10.0</td>\n      <td>8.0</td>\n      <td>6.0</td>\n    </tr>\n    <tr>\n      <th>c</th>\n      <td>17.0</td>\n      <td>15.0</td>\n      <td>13.0</td>\n      <td>16.0</td>\n      <td>14.0</td>\n      <td>12.0</td>\n    </tr>\n    <tr>\n      <th>d</th>\n      <td>23.0</td>\n      <td>21.0</td>\n      <td>19.0</td>\n      <td>22.0</td>\n      <td>20.0</td>\n      <td>18.0</td>\n    </tr>\n    <tr>\n      <th>e</th>\n      <td>29.0</td>\n      <td>27.0</td>\n      <td>25.0</td>\n      <td>28.0</td>\n      <td>26.0</td>\n      <td>24.0</td>\n    </tr>\n    <tr>\n      <th>f</th>\n      <td>35.0</td>\n      <td>33.0</td>\n      <td>31.0</td>\n      <td>34.0</td>\n      <td>32.0</td>\n      <td>30.0</td>\n    </tr>\n  </tbody>\n</table>\n</div>"
     },
     "execution_count": 37,
     "metadata": {},
     "output_type": "execute_result"
    }
   ],
   "source": [
    "df = df[[\"col5\", \"col3\", \"col1\", \"col4\", \"col2\", \"col0\"]]\n",
    "df"
   ],
   "metadata": {
    "collapsed": false,
    "ExecuteTime": {
     "end_time": "2023-09-25T06:09:31.156478100Z",
     "start_time": "2023-09-25T06:09:31.125283800Z"
    }
   },
   "id": "981656d53dfc3ca3"
  },
  {
   "cell_type": "code",
   "execution_count": 38,
   "outputs": [
    {
     "data": {
      "text/plain": "   col0  col1  col2  col3  col4  col5\na   0.0   1.0   2.0   3.0   4.0   5.0\nb   6.0   7.0   8.0   9.0  10.0  11.0\nc  12.0  13.0  14.0  15.0  16.0  17.0\nd  18.0  19.0  20.0  21.0  22.0  23.0\ne  24.0  25.0  26.0  27.0  28.0  29.0\nf  30.0  31.0  32.0  33.0  34.0  35.0",
      "text/html": "<div>\n<style scoped>\n    .dataframe tbody tr th:only-of-type {\n        vertical-align: middle;\n    }\n\n    .dataframe tbody tr th {\n        vertical-align: top;\n    }\n\n    .dataframe thead th {\n        text-align: right;\n    }\n</style>\n<table border=\"1\" class=\"dataframe\">\n  <thead>\n    <tr style=\"text-align: right;\">\n      <th></th>\n      <th>col0</th>\n      <th>col1</th>\n      <th>col2</th>\n      <th>col3</th>\n      <th>col4</th>\n      <th>col5</th>\n    </tr>\n  </thead>\n  <tbody>\n    <tr>\n      <th>a</th>\n      <td>0.0</td>\n      <td>1.0</td>\n      <td>2.0</td>\n      <td>3.0</td>\n      <td>4.0</td>\n      <td>5.0</td>\n    </tr>\n    <tr>\n      <th>b</th>\n      <td>6.0</td>\n      <td>7.0</td>\n      <td>8.0</td>\n      <td>9.0</td>\n      <td>10.0</td>\n      <td>11.0</td>\n    </tr>\n    <tr>\n      <th>c</th>\n      <td>12.0</td>\n      <td>13.0</td>\n      <td>14.0</td>\n      <td>15.0</td>\n      <td>16.0</td>\n      <td>17.0</td>\n    </tr>\n    <tr>\n      <th>d</th>\n      <td>18.0</td>\n      <td>19.0</td>\n      <td>20.0</td>\n      <td>21.0</td>\n      <td>22.0</td>\n      <td>23.0</td>\n    </tr>\n    <tr>\n      <th>e</th>\n      <td>24.0</td>\n      <td>25.0</td>\n      <td>26.0</td>\n      <td>27.0</td>\n      <td>28.0</td>\n      <td>29.0</td>\n    </tr>\n    <tr>\n      <th>f</th>\n      <td>30.0</td>\n      <td>31.0</td>\n      <td>32.0</td>\n      <td>33.0</td>\n      <td>34.0</td>\n      <td>35.0</td>\n    </tr>\n  </tbody>\n</table>\n</div>"
     },
     "execution_count": 38,
     "metadata": {},
     "output_type": "execute_result"
    }
   ],
   "source": [
    "df.reindex(sorted(df.columns), axis=1)"
   ],
   "metadata": {
    "collapsed": false,
    "ExecuteTime": {
     "end_time": "2023-09-25T06:09:35.075105600Z",
     "start_time": "2023-09-25T06:09:35.066743100Z"
    }
   },
   "id": "e25ff61c9bf0f09e"
  },
  {
   "cell_type": "markdown",
   "source": [
    "# Grouping"
   ],
   "metadata": {
    "collapsed": false
   },
   "id": "c485422c68958691"
  },
  {
   "cell_type": "code",
   "execution_count": 39,
   "outputs": [
    {
     "data": {
      "text/plain": "       mean_delay  count_flights\nmonth                           \n1       10.036665          26483\n2       10.816843          23690\n3       13.227076          27973\n4       13.938038          27662\n5       12.986859          28233\n6       20.846332          27234\n7       21.727787          28485\n8       12.611040          28841\n9        6.722476          27122\n10       6.243988          28653\n11       5.435362          27035\n12      16.576688          27110",
      "text/html": "<div>\n<style scoped>\n    .dataframe tbody tr th:only-of-type {\n        vertical-align: middle;\n    }\n\n    .dataframe tbody tr th {\n        vertical-align: top;\n    }\n\n    .dataframe thead th {\n        text-align: right;\n    }\n</style>\n<table border=\"1\" class=\"dataframe\">\n  <thead>\n    <tr style=\"text-align: right;\">\n      <th></th>\n      <th>mean_delay</th>\n      <th>count_flights</th>\n    </tr>\n    <tr>\n      <th>month</th>\n      <th></th>\n      <th></th>\n    </tr>\n  </thead>\n  <tbody>\n    <tr>\n      <th>1</th>\n      <td>10.036665</td>\n      <td>26483</td>\n    </tr>\n    <tr>\n      <th>2</th>\n      <td>10.816843</td>\n      <td>23690</td>\n    </tr>\n    <tr>\n      <th>3</th>\n      <td>13.227076</td>\n      <td>27973</td>\n    </tr>\n    <tr>\n      <th>4</th>\n      <td>13.938038</td>\n      <td>27662</td>\n    </tr>\n    <tr>\n      <th>5</th>\n      <td>12.986859</td>\n      <td>28233</td>\n    </tr>\n    <tr>\n      <th>6</th>\n      <td>20.846332</td>\n      <td>27234</td>\n    </tr>\n    <tr>\n      <th>7</th>\n      <td>21.727787</td>\n      <td>28485</td>\n    </tr>\n    <tr>\n      <th>8</th>\n      <td>12.611040</td>\n      <td>28841</td>\n    </tr>\n    <tr>\n      <th>9</th>\n      <td>6.722476</td>\n      <td>27122</td>\n    </tr>\n    <tr>\n      <th>10</th>\n      <td>6.243988</td>\n      <td>28653</td>\n    </tr>\n    <tr>\n      <th>11</th>\n      <td>5.435362</td>\n      <td>27035</td>\n    </tr>\n    <tr>\n      <th>12</th>\n      <td>16.576688</td>\n      <td>27110</td>\n    </tr>\n  </tbody>\n</table>\n</div>"
     },
     "execution_count": 39,
     "metadata": {},
     "output_type": "execute_result"
    }
   ],
   "source": [
    "(\n",
    "    flights.groupby([\"month\"]).agg(\n",
    "        mean_delay=(\"dep_delay\", \"mean\"),\n",
    "        count_flights=(\"dep_delay\", \"count\"),\n",
    "    )\n",
    ")"
   ],
   "metadata": {
    "collapsed": false,
    "ExecuteTime": {
     "end_time": "2023-09-25T06:11:36.482298600Z",
     "start_time": "2023-09-25T06:11:36.450299Z"
    }
   },
   "id": "68427b14e3876fc3"
  },
  {
   "cell_type": "code",
   "execution_count": 40,
   "outputs": [
    {
     "data": {
      "text/plain": "            mean_delay  count_flights\nmonth year                           \n1     2013   10.036665          26483\n2     2013   10.816843          23690\n3     2013   13.227076          27973\n4     2013   13.938038          27662\n5     2013   12.986859          28233\n6     2013   20.846332          27234\n7     2013   21.727787          28485\n8     2013   12.611040          28841\n9     2013    6.722476          27122\n10    2013    6.243988          28653\n11    2013    5.435362          27035\n12    2013   16.576688          27110",
      "text/html": "<div>\n<style scoped>\n    .dataframe tbody tr th:only-of-type {\n        vertical-align: middle;\n    }\n\n    .dataframe tbody tr th {\n        vertical-align: top;\n    }\n\n    .dataframe thead th {\n        text-align: right;\n    }\n</style>\n<table border=\"1\" class=\"dataframe\">\n  <thead>\n    <tr style=\"text-align: right;\">\n      <th></th>\n      <th></th>\n      <th>mean_delay</th>\n      <th>count_flights</th>\n    </tr>\n    <tr>\n      <th>month</th>\n      <th>year</th>\n      <th></th>\n      <th></th>\n    </tr>\n  </thead>\n  <tbody>\n    <tr>\n      <th>1</th>\n      <th>2013</th>\n      <td>10.036665</td>\n      <td>26483</td>\n    </tr>\n    <tr>\n      <th>2</th>\n      <th>2013</th>\n      <td>10.816843</td>\n      <td>23690</td>\n    </tr>\n    <tr>\n      <th>3</th>\n      <th>2013</th>\n      <td>13.227076</td>\n      <td>27973</td>\n    </tr>\n    <tr>\n      <th>4</th>\n      <th>2013</th>\n      <td>13.938038</td>\n      <td>27662</td>\n    </tr>\n    <tr>\n      <th>5</th>\n      <th>2013</th>\n      <td>12.986859</td>\n      <td>28233</td>\n    </tr>\n    <tr>\n      <th>6</th>\n      <th>2013</th>\n      <td>20.846332</td>\n      <td>27234</td>\n    </tr>\n    <tr>\n      <th>7</th>\n      <th>2013</th>\n      <td>21.727787</td>\n      <td>28485</td>\n    </tr>\n    <tr>\n      <th>8</th>\n      <th>2013</th>\n      <td>12.611040</td>\n      <td>28841</td>\n    </tr>\n    <tr>\n      <th>9</th>\n      <th>2013</th>\n      <td>6.722476</td>\n      <td>27122</td>\n    </tr>\n    <tr>\n      <th>10</th>\n      <th>2013</th>\n      <td>6.243988</td>\n      <td>28653</td>\n    </tr>\n    <tr>\n      <th>11</th>\n      <th>2013</th>\n      <td>5.435362</td>\n      <td>27035</td>\n    </tr>\n    <tr>\n      <th>12</th>\n      <th>2013</th>\n      <td>16.576688</td>\n      <td>27110</td>\n    </tr>\n  </tbody>\n</table>\n</div>"
     },
     "execution_count": 40,
     "metadata": {},
     "output_type": "execute_result"
    }
   ],
   "source": [
    "month_year_delay = flights.groupby([\"month\", \"year\"]).agg(\n",
    "    mean_delay=(\"dep_delay\", \"mean\"),\n",
    "    count_flights=(\"dep_delay\", \"count\"),\n",
    ")\n",
    "month_year_delay"
   ],
   "metadata": {
    "collapsed": false,
    "ExecuteTime": {
     "end_time": "2023-09-25T06:11:56.148187300Z",
     "start_time": "2023-09-25T06:11:56.115187300Z"
    }
   },
   "id": "a231bd99b4782488"
  },
  {
   "cell_type": "code",
   "execution_count": 41,
   "outputs": [
    {
     "data": {
      "text/plain": "    month  year  mean_delay  count_flights\n0       1  2013   10.036665          26483\n1       2  2013   10.816843          23690\n2       3  2013   13.227076          27973\n3       4  2013   13.938038          27662\n4       5  2013   12.986859          28233\n5       6  2013   20.846332          27234\n6       7  2013   21.727787          28485\n7       8  2013   12.611040          28841\n8       9  2013    6.722476          27122\n9      10  2013    6.243988          28653\n10     11  2013    5.435362          27035\n11     12  2013   16.576688          27110",
      "text/html": "<div>\n<style scoped>\n    .dataframe tbody tr th:only-of-type {\n        vertical-align: middle;\n    }\n\n    .dataframe tbody tr th {\n        vertical-align: top;\n    }\n\n    .dataframe thead th {\n        text-align: right;\n    }\n</style>\n<table border=\"1\" class=\"dataframe\">\n  <thead>\n    <tr style=\"text-align: right;\">\n      <th></th>\n      <th>month</th>\n      <th>year</th>\n      <th>mean_delay</th>\n      <th>count_flights</th>\n    </tr>\n  </thead>\n  <tbody>\n    <tr>\n      <th>0</th>\n      <td>1</td>\n      <td>2013</td>\n      <td>10.036665</td>\n      <td>26483</td>\n    </tr>\n    <tr>\n      <th>1</th>\n      <td>2</td>\n      <td>2013</td>\n      <td>10.816843</td>\n      <td>23690</td>\n    </tr>\n    <tr>\n      <th>2</th>\n      <td>3</td>\n      <td>2013</td>\n      <td>13.227076</td>\n      <td>27973</td>\n    </tr>\n    <tr>\n      <th>3</th>\n      <td>4</td>\n      <td>2013</td>\n      <td>13.938038</td>\n      <td>27662</td>\n    </tr>\n    <tr>\n      <th>4</th>\n      <td>5</td>\n      <td>2013</td>\n      <td>12.986859</td>\n      <td>28233</td>\n    </tr>\n    <tr>\n      <th>5</th>\n      <td>6</td>\n      <td>2013</td>\n      <td>20.846332</td>\n      <td>27234</td>\n    </tr>\n    <tr>\n      <th>6</th>\n      <td>7</td>\n      <td>2013</td>\n      <td>21.727787</td>\n      <td>28485</td>\n    </tr>\n    <tr>\n      <th>7</th>\n      <td>8</td>\n      <td>2013</td>\n      <td>12.611040</td>\n      <td>28841</td>\n    </tr>\n    <tr>\n      <th>8</th>\n      <td>9</td>\n      <td>2013</td>\n      <td>6.722476</td>\n      <td>27122</td>\n    </tr>\n    <tr>\n      <th>9</th>\n      <td>10</td>\n      <td>2013</td>\n      <td>6.243988</td>\n      <td>28653</td>\n    </tr>\n    <tr>\n      <th>10</th>\n      <td>11</td>\n      <td>2013</td>\n      <td>5.435362</td>\n      <td>27035</td>\n    </tr>\n    <tr>\n      <th>11</th>\n      <td>12</td>\n      <td>2013</td>\n      <td>16.576688</td>\n      <td>27110</td>\n    </tr>\n  </tbody>\n</table>\n</div>"
     },
     "execution_count": 41,
     "metadata": {},
     "output_type": "execute_result"
    }
   ],
   "source": [
    "month_year_delay.reset_index()"
   ],
   "metadata": {
    "collapsed": false,
    "ExecuteTime": {
     "end_time": "2023-09-25T06:12:30.377344400Z",
     "start_time": "2023-09-25T06:12:30.342285700Z"
    }
   },
   "id": "26d8e102bae4f1cf"
  },
  {
   "cell_type": "code",
   "execution_count": 42,
   "outputs": [
    {
     "data": {
      "text/plain": "       year  mean_delay  count_flights\nmonth                                 \n1      2013   10.036665          26483\n2      2013   10.816843          23690\n3      2013   13.227076          27973\n4      2013   13.938038          27662\n5      2013   12.986859          28233\n6      2013   20.846332          27234\n7      2013   21.727787          28485\n8      2013   12.611040          28841\n9      2013    6.722476          27122\n10     2013    6.243988          28653\n11     2013    5.435362          27035\n12     2013   16.576688          27110",
      "text/html": "<div>\n<style scoped>\n    .dataframe tbody tr th:only-of-type {\n        vertical-align: middle;\n    }\n\n    .dataframe tbody tr th {\n        vertical-align: top;\n    }\n\n    .dataframe thead th {\n        text-align: right;\n    }\n</style>\n<table border=\"1\" class=\"dataframe\">\n  <thead>\n    <tr style=\"text-align: right;\">\n      <th></th>\n      <th>year</th>\n      <th>mean_delay</th>\n      <th>count_flights</th>\n    </tr>\n    <tr>\n      <th>month</th>\n      <th></th>\n      <th></th>\n      <th></th>\n    </tr>\n  </thead>\n  <tbody>\n    <tr>\n      <th>1</th>\n      <td>2013</td>\n      <td>10.036665</td>\n      <td>26483</td>\n    </tr>\n    <tr>\n      <th>2</th>\n      <td>2013</td>\n      <td>10.816843</td>\n      <td>23690</td>\n    </tr>\n    <tr>\n      <th>3</th>\n      <td>2013</td>\n      <td>13.227076</td>\n      <td>27973</td>\n    </tr>\n    <tr>\n      <th>4</th>\n      <td>2013</td>\n      <td>13.938038</td>\n      <td>27662</td>\n    </tr>\n    <tr>\n      <th>5</th>\n      <td>2013</td>\n      <td>12.986859</td>\n      <td>28233</td>\n    </tr>\n    <tr>\n      <th>6</th>\n      <td>2013</td>\n      <td>20.846332</td>\n      <td>27234</td>\n    </tr>\n    <tr>\n      <th>7</th>\n      <td>2013</td>\n      <td>21.727787</td>\n      <td>28485</td>\n    </tr>\n    <tr>\n      <th>8</th>\n      <td>2013</td>\n      <td>12.611040</td>\n      <td>28841</td>\n    </tr>\n    <tr>\n      <th>9</th>\n      <td>2013</td>\n      <td>6.722476</td>\n      <td>27122</td>\n    </tr>\n    <tr>\n      <th>10</th>\n      <td>2013</td>\n      <td>6.243988</td>\n      <td>28653</td>\n    </tr>\n    <tr>\n      <th>11</th>\n      <td>2013</td>\n      <td>5.435362</td>\n      <td>27035</td>\n    </tr>\n    <tr>\n      <th>12</th>\n      <td>2013</td>\n      <td>16.576688</td>\n      <td>27110</td>\n    </tr>\n  </tbody>\n</table>\n</div>"
     },
     "execution_count": 42,
     "metadata": {},
     "output_type": "execute_result"
    }
   ],
   "source": [
    "month_year_delay.reset_index(1)"
   ],
   "metadata": {
    "collapsed": false,
    "ExecuteTime": {
     "end_time": "2023-09-25T06:13:09.501350500Z",
     "start_time": "2023-09-25T06:13:09.483884800Z"
    }
   },
   "id": "324d604eea8d4fbd"
  }
 ],
 "metadata": {
  "kernelspec": {
   "display_name": "Python 3",
   "language": "python",
   "name": "python3"
  },
  "language_info": {
   "codemirror_mode": {
    "name": "ipython",
    "version": 2
   },
   "file_extension": ".py",
   "mimetype": "text/x-python",
   "name": "python",
   "nbconvert_exporter": "python",
   "pygments_lexer": "ipython2",
   "version": "2.7.6"
  }
 },
 "nbformat": 4,
 "nbformat_minor": 5
}
