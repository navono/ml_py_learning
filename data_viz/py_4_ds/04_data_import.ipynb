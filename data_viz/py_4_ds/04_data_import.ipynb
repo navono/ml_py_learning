{
 "cells": [
  {
   "cell_type": "code",
   "execution_count": 1,
   "id": "initial_id",
   "metadata": {
    "collapsed": true,
    "ExecuteTime": {
     "end_time": "2023-09-25T06:17:01.964190900Z",
     "start_time": "2023-09-25T06:17:01.725695400Z"
    }
   },
   "outputs": [],
   "source": [
    "import pandas as pd"
   ]
  },
  {
   "cell_type": "code",
   "execution_count": 3,
   "outputs": [
    {
     "data": {
      "text/plain": "   Student ID         Full Name      favourite.food             mealPlan   AGE\n0           1    Sunil Huffmann  Strawberry yoghurt           Lunch only     4\n1           2      Barclay Lynn        French fries           Lunch only     5\n2           3     Jayendra Lyne                 NaN  Breakfast and lunch     7\n3           4      Leon Rossini           Anchovies           Lunch only     8\n4           5  Chidiegwu Dunkel               Pizza  Breakfast and lunch  five\n5           6     Güvenç Attila           Ice cream           Lunch only     6",
      "text/html": "<div>\n<style scoped>\n    .dataframe tbody tr th:only-of-type {\n        vertical-align: middle;\n    }\n\n    .dataframe tbody tr th {\n        vertical-align: top;\n    }\n\n    .dataframe thead th {\n        text-align: right;\n    }\n</style>\n<table border=\"1\" class=\"dataframe\">\n  <thead>\n    <tr style=\"text-align: right;\">\n      <th></th>\n      <th>Student ID</th>\n      <th>Full Name</th>\n      <th>favourite.food</th>\n      <th>mealPlan</th>\n      <th>AGE</th>\n    </tr>\n  </thead>\n  <tbody>\n    <tr>\n      <th>0</th>\n      <td>1</td>\n      <td>Sunil Huffmann</td>\n      <td>Strawberry yoghurt</td>\n      <td>Lunch only</td>\n      <td>4</td>\n    </tr>\n    <tr>\n      <th>1</th>\n      <td>2</td>\n      <td>Barclay Lynn</td>\n      <td>French fries</td>\n      <td>Lunch only</td>\n      <td>5</td>\n    </tr>\n    <tr>\n      <th>2</th>\n      <td>3</td>\n      <td>Jayendra Lyne</td>\n      <td>NaN</td>\n      <td>Breakfast and lunch</td>\n      <td>7</td>\n    </tr>\n    <tr>\n      <th>3</th>\n      <td>4</td>\n      <td>Leon Rossini</td>\n      <td>Anchovies</td>\n      <td>Lunch only</td>\n      <td>8</td>\n    </tr>\n    <tr>\n      <th>4</th>\n      <td>5</td>\n      <td>Chidiegwu Dunkel</td>\n      <td>Pizza</td>\n      <td>Breakfast and lunch</td>\n      <td>five</td>\n    </tr>\n    <tr>\n      <th>5</th>\n      <td>6</td>\n      <td>Güvenç Attila</td>\n      <td>Ice cream</td>\n      <td>Lunch only</td>\n      <td>6</td>\n    </tr>\n  </tbody>\n</table>\n</div>"
     },
     "execution_count": 3,
     "metadata": {},
     "output_type": "execute_result"
    }
   ],
   "source": [
    "students = pd.read_csv(\"students.csv\")\n",
    "students"
   ],
   "metadata": {
    "collapsed": false,
    "ExecuteTime": {
     "end_time": "2023-09-25T06:17:13.310450200Z",
     "start_time": "2023-09-25T06:17:13.296458400Z"
    }
   },
   "id": "5cbb2b3be97eff4f"
  },
  {
   "cell_type": "markdown",
   "source": [
    "1. 读文件\n",
    "2. 标准化处理（列名、cell 数据类型等）"
   ],
   "metadata": {
    "collapsed": false
   },
   "id": "fc206c968252059"
  },
  {
   "cell_type": "code",
   "execution_count": 4,
   "outputs": [
    {
     "data": {
      "text/plain": "   student_id         full_name      favourite_food            meal_plan   age\n0           1    Sunil Huffmann  Strawberry yoghurt           Lunch only     4\n1           2      Barclay Lynn        French fries           Lunch only     5\n2           3     Jayendra Lyne                 NaN  Breakfast and lunch     7\n3           4      Leon Rossini           Anchovies           Lunch only     8\n4           5  Chidiegwu Dunkel               Pizza  Breakfast and lunch  five\n5           6     Güvenç Attila           Ice cream           Lunch only     6",
      "text/html": "<div>\n<style scoped>\n    .dataframe tbody tr th:only-of-type {\n        vertical-align: middle;\n    }\n\n    .dataframe tbody tr th {\n        vertical-align: top;\n    }\n\n    .dataframe thead th {\n        text-align: right;\n    }\n</style>\n<table border=\"1\" class=\"dataframe\">\n  <thead>\n    <tr style=\"text-align: right;\">\n      <th></th>\n      <th>student_id</th>\n      <th>full_name</th>\n      <th>favourite_food</th>\n      <th>meal_plan</th>\n      <th>age</th>\n    </tr>\n  </thead>\n  <tbody>\n    <tr>\n      <th>0</th>\n      <td>1</td>\n      <td>Sunil Huffmann</td>\n      <td>Strawberry yoghurt</td>\n      <td>Lunch only</td>\n      <td>4</td>\n    </tr>\n    <tr>\n      <th>1</th>\n      <td>2</td>\n      <td>Barclay Lynn</td>\n      <td>French fries</td>\n      <td>Lunch only</td>\n      <td>5</td>\n    </tr>\n    <tr>\n      <th>2</th>\n      <td>3</td>\n      <td>Jayendra Lyne</td>\n      <td>NaN</td>\n      <td>Breakfast and lunch</td>\n      <td>7</td>\n    </tr>\n    <tr>\n      <th>3</th>\n      <td>4</td>\n      <td>Leon Rossini</td>\n      <td>Anchovies</td>\n      <td>Lunch only</td>\n      <td>8</td>\n    </tr>\n    <tr>\n      <th>4</th>\n      <td>5</td>\n      <td>Chidiegwu Dunkel</td>\n      <td>Pizza</td>\n      <td>Breakfast and lunch</td>\n      <td>five</td>\n    </tr>\n    <tr>\n      <th>5</th>\n      <td>6</td>\n      <td>Güvenç Attila</td>\n      <td>Ice cream</td>\n      <td>Lunch only</td>\n      <td>6</td>\n    </tr>\n  </tbody>\n</table>\n</div>"
     },
     "execution_count": 4,
     "metadata": {},
     "output_type": "execute_result"
    }
   ],
   "source": [
    "from skimpy import clean_columns\n",
    "\n",
    "students = clean_columns(students)\n",
    "students"
   ],
   "metadata": {
    "collapsed": false,
    "ExecuteTime": {
     "end_time": "2023-09-25T06:28:49.027355300Z",
     "start_time": "2023-09-25T06:28:43.475426500Z"
    }
   },
   "id": "f7c207f314b2e102"
  },
  {
   "cell_type": "code",
   "execution_count": 5,
   "outputs": [
    {
     "data": {
      "text/plain": "   student_id         full_name      favourite_food            meal_plan   age\n0           1    Sunil Huffmann  Strawberry yoghurt           Lunch only     4\n1           2      Barclay Lynn        French fries           Lunch only     5\n2           3     Jayendra Lyne                <NA>  Breakfast and lunch     7\n3           4      Leon Rossini           Anchovies           Lunch only     8\n4           5  Chidiegwu Dunkel               Pizza  Breakfast and lunch  five\n5           6     Güvenç Attila           Ice cream           Lunch only     6",
      "text/html": "<div>\n<style scoped>\n    .dataframe tbody tr th:only-of-type {\n        vertical-align: middle;\n    }\n\n    .dataframe tbody tr th {\n        vertical-align: top;\n    }\n\n    .dataframe thead th {\n        text-align: right;\n    }\n</style>\n<table border=\"1\" class=\"dataframe\">\n  <thead>\n    <tr style=\"text-align: right;\">\n      <th></th>\n      <th>student_id</th>\n      <th>full_name</th>\n      <th>favourite_food</th>\n      <th>meal_plan</th>\n      <th>age</th>\n    </tr>\n  </thead>\n  <tbody>\n    <tr>\n      <th>0</th>\n      <td>1</td>\n      <td>Sunil Huffmann</td>\n      <td>Strawberry yoghurt</td>\n      <td>Lunch only</td>\n      <td>4</td>\n    </tr>\n    <tr>\n      <th>1</th>\n      <td>2</td>\n      <td>Barclay Lynn</td>\n      <td>French fries</td>\n      <td>Lunch only</td>\n      <td>5</td>\n    </tr>\n    <tr>\n      <th>2</th>\n      <td>3</td>\n      <td>Jayendra Lyne</td>\n      <td>&lt;NA&gt;</td>\n      <td>Breakfast and lunch</td>\n      <td>7</td>\n    </tr>\n    <tr>\n      <th>3</th>\n      <td>4</td>\n      <td>Leon Rossini</td>\n      <td>Anchovies</td>\n      <td>Lunch only</td>\n      <td>8</td>\n    </tr>\n    <tr>\n      <th>4</th>\n      <td>5</td>\n      <td>Chidiegwu Dunkel</td>\n      <td>Pizza</td>\n      <td>Breakfast and lunch</td>\n      <td>five</td>\n    </tr>\n    <tr>\n      <th>5</th>\n      <td>6</td>\n      <td>Güvenç Attila</td>\n      <td>Ice cream</td>\n      <td>Lunch only</td>\n      <td>6</td>\n    </tr>\n  </tbody>\n</table>\n</div>"
     },
     "execution_count": 5,
     "metadata": {},
     "output_type": "execute_result"
    }
   ],
   "source": [
    "students[\"favourite_food\"] = students[\"favourite_food\"].astype(\"string\")\n",
    "students"
   ],
   "metadata": {
    "collapsed": false,
    "ExecuteTime": {
     "end_time": "2023-09-25T06:29:14.088091300Z",
     "start_time": "2023-09-25T06:29:14.077088900Z"
    }
   },
   "id": "baf9345727ab8a55"
  },
  {
   "cell_type": "code",
   "execution_count": 6,
   "outputs": [
    {
     "data": {
      "text/plain": "0    4\n1    5\n2    7\n3    8\n4    5\n5    6\nName: age, dtype: object"
     },
     "execution_count": 6,
     "metadata": {},
     "output_type": "execute_result"
    }
   ],
   "source": [
    "import numpy as np\n",
    "\n",
    "students[\"age\"] = students[\"age\"].replace(\"five\", 5)\n",
    "students[\"age\"]"
   ],
   "metadata": {
    "collapsed": false,
    "ExecuteTime": {
     "end_time": "2023-09-25T06:29:24.570674Z",
     "start_time": "2023-09-25T06:29:24.553471500Z"
    }
   },
   "id": "4b52a1f046f22b29"
  },
  {
   "cell_type": "code",
   "execution_count": 7,
   "outputs": [
    {
     "data": {
      "text/plain": "0             Lunch only\n1             Lunch only\n2    Breakfast and lunch\n3             Lunch only\n4    Breakfast and lunch\n5             Lunch only\nName: meal_plan, dtype: category\nCategories (2, object): ['Breakfast and lunch', 'Lunch only']"
     },
     "execution_count": 7,
     "metadata": {},
     "output_type": "execute_result"
    }
   ],
   "source": [
    "students[\"meal_plan\"] = students[\"meal_plan\"].astype(\"category\")\n",
    "students[\"meal_plan\"]"
   ],
   "metadata": {
    "collapsed": false,
    "ExecuteTime": {
     "end_time": "2023-09-25T06:29:57.073681400Z",
     "start_time": "2023-09-25T06:29:57.052683200Z"
    }
   },
   "id": "21722002cfea8c41"
  },
  {
   "cell_type": "code",
   "execution_count": 8,
   "outputs": [
    {
     "name": "stdout",
     "output_type": "stream",
     "text": [
      "<class 'pandas.core.frame.DataFrame'>\n",
      "RangeIndex: 6 entries, 0 to 5\n",
      "Data columns (total 5 columns):\n",
      " #   Column          Non-Null Count  Dtype   \n",
      "---  ------          --------------  -----   \n",
      " 0   student_id      6 non-null      int32   \n",
      " 1   full_name       6 non-null      string  \n",
      " 2   favourite_food  5 non-null      string  \n",
      " 3   meal_plan       6 non-null      category\n",
      " 4   age             6 non-null      int32   \n",
      "dtypes: category(1), int32(2), string(2)\n",
      "memory usage: 402.0 bytes\n"
     ]
    }
   ],
   "source": [
    "students = students.astype({\"student_id\": \"int\", \"full_name\": \"string\", \"age\": \"int\"})\n",
    "students.info()"
   ],
   "metadata": {
    "collapsed": false,
    "ExecuteTime": {
     "end_time": "2023-09-25T06:30:29.924822200Z",
     "start_time": "2023-09-25T06:30:29.886824800Z"
    }
   },
   "id": "b6b9f3e7bad6d20e"
  },
  {
   "cell_type": "markdown",
   "source": [
    "# 多文件读取"
   ],
   "metadata": {
    "collapsed": false
   },
   "id": "4fcc087f0bdf418b"
  },
  {
   "cell_type": "code",
   "execution_count": null,
   "outputs": [],
   "source": [
    "list_of_dataframes = [\n",
    "    pd.read_csv(x)\n",
    "    for x in [\"data/01-sales.csv\", \"data/02-sales.csv\", \"data/03-sales.csv\"]\n",
    "]\n",
    "sales_files = pd.concat(list_of_dataframes)\n",
    "sales_files"
   ],
   "metadata": {
    "collapsed": false
   },
   "id": "846986ae6ccbb2e9"
  },
  {
   "cell_type": "code",
   "execution_count": null,
   "outputs": [],
   "source": [
    "import glob\n",
    "\n",
    "list_of_csvs = glob.glob(\"data/*-sales.csv\")\n",
    "print(\"List of csvs is:\")\n",
    "print(list_of_csvs, \"\\n\")\n",
    "sales_files = pd.concat([pd.read_csv(x) for x in list_of_csvs])\n",
    "sales_files"
   ],
   "metadata": {
    "collapsed": false
   },
   "id": "3448f503651914c4"
  },
  {
   "cell_type": "markdown",
   "source": [
    "# 写文件"
   ],
   "metadata": {
    "collapsed": false
   },
   "id": "c3d209757c263aec"
  },
  {
   "cell_type": "code",
   "execution_count": 10,
   "outputs": [],
   "source": [
    "students.to_csv(\"students-clean.csv\")"
   ],
   "metadata": {
    "collapsed": false,
    "ExecuteTime": {
     "end_time": "2023-09-25T06:33:09.578527600Z",
     "start_time": "2023-09-25T06:33:09.570528Z"
    }
   },
   "id": "ef6b185b8b63c1d4"
  },
  {
   "cell_type": "code",
   "execution_count": 11,
   "outputs": [
    {
     "name": "stdout",
     "output_type": "stream",
     "text": [
      "<class 'pandas.core.frame.DataFrame'>\n",
      "RangeIndex: 6 entries, 0 to 5\n",
      "Data columns (total 6 columns):\n",
      " #   Column          Non-Null Count  Dtype \n",
      "---  ------          --------------  ----- \n",
      " 0   Unnamed: 0      6 non-null      int64 \n",
      " 1   student_id      6 non-null      int64 \n",
      " 2   full_name       6 non-null      object\n",
      " 3   favourite_food  5 non-null      object\n",
      " 4   meal_plan       6 non-null      object\n",
      " 5   age             6 non-null      int64 \n",
      "dtypes: int64(3), object(3)\n",
      "memory usage: 416.0+ bytes\n"
     ]
    }
   ],
   "source": [
    "# 再次读取处理过的文件发现，有些数据类型丢失了。\n",
    "# csv 不存储 category 等类型数据。所以需要存储到另外的数据格式。\n",
    "pd.read_csv(\"students-clean.csv\").info()"
   ],
   "metadata": {
    "collapsed": false,
    "ExecuteTime": {
     "end_time": "2023-09-25T06:41:12.201332900Z",
     "start_time": "2023-09-25T06:41:12.192332800Z"
    }
   },
   "id": "9fb181ae9085712f"
  },
  {
   "cell_type": "code",
   "execution_count": 12,
   "outputs": [],
   "source": [
    "students.to_feather(\"students-clean.feather\")"
   ],
   "metadata": {
    "collapsed": false,
    "ExecuteTime": {
     "end_time": "2023-09-25T06:43:26.580434100Z",
     "start_time": "2023-09-25T06:43:26.552436300Z"
    }
   },
   "id": "d7b51296b60c0b42"
  },
  {
   "cell_type": "code",
   "execution_count": 13,
   "outputs": [
    {
     "name": "stdout",
     "output_type": "stream",
     "text": [
      "<class 'pandas.core.frame.DataFrame'>\n",
      "RangeIndex: 6 entries, 0 to 5\n",
      "Data columns (total 5 columns):\n",
      " #   Column          Non-Null Count  Dtype   \n",
      "---  ------          --------------  -----   \n",
      " 0   student_id      6 non-null      int32   \n",
      " 1   full_name       6 non-null      string  \n",
      " 2   favourite_food  5 non-null      string  \n",
      " 3   meal_plan       6 non-null      category\n",
      " 4   age             6 non-null      int32   \n",
      "dtypes: category(1), int32(2), string(2)\n",
      "memory usage: 402.0 bytes\n"
     ]
    }
   ],
   "source": [
    "pd.read_feather(\"students-clean.feather\").info()"
   ],
   "metadata": {
    "collapsed": false,
    "ExecuteTime": {
     "end_time": "2023-09-25T06:43:41.177114300Z",
     "start_time": "2023-09-25T06:43:41.167106100Z"
    }
   },
   "id": "8300ff8d6e3cb6f4"
  },
  {
   "cell_type": "code",
   "execution_count": 15,
   "outputs": [
    {
     "name": "stdout",
     "output_type": "stream",
     "text": [
      "Last updated: 2023-09-25T14:59:40.909076+08:00\n",
      "\n",
      "Python implementation: CPython\n",
      "Python version       : 3.10.12\n",
      "IPython version      : 8.12.2\n",
      "\n",
      "Compiler    : MSC v.1916 64 bit (AMD64)\n",
      "OS          : Windows\n",
      "Release     : 10\n",
      "Machine     : AMD64\n",
      "Processor   : Intel64 Family 6 Model 183 Stepping 1, GenuineIntel\n",
      "CPU cores   : 24\n",
      "Architecture: 64bit\n"
     ]
    }
   ],
   "source": [
    "from watermark import watermark\n",
    "\n",
    "print(watermark())"
   ],
   "metadata": {
    "collapsed": false,
    "ExecuteTime": {
     "end_time": "2023-09-25T06:59:40.955487200Z",
     "start_time": "2023-09-25T06:59:40.901076700Z"
    }
   },
   "id": "594461b11ff97bc4"
  }
 ],
 "metadata": {
  "kernelspec": {
   "display_name": "Python 3",
   "language": "python",
   "name": "python3"
  },
  "language_info": {
   "codemirror_mode": {
    "name": "ipython",
    "version": 2
   },
   "file_extension": ".py",
   "mimetype": "text/x-python",
   "name": "python",
   "nbconvert_exporter": "python",
   "pygments_lexer": "ipython2",
   "version": "2.7.6"
  }
 },
 "nbformat": 4,
 "nbformat_minor": 5
}
