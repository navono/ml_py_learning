{
 "cells": [
  {
   "cell_type": "markdown",
   "source": [
    "# Conditions in list comprehensions"
   ],
   "metadata": {
    "collapsed": false
   },
   "id": "c78f869404f7ad97"
  },
  {
   "cell_type": "code",
   "execution_count": 1,
   "outputs": [
    {
     "data": {
      "text/plain": "[0, 1, 2, 3, 4, 5, 6, 7, 8, 9, 10, 11]"
     },
     "execution_count": 1,
     "metadata": {},
     "output_type": "execute_result"
    }
   ],
   "source": [
    "[x for x in range(12)]"
   ],
   "metadata": {
    "collapsed": false,
    "ExecuteTime": {
     "end_time": "2023-10-17T00:54:31.192488700Z",
     "start_time": "2023-10-17T00:54:31.184487700Z"
    }
   },
   "id": "5a3db802d439f5b9"
  },
  {
   "cell_type": "code",
   "execution_count": 2,
   "outputs": [
    {
     "data": {
      "text/plain": "[0, 2, 4, 6, 8, 10]"
     },
     "execution_count": 2,
     "metadata": {},
     "output_type": "execute_result"
    }
   ],
   "source": [
    "[x for x in range(12) if x % 2 == 0]"
   ],
   "metadata": {
    "collapsed": false,
    "ExecuteTime": {
     "end_time": "2023-10-17T00:54:41.477939600Z",
     "start_time": "2023-10-17T00:54:41.457928Z"
    }
   },
   "id": "3292b529561358c4"
  },
  {
   "cell_type": "code",
   "execution_count": 3,
   "outputs": [
    {
     "data": {
      "text/plain": "[0,\n 'Not divisible by 2',\n 2,\n 'Not divisible by 2',\n 4,\n 'Not divisible by 2',\n 6,\n 'Not divisible by 2',\n 8,\n 'Not divisible by 2',\n 10,\n 'Not divisible by 2']"
     },
     "execution_count": 3,
     "metadata": {},
     "output_type": "execute_result"
    }
   ],
   "source": [
    "[x if x % 2 == 0 else \"Not divisible by 2\" for x in range(12)]"
   ],
   "metadata": {
    "collapsed": false,
    "ExecuteTime": {
     "end_time": "2023-10-17T00:55:17.095309600Z",
     "start_time": "2023-10-17T00:55:17.086253Z"
    }
   },
   "id": "990b61e4375cfa64"
  },
  {
   "cell_type": "markdown",
   "source": [
    "# Booleans in pandas data frames"
   ],
   "metadata": {
    "collapsed": false
   },
   "id": "a3519ce912f27288"
  },
  {
   "cell_type": "code",
   "execution_count": 4,
   "outputs": [
    {
     "data": {
      "text/plain": "   bool_col_1  bool_col_2\n0       False        True\n1       False       False\n2       False        True\n3        True       False\n4        True        True",
      "text/html": "<div>\n<style scoped>\n    .dataframe tbody tr th:only-of-type {\n        vertical-align: middle;\n    }\n\n    .dataframe tbody tr th {\n        vertical-align: top;\n    }\n\n    .dataframe thead th {\n        text-align: right;\n    }\n</style>\n<table border=\"1\" class=\"dataframe\">\n  <thead>\n    <tr style=\"text-align: right;\">\n      <th></th>\n      <th>bool_col_1</th>\n      <th>bool_col_2</th>\n    </tr>\n  </thead>\n  <tbody>\n    <tr>\n      <th>0</th>\n      <td>False</td>\n      <td>True</td>\n    </tr>\n    <tr>\n      <th>1</th>\n      <td>False</td>\n      <td>False</td>\n    </tr>\n    <tr>\n      <th>2</th>\n      <td>False</td>\n      <td>True</td>\n    </tr>\n    <tr>\n      <th>3</th>\n      <td>True</td>\n      <td>False</td>\n    </tr>\n    <tr>\n      <th>4</th>\n      <td>True</td>\n      <td>True</td>\n    </tr>\n  </tbody>\n</table>\n</div>"
     },
     "execution_count": 4,
     "metadata": {},
     "output_type": "execute_result"
    }
   ],
   "source": [
    "import pandas as pd\n",
    "\n",
    "df = pd.DataFrame.from_dict(\n",
    "    {\n",
    "        \"bool_col_1\": [False] * 3 + [True, True],\n",
    "        \"bool_col_2\": [True, False, True, False, True],\n",
    "    }\n",
    ")\n",
    "df"
   ],
   "metadata": {
    "collapsed": false,
    "ExecuteTime": {
     "end_time": "2023-10-17T00:56:18.542946400Z",
     "start_time": "2023-10-17T00:56:18.259368300Z"
    }
   },
   "id": "41a774c71deaf365"
  },
  {
   "cell_type": "code",
   "execution_count": 5,
   "outputs": [
    {
     "data": {
      "text/plain": "0     True\n1    False\n2     True\n3     True\n4     True\ndtype: bool"
     },
     "execution_count": 5,
     "metadata": {},
     "output_type": "execute_result"
    }
   ],
   "source": [
    "# 可以执行操作\n",
    "df[\"bool_col_1\"] | df[\"bool_col_2\"]"
   ],
   "metadata": {
    "collapsed": false,
    "ExecuteTime": {
     "end_time": "2023-10-17T00:56:55.640713900Z",
     "start_time": "2023-10-17T00:56:55.635714100Z"
    }
   },
   "id": "29ea3d493cd307b5"
  },
  {
   "cell_type": "code",
   "execution_count": 6,
   "outputs": [
    {
     "data": {
      "text/plain": "bool_col_1    2\nbool_col_2    3\ndtype: int64"
     },
     "execution_count": 6,
     "metadata": {},
     "output_type": "execute_result"
    }
   ],
   "source": [
    "# true 值的数量\n",
    "df.sum()"
   ],
   "metadata": {
    "collapsed": false,
    "ExecuteTime": {
     "end_time": "2023-10-17T00:57:10.416958300Z",
     "start_time": "2023-10-17T00:57:10.406482600Z"
    }
   },
   "id": "ae460575d50674ea"
  },
  {
   "cell_type": "code",
   "execution_count": 7,
   "outputs": [
    {
     "data": {
      "text/plain": "0    False\n1     True\n2    False\n3     True\n4     True\nName: bool_col, dtype: bool"
     },
     "execution_count": 7,
     "metadata": {},
     "output_type": "execute_result"
    }
   ],
   "source": [
    "# 将 0、1 数据转换为布尔值\n",
    "df = pd.DataFrame.from_dict({\"bool_col\": [0, 1, 0, 1, 1]})\n",
    "df[\"bool_col\"].astype(bool)"
   ],
   "metadata": {
    "collapsed": false,
    "ExecuteTime": {
     "end_time": "2023-10-17T00:58:11.036279900Z",
     "start_time": "2023-10-17T00:58:11.026745700Z"
    }
   },
   "id": "c9bf3e649df31879"
  },
  {
   "cell_type": "markdown",
   "source": [
    "# 用列比较方式创建布尔值"
   ],
   "metadata": {
    "collapsed": false
   },
   "id": "662433a962f23ba6"
  },
  {
   "cell_type": "code",
   "execution_count": 8,
   "outputs": [
    {
     "data": {
      "text/plain": "   carat      cut color clarity  depth  table  price     x     y     z\n0   0.23    Ideal     E     SI2   61.5   55.0    326  3.95  3.98  2.43\n1   0.21  Premium     E     SI1   59.8   61.0    326  3.89  3.84  2.31\n2   0.23     Good     E     VS1   56.9   65.0    327  4.05  4.07  2.31\n3   0.29  Premium     I     VS2   62.4   58.0    334  4.20  4.23  2.63\n4   0.31     Good     J     SI2   63.3   58.0    335  4.34  4.35  2.75",
      "text/html": "<div>\n<style scoped>\n    .dataframe tbody tr th:only-of-type {\n        vertical-align: middle;\n    }\n\n    .dataframe tbody tr th {\n        vertical-align: top;\n    }\n\n    .dataframe thead th {\n        text-align: right;\n    }\n</style>\n<table border=\"1\" class=\"dataframe\">\n  <thead>\n    <tr style=\"text-align: right;\">\n      <th></th>\n      <th>carat</th>\n      <th>cut</th>\n      <th>color</th>\n      <th>clarity</th>\n      <th>depth</th>\n      <th>table</th>\n      <th>price</th>\n      <th>x</th>\n      <th>y</th>\n      <th>z</th>\n    </tr>\n  </thead>\n  <tbody>\n    <tr>\n      <th>0</th>\n      <td>0.23</td>\n      <td>Ideal</td>\n      <td>E</td>\n      <td>SI2</td>\n      <td>61.5</td>\n      <td>55.0</td>\n      <td>326</td>\n      <td>3.95</td>\n      <td>3.98</td>\n      <td>2.43</td>\n    </tr>\n    <tr>\n      <th>1</th>\n      <td>0.21</td>\n      <td>Premium</td>\n      <td>E</td>\n      <td>SI1</td>\n      <td>59.8</td>\n      <td>61.0</td>\n      <td>326</td>\n      <td>3.89</td>\n      <td>3.84</td>\n      <td>2.31</td>\n    </tr>\n    <tr>\n      <th>2</th>\n      <td>0.23</td>\n      <td>Good</td>\n      <td>E</td>\n      <td>VS1</td>\n      <td>56.9</td>\n      <td>65.0</td>\n      <td>327</td>\n      <td>4.05</td>\n      <td>4.07</td>\n      <td>2.31</td>\n    </tr>\n    <tr>\n      <th>3</th>\n      <td>0.29</td>\n      <td>Premium</td>\n      <td>I</td>\n      <td>VS2</td>\n      <td>62.4</td>\n      <td>58.0</td>\n      <td>334</td>\n      <td>4.20</td>\n      <td>4.23</td>\n      <td>2.63</td>\n    </tr>\n    <tr>\n      <th>4</th>\n      <td>0.31</td>\n      <td>Good</td>\n      <td>J</td>\n      <td>SI2</td>\n      <td>63.3</td>\n      <td>58.0</td>\n      <td>335</td>\n      <td>4.34</td>\n      <td>4.35</td>\n      <td>2.75</td>\n    </tr>\n  </tbody>\n</table>\n</div>"
     },
     "execution_count": 8,
     "metadata": {},
     "output_type": "execute_result"
    }
   ],
   "source": [
    "diamonds = pd.read_csv(\n",
    "    \"https://github.com/mwaskom/seaborn-data/raw/master/diamonds.csv\"\n",
    ")\n",
    "diamonds.head()"
   ],
   "metadata": {
    "collapsed": false,
    "ExecuteTime": {
     "end_time": "2023-10-17T01:00:33.715113200Z",
     "start_time": "2023-10-17T01:00:30.109918100Z"
    }
   },
   "id": "721aef7b6fbe68d7"
  },
  {
   "cell_type": "code",
   "execution_count": 9,
   "outputs": [
    {
     "data": {
      "text/plain": "       carat        cut color clarity  depth  table  price     x     y     z  \\\n41090   0.41      Ideal     F    VVS2   62.3   56.0   1192  4.77  4.73  2.96   \n15367   0.30      Ideal     F     VS2   60.9   56.0    605  4.32  4.35  2.64   \n41699   0.41    Premium     E    VVS1   61.2   62.0   1241  4.78  4.76  2.92   \n36340   0.32      Ideal     G    VVS2   62.2   57.0    936  4.38  4.36  2.72   \n24749   1.96  Very Good     H     SI2   62.7   58.0  13099  7.86  7.93  4.95   \n19742   1.51       Good     I     SI1   63.7   58.0   8313  7.22  7.26  4.61   \n17243   1.01    Premium     F     VS2   59.2   61.0   6900  6.59  6.55  3.89   \n11889   1.06    Premium     G     SI1   61.5   59.0   5113  6.57  6.53  4.03   \n18297   1.12    Premium     F     VS2   62.8   56.0   7437  6.67  6.61  4.17   \n26894   2.18  Very Good     G     SI2   63.1   58.0  16878  8.29  8.23  5.21   \n\n       expensive  \n41090       True  \n15367      False  \n41699       True  \n36340      False  \n24749       True  \n19742       True  \n17243       True  \n11889       True  \n18297       True  \n26894       True  ",
      "text/html": "<div>\n<style scoped>\n    .dataframe tbody tr th:only-of-type {\n        vertical-align: middle;\n    }\n\n    .dataframe tbody tr th {\n        vertical-align: top;\n    }\n\n    .dataframe thead th {\n        text-align: right;\n    }\n</style>\n<table border=\"1\" class=\"dataframe\">\n  <thead>\n    <tr style=\"text-align: right;\">\n      <th></th>\n      <th>carat</th>\n      <th>cut</th>\n      <th>color</th>\n      <th>clarity</th>\n      <th>depth</th>\n      <th>table</th>\n      <th>price</th>\n      <th>x</th>\n      <th>y</th>\n      <th>z</th>\n      <th>expensive</th>\n    </tr>\n  </thead>\n  <tbody>\n    <tr>\n      <th>41090</th>\n      <td>0.41</td>\n      <td>Ideal</td>\n      <td>F</td>\n      <td>VVS2</td>\n      <td>62.3</td>\n      <td>56.0</td>\n      <td>1192</td>\n      <td>4.77</td>\n      <td>4.73</td>\n      <td>2.96</td>\n      <td>True</td>\n    </tr>\n    <tr>\n      <th>15367</th>\n      <td>0.30</td>\n      <td>Ideal</td>\n      <td>F</td>\n      <td>VS2</td>\n      <td>60.9</td>\n      <td>56.0</td>\n      <td>605</td>\n      <td>4.32</td>\n      <td>4.35</td>\n      <td>2.64</td>\n      <td>False</td>\n    </tr>\n    <tr>\n      <th>41699</th>\n      <td>0.41</td>\n      <td>Premium</td>\n      <td>E</td>\n      <td>VVS1</td>\n      <td>61.2</td>\n      <td>62.0</td>\n      <td>1241</td>\n      <td>4.78</td>\n      <td>4.76</td>\n      <td>2.92</td>\n      <td>True</td>\n    </tr>\n    <tr>\n      <th>36340</th>\n      <td>0.32</td>\n      <td>Ideal</td>\n      <td>G</td>\n      <td>VVS2</td>\n      <td>62.2</td>\n      <td>57.0</td>\n      <td>936</td>\n      <td>4.38</td>\n      <td>4.36</td>\n      <td>2.72</td>\n      <td>False</td>\n    </tr>\n    <tr>\n      <th>24749</th>\n      <td>1.96</td>\n      <td>Very Good</td>\n      <td>H</td>\n      <td>SI2</td>\n      <td>62.7</td>\n      <td>58.0</td>\n      <td>13099</td>\n      <td>7.86</td>\n      <td>7.93</td>\n      <td>4.95</td>\n      <td>True</td>\n    </tr>\n    <tr>\n      <th>19742</th>\n      <td>1.51</td>\n      <td>Good</td>\n      <td>I</td>\n      <td>SI1</td>\n      <td>63.7</td>\n      <td>58.0</td>\n      <td>8313</td>\n      <td>7.22</td>\n      <td>7.26</td>\n      <td>4.61</td>\n      <td>True</td>\n    </tr>\n    <tr>\n      <th>17243</th>\n      <td>1.01</td>\n      <td>Premium</td>\n      <td>F</td>\n      <td>VS2</td>\n      <td>59.2</td>\n      <td>61.0</td>\n      <td>6900</td>\n      <td>6.59</td>\n      <td>6.55</td>\n      <td>3.89</td>\n      <td>True</td>\n    </tr>\n    <tr>\n      <th>11889</th>\n      <td>1.06</td>\n      <td>Premium</td>\n      <td>G</td>\n      <td>SI1</td>\n      <td>61.5</td>\n      <td>59.0</td>\n      <td>5113</td>\n      <td>6.57</td>\n      <td>6.53</td>\n      <td>4.03</td>\n      <td>True</td>\n    </tr>\n    <tr>\n      <th>18297</th>\n      <td>1.12</td>\n      <td>Premium</td>\n      <td>F</td>\n      <td>VS2</td>\n      <td>62.8</td>\n      <td>56.0</td>\n      <td>7437</td>\n      <td>6.67</td>\n      <td>6.61</td>\n      <td>4.17</td>\n      <td>True</td>\n    </tr>\n    <tr>\n      <th>26894</th>\n      <td>2.18</td>\n      <td>Very Good</td>\n      <td>G</td>\n      <td>SI2</td>\n      <td>63.1</td>\n      <td>58.0</td>\n      <td>16878</td>\n      <td>8.29</td>\n      <td>8.23</td>\n      <td>5.21</td>\n      <td>True</td>\n    </tr>\n  </tbody>\n</table>\n</div>"
     },
     "execution_count": 9,
     "metadata": {},
     "output_type": "execute_result"
    }
   ],
   "source": [
    "diamonds[\"expensive\"] = diamonds[\"price\"] > 1000\n",
    "diamonds.sample(10)"
   ],
   "metadata": {
    "collapsed": false,
    "ExecuteTime": {
     "end_time": "2023-10-17T01:00:45.223502900Z",
     "start_time": "2023-10-17T01:00:45.208997600Z"
    }
   },
   "id": "6aefefed12c7cdf8"
  },
  {
   "cell_type": "code",
   "execution_count": 10,
   "outputs": [
    {
     "data": {
      "text/plain": "   carat      cut color clarity  depth  table  price     x     y     z  \\\n0   0.23    Ideal     E     SI2   61.5   55.0    326  3.95  3.98  2.43   \n1   0.21  Premium     E     SI1   59.8   61.0    326  3.89  3.84  2.31   \n2   0.23     Good     E     VS1   56.9   65.0    327  4.05  4.07  2.31   \n3   0.29  Premium     I     VS2   62.4   58.0    334  4.20  4.23  2.63   \n4   0.31     Good     J     SI2   63.3   58.0    335  4.34  4.35  2.75   \n\n   expensive  \n0      False  \n1      False  \n2      False  \n3      False  \n4      False  ",
      "text/html": "<div>\n<style scoped>\n    .dataframe tbody tr th:only-of-type {\n        vertical-align: middle;\n    }\n\n    .dataframe tbody tr th {\n        vertical-align: top;\n    }\n\n    .dataframe thead th {\n        text-align: right;\n    }\n</style>\n<table border=\"1\" class=\"dataframe\">\n  <thead>\n    <tr style=\"text-align: right;\">\n      <th></th>\n      <th>carat</th>\n      <th>cut</th>\n      <th>color</th>\n      <th>clarity</th>\n      <th>depth</th>\n      <th>table</th>\n      <th>price</th>\n      <th>x</th>\n      <th>y</th>\n      <th>z</th>\n      <th>expensive</th>\n    </tr>\n  </thead>\n  <tbody>\n    <tr>\n      <th>0</th>\n      <td>0.23</td>\n      <td>Ideal</td>\n      <td>E</td>\n      <td>SI2</td>\n      <td>61.5</td>\n      <td>55.0</td>\n      <td>326</td>\n      <td>3.95</td>\n      <td>3.98</td>\n      <td>2.43</td>\n      <td>False</td>\n    </tr>\n    <tr>\n      <th>1</th>\n      <td>0.21</td>\n      <td>Premium</td>\n      <td>E</td>\n      <td>SI1</td>\n      <td>59.8</td>\n      <td>61.0</td>\n      <td>326</td>\n      <td>3.89</td>\n      <td>3.84</td>\n      <td>2.31</td>\n      <td>False</td>\n    </tr>\n    <tr>\n      <th>2</th>\n      <td>0.23</td>\n      <td>Good</td>\n      <td>E</td>\n      <td>VS1</td>\n      <td>56.9</td>\n      <td>65.0</td>\n      <td>327</td>\n      <td>4.05</td>\n      <td>4.07</td>\n      <td>2.31</td>\n      <td>False</td>\n    </tr>\n    <tr>\n      <th>3</th>\n      <td>0.29</td>\n      <td>Premium</td>\n      <td>I</td>\n      <td>VS2</td>\n      <td>62.4</td>\n      <td>58.0</td>\n      <td>334</td>\n      <td>4.20</td>\n      <td>4.23</td>\n      <td>2.63</td>\n      <td>False</td>\n    </tr>\n    <tr>\n      <th>4</th>\n      <td>0.31</td>\n      <td>Good</td>\n      <td>J</td>\n      <td>SI2</td>\n      <td>63.3</td>\n      <td>58.0</td>\n      <td>335</td>\n      <td>4.34</td>\n      <td>4.35</td>\n      <td>2.75</td>\n      <td>False</td>\n    </tr>\n  </tbody>\n</table>\n</div>"
     },
     "execution_count": 10,
     "metadata": {},
     "output_type": "execute_result"
    }
   ],
   "source": [
    "# 或者这样\n",
    "diamonds.assign(expensive=lambda x: x[\"price\"] > 1000).head()"
   ],
   "metadata": {
    "collapsed": false,
    "ExecuteTime": {
     "end_time": "2023-10-17T01:09:34.767978Z",
     "start_time": "2023-10-17T01:09:34.732436600Z"
    }
   },
   "id": "ddb3b25055d60fef"
  },
  {
   "cell_type": "code",
   "execution_count": 11,
   "outputs": [
    {
     "data": {
      "text/plain": "array([False, False, False, False, False, False, False,  True,  True,\n        True, False])"
     },
     "execution_count": 11,
     "metadata": {},
     "output_type": "execute_result"
    }
   ],
   "source": [
    "diamonds.columns.isin([\"x\", \"y\", \"z\"])"
   ],
   "metadata": {
    "collapsed": false,
    "ExecuteTime": {
     "end_time": "2023-10-17T01:10:59.380284900Z",
     "start_time": "2023-10-17T01:10:59.371285300Z"
    }
   },
   "id": "2f946f757b45ebe0"
  },
  {
   "cell_type": "code",
   "execution_count": 12,
   "outputs": [
    {
     "data": {
      "text/plain": "       carat      cut color clarity  depth  table  price     x     y     z  \\\n1       0.21  Premium     E     SI1   59.8   61.0    326  3.89  3.84  2.31   \n8       0.22     Fair     E     VS2   65.1   61.0    337  3.87  3.78  2.49   \n11      0.23    Ideal     J     VS1   62.8   56.0    340  3.93  3.90  2.46   \n12      0.22  Premium     F     SI1   60.4   61.0    342  3.88  3.84  2.33   \n14      0.20  Premium     E     SI2   60.2   62.0    345  3.79  3.75  2.27   \n...      ...      ...   ...     ...    ...    ...    ...   ...   ...   ...   \n53928   0.79  Premium     E     SI2   61.4   58.0   2756  6.03  5.96  3.68   \n53929   0.71    Ideal     G     VS1   61.4   56.0   2756  5.76  5.73  3.53   \n53930   0.71  Premium     E     SI1   60.5   55.0   2756  5.79  5.74  3.49   \n53931   0.71  Premium     F     SI1   59.8   62.0   2756  5.74  5.73  3.43   \n53938   0.86  Premium     H     SI2   61.0   58.0   2757  6.15  6.12  3.74   \n\n       expensive  \n1          False  \n8          False  \n11         False  \n12         False  \n14         False  \n...          ...  \n53928       True  \n53929       True  \n53930       True  \n53931       True  \n53938       True  \n\n[23423 rows x 11 columns]",
      "text/html": "<div>\n<style scoped>\n    .dataframe tbody tr th:only-of-type {\n        vertical-align: middle;\n    }\n\n    .dataframe tbody tr th {\n        vertical-align: top;\n    }\n\n    .dataframe thead th {\n        text-align: right;\n    }\n</style>\n<table border=\"1\" class=\"dataframe\">\n  <thead>\n    <tr style=\"text-align: right;\">\n      <th></th>\n      <th>carat</th>\n      <th>cut</th>\n      <th>color</th>\n      <th>clarity</th>\n      <th>depth</th>\n      <th>table</th>\n      <th>price</th>\n      <th>x</th>\n      <th>y</th>\n      <th>z</th>\n      <th>expensive</th>\n    </tr>\n  </thead>\n  <tbody>\n    <tr>\n      <th>1</th>\n      <td>0.21</td>\n      <td>Premium</td>\n      <td>E</td>\n      <td>SI1</td>\n      <td>59.8</td>\n      <td>61.0</td>\n      <td>326</td>\n      <td>3.89</td>\n      <td>3.84</td>\n      <td>2.31</td>\n      <td>False</td>\n    </tr>\n    <tr>\n      <th>8</th>\n      <td>0.22</td>\n      <td>Fair</td>\n      <td>E</td>\n      <td>VS2</td>\n      <td>65.1</td>\n      <td>61.0</td>\n      <td>337</td>\n      <td>3.87</td>\n      <td>3.78</td>\n      <td>2.49</td>\n      <td>False</td>\n    </tr>\n    <tr>\n      <th>11</th>\n      <td>0.23</td>\n      <td>Ideal</td>\n      <td>J</td>\n      <td>VS1</td>\n      <td>62.8</td>\n      <td>56.0</td>\n      <td>340</td>\n      <td>3.93</td>\n      <td>3.90</td>\n      <td>2.46</td>\n      <td>False</td>\n    </tr>\n    <tr>\n      <th>12</th>\n      <td>0.22</td>\n      <td>Premium</td>\n      <td>F</td>\n      <td>SI1</td>\n      <td>60.4</td>\n      <td>61.0</td>\n      <td>342</td>\n      <td>3.88</td>\n      <td>3.84</td>\n      <td>2.33</td>\n      <td>False</td>\n    </tr>\n    <tr>\n      <th>14</th>\n      <td>0.20</td>\n      <td>Premium</td>\n      <td>E</td>\n      <td>SI2</td>\n      <td>60.2</td>\n      <td>62.0</td>\n      <td>345</td>\n      <td>3.79</td>\n      <td>3.75</td>\n      <td>2.27</td>\n      <td>False</td>\n    </tr>\n    <tr>\n      <th>...</th>\n      <td>...</td>\n      <td>...</td>\n      <td>...</td>\n      <td>...</td>\n      <td>...</td>\n      <td>...</td>\n      <td>...</td>\n      <td>...</td>\n      <td>...</td>\n      <td>...</td>\n      <td>...</td>\n    </tr>\n    <tr>\n      <th>53928</th>\n      <td>0.79</td>\n      <td>Premium</td>\n      <td>E</td>\n      <td>SI2</td>\n      <td>61.4</td>\n      <td>58.0</td>\n      <td>2756</td>\n      <td>6.03</td>\n      <td>5.96</td>\n      <td>3.68</td>\n      <td>True</td>\n    </tr>\n    <tr>\n      <th>53929</th>\n      <td>0.71</td>\n      <td>Ideal</td>\n      <td>G</td>\n      <td>VS1</td>\n      <td>61.4</td>\n      <td>56.0</td>\n      <td>2756</td>\n      <td>5.76</td>\n      <td>5.73</td>\n      <td>3.53</td>\n      <td>True</td>\n    </tr>\n    <tr>\n      <th>53930</th>\n      <td>0.71</td>\n      <td>Premium</td>\n      <td>E</td>\n      <td>SI1</td>\n      <td>60.5</td>\n      <td>55.0</td>\n      <td>2756</td>\n      <td>5.79</td>\n      <td>5.74</td>\n      <td>3.49</td>\n      <td>True</td>\n    </tr>\n    <tr>\n      <th>53931</th>\n      <td>0.71</td>\n      <td>Premium</td>\n      <td>F</td>\n      <td>SI1</td>\n      <td>59.8</td>\n      <td>62.0</td>\n      <td>2756</td>\n      <td>5.74</td>\n      <td>5.73</td>\n      <td>3.43</td>\n      <td>True</td>\n    </tr>\n    <tr>\n      <th>53938</th>\n      <td>0.86</td>\n      <td>Premium</td>\n      <td>H</td>\n      <td>SI2</td>\n      <td>61.0</td>\n      <td>58.0</td>\n      <td>2757</td>\n      <td>6.15</td>\n      <td>6.12</td>\n      <td>3.74</td>\n      <td>True</td>\n    </tr>\n  </tbody>\n</table>\n<p>23423 rows × 11 columns</p>\n</div>"
     },
     "execution_count": 12,
     "metadata": {},
     "output_type": "execute_result"
    }
   ],
   "source": [
    "diamonds[diamonds[\"x\"] > diamonds[\"y\"]]"
   ],
   "metadata": {
    "collapsed": false,
    "ExecuteTime": {
     "end_time": "2023-10-17T01:12:42.345999100Z",
     "start_time": "2023-10-17T01:12:42.328491900Z"
    }
   },
   "id": "284cbf99205704b8"
  }
 ],
 "metadata": {
  "kernelspec": {
   "display_name": "Python 3",
   "language": "python",
   "name": "python3"
  },
  "language_info": {
   "codemirror_mode": {
    "name": "ipython",
    "version": 2
   },
   "file_extension": ".py",
   "mimetype": "text/x-python",
   "name": "python",
   "nbconvert_exporter": "python",
   "pygments_lexer": "ipython2",
   "version": "2.7.6"
  }
 },
 "nbformat": 4,
 "nbformat_minor": 5
}
