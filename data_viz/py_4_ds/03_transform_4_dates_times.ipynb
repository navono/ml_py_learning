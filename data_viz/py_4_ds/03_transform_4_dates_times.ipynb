{
 "cells": [
  {
   "cell_type": "code",
   "execution_count": 1,
   "id": "initial_id",
   "metadata": {
    "collapsed": true,
    "ExecuteTime": {
     "end_time": "2023-10-18T12:00:57.307951800Z",
     "start_time": "2023-10-18T12:00:57.298943200Z"
    }
   },
   "outputs": [
    {
     "name": "stdout",
     "output_type": "stream",
     "text": [
      "2023-10-18 20:00:57.298943\n"
     ]
    }
   ],
   "source": [
    "from datetime import datetime\n",
    "\n",
    "now = datetime.now()\n",
    "print(now)"
   ]
  },
  {
   "cell_type": "code",
   "execution_count": 2,
   "outputs": [
    {
     "name": "stdout",
     "output_type": "stream",
     "text": [
      "2019-11-28 00:00:00\n"
     ]
    }
   ],
   "source": [
    "specific_datetime = datetime(2019, 11, 28)\n",
    "print(specific_datetime)"
   ],
   "metadata": {
    "collapsed": false,
    "ExecuteTime": {
     "end_time": "2023-10-18T12:01:06.848378Z",
     "start_time": "2023-10-18T12:01:06.840956100Z"
    }
   },
   "id": "36244d49a01553b4"
  },
  {
   "cell_type": "code",
   "execution_count": 3,
   "outputs": [
    {
     "data": {
      "text/plain": "datetime.datetime(2002, 2, 16, 0, 0)"
     },
     "execution_count": 3,
     "metadata": {},
     "output_type": "execute_result"
    }
   ],
   "source": [
    "date_string = \"16 February in 2002\"\n",
    "datetime.strptime(date_string, \"%d %B in %Y\")"
   ],
   "metadata": {
    "collapsed": false,
    "ExecuteTime": {
     "end_time": "2023-10-18T12:01:17.328617300Z",
     "start_time": "2023-10-18T12:01:17.315424500Z"
    }
   },
   "id": "43e5128d7228b1f9"
  },
  {
   "cell_type": "code",
   "execution_count": 4,
   "outputs": [
    {
     "name": "stdout",
     "output_type": "stream",
     "text": [
      "2002-02-03 00:00:00\n",
      "2002-02-03 00:00:00\n"
     ]
    }
   ],
   "source": [
    "from dateutil.parser import parse\n",
    "\n",
    "date_string = \"03 Feb 02\"\n",
    "print(parse(date_string))\n",
    "date_string = \"3rd February 2002\"\n",
    "print(parse(date_string))"
   ],
   "metadata": {
    "collapsed": false,
    "ExecuteTime": {
     "end_time": "2023-10-18T12:01:51.368297600Z",
     "start_time": "2023-10-18T12:01:51.353786300Z"
    }
   },
   "id": "ad91d0de7aff3025"
  },
  {
   "cell_type": "code",
   "execution_count": 5,
   "outputs": [
    {
     "name": "stdout",
     "output_type": "stream",
     "text": [
      "1386 days, 20:00:57.298943\n"
     ]
    }
   ],
   "source": [
    "time_diff = now - datetime(year=2020, month=1, day=1)\n",
    "print(time_diff)"
   ],
   "metadata": {
    "collapsed": false,
    "ExecuteTime": {
     "end_time": "2023-10-18T12:15:23.276991200Z",
     "start_time": "2023-10-18T12:15:23.260991900Z"
    }
   },
   "id": "234c5e1058d65f23"
  },
  {
   "cell_type": "markdown",
   "source": [
    "# Vectorised Datetimes"
   ],
   "metadata": {
    "collapsed": false
   },
   "id": "d4581f27696b79e6"
  },
  {
   "cell_type": "code",
   "execution_count": 6,
   "outputs": [
    {
     "data": {
      "text/plain": "array('2020-01-01', dtype='datetime64[D]')"
     },
     "execution_count": 6,
     "metadata": {},
     "output_type": "execute_result"
    }
   ],
   "source": [
    "import numpy as np\n",
    "\n",
    "date = np.array(\"2020-01-01\", dtype=np.datetime64)\n",
    "date"
   ],
   "metadata": {
    "collapsed": false,
    "ExecuteTime": {
     "end_time": "2023-10-18T12:17:22.102284800Z",
     "start_time": "2023-10-18T12:17:21.877538700Z"
    }
   },
   "id": "dfde67e02d0c407d"
  },
  {
   "cell_type": "code",
   "execution_count": 7,
   "outputs": [
    {
     "data": {
      "text/plain": "array(['2020-01-01', '2020-01-02', '2020-01-03', '2020-01-04',\n       '2020-01-05', '2020-01-06', '2020-01-07', '2020-01-08',\n       '2020-01-09', '2020-01-10', '2020-01-11', '2020-01-12',\n       '2020-01-13', '2020-01-14', '2020-01-15', '2020-01-16',\n       '2020-01-17', '2020-01-18', '2020-01-19', '2020-01-20',\n       '2020-01-21', '2020-01-22', '2020-01-23', '2020-01-24',\n       '2020-01-25', '2020-01-26', '2020-01-27', '2020-01-28',\n       '2020-01-29', '2020-01-30', '2020-01-31', '2020-02-01'],\n      dtype='datetime64[D]')"
     },
     "execution_count": 7,
     "metadata": {},
     "output_type": "execute_result"
    }
   ],
   "source": [
    "date + range(32)"
   ],
   "metadata": {
    "collapsed": false,
    "ExecuteTime": {
     "end_time": "2023-10-18T12:17:29.161099200Z",
     "start_time": "2023-10-18T12:17:29.147096400Z"
    }
   },
   "id": "ceafc3261c037cf3"
  },
  {
   "cell_type": "code",
   "execution_count": 8,
   "outputs": [
    {
     "data": {
      "text/plain": "numpy.datetime64('2020-01-01T09:00')"
     },
     "execution_count": 8,
     "metadata": {},
     "output_type": "execute_result"
    }
   ],
   "source": [
    "np.datetime64(\"2020-01-01 09:00\")"
   ],
   "metadata": {
    "collapsed": false,
    "ExecuteTime": {
     "end_time": "2023-10-18T12:17:59.207105400Z",
     "start_time": "2023-10-18T12:17:59.198104500Z"
    }
   },
   "id": "7db3e322b93fc5da"
  },
  {
   "cell_type": "code",
   "execution_count": 9,
   "outputs": [
    {
     "data": {
      "text/plain": "Timestamp('2020-02-16 00:00:00')"
     },
     "execution_count": 9,
     "metadata": {},
     "output_type": "execute_result"
    }
   ],
   "source": [
    "import pandas as pd\n",
    "\n",
    "date = pd.to_datetime(\"16th of February, 2020\")\n",
    "date"
   ],
   "metadata": {
    "collapsed": false,
    "ExecuteTime": {
     "end_time": "2023-10-18T12:18:17.924519Z",
     "start_time": "2023-10-18T12:18:17.914518300Z"
    }
   },
   "id": "cad4fc4cab9a2333"
  },
  {
   "cell_type": "code",
   "execution_count": 10,
   "outputs": [
    {
     "data": {
      "text/plain": "DatetimeIndex(['2020-02-16', '2020-02-17', '2020-02-18', '2020-02-19',\n               '2020-02-20', '2020-02-21', '2020-02-22', '2020-02-23',\n               '2020-02-24', '2020-02-25', '2020-02-26', '2020-02-27'],\n              dtype='datetime64[ns]', freq=None)"
     },
     "execution_count": 10,
     "metadata": {},
     "output_type": "execute_result"
    }
   ],
   "source": [
    "date + pd.to_timedelta(np.arange(12), \"D\")"
   ],
   "metadata": {
    "collapsed": false,
    "ExecuteTime": {
     "end_time": "2023-10-18T12:18:26.398328800Z",
     "start_time": "2023-10-18T12:18:26.377380500Z"
    }
   },
   "id": "d7e77acf27d0e46c"
  },
  {
   "cell_type": "code",
   "execution_count": 11,
   "outputs": [
    {
     "data": {
      "text/plain": "DatetimeIndex(['2018-01-01', '2018-01-02', '2018-01-03', '2018-01-04',\n               '2018-01-05', '2018-01-06', '2018-01-07', '2018-01-08'],\n              dtype='datetime64[ns]', freq='D')"
     },
     "execution_count": 11,
     "metadata": {},
     "output_type": "execute_result"
    }
   ],
   "source": [
    "pd.date_range(start=\"2018/1/1\", end=\"2018/1/8\")"
   ],
   "metadata": {
    "collapsed": false,
    "ExecuteTime": {
     "end_time": "2023-10-18T12:18:34.491801300Z",
     "start_time": "2023-10-18T12:18:34.473358400Z"
    }
   },
   "id": "5b056c897d9b086a"
  },
  {
   "cell_type": "code",
   "execution_count": 12,
   "outputs": [
    {
     "data": {
      "text/plain": "DatetimeIndex(['2018-01-01 00:00:00', '2018-01-01 01:00:00',\n               '2018-01-01 02:00:00'],\n              dtype='datetime64[ns]', freq='H')"
     },
     "execution_count": 12,
     "metadata": {},
     "output_type": "execute_result"
    }
   ],
   "source": [
    "pd.date_range(\"2018-01-01\", periods=3, freq=\"H\")"
   ],
   "metadata": {
    "collapsed": false,
    "ExecuteTime": {
     "end_time": "2023-10-18T12:18:43.481451200Z",
     "start_time": "2023-10-18T12:18:43.466450900Z"
    }
   },
   "id": "343658eb567c2c4b"
  },
  {
   "cell_type": "code",
   "execution_count": 13,
   "outputs": [
    {
     "data": {
      "text/plain": "DatetimeIndex(['2017-12-31 16:00:00-08:00', '2017-12-31 17:00:00-08:00',\n               '2017-12-31 18:00:00-08:00'],\n              dtype='datetime64[ns, US/Pacific]', freq='H')"
     },
     "execution_count": 13,
     "metadata": {},
     "output_type": "execute_result"
    }
   ],
   "source": [
    "dti = pd.date_range(\"2018-01-01\", periods=3, freq=\"H\").tz_localize(\"UTC\")\n",
    "dti.tz_convert(\"US/Pacific\")"
   ],
   "metadata": {
    "collapsed": false,
    "ExecuteTime": {
     "end_time": "2023-10-18T12:19:16.078455700Z",
     "start_time": "2023-10-18T12:19:14.881998Z"
    }
   },
   "id": "6f93fb30e92224b4"
  },
  {
   "cell_type": "markdown",
   "source": [
    "# 非时间类型转换到时间类型"
   ],
   "metadata": {
    "collapsed": false
   },
   "id": "c2e74d8e9ef59fc3"
  },
  {
   "cell_type": "code",
   "execution_count": 14,
   "outputs": [
    {
     "data": {
      "text/plain": "       date  Vacancies (ICT), thousands\n0  2001 MAY                          50\n1  2001 JUN                          48\n2  2001 JUL                          47\n3  2001 AUG                          46\n4  2001 SEP                          44",
      "text/html": "<div>\n<style scoped>\n    .dataframe tbody tr th:only-of-type {\n        vertical-align: middle;\n    }\n\n    .dataframe tbody tr th {\n        vertical-align: top;\n    }\n\n    .dataframe thead th {\n        text-align: right;\n    }\n</style>\n<table border=\"1\" class=\"dataframe\">\n  <thead>\n    <tr style=\"text-align: right;\">\n      <th></th>\n      <th>date</th>\n      <th>Vacancies (ICT), thousands</th>\n    </tr>\n  </thead>\n  <tbody>\n    <tr>\n      <th>0</th>\n      <td>2001 MAY</td>\n      <td>50</td>\n    </tr>\n    <tr>\n      <th>1</th>\n      <td>2001 JUN</td>\n      <td>48</td>\n    </tr>\n    <tr>\n      <th>2</th>\n      <td>2001 JUL</td>\n      <td>47</td>\n    </tr>\n    <tr>\n      <th>3</th>\n      <td>2001 AUG</td>\n      <td>46</td>\n    </tr>\n    <tr>\n      <th>4</th>\n      <td>2001 SEP</td>\n      <td>44</td>\n    </tr>\n  </tbody>\n</table>\n</div>"
     },
     "execution_count": 14,
     "metadata": {},
     "output_type": "execute_result"
    }
   ],
   "source": [
    "import requests\n",
    "\n",
    "url = \"https://api.ons.gov.uk/timeseries/JP9P/dataset/UNEM/data\"\n",
    "\n",
    "# Get the data from the ONS API:\n",
    "df = pd.DataFrame(pd.json_normalize(requests.get(url).json()[\"months\"]))\n",
    "df[\"value\"] = pd.to_numeric(df[\"value\"])\n",
    "df = df[[\"date\", \"value\"]]\n",
    "df = df.rename(columns={\"value\": \"Vacancies (ICT), thousands\"})\n",
    "df.head()"
   ],
   "metadata": {
    "collapsed": false,
    "ExecuteTime": {
     "end_time": "2023-10-18T12:20:21.689809900Z",
     "start_time": "2023-10-18T12:20:20.105378300Z"
    }
   },
   "id": "be3f781a78d67220"
  },
  {
   "cell_type": "code",
   "execution_count": 15,
   "outputs": [
    {
     "name": "stdout",
     "output_type": "stream",
     "text": [
      "<class 'pandas.core.frame.DataFrame'>\n",
      "RangeIndex: 267 entries, 0 to 266\n",
      "Data columns (total 2 columns):\n",
      " #   Column                      Non-Null Count  Dtype \n",
      "---  ------                      --------------  ----- \n",
      " 0   date                        267 non-null    object\n",
      " 1   Vacancies (ICT), thousands  267 non-null    int64 \n",
      "dtypes: int64(1), object(1)\n",
      "memory usage: 4.3+ KB\n"
     ]
    }
   ],
   "source": [
    "df.info()"
   ],
   "metadata": {
    "collapsed": false,
    "ExecuteTime": {
     "end_time": "2023-10-18T12:20:29.681483400Z",
     "start_time": "2023-10-18T12:20:29.675047800Z"
    }
   },
   "id": "89b910cd923c82ac"
  },
  {
   "cell_type": "code",
   "execution_count": 16,
   "outputs": [
    {
     "name": "stderr",
     "output_type": "stream",
     "text": [
      "C:\\Users\\ping\\AppData\\Local\\Temp\\ipykernel_32000\\4101568055.py:1: UserWarning: Could not infer format, so each element will be parsed individually, falling back to `dateutil`. To ensure parsing is consistent and as-expected, please specify a format.\n",
      "  df[\"date\"] = pd.to_datetime(df[\"date\"])\n"
     ]
    },
    {
     "data": {
      "text/plain": "0   2001-05-01\n1   2001-06-01\n2   2001-07-01\n3   2001-08-01\n4   2001-09-01\nName: date, dtype: datetime64[ns]"
     },
     "execution_count": 16,
     "metadata": {},
     "output_type": "execute_result"
    }
   ],
   "source": [
    "df[\"date\"] = pd.to_datetime(df[\"date\"])\n",
    "df[\"date\"].head()"
   ],
   "metadata": {
    "collapsed": false,
    "ExecuteTime": {
     "end_time": "2023-10-18T12:21:04.707079700Z",
     "start_time": "2023-10-18T12:21:04.699079600Z"
    }
   },
   "id": "163919d7c125e2c7"
  },
  {
   "cell_type": "code",
   "execution_count": 17,
   "outputs": [
    {
     "data": {
      "text/plain": "0    1, '19, 22\n1    1, '19, 23\nName: date, dtype: object"
     },
     "execution_count": 17,
     "metadata": {},
     "output_type": "execute_result"
    }
   ],
   "source": [
    "small_df = pd.DataFrame({\"date\": [\"1, '19, 22\", \"1, '19, 23\"], \"values\": [\"1\", \"2\"]})\n",
    "small_df[\"date\"]"
   ],
   "metadata": {
    "collapsed": false,
    "ExecuteTime": {
     "end_time": "2023-10-18T12:21:46.169288200Z",
     "start_time": "2023-10-18T12:21:46.154277500Z"
    }
   },
   "id": "817c70c39928b37e"
  },
  {
   "cell_type": "code",
   "execution_count": 18,
   "outputs": [
    {
     "data": {
      "text/plain": "0   2019-01-22\n1   2019-01-23\nName: date, dtype: datetime64[ns]"
     },
     "execution_count": 18,
     "metadata": {},
     "output_type": "execute_result"
    }
   ],
   "source": [
    "pd.to_datetime(small_df[\"date\"], format=\"%m, '%y, %d\")"
   ],
   "metadata": {
    "collapsed": false,
    "ExecuteTime": {
     "end_time": "2023-10-18T12:21:58.917565100Z",
     "start_time": "2023-10-18T12:21:58.907047700Z"
    }
   },
   "id": "1209528e8ce53531"
  },
  {
   "cell_type": "code",
   "execution_count": 19,
   "outputs": [
    {
     "data": {
      "text/plain": "        date  Vacancies (ICT), thousands\n0 2001-05-31                          50\n1 2001-06-30                          48\n2 2001-07-31                          47\n3 2001-08-31                          46\n4 2001-09-30                          44",
      "text/html": "<div>\n<style scoped>\n    .dataframe tbody tr th:only-of-type {\n        vertical-align: middle;\n    }\n\n    .dataframe tbody tr th {\n        vertical-align: top;\n    }\n\n    .dataframe thead th {\n        text-align: right;\n    }\n</style>\n<table border=\"1\" class=\"dataframe\">\n  <thead>\n    <tr style=\"text-align: right;\">\n      <th></th>\n      <th>date</th>\n      <th>Vacancies (ICT), thousands</th>\n    </tr>\n  </thead>\n  <tbody>\n    <tr>\n      <th>0</th>\n      <td>2001-05-31</td>\n      <td>50</td>\n    </tr>\n    <tr>\n      <th>1</th>\n      <td>2001-06-30</td>\n      <td>48</td>\n    </tr>\n    <tr>\n      <th>2</th>\n      <td>2001-07-31</td>\n      <td>47</td>\n    </tr>\n    <tr>\n      <th>3</th>\n      <td>2001-08-31</td>\n      <td>46</td>\n    </tr>\n    <tr>\n      <th>4</th>\n      <td>2001-09-30</td>\n      <td>44</td>\n    </tr>\n  </tbody>\n</table>\n</div>"
     },
     "execution_count": 19,
     "metadata": {},
     "output_type": "execute_result"
    }
   ],
   "source": [
    "df[\"date\"] = df[\"date\"] + pd.offsets.MonthEnd()\n",
    "df.head()"
   ],
   "metadata": {
    "collapsed": false,
    "ExecuteTime": {
     "end_time": "2023-10-18T12:22:13.028327300Z",
     "start_time": "2023-10-18T12:22:13.001247300Z"
    }
   },
   "id": "cdd1f082fa76eaa0"
  },
  {
   "cell_type": "code",
   "execution_count": 20,
   "outputs": [
    {
     "name": "stdout",
     "output_type": "stream",
     "text": [
      "Using `dt.day_name()`\n",
      "0    Thursday\n",
      "1    Saturday\n",
      "2     Tuesday\n",
      "3      Friday\n",
      "4      Sunday\n",
      "Name: date, dtype: object\n",
      "Using `dt.isocalendar()`\n",
      "   year  week  day\n",
      "0  2001    22    4\n",
      "1  2001    26    6\n",
      "2  2001    31    2\n",
      "3  2001    35    5\n",
      "4  2001    39    7\n",
      "Using `dt.month`\n",
      "0    5\n",
      "1    6\n",
      "2    7\n",
      "3    8\n",
      "4    9\n",
      "Name: date, dtype: int32\n"
     ]
    }
   ],
   "source": [
    "print(\"Using `dt.day_name()`\")\n",
    "print(df[\"date\"].dt.day_name().head())\n",
    "print(\"Using `dt.isocalendar()`\")\n",
    "print(df[\"date\"].dt.isocalendar().head())\n",
    "print(\"Using `dt.month`\")\n",
    "print(df[\"date\"].dt.month.head())"
   ],
   "metadata": {
    "collapsed": false,
    "ExecuteTime": {
     "end_time": "2023-10-18T12:22:51.545749600Z",
     "start_time": "2023-10-18T12:22:51.529932600Z"
    }
   },
   "id": "2234a9137c6f75e5"
  },
  {
   "cell_type": "code",
   "execution_count": 21,
   "outputs": [
    {
     "data": {
      "text/plain": "            Vacancies (ICT), thousands\ndate                                  \n2001-05-31                          50\n2001-06-30                          48\n2001-07-31                          47\n2001-08-31                          46\n2001-09-30                          44",
      "text/html": "<div>\n<style scoped>\n    .dataframe tbody tr th:only-of-type {\n        vertical-align: middle;\n    }\n\n    .dataframe tbody tr th {\n        vertical-align: top;\n    }\n\n    .dataframe thead th {\n        text-align: right;\n    }\n</style>\n<table border=\"1\" class=\"dataframe\">\n  <thead>\n    <tr style=\"text-align: right;\">\n      <th></th>\n      <th>Vacancies (ICT), thousands</th>\n    </tr>\n    <tr>\n      <th>date</th>\n      <th></th>\n    </tr>\n  </thead>\n  <tbody>\n    <tr>\n      <th>2001-05-31</th>\n      <td>50</td>\n    </tr>\n    <tr>\n      <th>2001-06-30</th>\n      <td>48</td>\n    </tr>\n    <tr>\n      <th>2001-07-31</th>\n      <td>47</td>\n    </tr>\n    <tr>\n      <th>2001-08-31</th>\n      <td>46</td>\n    </tr>\n    <tr>\n      <th>2001-09-30</th>\n      <td>44</td>\n    </tr>\n  </tbody>\n</table>\n</div>"
     },
     "execution_count": 21,
     "metadata": {},
     "output_type": "execute_result"
    }
   ],
   "source": [
    "df = df.set_index(\"date\")\n",
    "df.head()"
   ],
   "metadata": {
    "collapsed": false,
    "ExecuteTime": {
     "end_time": "2023-10-18T12:23:20.883318500Z",
     "start_time": "2023-10-18T12:23:20.872810800Z"
    }
   },
   "id": "71429d9aa98f028b"
  },
  {
   "cell_type": "code",
   "execution_count": 22,
   "outputs": [
    {
     "data": {
      "text/plain": "DatetimeIndex(['2001-05-31', '2001-06-30', '2001-07-31', '2001-08-31',\n               '2001-09-30'],\n              dtype='datetime64[ns]', name='date', freq=None)"
     },
     "execution_count": 22,
     "metadata": {},
     "output_type": "execute_result"
    }
   ],
   "source": [
    "df.index[:5]"
   ],
   "metadata": {
    "collapsed": false,
    "ExecuteTime": {
     "end_time": "2023-10-18T12:23:25.252992400Z",
     "start_time": "2023-10-18T12:23:25.235096300Z"
    }
   },
   "id": "5eb72cdbe6db4d8a"
  },
  {
   "cell_type": "code",
   "execution_count": 23,
   "outputs": [
    {
     "data": {
      "text/plain": "DatetimeIndex(['2001-05-31', '2001-06-30', '2001-07-31', '2001-08-31',\n               '2001-09-30'],\n              dtype='datetime64[ns]', name='date', freq='M')"
     },
     "execution_count": 23,
     "metadata": {},
     "output_type": "execute_result"
    }
   ],
   "source": [
    "df = df.asfreq(\"M\")\n",
    "df.index[:5]"
   ],
   "metadata": {
    "collapsed": false,
    "ExecuteTime": {
     "end_time": "2023-10-18T12:23:31.635762100Z",
     "start_time": "2023-10-18T12:23:31.611663700Z"
    }
   },
   "id": "aedab4c18ce58e47"
  },
  {
   "cell_type": "code",
   "execution_count": 24,
   "outputs": [
    {
     "data": {
      "text/plain": "<Figure size 640x480 with 1 Axes>",
      "image/png": "[encoded data removed]"
     },
     "metadata": {},
     "output_type": "display_data"
    }
   ],
   "source": [
    "df.plot();"
   ],
   "metadata": {
    "collapsed": false,
    "ExecuteTime": {
     "end_time": "2023-10-18T12:24:03.499797Z",
     "start_time": "2023-10-18T12:24:02.824027200Z"
    }
   },
   "id": "6eaddd3cf458dc58"
  }
 ],
 "metadata": {
  "kernelspec": {
   "display_name": "Python 3",
   "language": "python",
   "name": "python3"
  },
  "language_info": {
   "codemirror_mode": {
    "name": "ipython",
    "version": 2
   },
   "file_extension": ".py",
   "mimetype": "text/x-python",
   "name": "python",
   "nbconvert_exporter": "python",
   "pygments_lexer": "ipython2",
   "version": "2.7.6"
  }
 },
 "nbformat": 4,
 "nbformat_minor": 5
}
