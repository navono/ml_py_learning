{
 "cells": [
  {
   "cell_type": "markdown",
   "source": [
    "# Creating Strings"
   ],
   "metadata": {
    "collapsed": false
   },
   "id": "3e1d4449c24f6c81"
  },
  {
   "cell_type": "code",
   "execution_count": 2,
   "outputs": [],
   "source": [
    "string_one = \"This is a string\"\n",
    "string_two = (\n",
    "    \"If I want to include a 'quote' inside a string, I use double quotes on the outside\"\n",
    ")"
   ],
   "metadata": {
    "collapsed": false,
    "ExecuteTime": {
     "end_time": "2023-10-18T07:41:41.565309900Z",
     "start_time": "2023-10-18T07:41:41.560803900Z"
    }
   },
   "id": "325c2c65b64ee33f"
  },
  {
   "cell_type": "code",
   "execution_count": 3,
   "outputs": [
    {
     "data": {
      "text/plain": "str"
     },
     "execution_count": 3,
     "metadata": {},
     "output_type": "execute_result"
    }
   ],
   "source": [
    "type(string_one)"
   ],
   "metadata": {
    "collapsed": false,
    "ExecuteTime": {
     "end_time": "2023-10-18T07:41:43.201163Z",
     "start_time": "2023-10-18T07:41:43.196460900Z"
    }
   },
   "id": "e57baa5d4fddc615"
  },
  {
   "cell_type": "code",
   "execution_count": 4,
   "outputs": [
    {
     "data": {
      "text/plain": "\"This is a string. If I want to include a 'quote' inside a string, I use double quotes on the outside.\""
     },
     "execution_count": 4,
     "metadata": {},
     "output_type": "execute_result"
    }
   ],
   "source": [
    "string_one + \". \" + string_two + \".\""
   ],
   "metadata": {
    "collapsed": false,
    "ExecuteTime": {
     "end_time": "2023-10-18T07:42:07.381725100Z",
     "start_time": "2023-10-18T07:42:07.372700800Z"
    }
   },
   "id": "bed2067bfeaa9e07"
  },
  {
   "cell_type": "code",
   "execution_count": 5,
   "outputs": [
    {
     "data": {
      "text/plain": "\"This is a string. If I want to include a 'quote' inside a string, I use double quotes on the outside\""
     },
     "execution_count": 5,
     "metadata": {},
     "output_type": "execute_result"
    }
   ],
   "source": [
    "\". \".join([string_one, string_two])"
   ],
   "metadata": {
    "collapsed": false,
    "ExecuteTime": {
     "end_time": "2023-10-18T07:42:15.402668700Z",
     "start_time": "2023-10-18T07:42:15.394412400Z"
    }
   },
   "id": "bcd2775e04bded0"
  },
  {
   "cell_type": "code",
   "execution_count": 6,
   "outputs": [
    {
     "name": "stdout",
     "output_type": "stream",
     "text": [
      "['INPUT TEXT', 'input text', 'Input Text']\n"
     ]
    }
   ],
   "source": [
    "var = \"input TEXT\"\n",
    "var_list = [var.upper(), var.lower(), var.title()]\n",
    "print(var_list)"
   ],
   "metadata": {
    "collapsed": false,
    "ExecuteTime": {
     "end_time": "2023-10-18T07:42:46.552802100Z",
     "start_time": "2023-10-18T07:42:46.539211600Z"
    }
   },
   "id": "1ce025909582ee9a"
  },
  {
   "cell_type": "code",
   "execution_count": 7,
   "outputs": [
    {
     "name": "stdout",
     "output_type": "stream",
     "text": [
      "INPUT TEXT; and \n",
      "input text; and \n",
      "Input Text\n"
     ]
    }
   ],
   "source": [
    "print(*var_list, sep=\"; and \\n\")"
   ],
   "metadata": {
    "collapsed": false,
    "ExecuteTime": {
     "end_time": "2023-10-18T07:43:27.136436800Z",
     "start_time": "2023-10-18T07:43:27.127426800Z"
    }
   },
   "id": "a6f14dd9dcaa3ef3"
  },
  {
   "cell_type": "code",
   "execution_count": 8,
   "outputs": [
    {
     "data": {
      "text/plain": "'A boolean is either True or False, there are only 2 options.'"
     },
     "execution_count": 8,
     "metadata": {},
     "output_type": "execute_result"
    }
   ],
   "source": [
    "(\n",
    "        \"A boolean is either \"\n",
    "        + str(True)\n",
    "        + \" or \"\n",
    "        + str(False)\n",
    "        + \", there are only \"\n",
    "        + str(2)\n",
    "        + \" options.\"\n",
    ")"
   ],
   "metadata": {
    "collapsed": false,
    "ExecuteTime": {
     "end_time": "2023-10-18T07:43:59.545398200Z",
     "start_time": "2023-10-18T07:43:59.515581900Z"
    }
   },
   "id": "bc56cc4c6c78f6cb"
  },
  {
   "cell_type": "markdown",
   "source": [
    "## f-strings"
   ],
   "metadata": {
    "collapsed": false
   },
   "id": "37e376356db08231"
  },
  {
   "cell_type": "code",
   "execution_count": 9,
   "outputs": [
    {
     "name": "stdout",
     "output_type": "stream",
     "text": [
      "You scored 15.32399\n"
     ]
    }
   ],
   "source": [
    "variable = 15.32399\n",
    "print(f\"You scored {variable}\")"
   ],
   "metadata": {
    "collapsed": false,
    "ExecuteTime": {
     "end_time": "2023-10-18T07:44:16.670102300Z",
     "start_time": "2023-10-18T07:44:16.654602700Z"
    }
   },
   "id": "77a3fff98b5e9c59"
  },
  {
   "cell_type": "code",
   "execution_count": 10,
   "outputs": [
    {
     "name": "stdout",
     "output_type": "stream",
     "text": [
      "You scored 234.8246695201\n"
     ]
    }
   ],
   "source": [
    "print(f\"You scored {variable ** 2}\")"
   ],
   "metadata": {
    "collapsed": false,
    "ExecuteTime": {
     "end_time": "2023-10-18T07:44:25.541621800Z",
     "start_time": "2023-10-18T07:44:25.513631500Z"
    }
   },
   "id": "55e24c2d0b812771"
  },
  {
   "cell_type": "code",
   "execution_count": 11,
   "outputs": [
    {
     "name": "stdout",
     "output_type": "stream",
     "text": [
      "You scored +15.32\n"
     ]
    }
   ],
   "source": [
    "print(f\"You scored {variable:+.2f}\")"
   ],
   "metadata": {
    "collapsed": false,
    "ExecuteTime": {
     "end_time": "2023-10-18T07:45:21.237670300Z",
     "start_time": "2023-10-18T07:45:21.223249800Z"
    }
   },
   "id": "c0577e75d9d89973"
  },
  {
   "cell_type": "markdown",
   "source": [
    "格式化\n",
    "\n",
    "![format](./pic/string-format.png)\n",
    "\n",
    "[更多](https://www.python-utils.com/)\n",
    "[string-formatting](https://mkaz.blog/working-with-python/string-formatting/)"
   ],
   "metadata": {
    "collapsed": false
   },
   "id": "61e613dcba860b1d"
  },
  {
   "cell_type": "code",
   "execution_count": 12,
   "outputs": [
    {
     "data": {
      "text/plain": "'!\"#$%&\\'()*+,-./:;<=>?@[\\\\]^_`{|}~'"
     },
     "execution_count": 12,
     "metadata": {},
     "output_type": "execute_result"
    }
   ],
   "source": [
    "import string\n",
    "\n",
    "string.punctuation"
   ],
   "metadata": {
    "collapsed": false,
    "ExecuteTime": {
     "end_time": "2023-10-18T07:50:40.870210400Z",
     "start_time": "2023-10-18T07:50:40.856726800Z"
    }
   },
   "id": "9b48688b8be749c8"
  },
  {
   "cell_type": "code",
   "execution_count": 13,
   "outputs": [
    {
     "data": {
      "text/plain": "'abcdefghijklmnopqrstuvwxyzABCDEFGHIJKLMNOPQRSTUVWXYZ'"
     },
     "execution_count": 13,
     "metadata": {},
     "output_type": "execute_result"
    }
   ],
   "source": [
    "string.ascii_letters"
   ],
   "metadata": {
    "collapsed": false,
    "ExecuteTime": {
     "end_time": "2023-10-18T07:50:48.889847300Z",
     "start_time": "2023-10-18T07:50:48.881802500Z"
    }
   },
   "id": "6cca98d6c0ada28a"
  },
  {
   "cell_type": "code",
   "execution_count": 14,
   "outputs": [
    {
     "data": {
      "text/plain": "'0123456789'"
     },
     "execution_count": 14,
     "metadata": {},
     "output_type": "execute_result"
    }
   ],
   "source": [
    "string.digits"
   ],
   "metadata": {
    "collapsed": false,
    "ExecuteTime": {
     "end_time": "2023-10-18T07:50:59.276950400Z",
     "start_time": "2023-10-18T07:50:59.267933900Z"
    }
   },
   "id": "7a503a4c0687dabf"
  },
  {
   "cell_type": "code",
   "execution_count": 15,
   "outputs": [
    {
     "name": "stdout",
     "output_type": "stream",
     "text": [
      "a\\tb\\nA\\tB\n"
     ]
    }
   ],
   "source": [
    "print(r\"a\\tb\\nA\\tB\")"
   ],
   "metadata": {
    "collapsed": false,
    "ExecuteTime": {
     "end_time": "2023-10-18T07:51:42.456531200Z",
     "start_time": "2023-10-18T07:51:42.447344300Z"
    }
   },
   "id": "89d4a5c3fab15c9e"
  },
  {
   "cell_type": "markdown",
   "source": [
    "# Cleaning Text"
   ],
   "metadata": {
    "collapsed": false
   },
   "id": "a82e8ea7a7e29a62"
  },
  {
   "cell_type": "code",
   "execution_count": 16,
   "outputs": [
    {
     "data": {
      "text/plain": "'Value is subjective'"
     },
     "execution_count": 16,
     "metadata": {},
     "output_type": "execute_result"
    }
   ],
   "source": [
    "\"Value is objective\".replace(\"objective\", \"subjective\")"
   ],
   "metadata": {
    "collapsed": false,
    "ExecuteTime": {
     "end_time": "2023-10-18T07:51:56.522468400Z",
     "start_time": "2023-10-18T07:51:56.512261600Z"
    }
   },
   "id": "24b7c6296b4cc998"
  },
  {
   "cell_type": "code",
   "execution_count": 17,
   "outputs": [
    {
     "name": "stdout",
     "output_type": "stream",
     "text": [
      "The word \"coffee\" appears 2 times.\n"
     ]
    }
   ],
   "source": [
    "text = \"At six o'clock we were waiting for coffee, \\n waiting for coffee and the charitable crumb \\n that was going to be served from a certain balcony \\n --like kings of old, or like a miracle. \\n It was still dark. One foot of the sun \\n steadied itself on a long ripple in the river.\"\n",
    "word = \"coffee\"\n",
    "print(f'The word \"{word}\" appears {text.count(word)} times.')"
   ],
   "metadata": {
    "collapsed": false,
    "ExecuteTime": {
     "end_time": "2023-10-18T07:59:36.921297100Z",
     "start_time": "2023-10-18T07:59:36.912528400Z"
    }
   },
   "id": "2fd0e4163fa9ab86"
  },
  {
   "cell_type": "markdown",
   "source": [
    "# Multiple Strings"
   ],
   "metadata": {
    "collapsed": false
   },
   "id": "f0c74f3ecdeb2b3c"
  },
  {
   "cell_type": "code",
   "execution_count": 18,
   "outputs": [
    {
     "data": {
      "text/plain": "0     ada lovelace\n1       adam smith\n2    elinor ostrom\n3     grace hopper\n4      jean bartik\ndtype: string"
     },
     "execution_count": 18,
     "metadata": {},
     "output_type": "execute_result"
    }
   ],
   "source": [
    "import pandas as pd\n",
    "\n",
    "dfs = pd.Series(\n",
    "    [\"ada lovelace\", \"adam smith\", \"elinor ostrom\", \"grace hopper\", \"jean bartik\"],\n",
    "    dtype=\"string\",\n",
    ")\n",
    "dfs"
   ],
   "metadata": {
    "collapsed": false,
    "ExecuteTime": {
     "end_time": "2023-10-18T08:00:28.095486Z",
     "start_time": "2023-10-18T08:00:26.966584900Z"
    }
   },
   "id": "61776330cdabee44"
  },
  {
   "cell_type": "code",
   "execution_count": 19,
   "outputs": [
    {
     "data": {
      "text/plain": "0     Ada Lovelace\n1       Adam Smith\n2    Elinor Ostrom\n3     Grace Hopper\n4      Jean Bartik\ndtype: string"
     },
     "execution_count": 19,
     "metadata": {},
     "output_type": "execute_result"
    }
   ],
   "source": [
    "dfs.str.title()"
   ],
   "metadata": {
    "collapsed": false,
    "ExecuteTime": {
     "end_time": "2023-10-18T08:00:38.778997500Z",
     "start_time": "2023-10-18T08:00:38.762957300Z"
    }
   },
   "id": "ed059416f19b4d5c"
  },
  {
   "cell_type": "code",
   "execution_count": 20,
   "outputs": [
    {
     "data": {
      "text/plain": "0     Ada Lovelace\n1       Adam Smith\n2    Elinor Ostrom\n3     Grace Hopper\n4      Jean Bartik\nName: names, dtype: string"
     },
     "execution_count": 20,
     "metadata": {},
     "output_type": "execute_result"
    }
   ],
   "source": [
    "df = pd.DataFrame(dfs, columns=[\"names\"])\n",
    "df[\"names\"].str.title()"
   ],
   "metadata": {
    "collapsed": false,
    "ExecuteTime": {
     "end_time": "2023-10-18T08:00:43.709560900Z",
     "start_time": "2023-10-18T08:00:43.701318400Z"
    }
   },
   "id": "37699b1fb4517b8f"
  },
  {
   "cell_type": "code",
   "execution_count": 22,
   "outputs": [
    {
     "data": {
      "text/plain": "0     [ada, lovelace]\n1       [adam, smith]\n2    [elinor, ostrom]\n3     [grace, hopper]\n4      [jean, bartik]\nName: names, dtype: object"
     },
     "execution_count": 22,
     "metadata": {},
     "output_type": "execute_result"
    }
   ],
   "source": [
    "df[\"names\"].str.split(\" \")"
   ],
   "metadata": {
    "collapsed": false,
    "ExecuteTime": {
     "end_time": "2023-10-18T08:01:27.905476300Z",
     "start_time": "2023-10-18T08:01:27.895851600Z"
    }
   },
   "id": "9dc960b5dbbefb02"
  },
  {
   "cell_type": "code",
   "execution_count": 23,
   "outputs": [
    {
     "data": {
      "text/plain": "        0         1\n0     ada  lovelace\n1    adam     smith\n2  elinor    ostrom\n3   grace    hopper\n4    jean    bartik",
      "text/html": "<div>\n<style scoped>\n    .dataframe tbody tr th:only-of-type {\n        vertical-align: middle;\n    }\n\n    .dataframe tbody tr th {\n        vertical-align: top;\n    }\n\n    .dataframe thead th {\n        text-align: right;\n    }\n</style>\n<table border=\"1\" class=\"dataframe\">\n  <thead>\n    <tr style=\"text-align: right;\">\n      <th></th>\n      <th>0</th>\n      <th>1</th>\n    </tr>\n  </thead>\n  <tbody>\n    <tr>\n      <th>0</th>\n      <td>ada</td>\n      <td>lovelace</td>\n    </tr>\n    <tr>\n      <th>1</th>\n      <td>adam</td>\n      <td>smith</td>\n    </tr>\n    <tr>\n      <th>2</th>\n      <td>elinor</td>\n      <td>ostrom</td>\n    </tr>\n    <tr>\n      <th>3</th>\n      <td>grace</td>\n      <td>hopper</td>\n    </tr>\n    <tr>\n      <th>4</th>\n      <td>jean</td>\n      <td>bartik</td>\n    </tr>\n  </tbody>\n</table>\n</div>"
     },
     "execution_count": 23,
     "metadata": {},
     "output_type": "execute_result"
    }
   ],
   "source": [
    "df[\"names\"].str.split(\" \", n=2, expand=True)"
   ],
   "metadata": {
    "collapsed": false,
    "ExecuteTime": {
     "end_time": "2023-10-18T08:01:42.583936Z",
     "start_time": "2023-10-18T08:01:42.571436800Z"
    }
   },
   "id": "4785cf6eedf4baa0"
  },
  {
   "cell_type": "code",
   "execution_count": 24,
   "outputs": [
    {
     "data": {
      "text/plain": "           names       tags\n0   ada lovelace     uk; cs\n1     adam smith   uk; econ\n2  elinor ostrom  usa; econ\n3   grace hopper    usa; cs\n4    jean bartik    usa; cs",
      "text/html": "<div>\n<style scoped>\n    .dataframe tbody tr th:only-of-type {\n        vertical-align: middle;\n    }\n\n    .dataframe tbody tr th {\n        vertical-align: top;\n    }\n\n    .dataframe thead th {\n        text-align: right;\n    }\n</style>\n<table border=\"1\" class=\"dataframe\">\n  <thead>\n    <tr style=\"text-align: right;\">\n      <th></th>\n      <th>names</th>\n      <th>tags</th>\n    </tr>\n  </thead>\n  <tbody>\n    <tr>\n      <th>0</th>\n      <td>ada lovelace</td>\n      <td>uk; cs</td>\n    </tr>\n    <tr>\n      <th>1</th>\n      <td>adam smith</td>\n      <td>uk; econ</td>\n    </tr>\n    <tr>\n      <th>2</th>\n      <td>elinor ostrom</td>\n      <td>usa; econ</td>\n    </tr>\n    <tr>\n      <th>3</th>\n      <td>grace hopper</td>\n      <td>usa; cs</td>\n    </tr>\n    <tr>\n      <th>4</th>\n      <td>jean bartik</td>\n      <td>usa; cs</td>\n    </tr>\n  </tbody>\n</table>\n</div>"
     },
     "execution_count": 24,
     "metadata": {},
     "output_type": "execute_result"
    }
   ],
   "source": [
    "df = pd.DataFrame(\n",
    "    {\n",
    "        \"names\": [\n",
    "            \"ada lovelace\",\n",
    "            \"adam smith\",\n",
    "            \"elinor ostrom\",\n",
    "            \"grace hopper\",\n",
    "            \"jean bartik\",\n",
    "        ],\n",
    "        \"tags\": [\"uk; cs\", \"uk; econ\", \"usa; econ\", \"usa; cs\", \"usa; cs\"],\n",
    "    }\n",
    ")\n",
    "df"
   ],
   "metadata": {
    "collapsed": false,
    "ExecuteTime": {
     "end_time": "2023-10-18T08:02:57.137478Z",
     "start_time": "2023-10-18T08:02:57.125551100Z"
    }
   },
   "id": "945f398ac39bedd3"
  },
  {
   "cell_type": "code",
   "execution_count": 25,
   "outputs": [
    {
     "data": {
      "text/plain": "    cs   econ  uk  usa\n0    1      0   1    0\n1    0      1   1    0\n2    0      1   0    1\n3    1      0   0    1\n4    1      0   0    1",
      "text/html": "<div>\n<style scoped>\n    .dataframe tbody tr th:only-of-type {\n        vertical-align: middle;\n    }\n\n    .dataframe tbody tr th {\n        vertical-align: top;\n    }\n\n    .dataframe thead th {\n        text-align: right;\n    }\n</style>\n<table border=\"1\" class=\"dataframe\">\n  <thead>\n    <tr style=\"text-align: right;\">\n      <th></th>\n      <th>cs</th>\n      <th>econ</th>\n      <th>uk</th>\n      <th>usa</th>\n    </tr>\n  </thead>\n  <tbody>\n    <tr>\n      <th>0</th>\n      <td>1</td>\n      <td>0</td>\n      <td>1</td>\n      <td>0</td>\n    </tr>\n    <tr>\n      <th>1</th>\n      <td>0</td>\n      <td>1</td>\n      <td>1</td>\n      <td>0</td>\n    </tr>\n    <tr>\n      <th>2</th>\n      <td>0</td>\n      <td>1</td>\n      <td>0</td>\n      <td>1</td>\n    </tr>\n    <tr>\n      <th>3</th>\n      <td>1</td>\n      <td>0</td>\n      <td>0</td>\n      <td>1</td>\n    </tr>\n    <tr>\n      <th>4</th>\n      <td>1</td>\n      <td>0</td>\n      <td>0</td>\n      <td>1</td>\n    </tr>\n  </tbody>\n</table>\n</div>"
     },
     "execution_count": 25,
     "metadata": {},
     "output_type": "execute_result"
    }
   ],
   "source": [
    "df[\"tags\"].str.get_dummies(\";\")"
   ],
   "metadata": {
    "collapsed": false,
    "ExecuteTime": {
     "end_time": "2023-10-18T08:03:04.769575300Z",
     "start_time": "2023-10-18T08:03:04.754039300Z"
    }
   },
   "id": "3ddedc1233412932"
  },
  {
   "cell_type": "markdown",
   "source": [
    "# Reading Text"
   ],
   "metadata": {
    "collapsed": false
   },
   "id": "feb4c1e13caacc2e"
  },
  {
   "cell_type": "code",
   "execution_count": null,
   "id": "initial_id",
   "metadata": {
    "collapsed": true
   },
   "outputs": [],
   "source": []
  }
 ],
 "metadata": {
  "kernelspec": {
   "display_name": "Python 3",
   "language": "python",
   "name": "python3"
  },
  "language_info": {
   "codemirror_mode": {
    "name": "ipython",
    "version": 2
   },
   "file_extension": ".py",
   "mimetype": "text/x-python",
   "name": "python",
   "nbconvert_exporter": "python",
   "pygments_lexer": "ipython2",
   "version": "2.7.6"
  }
 },
 "nbformat": 4,
 "nbformat_minor": 5
}
