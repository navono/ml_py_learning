{
 "cells": [
  {
   "cell_type": "markdown",
   "source": [
    "# Visualisation\n",
    "\n",
    "## 方式\n",
    "1. 命令式\n",
    "   matplotlib\n",
    "2. 声明式\n",
    "   lets-plot\n",
    "\n",
    "## 目标\n",
    "- exploratory: Anscombe’s quartet\n",
    "- scientific: 黑洞图片\n",
    "- narrative"
   ],
   "metadata": {
    "collapsed": false
   },
   "id": "774a4b76599ffd8c"
  }
 ],
 "metadata": {
  "kernelspec": {
   "display_name": "Python 3",
   "language": "python",
   "name": "python3"
  },
  "language_info": {
   "codemirror_mode": {
    "name": "ipython",
    "version": 2
   },
   "file_extension": ".py",
   "mimetype": "text/x-python",
   "name": "python",
   "nbconvert_exporter": "python",
   "pygments_lexer": "ipython2",
   "version": "2.7.6"
  }
 },
 "nbformat": 4,
 "nbformat_minor": 5
}
