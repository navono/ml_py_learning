{
 "cells": [
  {
   "cell_type": "code",
   "execution_count": 1,
   "id": "initial_id",
   "metadata": {
    "collapsed": true,
    "ExecuteTime": {
     "end_time": "2023-10-18T11:52:16.540471900Z",
     "start_time": "2023-10-18T11:52:16.224248200Z"
    }
   },
   "outputs": [
    {
     "data": {
      "text/plain": "0    a\n1    b\n2    c\n3    a\nName: A, dtype: category\nCategories (3, object): ['a', 'b', 'c']"
     },
     "execution_count": 1,
     "metadata": {},
     "output_type": "execute_result"
    }
   ],
   "source": [
    "import numpy as np\n",
    "import pandas as pd\n",
    "\n",
    "df = pd.DataFrame({\"A\": [\"a\", \"b\", \"c\", \"a\"]})\n",
    "\n",
    "df[\"A\"] = df[\"A\"].astype(\"category\")\n",
    "df[\"A\"]"
   ]
  },
  {
   "cell_type": "code",
   "execution_count": 2,
   "outputs": [
    {
     "data": {
      "text/plain": "   value    group\n0     90  90 - 99\n1     83  80 - 89\n2     33  30 - 39\n3     20  20 - 29\n4     21  20 - 29",
      "text/html": "<div>\n<style scoped>\n    .dataframe tbody tr th:only-of-type {\n        vertical-align: middle;\n    }\n\n    .dataframe tbody tr th {\n        vertical-align: top;\n    }\n\n    .dataframe thead th {\n        text-align: right;\n    }\n</style>\n<table border=\"1\" class=\"dataframe\">\n  <thead>\n    <tr style=\"text-align: right;\">\n      <th></th>\n      <th>value</th>\n      <th>group</th>\n    </tr>\n  </thead>\n  <tbody>\n    <tr>\n      <th>0</th>\n      <td>90</td>\n      <td>90 - 99</td>\n    </tr>\n    <tr>\n      <th>1</th>\n      <td>83</td>\n      <td>80 - 89</td>\n    </tr>\n    <tr>\n      <th>2</th>\n      <td>33</td>\n      <td>30 - 39</td>\n    </tr>\n    <tr>\n      <th>3</th>\n      <td>20</td>\n      <td>20 - 29</td>\n    </tr>\n    <tr>\n      <th>4</th>\n      <td>21</td>\n      <td>20 - 29</td>\n    </tr>\n  </tbody>\n</table>\n</div>"
     },
     "execution_count": 2,
     "metadata": {},
     "output_type": "execute_result"
    }
   ],
   "source": [
    "df = pd.DataFrame({\"value\": np.random.randint(0, 100, 20)})\n",
    "labels = [f\"{i} - {i + 9}\" for i in range(0, 100, 10)]\n",
    "df[\"group\"] = pd.cut(df.value, range(0, 105, 10), right=False, labels=labels)\n",
    "df.head()"
   ],
   "metadata": {
    "collapsed": false,
    "ExecuteTime": {
     "end_time": "2023-10-18T11:54:59.103384800Z",
     "start_time": "2023-10-18T11:54:59.084385400Z"
    }
   },
   "id": "e6842400db9ef0eb"
  },
  {
   "cell_type": "code",
   "execution_count": 3,
   "outputs": [
    {
     "data": {
      "text/plain": "[NaN, 'b', 'c', NaN, 'd', NaN, 'c']\nCategories (3, object): ['b', 'c', 'd']"
     },
     "execution_count": 3,
     "metadata": {},
     "output_type": "execute_result"
    }
   ],
   "source": [
    "raw_cat = pd.Categorical(\n",
    "    [\"a\", \"b\", \"c\", \"a\", \"d\", \"a\", \"c\"], categories=[\"b\", \"c\", \"d\"]\n",
    ")\n",
    "raw_cat"
   ],
   "metadata": {
    "collapsed": false,
    "ExecuteTime": {
     "end_time": "2023-10-18T11:55:41.191961700Z",
     "start_time": "2023-10-18T11:55:41.183815200Z"
    }
   },
   "id": "f8f655365d4fb839"
  },
  {
   "cell_type": "code",
   "execution_count": 4,
   "outputs": [
    {
     "data": {
      "text/plain": "0    NaN\n1      b\n2      c\n3    NaN\n4      d\n5    NaN\n6      c\nName: cat_type, dtype: category\nCategories (3, object): ['b', 'c', 'd']"
     },
     "execution_count": 4,
     "metadata": {},
     "output_type": "execute_result"
    }
   ],
   "source": [
    "df = pd.DataFrame(raw_cat, columns=[\"cat_type\"])\n",
    "df[\"cat_type\"]"
   ],
   "metadata": {
    "collapsed": false,
    "ExecuteTime": {
     "end_time": "2023-10-18T11:55:57.948831900Z",
     "start_time": "2023-10-18T11:55:57.940329400Z"
    }
   },
   "id": "b05476e5474d8a4b"
  },
  {
   "cell_type": "code",
   "execution_count": 5,
   "outputs": [
    {
     "data": {
      "text/plain": "['a', 'b', 'c', 'a', 'd', 'a', 'c']\nCategories (4, object): ['a' < 'b' < 'c' < 'd']"
     },
     "execution_count": 5,
     "metadata": {},
     "output_type": "execute_result"
    }
   ],
   "source": [
    "ordered_cat = pd.Categorical(\n",
    "    [\"a\", \"b\", \"c\", \"a\", \"d\", \"a\", \"c\"],\n",
    "    categories=[\"a\", \"b\", \"c\", \"d\"],\n",
    "    ordered=True,\n",
    ")\n",
    "ordered_cat"
   ],
   "metadata": {
    "collapsed": false,
    "ExecuteTime": {
     "end_time": "2023-10-18T11:56:35.309864300Z",
     "start_time": "2023-10-18T11:56:35.301863600Z"
    }
   },
   "id": "5500fdad7691956b"
  },
  {
   "cell_type": "code",
   "execution_count": 6,
   "outputs": [
    {
     "data": {
      "text/plain": "Index(['b', 'c', 'd'], dtype='object')"
     },
     "execution_count": 6,
     "metadata": {},
     "output_type": "execute_result"
    }
   ],
   "source": [
    "df[\"cat_type\"].cat.categories"
   ],
   "metadata": {
    "collapsed": false,
    "ExecuteTime": {
     "end_time": "2023-10-18T11:56:49.026845800Z",
     "start_time": "2023-10-18T11:56:49.016845200Z"
    }
   },
   "id": "bb9e84f7708b45b"
  },
  {
   "cell_type": "code",
   "execution_count": 7,
   "outputs": [],
   "source": [
    "df[\"cat_type\"] = df[\"cat_type\"].cat.rename_categories([\"alpha\", \"beta\", \"gamma\"])"
   ],
   "metadata": {
    "collapsed": false,
    "ExecuteTime": {
     "end_time": "2023-10-18T11:57:16.450959Z",
     "start_time": "2023-10-18T11:57:16.439950Z"
    }
   },
   "id": "5233a36392f631ea"
  },
  {
   "cell_type": "code",
   "execution_count": 8,
   "outputs": [
    {
     "data": {
      "text/plain": "0      NaN\n1    alpha\n2     beta\n3      NaN\n4    gamma\n5      NaN\n6     beta\nName: cat_type, dtype: category\nCategories (4, object): ['alpha', 'beta', 'gamma', 'delta']"
     },
     "execution_count": 8,
     "metadata": {},
     "output_type": "execute_result"
    }
   ],
   "source": [
    "df[\"cat_type\"] = df[\"cat_type\"].cat.add_categories([\"delta\"])\n",
    "df[\"cat_type\"]"
   ],
   "metadata": {
    "collapsed": false,
    "ExecuteTime": {
     "end_time": "2023-10-18T11:57:23.321771200Z",
     "start_time": "2023-10-18T11:57:23.312260500Z"
    }
   },
   "id": "e2889e9153b85907"
  },
  {
   "cell_type": "code",
   "execution_count": 9,
   "outputs": [
    {
     "data": {
      "text/plain": "cat_type\nbeta     2\nalpha    1\ngamma    1\ndelta    0\nName: count, dtype: int64"
     },
     "execution_count": 9,
     "metadata": {},
     "output_type": "execute_result"
    }
   ],
   "source": [
    "df[\"cat_type\"].value_counts()"
   ],
   "metadata": {
    "collapsed": false,
    "ExecuteTime": {
     "end_time": "2023-10-18T11:57:38.198630700Z",
     "start_time": "2023-10-18T11:57:38.182628700Z"
    }
   },
   "id": "59691490af7bc1a1"
  }
 ],
 "metadata": {
  "kernelspec": {
   "display_name": "Python 3",
   "language": "python",
   "name": "python3"
  },
  "language_info": {
   "codemirror_mode": {
    "name": "ipython",
    "version": 2
   },
   "file_extension": ".py",
   "mimetype": "text/x-python",
   "name": "python",
   "nbconvert_exporter": "python",
   "pygments_lexer": "ipython2",
   "version": "2.7.6"
  }
 },
 "nbformat": 4,
 "nbformat_minor": 5
}
