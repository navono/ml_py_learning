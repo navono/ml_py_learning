{
 "cells": [
  {
   "cell_type": "code",
   "execution_count": 11,
   "outputs": [],
   "source": [
    "import en_core_web_sm"
   ],
   "metadata": {
    "collapsed": false,
    "ExecuteTime": {
     "end_time": "2023-06-16T05:32:19.373889400Z",
     "start_time": "2023-06-16T05:32:19.366891Z"
    }
   }
  },
  {
   "cell_type": "code",
   "execution_count": 12,
   "outputs": [
    {
     "name": "stdout",
     "output_type": "stream",
     "text": [
      "Collecting en-core-web-sm==3.5.0\n",
      "  Downloading https://github.com/explosion/spacy-models/releases/download/en_core_web_sm-3.5.0/en_core_web_sm-3.5.0-py3-none-any.whl (12.8 MB)\n",
      "     ---------------------------------------- 0.0/12.8 MB ? eta -:--:--\n",
      "     --------------------------------------- 0.0/12.8 MB 960.0 kB/s eta 0:00:14\n",
      "     ---------------------------------------- 0.1/12.8 MB 1.7 MB/s eta 0:00:08\n",
      "      --------------------------------------- 0.3/12.8 MB 2.4 MB/s eta 0:00:06\n",
      "     - -------------------------------------- 0.4/12.8 MB 2.7 MB/s eta 0:00:05\n",
      "     - -------------------------------------- 0.6/12.8 MB 2.6 MB/s eta 0:00:05\n",
      "     -- ------------------------------------- 0.7/12.8 MB 2.8 MB/s eta 0:00:05\n",
      "     -- ------------------------------------- 0.8/12.8 MB 2.8 MB/s eta 0:00:05\n",
      "     --- ------------------------------------ 1.0/12.8 MB 2.9 MB/s eta 0:00:05\n",
      "     --- ------------------------------------ 1.1/12.8 MB 2.9 MB/s eta 0:00:05\n",
      "     --- ------------------------------------ 1.3/12.8 MB 2.9 MB/s eta 0:00:05\n",
      "     ---- ----------------------------------- 1.4/12.8 MB 2.9 MB/s eta 0:00:04\n",
      "     ---- ----------------------------------- 1.5/12.8 MB 2.9 MB/s eta 0:00:04\n",
      "     ----- ---------------------------------- 1.7/12.8 MB 2.9 MB/s eta 0:00:04\n",
      "     ----- ---------------------------------- 1.8/12.8 MB 2.9 MB/s eta 0:00:04\n",
      "     ------ --------------------------------- 1.9/12.8 MB 2.9 MB/s eta 0:00:04\n",
      "     ------ --------------------------------- 2.1/12.8 MB 2.9 MB/s eta 0:00:04\n",
      "     ------- -------------------------------- 2.2/12.8 MB 2.9 MB/s eta 0:00:04\n",
      "     ------- -------------------------------- 2.4/12.8 MB 2.9 MB/s eta 0:00:04\n",
      "     ------- -------------------------------- 2.5/12.8 MB 2.9 MB/s eta 0:00:04\n",
      "     -------- ------------------------------- 2.6/12.8 MB 3.0 MB/s eta 0:00:04\n",
      "     -------- ------------------------------- 2.8/12.8 MB 2.9 MB/s eta 0:00:04\n",
      "     --------- ------------------------------ 2.9/12.8 MB 3.0 MB/s eta 0:00:04\n",
      "     --------- ------------------------------ 3.1/12.8 MB 3.0 MB/s eta 0:00:04\n",
      "     --------- ------------------------------ 3.2/12.8 MB 3.0 MB/s eta 0:00:04\n",
      "     --------- ------------------------------ 3.2/12.8 MB 3.0 MB/s eta 0:00:04\n",
      "     ---------- ----------------------------- 3.3/12.8 MB 2.8 MB/s eta 0:00:04\n",
      "     ---------- ----------------------------- 3.4/12.8 MB 2.8 MB/s eta 0:00:04\n",
      "     ----------- ---------------------------- 3.6/12.8 MB 2.8 MB/s eta 0:00:04\n",
      "     ----------- ---------------------------- 3.7/12.8 MB 2.8 MB/s eta 0:00:04\n",
      "     ------------ --------------------------- 3.9/12.8 MB 2.8 MB/s eta 0:00:04\n",
      "     ------------ --------------------------- 4.0/12.8 MB 2.8 MB/s eta 0:00:04\n",
      "     ------------- -------------------------- 4.2/12.8 MB 2.9 MB/s eta 0:00:04\n",
      "     ------------- -------------------------- 4.3/12.8 MB 2.9 MB/s eta 0:00:03\n",
      "     ------------- -------------------------- 4.4/12.8 MB 2.9 MB/s eta 0:00:03\n",
      "     -------------- ------------------------- 4.6/12.8 MB 2.9 MB/s eta 0:00:03\n",
      "     -------------- ------------------------- 4.7/12.8 MB 2.9 MB/s eta 0:00:03\n",
      "     --------------- ------------------------ 4.9/12.8 MB 2.9 MB/s eta 0:00:03\n",
      "     --------------- ------------------------ 5.0/12.8 MB 2.9 MB/s eta 0:00:03\n",
      "     --------------- ------------------------ 5.1/12.8 MB 2.9 MB/s eta 0:00:03\n",
      "     ---------------- ----------------------- 5.3/12.8 MB 2.9 MB/s eta 0:00:03\n",
      "     ---------------- ----------------------- 5.4/12.8 MB 2.9 MB/s eta 0:00:03\n",
      "     ----------------- ---------------------- 5.5/12.8 MB 2.9 MB/s eta 0:00:03\n",
      "     ----------------- ---------------------- 5.7/12.8 MB 2.9 MB/s eta 0:00:03\n",
      "     ------------------ --------------------- 5.8/12.8 MB 2.9 MB/s eta 0:00:03\n",
      "     ------------------ --------------------- 5.9/12.8 MB 2.9 MB/s eta 0:00:03\n",
      "     ------------------- -------------------- 6.1/12.8 MB 2.9 MB/s eta 0:00:03\n",
      "     ------------------- -------------------- 6.2/12.8 MB 2.9 MB/s eta 0:00:03\n",
      "     ------------------- -------------------- 6.4/12.8 MB 2.9 MB/s eta 0:00:03\n",
      "     -------------------- ------------------- 6.5/12.8 MB 2.9 MB/s eta 0:00:03\n",
      "     -------------------- ------------------- 6.6/12.8 MB 2.9 MB/s eta 0:00:03\n",
      "     --------------------- ------------------ 6.8/12.8 MB 2.9 MB/s eta 0:00:03\n",
      "     --------------------- ------------------ 6.9/12.8 MB 2.9 MB/s eta 0:00:03\n",
      "     ---------------------- ----------------- 7.0/12.8 MB 2.9 MB/s eta 0:00:02\n",
      "     ---------------------- ----------------- 7.2/12.8 MB 2.9 MB/s eta 0:00:02\n",
      "     ---------------------- ----------------- 7.3/12.8 MB 2.9 MB/s eta 0:00:02\n",
      "     ----------------------- ---------------- 7.5/12.8 MB 2.9 MB/s eta 0:00:02\n",
      "     ----------------------- ---------------- 7.6/12.8 MB 2.9 MB/s eta 0:00:02\n",
      "     ------------------------ --------------- 7.8/12.8 MB 2.9 MB/s eta 0:00:02\n",
      "     ------------------------ --------------- 7.9/12.8 MB 2.9 MB/s eta 0:00:02\n",
      "     ------------------------- -------------- 8.0/12.8 MB 2.9 MB/s eta 0:00:02\n",
      "     ------------------------- -------------- 8.1/12.8 MB 2.9 MB/s eta 0:00:02\n",
      "     ------------------------- -------------- 8.3/12.8 MB 2.9 MB/s eta 0:00:02\n",
      "     -------------------------- ------------- 8.4/12.8 MB 2.9 MB/s eta 0:00:02\n",
      "     -------------------------- ------------- 8.6/12.8 MB 2.9 MB/s eta 0:00:02\n",
      "     --------------------------- ------------ 8.7/12.8 MB 2.9 MB/s eta 0:00:02\n",
      "     --------------------------- ------------ 8.8/12.8 MB 2.9 MB/s eta 0:00:02\n",
      "     ---------------------------- ----------- 9.0/12.8 MB 2.9 MB/s eta 0:00:02\n",
      "     ---------------------------- ----------- 9.1/12.8 MB 2.9 MB/s eta 0:00:02\n",
      "     ---------------------------- ----------- 9.3/12.8 MB 2.9 MB/s eta 0:00:02\n",
      "     ----------------------------- ---------- 9.4/12.8 MB 2.9 MB/s eta 0:00:02\n",
      "     ----------------------------- ---------- 9.5/12.8 MB 2.9 MB/s eta 0:00:02\n",
      "     ------------------------------ --------- 9.7/12.8 MB 2.9 MB/s eta 0:00:02\n",
      "     ------------------------------ --------- 9.8/12.8 MB 2.9 MB/s eta 0:00:02\n",
      "     ------------------------------- -------- 10.0/12.8 MB 2.9 MB/s eta 0:00:01\n",
      "     ------------------------------- -------- 10.1/12.8 MB 2.9 MB/s eta 0:00:01\n",
      "     ------------------------------- -------- 10.2/12.8 MB 2.9 MB/s eta 0:00:01\n",
      "     -------------------------------- ------- 10.4/12.8 MB 3.0 MB/s eta 0:00:01\n",
      "     -------------------------------- ------- 10.5/12.8 MB 2.9 MB/s eta 0:00:01\n",
      "     --------------------------------- ------ 10.6/12.8 MB 3.0 MB/s eta 0:00:01\n",
      "     --------------------------------- ------ 10.8/12.8 MB 2.9 MB/s eta 0:00:01\n",
      "     ---------------------------------- ----- 10.9/12.8 MB 3.0 MB/s eta 0:00:01\n",
      "     ---------------------------------- ----- 11.1/12.8 MB 3.0 MB/s eta 0:00:01\n",
      "     ----------------------------------- ---- 11.2/12.8 MB 3.0 MB/s eta 0:00:01\n",
      "     ----------------------------------- ---- 11.3/12.8 MB 3.0 MB/s eta 0:00:01\n",
      "     ----------------------------------- ---- 11.5/12.8 MB 3.0 MB/s eta 0:00:01\n",
      "     ------------------------------------ --- 11.6/12.8 MB 3.0 MB/s eta 0:00:01\n",
      "     ------------------------------------ --- 11.8/12.8 MB 3.0 MB/s eta 0:00:01\n",
      "     ------------------------------------- -- 11.9/12.8 MB 3.0 MB/s eta 0:00:01\n",
      "     ------------------------------------- -- 12.0/12.8 MB 3.0 MB/s eta 0:00:01\n",
      "     -------------------------------------- - 12.2/12.8 MB 3.0 MB/s eta 0:00:01\n",
      "     -------------------------------------- - 12.3/12.8 MB 3.0 MB/s eta 0:00:01\n",
      "     -------------------------------------- - 12.5/12.8 MB 3.0 MB/s eta 0:00:01\n",
      "     ---------------------------------------  12.6/12.8 MB 2.9 MB/s eta 0:00:01\n",
      "     ---------------------------------------  12.7/12.8 MB 2.9 MB/s eta 0:00:01\n",
      "     ---------------------------------------  12.8/12.8 MB 3.0 MB/s eta 0:00:01\n",
      "     ---------------------------------------- 12.8/12.8 MB 2.9 MB/s eta 0:00:00\n",
      "Requirement already satisfied: spacy<3.6.0,>=3.5.0 in c:\\users\\ping\\.conda\\envs\\py310-ml\\lib\\site-packages (from en-core-web-sm==3.5.0) (3.5.3)\n",
      "Requirement already satisfied: cymem<2.1.0,>=2.0.2 in c:\\users\\ping\\.conda\\envs\\py310-ml\\lib\\site-packages (from spacy<3.6.0,>=3.5.0->en-core-web-sm==3.5.0) (2.0.6)\n",
      "Requirement already satisfied: typer<0.8.0,>=0.3.0 in c:\\users\\ping\\.conda\\envs\\py310-ml\\lib\\site-packages (from spacy<3.6.0,>=3.5.0->en-core-web-sm==3.5.0) (0.4.1)\n",
      "Requirement already satisfied: jinja2 in c:\\users\\ping\\appdata\\roaming\\python\\python310\\site-packages (from spacy<3.6.0,>=3.5.0->en-core-web-sm==3.5.0) (3.1.2)\n",
      "Requirement already satisfied: pathy>=0.10.0 in c:\\users\\ping\\.conda\\envs\\py310-ml\\lib\\site-packages (from spacy<3.6.0,>=3.5.0->en-core-web-sm==3.5.0) (0.10.1)\n",
      "Requirement already satisfied: numpy>=1.15.0 in c:\\users\\ping\\.conda\\envs\\py310-ml\\lib\\site-packages (from spacy<3.6.0,>=3.5.0->en-core-web-sm==3.5.0) (1.24.3)\n",
      "Requirement already satisfied: packaging>=20.0 in c:\\users\\ping\\appdata\\roaming\\python\\python310\\site-packages (from spacy<3.6.0,>=3.5.0->en-core-web-sm==3.5.0) (23.1)\n",
      "Requirement already satisfied: preshed<3.1.0,>=3.0.2 in c:\\users\\ping\\.conda\\envs\\py310-ml\\lib\\site-packages (from spacy<3.6.0,>=3.5.0->en-core-web-sm==3.5.0) (3.0.6)\n",
      "Requirement already satisfied: smart-open<7.0.0,>=5.2.1 in c:\\users\\ping\\.conda\\envs\\py310-ml\\lib\\site-packages (from spacy<3.6.0,>=3.5.0->en-core-web-sm==3.5.0) (6.3.0)\n",
      "Requirement already satisfied: murmurhash<1.1.0,>=0.28.0 in c:\\users\\ping\\.conda\\envs\\py310-ml\\lib\\site-packages (from spacy<3.6.0,>=3.5.0->en-core-web-sm==3.5.0) (1.0.7)\n",
      "Requirement already satisfied: srsly<3.0.0,>=2.4.3 in c:\\users\\ping\\.conda\\envs\\py310-ml\\lib\\site-packages (from spacy<3.6.0,>=3.5.0->en-core-web-sm==3.5.0) (2.4.6)\n",
      "Requirement already satisfied: wasabi<1.2.0,>=0.9.1 in c:\\users\\ping\\.conda\\envs\\py310-ml\\lib\\site-packages (from spacy<3.6.0,>=3.5.0->en-core-web-sm==3.5.0) (0.9.1)\n",
      "Requirement already satisfied: langcodes<4.0.0,>=3.2.0 in c:\\users\\ping\\.conda\\envs\\py310-ml\\lib\\site-packages (from spacy<3.6.0,>=3.5.0->en-core-web-sm==3.5.0) (3.3.0)\n",
      "Requirement already satisfied: catalogue<2.1.0,>=2.0.6 in c:\\users\\ping\\.conda\\envs\\py310-ml\\lib\\site-packages (from spacy<3.6.0,>=3.5.0->en-core-web-sm==3.5.0) (2.0.7)\n",
      "Requirement already satisfied: spacy-legacy<3.1.0,>=3.0.11 in c:\\users\\ping\\.conda\\envs\\py310-ml\\lib\\site-packages (from spacy<3.6.0,>=3.5.0->en-core-web-sm==3.5.0) (3.0.12)\n",
      "Requirement already satisfied: thinc<8.2.0,>=8.1.8 in c:\\users\\ping\\.conda\\envs\\py310-ml\\lib\\site-packages (from spacy<3.6.0,>=3.5.0->en-core-web-sm==3.5.0) (8.1.10)\n",
      "Requirement already satisfied: spacy-loggers<2.0.0,>=1.0.0 in c:\\users\\ping\\.conda\\envs\\py310-ml\\lib\\site-packages (from spacy<3.6.0,>=3.5.0->en-core-web-sm==3.5.0) (1.0.4)\n",
      "Requirement already satisfied: setuptools in c:\\users\\ping\\.conda\\envs\\py310-ml\\lib\\site-packages (from spacy<3.6.0,>=3.5.0->en-core-web-sm==3.5.0) (66.0.0)\n",
      "Requirement already satisfied: requests<3.0.0,>=2.13.0 in c:\\users\\ping\\.conda\\envs\\py310-ml\\lib\\site-packages (from spacy<3.6.0,>=3.5.0->en-core-web-sm==3.5.0) (2.29.0)\n",
      "Requirement already satisfied: tqdm<5.0.0,>=4.38.0 in c:\\users\\ping\\.conda\\envs\\py310-ml\\lib\\site-packages (from spacy<3.6.0,>=3.5.0->en-core-web-sm==3.5.0) (4.65.0)\n",
      "Requirement already satisfied: pydantic!=1.8,!=1.8.1,<1.11.0,>=1.7.4 in c:\\users\\ping\\.conda\\envs\\py310-ml\\lib\\site-packages (from spacy<3.6.0,>=3.5.0->en-core-web-sm==3.5.0) (1.10.8)\n",
      "Requirement already satisfied: typing-extensions>=4.2.0 in c:\\users\\ping\\appdata\\roaming\\python\\python310\\site-packages (from pydantic!=1.8,!=1.8.1,<1.11.0,>=1.7.4->spacy<3.6.0,>=3.5.0->en-core-web-sm==3.5.0) (4.6.3)\n",
      "Requirement already satisfied: idna<4,>=2.5 in c:\\users\\ping\\.conda\\envs\\py310-ml\\lib\\site-packages (from requests<3.0.0,>=2.13.0->spacy<3.6.0,>=3.5.0->en-core-web-sm==3.5.0) (3.4)\n",
      "Requirement already satisfied: charset-normalizer<4,>=2 in c:\\users\\ping\\.conda\\envs\\py310-ml\\lib\\site-packages (from requests<3.0.0,>=2.13.0->spacy<3.6.0,>=3.5.0->en-core-web-sm==3.5.0) (2.0.4)\n",
      "Requirement already satisfied: certifi>=2017.4.17 in c:\\users\\ping\\.conda\\envs\\py310-ml\\lib\\site-packages (from requests<3.0.0,>=2.13.0->spacy<3.6.0,>=3.5.0->en-core-web-sm==3.5.0) (2023.5.7)\n",
      "Requirement already satisfied: urllib3<1.27,>=1.21.1 in c:\\users\\ping\\.conda\\envs\\py310-ml\\lib\\site-packages (from requests<3.0.0,>=2.13.0->spacy<3.6.0,>=3.5.0->en-core-web-sm==3.5.0) (1.26.15)\n",
      "Requirement already satisfied: blis<0.8.0,>=0.7.8 in c:\\users\\ping\\.conda\\envs\\py310-ml\\lib\\site-packages (from thinc<8.2.0,>=8.1.8->spacy<3.6.0,>=3.5.0->en-core-web-sm==3.5.0) (0.7.9)\n",
      "Requirement already satisfied: confection<1.0.0,>=0.0.1 in c:\\users\\ping\\.conda\\envs\\py310-ml\\lib\\site-packages (from thinc<8.2.0,>=8.1.8->spacy<3.6.0,>=3.5.0->en-core-web-sm==3.5.0) (0.0.4)\n",
      "Requirement already satisfied: colorama in c:\\users\\ping\\.conda\\envs\\py310-ml\\lib\\site-packages (from tqdm<5.0.0,>=4.38.0->spacy<3.6.0,>=3.5.0->en-core-web-sm==3.5.0) (0.4.6)\n",
      "Requirement already satisfied: click<9.0.0,>=7.1.1 in c:\\users\\ping\\.conda\\envs\\py310-ml\\lib\\site-packages (from typer<0.8.0,>=0.3.0->spacy<3.6.0,>=3.5.0->en-core-web-sm==3.5.0) (8.1.3)\n",
      "Requirement already satisfied: MarkupSafe>=2.0 in c:\\users\\ping\\appdata\\roaming\\python\\python310\\site-packages (from jinja2->spacy<3.6.0,>=3.5.0->en-core-web-sm==3.5.0) (2.1.3)\n",
      "[+] Download and installation successful\n",
      "You can now load the package via spacy.load('en_core_web_sm')\n"
     ]
    }
   ],
   "source": [
    "!python -m spacy download en_core_web_sm"
   ],
   "metadata": {
    "collapsed": false,
    "ExecuteTime": {
     "end_time": "2023-06-16T05:32:33.365688900Z",
     "start_time": "2023-06-16T05:32:19.377890200Z"
    }
   }
  },
  {
   "cell_type": "code",
   "execution_count": 13,
   "metadata": {
    "collapsed": true,
    "ExecuteTime": {
     "end_time": "2023-06-16T05:32:33.871567700Z",
     "start_time": "2023-06-16T05:32:33.369693700Z"
    }
   },
   "outputs": [
    {
     "name": "stdout",
     "output_type": "stream",
     "text": [
      "['mary', ',', 'do', 'n’t', 'slap', 'the', 'green', 'witch']\n"
     ]
    }
   ],
   "source": [
    "# nlp = spacy.load('en_core_web_sm')\n",
    "nlp = en_core_web_sm.load()\n",
    "\n",
    "text = \"Mary, don’t slap the green witch\"\n",
    "print([str(token) for token in nlp(text.lower())])"
   ]
  },
  {
   "cell_type": "code",
   "execution_count": 17,
   "outputs": [
    {
     "name": "stdout",
     "output_type": "stream",
     "text": [
      "he --> he\n",
      "was --> be\n",
      "running --> run\n",
      "late --> late\n"
     ]
    }
   ],
   "source": [
    "doc = \"he was running late\"\n",
    "# 词形\n",
    "for token in nlp(doc.lower()):\n",
    "    print('{} --> {}'.format(token, token.lemma_))"
   ],
   "metadata": {
    "collapsed": false,
    "ExecuteTime": {
     "end_time": "2023-06-16T05:33:41.641783800Z",
     "start_time": "2023-06-16T05:33:41.628784600Z"
    }
   }
  }
 ],
 "metadata": {
  "kernelspec": {
   "display_name": "Python 3",
   "language": "python",
   "name": "python3"
  },
  "language_info": {
   "codemirror_mode": {
    "name": "ipython",
    "version": 2
   },
   "file_extension": ".py",
   "mimetype": "text/x-python",
   "name": "python",
   "nbconvert_exporter": "python",
   "pygments_lexer": "ipython2",
   "version": "2.7.6"
  }
 },
 "nbformat": 4,
 "nbformat_minor": 0
}
